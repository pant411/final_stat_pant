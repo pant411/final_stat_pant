{
 "cells": [
  {
   "cell_type": "code",
   "execution_count": 50,
   "metadata": {},
   "outputs": [],
   "source": [
    "#! -*- coding: UTF8 -*-\n",
    "import os\n",
    "os.chdir(os.getcwd())"
   ]
  },
  {
   "cell_type": "markdown",
   "metadata": {},
   "source": [
    "## Import Module"
   ]
  },
  {
   "cell_type": "code",
   "execution_count": 51,
   "metadata": {},
   "outputs": [],
   "source": [
    "import pandas as pd\n",
    "import numpy as np\n",
    "import matplotlib.pyplot as plt\n",
    "import seaborn as sns\n",
    "%matplotlib inline"
   ]
  },
  {
   "cell_type": "code",
   "execution_count": 52,
   "metadata": {},
   "outputs": [],
   "source": [
    "from sklearn.model_selection import train_test_split\n",
    "from sklearn.linear_model import LinearRegression\n",
    "from sklearn import metrics"
   ]
  },
  {
   "cell_type": "markdown",
   "metadata": {},
   "source": [
    "## Import Data "
   ]
  },
  {
   "cell_type": "code",
   "execution_count": 53,
   "metadata": {},
   "outputs": [
    {
     "data": {
      "text/html": [
       "<div>\n",
       "<style scoped>\n",
       "    .dataframe tbody tr th:only-of-type {\n",
       "        vertical-align: middle;\n",
       "    }\n",
       "\n",
       "    .dataframe tbody tr th {\n",
       "        vertical-align: top;\n",
       "    }\n",
       "\n",
       "    .dataframe thead th {\n",
       "        text-align: right;\n",
       "    }\n",
       "</style>\n",
       "<table border=\"1\" class=\"dataframe\">\n",
       "  <thead>\n",
       "    <tr style=\"text-align: right;\">\n",
       "      <th></th>\n",
       "      <th>Agriculture, forestry and fishing</th>\n",
       "      <th>Mining and quarrying</th>\n",
       "      <th>Manufacturing</th>\n",
       "      <th>Electricity, gas, steam and air conditioning supply</th>\n",
       "      <th>Water supply; sewerage, waste management and remediation activities</th>\n",
       "      <th>Construction</th>\n",
       "      <th>Wholesale and retail trade and repair of motor vehicles</th>\n",
       "      <th>Transportation and storage</th>\n",
       "      <th>Accommodation and food service activities</th>\n",
       "      <th>Information and communication</th>\n",
       "      <th>...</th>\n",
       "      <th>Unnamed: 40</th>\n",
       "      <th>Unnamed: 41</th>\n",
       "      <th>Unnamed: 42</th>\n",
       "      <th>Unnamed: 43</th>\n",
       "      <th>Unnamed: 44</th>\n",
       "      <th>Unnamed: 45</th>\n",
       "      <th>Unnamed: 46</th>\n",
       "      <th>Unnamed: 47</th>\n",
       "      <th>Unnamed: 48</th>\n",
       "      <th>Unnamed: 49</th>\n",
       "    </tr>\n",
       "    <tr>\n",
       "      <th>Year</th>\n",
       "      <th></th>\n",
       "      <th></th>\n",
       "      <th></th>\n",
       "      <th></th>\n",
       "      <th></th>\n",
       "      <th></th>\n",
       "      <th></th>\n",
       "      <th></th>\n",
       "      <th></th>\n",
       "      <th></th>\n",
       "      <th></th>\n",
       "      <th></th>\n",
       "      <th></th>\n",
       "      <th></th>\n",
       "      <th></th>\n",
       "      <th></th>\n",
       "      <th></th>\n",
       "      <th></th>\n",
       "      <th></th>\n",
       "      <th></th>\n",
       "      <th></th>\n",
       "    </tr>\n",
       "  </thead>\n",
       "  <tbody>\n",
       "    <tr>\n",
       "      <th>1995.0</th>\n",
       "      <td>5391.575854</td>\n",
       "      <td>19.009823</td>\n",
       "      <td>7176.043232</td>\n",
       "      <td>590.238706</td>\n",
       "      <td>142.277622</td>\n",
       "      <td>3391.005101</td>\n",
       "      <td>3484.507633</td>\n",
       "      <td>1016.736730</td>\n",
       "      <td>176.898917</td>\n",
       "      <td>195.790885</td>\n",
       "      <td>...</td>\n",
       "      <td>NaN</td>\n",
       "      <td>NaN</td>\n",
       "      <td>NaN</td>\n",
       "      <td>NaN</td>\n",
       "      <td>NaN</td>\n",
       "      <td>NaN</td>\n",
       "      <td>NaN</td>\n",
       "      <td>NaN</td>\n",
       "      <td>NaN</td>\n",
       "      <td>NaN</td>\n",
       "    </tr>\n",
       "    <tr>\n",
       "      <th>1996.0</th>\n",
       "      <td>6206.682558</td>\n",
       "      <td>37.744703</td>\n",
       "      <td>6810.317457</td>\n",
       "      <td>677.218307</td>\n",
       "      <td>137.423999</td>\n",
       "      <td>7728.645631</td>\n",
       "      <td>3737.141208</td>\n",
       "      <td>1113.256820</td>\n",
       "      <td>153.858116</td>\n",
       "      <td>224.369211</td>\n",
       "      <td>...</td>\n",
       "      <td>NaN</td>\n",
       "      <td>NaN</td>\n",
       "      <td>NaN</td>\n",
       "      <td>NaN</td>\n",
       "      <td>NaN</td>\n",
       "      <td>NaN</td>\n",
       "      <td>NaN</td>\n",
       "      <td>NaN</td>\n",
       "      <td>NaN</td>\n",
       "      <td>NaN</td>\n",
       "    </tr>\n",
       "    <tr>\n",
       "      <th>1997.0</th>\n",
       "      <td>6014.415215</td>\n",
       "      <td>36.238535</td>\n",
       "      <td>6988.106194</td>\n",
       "      <td>817.941119</td>\n",
       "      <td>149.159330</td>\n",
       "      <td>5647.894247</td>\n",
       "      <td>4542.778789</td>\n",
       "      <td>1172.783861</td>\n",
       "      <td>140.141879</td>\n",
       "      <td>234.727143</td>\n",
       "      <td>...</td>\n",
       "      <td>NaN</td>\n",
       "      <td>NaN</td>\n",
       "      <td>NaN</td>\n",
       "      <td>NaN</td>\n",
       "      <td>NaN</td>\n",
       "      <td>NaN</td>\n",
       "      <td>NaN</td>\n",
       "      <td>NaN</td>\n",
       "      <td>NaN</td>\n",
       "      <td>NaN</td>\n",
       "    </tr>\n",
       "    <tr>\n",
       "      <th>1998.0</th>\n",
       "      <td>6270.177149</td>\n",
       "      <td>28.193053</td>\n",
       "      <td>5739.574622</td>\n",
       "      <td>1090.869869</td>\n",
       "      <td>130.489143</td>\n",
       "      <td>3182.288913</td>\n",
       "      <td>4987.801949</td>\n",
       "      <td>1245.856126</td>\n",
       "      <td>474.662929</td>\n",
       "      <td>229.726314</td>\n",
       "      <td>...</td>\n",
       "      <td>NaN</td>\n",
       "      <td>NaN</td>\n",
       "      <td>NaN</td>\n",
       "      <td>NaN</td>\n",
       "      <td>NaN</td>\n",
       "      <td>NaN</td>\n",
       "      <td>NaN</td>\n",
       "      <td>NaN</td>\n",
       "      <td>NaN</td>\n",
       "      <td>NaN</td>\n",
       "    </tr>\n",
       "    <tr>\n",
       "      <th>1999.0</th>\n",
       "      <td>5684.674097</td>\n",
       "      <td>42.046276</td>\n",
       "      <td>4594.756351</td>\n",
       "      <td>958.722269</td>\n",
       "      <td>143.734495</td>\n",
       "      <td>2304.876078</td>\n",
       "      <td>4652.336854</td>\n",
       "      <td>1226.177795</td>\n",
       "      <td>564.896952</td>\n",
       "      <td>241.436570</td>\n",
       "      <td>...</td>\n",
       "      <td>NaN</td>\n",
       "      <td>NaN</td>\n",
       "      <td>NaN</td>\n",
       "      <td>NaN</td>\n",
       "      <td>NaN</td>\n",
       "      <td>NaN</td>\n",
       "      <td>NaN</td>\n",
       "      <td>NaN</td>\n",
       "      <td>NaN</td>\n",
       "      <td>NaN</td>\n",
       "    </tr>\n",
       "  </tbody>\n",
       "</table>\n",
       "<p>5 rows × 49 columns</p>\n",
       "</div>"
      ],
      "text/plain": [
       "        Agriculture, forestry and fishing  Mining and quarrying  \\\n",
       "Year                                                              \n",
       "1995.0                        5391.575854             19.009823   \n",
       "1996.0                        6206.682558             37.744703   \n",
       "1997.0                        6014.415215             36.238535   \n",
       "1998.0                        6270.177149             28.193053   \n",
       "1999.0                        5684.674097             42.046276   \n",
       "\n",
       "        Manufacturing  Electricity, gas, steam and air conditioning supply  \\\n",
       "Year                                                                         \n",
       "1995.0    7176.043232                                         590.238706     \n",
       "1996.0    6810.317457                                         677.218307     \n",
       "1997.0    6988.106194                                         817.941119     \n",
       "1998.0    5739.574622                                        1090.869869     \n",
       "1999.0    4594.756351                                         958.722269     \n",
       "\n",
       "        Water supply; sewerage, waste management and remediation activities  \\\n",
       "Year                                                                          \n",
       "1995.0                                         142.277622                     \n",
       "1996.0                                         137.423999                     \n",
       "1997.0                                         149.159330                     \n",
       "1998.0                                         130.489143                     \n",
       "1999.0                                         143.734495                     \n",
       "\n",
       "        Construction  Wholesale and retail trade and repair of motor vehicles  \\\n",
       "Year                                                                            \n",
       "1995.0   3391.005101                                        3484.507633         \n",
       "1996.0   7728.645631                                        3737.141208         \n",
       "1997.0   5647.894247                                        4542.778789         \n",
       "1998.0   3182.288913                                        4987.801949         \n",
       "1999.0   2304.876078                                        4652.336854         \n",
       "\n",
       "        Transportation and storage  Accommodation and food service activities  \\\n",
       "Year                                                                            \n",
       "1995.0                 1016.736730                                 176.898917   \n",
       "1996.0                 1113.256820                                 153.858116   \n",
       "1997.0                 1172.783861                                 140.141879   \n",
       "1998.0                 1245.856126                                 474.662929   \n",
       "1999.0                 1226.177795                                 564.896952   \n",
       "\n",
       "        Information and communication  ...  Unnamed: 40  Unnamed: 41  \\\n",
       "Year                                   ...                             \n",
       "1995.0                     195.790885  ...          NaN          NaN   \n",
       "1996.0                     224.369211  ...          NaN          NaN   \n",
       "1997.0                     234.727143  ...          NaN          NaN   \n",
       "1998.0                     229.726314  ...          NaN          NaN   \n",
       "1999.0                     241.436570  ...          NaN          NaN   \n",
       "\n",
       "        Unnamed: 42  Unnamed: 43  Unnamed: 44  Unnamed: 45  Unnamed: 46  \\\n",
       "Year                                                                      \n",
       "1995.0          NaN          NaN          NaN          NaN          NaN   \n",
       "1996.0          NaN          NaN          NaN          NaN          NaN   \n",
       "1997.0          NaN          NaN          NaN          NaN          NaN   \n",
       "1998.0          NaN          NaN          NaN          NaN          NaN   \n",
       "1999.0          NaN          NaN          NaN          NaN          NaN   \n",
       "\n",
       "        Unnamed: 47  Unnamed: 48  Unnamed: 49  \n",
       "Year                                           \n",
       "1995.0          NaN          NaN          NaN  \n",
       "1996.0          NaN          NaN          NaN  \n",
       "1997.0          NaN          NaN          NaN  \n",
       "1998.0          NaN          NaN          NaN  \n",
       "1999.0          NaN          NaN          NaN  \n",
       "\n",
       "[5 rows x 49 columns]"
      ]
     },
     "execution_count": 53,
     "metadata": {},
     "output_type": "execute_result"
    }
   ],
   "source": [
    "df1 = pd.read_excel('process_data/GPP_6210501001.xlsx',sheet_name=\"LopBuri\",index_col=\"Year\") #ตัวอย่าง\n",
    "df1.head()"
   ]
  },
  {
   "cell_type": "code",
   "execution_count": 54,
   "metadata": {},
   "outputs": [
    {
     "data": {
      "text/plain": [
       "Index(['Agriculture, forestry and fishing', 'Mining and quarrying',\n",
       "       'Manufacturing', 'Electricity, gas, steam and air conditioning supply',\n",
       "       'Water supply; sewerage, waste management and remediation activities',\n",
       "       'Construction',\n",
       "       'Wholesale and retail trade and repair of motor vehicles',\n",
       "       'Transportation and storage',\n",
       "       'Accommodation and food service activities',\n",
       "       'Information and communication', 'Financial and insurance activities',\n",
       "       'Real estate activities',\n",
       "       'Professional, scientific and technical activities',\n",
       "       'Administrative and support service activities',\n",
       "       'Public administration and defence; compulsory social security',\n",
       "       'Education', 'Human health activities',\n",
       "       'Arts, entertainment and recreation', 'Other service activities',\n",
       "       'การค้าสินค้า (คิดเป็น % ของจีดีพี)',\n",
       "       'มูลค่าเพิ่มของการเกษตร (คิดเป็น % ของจีดีพี)',\n",
       "       'การนำเข้าสินค้าและบริการ (คิดเป็น % ของจีดีพี)',\n",
       "       'มูลค่าเพิ่มของอุตสาหกรรม (คิดเป็น % ของจีดีพี)',\n",
       "       'จำนวนประชากรทั้งหมด (คน)',\n",
       "       'ค่าใช้จ่ายในการวิจัยและพัฒนา (คิดเป็น % ของจีดีพี)',\n",
       "       'รายจ่ายของประชากรในจังหวัดลพบุรี (บาท)',\n",
       "       'เนื้อที่ที่ถือครองเพื่อการเกษตร (ไร่)',\n",
       "       'เนื้อที่สวนผักและไม้ดอก (ไร่)', 'เนื้อที่สำหรับปลูกนาข้าว (ไร่)',\n",
       "       'จำนวนโรงงานอุตสาหกรรม (โรงงาน)', 'GPP Per capita (Baht)',\n",
       "       'Unnamed: 32', 'Unnamed: 33', 'Unnamed: 34', 'Unnamed: 35',\n",
       "       'Unnamed: 36', 'Unnamed: 37', 'Unnamed: 38', 'Unnamed: 39',\n",
       "       'Unnamed: 40', 'Unnamed: 41', 'Unnamed: 42', 'Unnamed: 43',\n",
       "       'Unnamed: 44', 'Unnamed: 45', 'Unnamed: 46', 'Unnamed: 47',\n",
       "       'Unnamed: 48', 'Unnamed: 49'],\n",
       "      dtype='object')"
      ]
     },
     "execution_count": 54,
     "metadata": {},
     "output_type": "execute_result"
    }
   ],
   "source": [
    "df1.keys()"
   ]
  },
  {
   "cell_type": "markdown",
   "metadata": {},
   "source": [
    "## Find data by Regression"
   ]
  },
  {
   "cell_type": "markdown",
   "metadata": {},
   "source": [
    "##### รายจ่ายของประชากรในจังหวัดลพบุรี (บาท)"
   ]
  },
  {
   "cell_type": "code",
   "execution_count": 55,
   "metadata": {},
   "outputs": [
    {
     "data": {
      "text/html": [
       "<div>\n",
       "<style scoped>\n",
       "    .dataframe tbody tr th:only-of-type {\n",
       "        vertical-align: middle;\n",
       "    }\n",
       "\n",
       "    .dataframe tbody tr th {\n",
       "        vertical-align: top;\n",
       "    }\n",
       "\n",
       "    .dataframe thead th {\n",
       "        text-align: right;\n",
       "    }\n",
       "</style>\n",
       "<table border=\"1\" class=\"dataframe\">\n",
       "  <thead>\n",
       "    <tr style=\"text-align: right;\">\n",
       "      <th></th>\n",
       "      <th>รายจ่ายของประชากรในจังหวัดลพบุรี (บาท)</th>\n",
       "      <th>GPP Per capita (Baht)</th>\n",
       "    </tr>\n",
       "    <tr>\n",
       "      <th>Year</th>\n",
       "      <th></th>\n",
       "      <th></th>\n",
       "    </tr>\n",
       "  </thead>\n",
       "  <tbody>\n",
       "    <tr>\n",
       "      <th>2006.0</th>\n",
       "      <td>15870.00</td>\n",
       "      <td>73109.129</td>\n",
       "    </tr>\n",
       "    <tr>\n",
       "      <th>2007.0</th>\n",
       "      <td>14462.00</td>\n",
       "      <td>73165.713</td>\n",
       "    </tr>\n",
       "    <tr>\n",
       "      <th>2008.0</th>\n",
       "      <td>15386.00</td>\n",
       "      <td>79468.550</td>\n",
       "    </tr>\n",
       "    <tr>\n",
       "      <th>2009.0</th>\n",
       "      <td>16764.00</td>\n",
       "      <td>85731.583</td>\n",
       "    </tr>\n",
       "    <tr>\n",
       "      <th>2010.0</th>\n",
       "      <td>14433.00</td>\n",
       "      <td>87969.749</td>\n",
       "    </tr>\n",
       "    <tr>\n",
       "      <th>2011.0</th>\n",
       "      <td>14875.40</td>\n",
       "      <td>96247.730</td>\n",
       "    </tr>\n",
       "    <tr>\n",
       "      <th>2012.0</th>\n",
       "      <td>17356.96</td>\n",
       "      <td>116911.574</td>\n",
       "    </tr>\n",
       "    <tr>\n",
       "      <th>2013.0</th>\n",
       "      <td>15944.80</td>\n",
       "      <td>122285.538</td>\n",
       "    </tr>\n",
       "    <tr>\n",
       "      <th>2014.0</th>\n",
       "      <td>14910.71</td>\n",
       "      <td>125135.992</td>\n",
       "    </tr>\n",
       "    <tr>\n",
       "      <th>2015.0</th>\n",
       "      <td>17968.90</td>\n",
       "      <td>123891.962</td>\n",
       "    </tr>\n",
       "    <tr>\n",
       "      <th>2016.0</th>\n",
       "      <td>15875.50</td>\n",
       "      <td>129404.072</td>\n",
       "    </tr>\n",
       "    <tr>\n",
       "      <th>2017.0</th>\n",
       "      <td>16012.15</td>\n",
       "      <td>142017.180</td>\n",
       "    </tr>\n",
       "    <tr>\n",
       "      <th>2018.0</th>\n",
       "      <td>17016.83</td>\n",
       "      <td>142741.160</td>\n",
       "    </tr>\n",
       "  </tbody>\n",
       "</table>\n",
       "</div>"
      ],
      "text/plain": [
       "        รายจ่ายของประชากรในจังหวัดลพบุรี (บาท)  GPP Per capita (Baht)\n",
       "Year                                                                 \n",
       "2006.0                                15870.00              73109.129\n",
       "2007.0                                14462.00              73165.713\n",
       "2008.0                                15386.00              79468.550\n",
       "2009.0                                16764.00              85731.583\n",
       "2010.0                                14433.00              87969.749\n",
       "2011.0                                14875.40              96247.730\n",
       "2012.0                                17356.96             116911.574\n",
       "2013.0                                15944.80             122285.538\n",
       "2014.0                                14910.71             125135.992\n",
       "2015.0                                17968.90             123891.962\n",
       "2016.0                                15875.50             129404.072\n",
       "2017.0                                16012.15             142017.180\n",
       "2018.0                                17016.83             142741.160"
      ]
     },
     "execution_count": 55,
     "metadata": {},
     "output_type": "execute_result"
    }
   ],
   "source": [
    "ex1 = df1.loc[[i for i in range(2006,2019)],['รายจ่ายของประชากรในจังหวัดลพบุรี (บาท)','GPP Per capita (Baht)']]\n",
    "ex1"
   ]
  },
  {
   "cell_type": "code",
   "execution_count": 56,
   "metadata": {},
   "outputs": [
    {
     "name": "stderr",
     "output_type": "stream",
     "text": [
      "/Users/pantchanit/opt/anaconda3/lib/python3.9/site-packages/statsmodels/tsa/tsatools.py:142: FutureWarning: In a future version of pandas all arguments of concat except for the argument 'objs' will be keyword-only\n",
      "  x = pd.concat(x[::order], 1)\n"
     ]
    },
    {
     "data": {
      "text/html": [
       "<div>\n",
       "<style scoped>\n",
       "    .dataframe tbody tr th:only-of-type {\n",
       "        vertical-align: middle;\n",
       "    }\n",
       "\n",
       "    .dataframe tbody tr th {\n",
       "        vertical-align: top;\n",
       "    }\n",
       "\n",
       "    .dataframe thead th {\n",
       "        text-align: right;\n",
       "    }\n",
       "</style>\n",
       "<table border=\"1\" class=\"dataframe\">\n",
       "  <thead>\n",
       "    <tr style=\"text-align: right;\">\n",
       "      <th></th>\n",
       "      <th>GPP Per capita (Baht)</th>\n",
       "      <th>const</th>\n",
       "    </tr>\n",
       "    <tr>\n",
       "      <th>Year</th>\n",
       "      <th></th>\n",
       "      <th></th>\n",
       "    </tr>\n",
       "  </thead>\n",
       "  <tbody>\n",
       "    <tr>\n",
       "      <th>2006.0</th>\n",
       "      <td>73109.129</td>\n",
       "      <td>1.0</td>\n",
       "    </tr>\n",
       "    <tr>\n",
       "      <th>2007.0</th>\n",
       "      <td>73165.713</td>\n",
       "      <td>1.0</td>\n",
       "    </tr>\n",
       "    <tr>\n",
       "      <th>2008.0</th>\n",
       "      <td>79468.550</td>\n",
       "      <td>1.0</td>\n",
       "    </tr>\n",
       "    <tr>\n",
       "      <th>2009.0</th>\n",
       "      <td>85731.583</td>\n",
       "      <td>1.0</td>\n",
       "    </tr>\n",
       "    <tr>\n",
       "      <th>2010.0</th>\n",
       "      <td>87969.749</td>\n",
       "      <td>1.0</td>\n",
       "    </tr>\n",
       "  </tbody>\n",
       "</table>\n",
       "</div>"
      ],
      "text/plain": [
       "        GPP Per capita (Baht)  const\n",
       "Year                                \n",
       "2006.0              73109.129    1.0\n",
       "2007.0              73165.713    1.0\n",
       "2008.0              79468.550    1.0\n",
       "2009.0              85731.583    1.0\n",
       "2010.0              87969.749    1.0"
      ]
     },
     "execution_count": 56,
     "metadata": {},
     "output_type": "execute_result"
    }
   ],
   "source": [
    "import statsmodels.api as sm\n",
    "X = ex1[['GPP Per capita (Baht)']]\n",
    "X = sm.add_constant(X, prepend=False)\n",
    "X.head()"
   ]
  },
  {
   "cell_type": "code",
   "execution_count": 57,
   "metadata": {},
   "outputs": [
    {
     "data": {
      "text/plain": [
       "Year\n",
       "2006.0    15870.0\n",
       "2007.0    14462.0\n",
       "2008.0    15386.0\n",
       "2009.0    16764.0\n",
       "2010.0    14433.0\n",
       "Name: รายจ่ายของประชากรในจังหวัดลพบุรี (บาท), dtype: float64"
      ]
     },
     "execution_count": 57,
     "metadata": {},
     "output_type": "execute_result"
    }
   ],
   "source": [
    "y = ex1['รายจ่ายของประชากรในจังหวัดลพบุรี (บาท)']\n",
    "y.head()"
   ]
  },
  {
   "cell_type": "code",
   "execution_count": 58,
   "metadata": {},
   "outputs": [],
   "source": [
    "X_train, X_test, y_train, y_test = train_test_split(X, y, test_size=0.05,random_state=14)  "
   ]
  },
  {
   "cell_type": "code",
   "execution_count": 59,
   "metadata": {},
   "outputs": [
    {
     "data": {
      "text/plain": [
       "LinearRegression()"
      ]
     },
     "execution_count": 59,
     "metadata": {},
     "output_type": "execute_result"
    }
   ],
   "source": [
    "lm = LinearRegression()\n",
    "lm.fit(X_train, y_train)"
   ]
  },
  {
   "cell_type": "code",
   "execution_count": 60,
   "metadata": {},
   "outputs": [
    {
     "data": {
      "text/html": [
       "<div>\n",
       "<style scoped>\n",
       "    .dataframe tbody tr th:only-of-type {\n",
       "        vertical-align: middle;\n",
       "    }\n",
       "\n",
       "    .dataframe tbody tr th {\n",
       "        vertical-align: top;\n",
       "    }\n",
       "\n",
       "    .dataframe thead th {\n",
       "        text-align: right;\n",
       "    }\n",
       "</style>\n",
       "<table border=\"1\" class=\"dataframe\">\n",
       "  <thead>\n",
       "    <tr style=\"text-align: right;\">\n",
       "      <th></th>\n",
       "      <th>GPP Per capita (Baht)</th>\n",
       "      <th>const</th>\n",
       "    </tr>\n",
       "    <tr>\n",
       "      <th>Year</th>\n",
       "      <th></th>\n",
       "      <th></th>\n",
       "    </tr>\n",
       "  </thead>\n",
       "  <tbody>\n",
       "    <tr>\n",
       "      <th>2009.0</th>\n",
       "      <td>85731.583</td>\n",
       "      <td>1.0</td>\n",
       "    </tr>\n",
       "    <tr>\n",
       "      <th>2018.0</th>\n",
       "      <td>142741.160</td>\n",
       "      <td>1.0</td>\n",
       "    </tr>\n",
       "    <tr>\n",
       "      <th>2007.0</th>\n",
       "      <td>73165.713</td>\n",
       "      <td>1.0</td>\n",
       "    </tr>\n",
       "    <tr>\n",
       "      <th>2006.0</th>\n",
       "      <td>73109.129</td>\n",
       "      <td>1.0</td>\n",
       "    </tr>\n",
       "    <tr>\n",
       "      <th>2015.0</th>\n",
       "      <td>123891.962</td>\n",
       "      <td>1.0</td>\n",
       "    </tr>\n",
       "    <tr>\n",
       "      <th>2010.0</th>\n",
       "      <td>87969.749</td>\n",
       "      <td>1.0</td>\n",
       "    </tr>\n",
       "    <tr>\n",
       "      <th>2008.0</th>\n",
       "      <td>79468.550</td>\n",
       "      <td>1.0</td>\n",
       "    </tr>\n",
       "    <tr>\n",
       "      <th>2016.0</th>\n",
       "      <td>129404.072</td>\n",
       "      <td>1.0</td>\n",
       "    </tr>\n",
       "    <tr>\n",
       "      <th>2013.0</th>\n",
       "      <td>122285.538</td>\n",
       "      <td>1.0</td>\n",
       "    </tr>\n",
       "    <tr>\n",
       "      <th>2012.0</th>\n",
       "      <td>116911.574</td>\n",
       "      <td>1.0</td>\n",
       "    </tr>\n",
       "    <tr>\n",
       "      <th>2014.0</th>\n",
       "      <td>125135.992</td>\n",
       "      <td>1.0</td>\n",
       "    </tr>\n",
       "    <tr>\n",
       "      <th>2017.0</th>\n",
       "      <td>142017.180</td>\n",
       "      <td>1.0</td>\n",
       "    </tr>\n",
       "  </tbody>\n",
       "</table>\n",
       "</div>"
      ],
      "text/plain": [
       "        GPP Per capita (Baht)  const\n",
       "Year                                \n",
       "2009.0              85731.583    1.0\n",
       "2018.0             142741.160    1.0\n",
       "2007.0              73165.713    1.0\n",
       "2006.0              73109.129    1.0\n",
       "2015.0             123891.962    1.0\n",
       "2010.0              87969.749    1.0\n",
       "2008.0              79468.550    1.0\n",
       "2016.0             129404.072    1.0\n",
       "2013.0             122285.538    1.0\n",
       "2012.0             116911.574    1.0\n",
       "2014.0             125135.992    1.0\n",
       "2017.0             142017.180    1.0"
      ]
     },
     "execution_count": 60,
     "metadata": {},
     "output_type": "execute_result"
    }
   ],
   "source": [
    "X_train"
   ]
  },
  {
   "cell_type": "code",
   "execution_count": 61,
   "metadata": {},
   "outputs": [
    {
     "data": {
      "text/html": [
       "<div>\n",
       "<style scoped>\n",
       "    .dataframe tbody tr th:only-of-type {\n",
       "        vertical-align: middle;\n",
       "    }\n",
       "\n",
       "    .dataframe tbody tr th {\n",
       "        vertical-align: top;\n",
       "    }\n",
       "\n",
       "    .dataframe thead th {\n",
       "        text-align: right;\n",
       "    }\n",
       "</style>\n",
       "<table border=\"1\" class=\"dataframe\">\n",
       "  <thead>\n",
       "    <tr style=\"text-align: right;\">\n",
       "      <th></th>\n",
       "      <th>GPP Per capita (Baht)</th>\n",
       "    </tr>\n",
       "    <tr>\n",
       "      <th>Year</th>\n",
       "      <th></th>\n",
       "    </tr>\n",
       "  </thead>\n",
       "  <tbody>\n",
       "    <tr>\n",
       "      <th>1995.0</th>\n",
       "      <td>42592.536</td>\n",
       "    </tr>\n",
       "    <tr>\n",
       "      <th>1996.0</th>\n",
       "      <td>50643.659</td>\n",
       "    </tr>\n",
       "    <tr>\n",
       "      <th>1997.0</th>\n",
       "      <td>49943.407</td>\n",
       "    </tr>\n",
       "    <tr>\n",
       "      <th>1998.0</th>\n",
       "      <td>48207.329</td>\n",
       "    </tr>\n",
       "    <tr>\n",
       "      <th>1999.0</th>\n",
       "      <td>44913.880</td>\n",
       "    </tr>\n",
       "    <tr>\n",
       "      <th>2000.0</th>\n",
       "      <td>47871.434</td>\n",
       "    </tr>\n",
       "    <tr>\n",
       "      <th>2001.0</th>\n",
       "      <td>52910.182</td>\n",
       "    </tr>\n",
       "    <tr>\n",
       "      <th>2002.0</th>\n",
       "      <td>61030.759</td>\n",
       "    </tr>\n",
       "    <tr>\n",
       "      <th>2003.0</th>\n",
       "      <td>63989.590</td>\n",
       "    </tr>\n",
       "    <tr>\n",
       "      <th>2004.0</th>\n",
       "      <td>65838.869</td>\n",
       "    </tr>\n",
       "    <tr>\n",
       "      <th>2005.0</th>\n",
       "      <td>73094.025</td>\n",
       "    </tr>\n",
       "  </tbody>\n",
       "</table>\n",
       "</div>"
      ],
      "text/plain": [
       "        GPP Per capita (Baht)\n",
       "Year                         \n",
       "1995.0              42592.536\n",
       "1996.0              50643.659\n",
       "1997.0              49943.407\n",
       "1998.0              48207.329\n",
       "1999.0              44913.880\n",
       "2000.0              47871.434\n",
       "2001.0              52910.182\n",
       "2002.0              61030.759\n",
       "2003.0              63989.590\n",
       "2004.0              65838.869\n",
       "2005.0              73094.025"
      ]
     },
     "execution_count": 61,
     "metadata": {},
     "output_type": "execute_result"
    }
   ],
   "source": [
    "test_ex1 = df1.loc[[i for i in range(1995,2006)],['GPP Per capita (Baht)']]\n",
    "test_ex1"
   ]
  },
  {
   "cell_type": "code",
   "execution_count": 62,
   "metadata": {},
   "outputs": [
    {
     "name": "stderr",
     "output_type": "stream",
     "text": [
      "/Users/pantchanit/opt/anaconda3/lib/python3.9/site-packages/statsmodels/tsa/tsatools.py:142: FutureWarning: In a future version of pandas all arguments of concat except for the argument 'objs' will be keyword-only\n",
      "  x = pd.concat(x[::order], 1)\n"
     ]
    },
    {
     "data": {
      "text/html": [
       "<div>\n",
       "<style scoped>\n",
       "    .dataframe tbody tr th:only-of-type {\n",
       "        vertical-align: middle;\n",
       "    }\n",
       "\n",
       "    .dataframe tbody tr th {\n",
       "        vertical-align: top;\n",
       "    }\n",
       "\n",
       "    .dataframe thead th {\n",
       "        text-align: right;\n",
       "    }\n",
       "</style>\n",
       "<table border=\"1\" class=\"dataframe\">\n",
       "  <thead>\n",
       "    <tr style=\"text-align: right;\">\n",
       "      <th></th>\n",
       "      <th>GPP Per capita (Baht)</th>\n",
       "      <th>const</th>\n",
       "    </tr>\n",
       "    <tr>\n",
       "      <th>Year</th>\n",
       "      <th></th>\n",
       "      <th></th>\n",
       "    </tr>\n",
       "  </thead>\n",
       "  <tbody>\n",
       "    <tr>\n",
       "      <th>1995.0</th>\n",
       "      <td>42592.536</td>\n",
       "      <td>1.0</td>\n",
       "    </tr>\n",
       "    <tr>\n",
       "      <th>1996.0</th>\n",
       "      <td>50643.659</td>\n",
       "      <td>1.0</td>\n",
       "    </tr>\n",
       "    <tr>\n",
       "      <th>1997.0</th>\n",
       "      <td>49943.407</td>\n",
       "      <td>1.0</td>\n",
       "    </tr>\n",
       "    <tr>\n",
       "      <th>1998.0</th>\n",
       "      <td>48207.329</td>\n",
       "      <td>1.0</td>\n",
       "    </tr>\n",
       "    <tr>\n",
       "      <th>1999.0</th>\n",
       "      <td>44913.880</td>\n",
       "      <td>1.0</td>\n",
       "    </tr>\n",
       "  </tbody>\n",
       "</table>\n",
       "</div>"
      ],
      "text/plain": [
       "        GPP Per capita (Baht)  const\n",
       "Year                                \n",
       "1995.0              42592.536    1.0\n",
       "1996.0              50643.659    1.0\n",
       "1997.0              49943.407    1.0\n",
       "1998.0              48207.329    1.0\n",
       "1999.0              44913.880    1.0"
      ]
     },
     "execution_count": 62,
     "metadata": {},
     "output_type": "execute_result"
    }
   ],
   "source": [
    "X_test_ex1 = test_ex1[['GPP Per capita (Baht)']]\n",
    "X_test_ex1 = sm.add_constant(X_test_ex1, prepend=False)\n",
    "X_test_ex1.head()"
   ]
  },
  {
   "cell_type": "code",
   "execution_count": 63,
   "metadata": {},
   "outputs": [
    {
     "data": {
      "text/plain": [
       "array([14756.7602144 , 14908.67276468, 14895.46006539, 14862.70289146,\n",
       "       14800.5604752 , 14856.36505932, 14951.43863588, 15104.6616784 ,\n",
       "       15160.49035759, 15195.38346369, 15332.27731696])"
      ]
     },
     "execution_count": 63,
     "metadata": {},
     "output_type": "execute_result"
    }
   ],
   "source": [
    "predictions = lm.predict(X_test_ex1)\n",
    "predictions                   "
   ]
  },
  {
   "cell_type": "markdown",
   "metadata": {},
   "source": [
    "##### เนื้อที่ที่ถือครองเพื่อการเกษตร (ไร่)"
   ]
  },
  {
   "cell_type": "code",
   "execution_count": 64,
   "metadata": {},
   "outputs": [
    {
     "data": {
      "text/html": [
       "<div>\n",
       "<style scoped>\n",
       "    .dataframe tbody tr th:only-of-type {\n",
       "        vertical-align: middle;\n",
       "    }\n",
       "\n",
       "    .dataframe tbody tr th {\n",
       "        vertical-align: top;\n",
       "    }\n",
       "\n",
       "    .dataframe thead th {\n",
       "        text-align: right;\n",
       "    }\n",
       "</style>\n",
       "<table border=\"1\" class=\"dataframe\">\n",
       "  <thead>\n",
       "    <tr style=\"text-align: right;\">\n",
       "      <th></th>\n",
       "      <th>เนื้อที่ที่ถือครองเพื่อการเกษตร (ไร่)</th>\n",
       "      <th>GPP Per capita (Baht)</th>\n",
       "    </tr>\n",
       "    <tr>\n",
       "      <th>Year</th>\n",
       "      <th></th>\n",
       "      <th></th>\n",
       "    </tr>\n",
       "  </thead>\n",
       "  <tbody>\n",
       "    <tr>\n",
       "      <th>2010.0</th>\n",
       "      <td>2541350.0</td>\n",
       "      <td>87969.749</td>\n",
       "    </tr>\n",
       "    <tr>\n",
       "      <th>2011.0</th>\n",
       "      <td>2541569.0</td>\n",
       "      <td>96247.730</td>\n",
       "    </tr>\n",
       "    <tr>\n",
       "      <th>2012.0</th>\n",
       "      <td>2196101.0</td>\n",
       "      <td>116911.574</td>\n",
       "    </tr>\n",
       "    <tr>\n",
       "      <th>2013.0</th>\n",
       "      <td>2189464.0</td>\n",
       "      <td>122285.538</td>\n",
       "    </tr>\n",
       "    <tr>\n",
       "      <th>2014.0</th>\n",
       "      <td>2211616.0</td>\n",
       "      <td>125135.992</td>\n",
       "    </tr>\n",
       "    <tr>\n",
       "      <th>2015.0</th>\n",
       "      <td>2191974.0</td>\n",
       "      <td>123891.962</td>\n",
       "    </tr>\n",
       "    <tr>\n",
       "      <th>2016.0</th>\n",
       "      <td>2191454.0</td>\n",
       "      <td>129404.072</td>\n",
       "    </tr>\n",
       "    <tr>\n",
       "      <th>2017.0</th>\n",
       "      <td>2191311.0</td>\n",
       "      <td>142017.180</td>\n",
       "    </tr>\n",
       "    <tr>\n",
       "      <th>2018.0</th>\n",
       "      <td>2191867.0</td>\n",
       "      <td>142741.160</td>\n",
       "    </tr>\n",
       "  </tbody>\n",
       "</table>\n",
       "</div>"
      ],
      "text/plain": [
       "        เนื้อที่ที่ถือครองเพื่อการเกษตร (ไร่)  GPP Per capita (Baht)\n",
       "Year                                                                \n",
       "2010.0                              2541350.0              87969.749\n",
       "2011.0                              2541569.0              96247.730\n",
       "2012.0                              2196101.0             116911.574\n",
       "2013.0                              2189464.0             122285.538\n",
       "2014.0                              2211616.0             125135.992\n",
       "2015.0                              2191974.0             123891.962\n",
       "2016.0                              2191454.0             129404.072\n",
       "2017.0                              2191311.0             142017.180\n",
       "2018.0                              2191867.0             142741.160"
      ]
     },
     "execution_count": 64,
     "metadata": {},
     "output_type": "execute_result"
    }
   ],
   "source": [
    "ex2 = df1.loc[[i for i in range(2010,2019)],['เนื้อที่ที่ถือครองเพื่อการเกษตร (ไร่)','GPP Per capita (Baht)']]\n",
    "ex2"
   ]
  },
  {
   "cell_type": "code",
   "execution_count": 65,
   "metadata": {},
   "outputs": [
    {
     "name": "stderr",
     "output_type": "stream",
     "text": [
      "/Users/pantchanit/opt/anaconda3/lib/python3.9/site-packages/statsmodels/tsa/tsatools.py:142: FutureWarning: In a future version of pandas all arguments of concat except for the argument 'objs' will be keyword-only\n",
      "  x = pd.concat(x[::order], 1)\n"
     ]
    },
    {
     "data": {
      "text/html": [
       "<div>\n",
       "<style scoped>\n",
       "    .dataframe tbody tr th:only-of-type {\n",
       "        vertical-align: middle;\n",
       "    }\n",
       "\n",
       "    .dataframe tbody tr th {\n",
       "        vertical-align: top;\n",
       "    }\n",
       "\n",
       "    .dataframe thead th {\n",
       "        text-align: right;\n",
       "    }\n",
       "</style>\n",
       "<table border=\"1\" class=\"dataframe\">\n",
       "  <thead>\n",
       "    <tr style=\"text-align: right;\">\n",
       "      <th></th>\n",
       "      <th>GPP Per capita (Baht)</th>\n",
       "      <th>const</th>\n",
       "    </tr>\n",
       "    <tr>\n",
       "      <th>Year</th>\n",
       "      <th></th>\n",
       "      <th></th>\n",
       "    </tr>\n",
       "  </thead>\n",
       "  <tbody>\n",
       "    <tr>\n",
       "      <th>2010.0</th>\n",
       "      <td>87969.749</td>\n",
       "      <td>1.0</td>\n",
       "    </tr>\n",
       "    <tr>\n",
       "      <th>2011.0</th>\n",
       "      <td>96247.730</td>\n",
       "      <td>1.0</td>\n",
       "    </tr>\n",
       "    <tr>\n",
       "      <th>2012.0</th>\n",
       "      <td>116911.574</td>\n",
       "      <td>1.0</td>\n",
       "    </tr>\n",
       "    <tr>\n",
       "      <th>2013.0</th>\n",
       "      <td>122285.538</td>\n",
       "      <td>1.0</td>\n",
       "    </tr>\n",
       "    <tr>\n",
       "      <th>2014.0</th>\n",
       "      <td>125135.992</td>\n",
       "      <td>1.0</td>\n",
       "    </tr>\n",
       "  </tbody>\n",
       "</table>\n",
       "</div>"
      ],
      "text/plain": [
       "        GPP Per capita (Baht)  const\n",
       "Year                                \n",
       "2010.0              87969.749    1.0\n",
       "2011.0              96247.730    1.0\n",
       "2012.0             116911.574    1.0\n",
       "2013.0             122285.538    1.0\n",
       "2014.0             125135.992    1.0"
      ]
     },
     "execution_count": 65,
     "metadata": {},
     "output_type": "execute_result"
    }
   ],
   "source": [
    "X = ex2[['GPP Per capita (Baht)']]\n",
    "X = sm.add_constant(X, prepend=False)\n",
    "X.head()"
   ]
  },
  {
   "cell_type": "code",
   "execution_count": 66,
   "metadata": {},
   "outputs": [
    {
     "data": {
      "text/plain": [
       "Year\n",
       "2010.0    2541350.0\n",
       "2011.0    2541569.0\n",
       "2012.0    2196101.0\n",
       "2013.0    2189464.0\n",
       "2014.0    2211616.0\n",
       "Name: เนื้อที่ที่ถือครองเพื่อการเกษตร (ไร่), dtype: float64"
      ]
     },
     "execution_count": 66,
     "metadata": {},
     "output_type": "execute_result"
    }
   ],
   "source": [
    "y = ex2['เนื้อที่ที่ถือครองเพื่อการเกษตร (ไร่)']\n",
    "y.head()"
   ]
  },
  {
   "cell_type": "code",
   "execution_count": 67,
   "metadata": {},
   "outputs": [],
   "source": [
    "X_train, X_test, y_train, y_test = train_test_split(X, y, test_size=0.05,random_state=14)  "
   ]
  },
  {
   "cell_type": "code",
   "execution_count": 68,
   "metadata": {},
   "outputs": [
    {
     "data": {
      "text/plain": [
       "LinearRegression()"
      ]
     },
     "execution_count": 68,
     "metadata": {},
     "output_type": "execute_result"
    }
   ],
   "source": [
    "lm = LinearRegression()\n",
    "lm.fit(X_train, y_train)"
   ]
  },
  {
   "cell_type": "code",
   "execution_count": 69,
   "metadata": {},
   "outputs": [
    {
     "data": {
      "text/html": [
       "<div>\n",
       "<style scoped>\n",
       "    .dataframe tbody tr th:only-of-type {\n",
       "        vertical-align: middle;\n",
       "    }\n",
       "\n",
       "    .dataframe tbody tr th {\n",
       "        vertical-align: top;\n",
       "    }\n",
       "\n",
       "    .dataframe thead th {\n",
       "        text-align: right;\n",
       "    }\n",
       "</style>\n",
       "<table border=\"1\" class=\"dataframe\">\n",
       "  <thead>\n",
       "    <tr style=\"text-align: right;\">\n",
       "      <th></th>\n",
       "      <th>GPP Per capita (Baht)</th>\n",
       "    </tr>\n",
       "    <tr>\n",
       "      <th>Year</th>\n",
       "      <th></th>\n",
       "    </tr>\n",
       "  </thead>\n",
       "  <tbody>\n",
       "    <tr>\n",
       "      <th>1995.0</th>\n",
       "      <td>42592.536</td>\n",
       "    </tr>\n",
       "    <tr>\n",
       "      <th>1996.0</th>\n",
       "      <td>50643.659</td>\n",
       "    </tr>\n",
       "    <tr>\n",
       "      <th>1997.0</th>\n",
       "      <td>49943.407</td>\n",
       "    </tr>\n",
       "    <tr>\n",
       "      <th>1998.0</th>\n",
       "      <td>48207.329</td>\n",
       "    </tr>\n",
       "    <tr>\n",
       "      <th>1999.0</th>\n",
       "      <td>44913.880</td>\n",
       "    </tr>\n",
       "    <tr>\n",
       "      <th>2000.0</th>\n",
       "      <td>47871.434</td>\n",
       "    </tr>\n",
       "    <tr>\n",
       "      <th>2001.0</th>\n",
       "      <td>52910.182</td>\n",
       "    </tr>\n",
       "    <tr>\n",
       "      <th>2002.0</th>\n",
       "      <td>61030.759</td>\n",
       "    </tr>\n",
       "    <tr>\n",
       "      <th>2003.0</th>\n",
       "      <td>63989.590</td>\n",
       "    </tr>\n",
       "    <tr>\n",
       "      <th>2004.0</th>\n",
       "      <td>65838.869</td>\n",
       "    </tr>\n",
       "    <tr>\n",
       "      <th>2005.0</th>\n",
       "      <td>73094.025</td>\n",
       "    </tr>\n",
       "    <tr>\n",
       "      <th>2006.0</th>\n",
       "      <td>73109.129</td>\n",
       "    </tr>\n",
       "    <tr>\n",
       "      <th>2007.0</th>\n",
       "      <td>73165.713</td>\n",
       "    </tr>\n",
       "    <tr>\n",
       "      <th>2008.0</th>\n",
       "      <td>79468.550</td>\n",
       "    </tr>\n",
       "    <tr>\n",
       "      <th>2009.0</th>\n",
       "      <td>85731.583</td>\n",
       "    </tr>\n",
       "  </tbody>\n",
       "</table>\n",
       "</div>"
      ],
      "text/plain": [
       "        GPP Per capita (Baht)\n",
       "Year                         \n",
       "1995.0              42592.536\n",
       "1996.0              50643.659\n",
       "1997.0              49943.407\n",
       "1998.0              48207.329\n",
       "1999.0              44913.880\n",
       "2000.0              47871.434\n",
       "2001.0              52910.182\n",
       "2002.0              61030.759\n",
       "2003.0              63989.590\n",
       "2004.0              65838.869\n",
       "2005.0              73094.025\n",
       "2006.0              73109.129\n",
       "2007.0              73165.713\n",
       "2008.0              79468.550\n",
       "2009.0              85731.583"
      ]
     },
     "execution_count": 69,
     "metadata": {},
     "output_type": "execute_result"
    }
   ],
   "source": [
    "test_ex2 = df1.loc[[i for i in range(1995,2010)],['GPP Per capita (Baht)']]\n",
    "test_ex2"
   ]
  },
  {
   "cell_type": "code",
   "execution_count": 70,
   "metadata": {},
   "outputs": [
    {
     "name": "stderr",
     "output_type": "stream",
     "text": [
      "/Users/pantchanit/opt/anaconda3/lib/python3.9/site-packages/statsmodels/tsa/tsatools.py:142: FutureWarning: In a future version of pandas all arguments of concat except for the argument 'objs' will be keyword-only\n",
      "  x = pd.concat(x[::order], 1)\n"
     ]
    },
    {
     "data": {
      "text/html": [
       "<div>\n",
       "<style scoped>\n",
       "    .dataframe tbody tr th:only-of-type {\n",
       "        vertical-align: middle;\n",
       "    }\n",
       "\n",
       "    .dataframe tbody tr th {\n",
       "        vertical-align: top;\n",
       "    }\n",
       "\n",
       "    .dataframe thead th {\n",
       "        text-align: right;\n",
       "    }\n",
       "</style>\n",
       "<table border=\"1\" class=\"dataframe\">\n",
       "  <thead>\n",
       "    <tr style=\"text-align: right;\">\n",
       "      <th></th>\n",
       "      <th>GPP Per capita (Baht)</th>\n",
       "      <th>const</th>\n",
       "    </tr>\n",
       "    <tr>\n",
       "      <th>Year</th>\n",
       "      <th></th>\n",
       "      <th></th>\n",
       "    </tr>\n",
       "  </thead>\n",
       "  <tbody>\n",
       "    <tr>\n",
       "      <th>1995.0</th>\n",
       "      <td>42592.536</td>\n",
       "      <td>1.0</td>\n",
       "    </tr>\n",
       "    <tr>\n",
       "      <th>1996.0</th>\n",
       "      <td>50643.659</td>\n",
       "      <td>1.0</td>\n",
       "    </tr>\n",
       "    <tr>\n",
       "      <th>1997.0</th>\n",
       "      <td>49943.407</td>\n",
       "      <td>1.0</td>\n",
       "    </tr>\n",
       "    <tr>\n",
       "      <th>1998.0</th>\n",
       "      <td>48207.329</td>\n",
       "      <td>1.0</td>\n",
       "    </tr>\n",
       "    <tr>\n",
       "      <th>1999.0</th>\n",
       "      <td>44913.880</td>\n",
       "      <td>1.0</td>\n",
       "    </tr>\n",
       "  </tbody>\n",
       "</table>\n",
       "</div>"
      ],
      "text/plain": [
       "        GPP Per capita (Baht)  const\n",
       "Year                                \n",
       "1995.0              42592.536    1.0\n",
       "1996.0              50643.659    1.0\n",
       "1997.0              49943.407    1.0\n",
       "1998.0              48207.329    1.0\n",
       "1999.0              44913.880    1.0"
      ]
     },
     "execution_count": 70,
     "metadata": {},
     "output_type": "execute_result"
    }
   ],
   "source": [
    "X_test_ex2 = test_ex2[['GPP Per capita (Baht)']]\n",
    "X_test_ex2 = sm.add_constant(X_test_ex2, prepend=False)\n",
    "X_test_ex2.head()"
   ]
  },
  {
   "cell_type": "code",
   "execution_count": 71,
   "metadata": {},
   "outputs": [
    {
     "data": {
      "text/plain": [
       "array([2844151.80712635, 2785921.22053127, 2790985.86613715,\n",
       "       2803542.23129451, 2827362.44459779, 2805971.62690608,\n",
       "       2769528.35660145, 2710795.43670935, 2689395.38298198,\n",
       "       2676020.27978855, 2623546.60751715, 2623437.36626224,\n",
       "       2623028.11658218, 2577442.1907774 , 2532144.15155302])"
      ]
     },
     "execution_count": 71,
     "metadata": {},
     "output_type": "execute_result"
    }
   ],
   "source": [
    "predictions = lm.predict(X_test_ex2)\n",
    "predictions  "
   ]
  },
  {
   "cell_type": "markdown",
   "metadata": {},
   "source": [
    "##### จำนวนโรงงานอุตสาหกรรม (โรงงาน)"
   ]
  },
  {
   "cell_type": "code",
   "execution_count": 72,
   "metadata": {},
   "outputs": [
    {
     "data": {
      "text/html": [
       "<div>\n",
       "<style scoped>\n",
       "    .dataframe tbody tr th:only-of-type {\n",
       "        vertical-align: middle;\n",
       "    }\n",
       "\n",
       "    .dataframe tbody tr th {\n",
       "        vertical-align: top;\n",
       "    }\n",
       "\n",
       "    .dataframe thead th {\n",
       "        text-align: right;\n",
       "    }\n",
       "</style>\n",
       "<table border=\"1\" class=\"dataframe\">\n",
       "  <thead>\n",
       "    <tr style=\"text-align: right;\">\n",
       "      <th></th>\n",
       "      <th>จำนวนโรงงานอุตสาหกรรม (โรงงาน)</th>\n",
       "      <th>GPP Per capita (Baht)</th>\n",
       "    </tr>\n",
       "    <tr>\n",
       "      <th>Year</th>\n",
       "      <th></th>\n",
       "      <th></th>\n",
       "    </tr>\n",
       "  </thead>\n",
       "  <tbody>\n",
       "    <tr>\n",
       "      <th>2011.0</th>\n",
       "      <td>26.0</td>\n",
       "      <td>96247.730</td>\n",
       "    </tr>\n",
       "    <tr>\n",
       "      <th>2012.0</th>\n",
       "      <td>40.0</td>\n",
       "      <td>116911.574</td>\n",
       "    </tr>\n",
       "    <tr>\n",
       "      <th>2013.0</th>\n",
       "      <td>32.0</td>\n",
       "      <td>122285.538</td>\n",
       "    </tr>\n",
       "    <tr>\n",
       "      <th>2014.0</th>\n",
       "      <td>37.0</td>\n",
       "      <td>125135.992</td>\n",
       "    </tr>\n",
       "    <tr>\n",
       "      <th>2015.0</th>\n",
       "      <td>59.0</td>\n",
       "      <td>123891.962</td>\n",
       "    </tr>\n",
       "    <tr>\n",
       "      <th>2016.0</th>\n",
       "      <td>31.0</td>\n",
       "      <td>129404.072</td>\n",
       "    </tr>\n",
       "    <tr>\n",
       "      <th>2017.0</th>\n",
       "      <td>19.0</td>\n",
       "      <td>142017.180</td>\n",
       "    </tr>\n",
       "    <tr>\n",
       "      <th>2018.0</th>\n",
       "      <td>30.0</td>\n",
       "      <td>142741.160</td>\n",
       "    </tr>\n",
       "  </tbody>\n",
       "</table>\n",
       "</div>"
      ],
      "text/plain": [
       "        จำนวนโรงงานอุตสาหกรรม (โรงงาน)  GPP Per capita (Baht)\n",
       "Year                                                         \n",
       "2011.0                            26.0              96247.730\n",
       "2012.0                            40.0             116911.574\n",
       "2013.0                            32.0             122285.538\n",
       "2014.0                            37.0             125135.992\n",
       "2015.0                            59.0             123891.962\n",
       "2016.0                            31.0             129404.072\n",
       "2017.0                            19.0             142017.180\n",
       "2018.0                            30.0             142741.160"
      ]
     },
     "execution_count": 72,
     "metadata": {},
     "output_type": "execute_result"
    }
   ],
   "source": [
    "ex3= df1.loc[[i for i in range(2011,2019)],['จำนวนโรงงานอุตสาหกรรม (โรงงาน)','GPP Per capita (Baht)']]\n",
    "ex3"
   ]
  },
  {
   "cell_type": "code",
   "execution_count": 73,
   "metadata": {},
   "outputs": [
    {
     "name": "stderr",
     "output_type": "stream",
     "text": [
      "/Users/pantchanit/opt/anaconda3/lib/python3.9/site-packages/statsmodels/tsa/tsatools.py:142: FutureWarning: In a future version of pandas all arguments of concat except for the argument 'objs' will be keyword-only\n",
      "  x = pd.concat(x[::order], 1)\n"
     ]
    },
    {
     "data": {
      "text/html": [
       "<div>\n",
       "<style scoped>\n",
       "    .dataframe tbody tr th:only-of-type {\n",
       "        vertical-align: middle;\n",
       "    }\n",
       "\n",
       "    .dataframe tbody tr th {\n",
       "        vertical-align: top;\n",
       "    }\n",
       "\n",
       "    .dataframe thead th {\n",
       "        text-align: right;\n",
       "    }\n",
       "</style>\n",
       "<table border=\"1\" class=\"dataframe\">\n",
       "  <thead>\n",
       "    <tr style=\"text-align: right;\">\n",
       "      <th></th>\n",
       "      <th>GPP Per capita (Baht)</th>\n",
       "      <th>const</th>\n",
       "    </tr>\n",
       "    <tr>\n",
       "      <th>Year</th>\n",
       "      <th></th>\n",
       "      <th></th>\n",
       "    </tr>\n",
       "  </thead>\n",
       "  <tbody>\n",
       "    <tr>\n",
       "      <th>2011.0</th>\n",
       "      <td>96247.730</td>\n",
       "      <td>1.0</td>\n",
       "    </tr>\n",
       "    <tr>\n",
       "      <th>2012.0</th>\n",
       "      <td>116911.574</td>\n",
       "      <td>1.0</td>\n",
       "    </tr>\n",
       "    <tr>\n",
       "      <th>2013.0</th>\n",
       "      <td>122285.538</td>\n",
       "      <td>1.0</td>\n",
       "    </tr>\n",
       "    <tr>\n",
       "      <th>2014.0</th>\n",
       "      <td>125135.992</td>\n",
       "      <td>1.0</td>\n",
       "    </tr>\n",
       "    <tr>\n",
       "      <th>2015.0</th>\n",
       "      <td>123891.962</td>\n",
       "      <td>1.0</td>\n",
       "    </tr>\n",
       "  </tbody>\n",
       "</table>\n",
       "</div>"
      ],
      "text/plain": [
       "        GPP Per capita (Baht)  const\n",
       "Year                                \n",
       "2011.0              96247.730    1.0\n",
       "2012.0             116911.574    1.0\n",
       "2013.0             122285.538    1.0\n",
       "2014.0             125135.992    1.0\n",
       "2015.0             123891.962    1.0"
      ]
     },
     "execution_count": 73,
     "metadata": {},
     "output_type": "execute_result"
    }
   ],
   "source": [
    "X = ex3[['GPP Per capita (Baht)']]\n",
    "X = sm.add_constant(X, prepend=False)\n",
    "X.head()"
   ]
  },
  {
   "cell_type": "code",
   "execution_count": 74,
   "metadata": {},
   "outputs": [
    {
     "data": {
      "text/plain": [
       "Year\n",
       "2011.0    26.0\n",
       "2012.0    40.0\n",
       "2013.0    32.0\n",
       "2014.0    37.0\n",
       "2015.0    59.0\n",
       "Name: จำนวนโรงงานอุตสาหกรรม (โรงงาน), dtype: float64"
      ]
     },
     "execution_count": 74,
     "metadata": {},
     "output_type": "execute_result"
    }
   ],
   "source": [
    "y = ex3['จำนวนโรงงานอุตสาหกรรม (โรงงาน)']\n",
    "y.head()"
   ]
  },
  {
   "cell_type": "code",
   "execution_count": 75,
   "metadata": {},
   "outputs": [],
   "source": [
    "X_train, X_test, y_train, y_test = train_test_split(X, y, test_size=0.05,random_state=14)  "
   ]
  },
  {
   "cell_type": "code",
   "execution_count": 76,
   "metadata": {},
   "outputs": [
    {
     "data": {
      "text/plain": [
       "LinearRegression()"
      ]
     },
     "execution_count": 76,
     "metadata": {},
     "output_type": "execute_result"
    }
   ],
   "source": [
    "lm = LinearRegression()\n",
    "lm.fit(X_train, y_train)"
   ]
  },
  {
   "cell_type": "code",
   "execution_count": 77,
   "metadata": {},
   "outputs": [
    {
     "data": {
      "text/html": [
       "<div>\n",
       "<style scoped>\n",
       "    .dataframe tbody tr th:only-of-type {\n",
       "        vertical-align: middle;\n",
       "    }\n",
       "\n",
       "    .dataframe tbody tr th {\n",
       "        vertical-align: top;\n",
       "    }\n",
       "\n",
       "    .dataframe thead th {\n",
       "        text-align: right;\n",
       "    }\n",
       "</style>\n",
       "<table border=\"1\" class=\"dataframe\">\n",
       "  <thead>\n",
       "    <tr style=\"text-align: right;\">\n",
       "      <th></th>\n",
       "      <th>GPP Per capita (Baht)</th>\n",
       "    </tr>\n",
       "    <tr>\n",
       "      <th>Year</th>\n",
       "      <th></th>\n",
       "    </tr>\n",
       "  </thead>\n",
       "  <tbody>\n",
       "    <tr>\n",
       "      <th>1995.0</th>\n",
       "      <td>42592.536</td>\n",
       "    </tr>\n",
       "    <tr>\n",
       "      <th>1996.0</th>\n",
       "      <td>50643.659</td>\n",
       "    </tr>\n",
       "    <tr>\n",
       "      <th>1997.0</th>\n",
       "      <td>49943.407</td>\n",
       "    </tr>\n",
       "    <tr>\n",
       "      <th>1998.0</th>\n",
       "      <td>48207.329</td>\n",
       "    </tr>\n",
       "    <tr>\n",
       "      <th>1999.0</th>\n",
       "      <td>44913.880</td>\n",
       "    </tr>\n",
       "    <tr>\n",
       "      <th>2000.0</th>\n",
       "      <td>47871.434</td>\n",
       "    </tr>\n",
       "    <tr>\n",
       "      <th>2001.0</th>\n",
       "      <td>52910.182</td>\n",
       "    </tr>\n",
       "    <tr>\n",
       "      <th>2002.0</th>\n",
       "      <td>61030.759</td>\n",
       "    </tr>\n",
       "    <tr>\n",
       "      <th>2003.0</th>\n",
       "      <td>63989.590</td>\n",
       "    </tr>\n",
       "    <tr>\n",
       "      <th>2004.0</th>\n",
       "      <td>65838.869</td>\n",
       "    </tr>\n",
       "    <tr>\n",
       "      <th>2005.0</th>\n",
       "      <td>73094.025</td>\n",
       "    </tr>\n",
       "    <tr>\n",
       "      <th>2006.0</th>\n",
       "      <td>73109.129</td>\n",
       "    </tr>\n",
       "    <tr>\n",
       "      <th>2007.0</th>\n",
       "      <td>73165.713</td>\n",
       "    </tr>\n",
       "    <tr>\n",
       "      <th>2008.0</th>\n",
       "      <td>79468.550</td>\n",
       "    </tr>\n",
       "    <tr>\n",
       "      <th>2009.0</th>\n",
       "      <td>85731.583</td>\n",
       "    </tr>\n",
       "    <tr>\n",
       "      <th>2010.0</th>\n",
       "      <td>87969.749</td>\n",
       "    </tr>\n",
       "  </tbody>\n",
       "</table>\n",
       "</div>"
      ],
      "text/plain": [
       "        GPP Per capita (Baht)\n",
       "Year                         \n",
       "1995.0              42592.536\n",
       "1996.0              50643.659\n",
       "1997.0              49943.407\n",
       "1998.0              48207.329\n",
       "1999.0              44913.880\n",
       "2000.0              47871.434\n",
       "2001.0              52910.182\n",
       "2002.0              61030.759\n",
       "2003.0              63989.590\n",
       "2004.0              65838.869\n",
       "2005.0              73094.025\n",
       "2006.0              73109.129\n",
       "2007.0              73165.713\n",
       "2008.0              79468.550\n",
       "2009.0              85731.583\n",
       "2010.0              87969.749"
      ]
     },
     "execution_count": 77,
     "metadata": {},
     "output_type": "execute_result"
    }
   ],
   "source": [
    "test_ex3 = df1.loc[[i for i in range(1995,2011)],['GPP Per capita (Baht)']]\n",
    "test_ex3"
   ]
  },
  {
   "cell_type": "code",
   "execution_count": 78,
   "metadata": {},
   "outputs": [
    {
     "name": "stderr",
     "output_type": "stream",
     "text": [
      "/Users/pantchanit/opt/anaconda3/lib/python3.9/site-packages/statsmodels/tsa/tsatools.py:142: FutureWarning: In a future version of pandas all arguments of concat except for the argument 'objs' will be keyword-only\n",
      "  x = pd.concat(x[::order], 1)\n"
     ]
    },
    {
     "data": {
      "text/html": [
       "<div>\n",
       "<style scoped>\n",
       "    .dataframe tbody tr th:only-of-type {\n",
       "        vertical-align: middle;\n",
       "    }\n",
       "\n",
       "    .dataframe tbody tr th {\n",
       "        vertical-align: top;\n",
       "    }\n",
       "\n",
       "    .dataframe thead th {\n",
       "        text-align: right;\n",
       "    }\n",
       "</style>\n",
       "<table border=\"1\" class=\"dataframe\">\n",
       "  <thead>\n",
       "    <tr style=\"text-align: right;\">\n",
       "      <th></th>\n",
       "      <th>GPP Per capita (Baht)</th>\n",
       "      <th>const</th>\n",
       "    </tr>\n",
       "    <tr>\n",
       "      <th>Year</th>\n",
       "      <th></th>\n",
       "      <th></th>\n",
       "    </tr>\n",
       "  </thead>\n",
       "  <tbody>\n",
       "    <tr>\n",
       "      <th>1995.0</th>\n",
       "      <td>42592.536</td>\n",
       "      <td>1.0</td>\n",
       "    </tr>\n",
       "    <tr>\n",
       "      <th>1996.0</th>\n",
       "      <td>50643.659</td>\n",
       "      <td>1.0</td>\n",
       "    </tr>\n",
       "    <tr>\n",
       "      <th>1997.0</th>\n",
       "      <td>49943.407</td>\n",
       "      <td>1.0</td>\n",
       "    </tr>\n",
       "    <tr>\n",
       "      <th>1998.0</th>\n",
       "      <td>48207.329</td>\n",
       "      <td>1.0</td>\n",
       "    </tr>\n",
       "    <tr>\n",
       "      <th>1999.0</th>\n",
       "      <td>44913.880</td>\n",
       "      <td>1.0</td>\n",
       "    </tr>\n",
       "  </tbody>\n",
       "</table>\n",
       "</div>"
      ],
      "text/plain": [
       "        GPP Per capita (Baht)  const\n",
       "Year                                \n",
       "1995.0              42592.536    1.0\n",
       "1996.0              50643.659    1.0\n",
       "1997.0              49943.407    1.0\n",
       "1998.0              48207.329    1.0\n",
       "1999.0              44913.880    1.0"
      ]
     },
     "execution_count": 78,
     "metadata": {},
     "output_type": "execute_result"
    }
   ],
   "source": [
    "X_test_ex3 = test_ex3[['GPP Per capita (Baht)']]\n",
    "X_test_ex3 = sm.add_constant(X_test_ex3, prepend=False)\n",
    "X_test_ex3.head()"
   ]
  },
  {
   "cell_type": "code",
   "execution_count": 79,
   "metadata": {},
   "outputs": [
    {
     "data": {
      "text/plain": [
       "array([43.54947277, 42.67756464, 42.75339945, 42.94141055, 43.29807943,\n",
       "       42.97778679, 42.43210822, 41.55267847, 41.23224754, 41.03197717,\n",
       "       40.24626945, 40.24463375, 40.2385059 , 39.55593096, 38.87766665,\n",
       "       38.63528119])"
      ]
     },
     "execution_count": 79,
     "metadata": {},
     "output_type": "execute_result"
    }
   ],
   "source": [
    "predictions = lm.predict(X_test_ex3)\n",
    "predictions  "
   ]
  },
  {
   "cell_type": "markdown",
   "metadata": {},
   "source": [
    "##### เนื้อที่สวนผักและไม้ดอก (ไร่)"
   ]
  },
  {
   "cell_type": "code",
   "execution_count": 80,
   "metadata": {},
   "outputs": [
    {
     "data": {
      "text/html": [
       "<div>\n",
       "<style scoped>\n",
       "    .dataframe tbody tr th:only-of-type {\n",
       "        vertical-align: middle;\n",
       "    }\n",
       "\n",
       "    .dataframe tbody tr th {\n",
       "        vertical-align: top;\n",
       "    }\n",
       "\n",
       "    .dataframe thead th {\n",
       "        text-align: right;\n",
       "    }\n",
       "</style>\n",
       "<table border=\"1\" class=\"dataframe\">\n",
       "  <thead>\n",
       "    <tr style=\"text-align: right;\">\n",
       "      <th></th>\n",
       "      <th>เนื้อที่สวนผักและไม้ดอก (ไร่)</th>\n",
       "      <th>GPP Per capita (Baht)</th>\n",
       "    </tr>\n",
       "    <tr>\n",
       "      <th>Year</th>\n",
       "      <th></th>\n",
       "      <th></th>\n",
       "    </tr>\n",
       "  </thead>\n",
       "  <tbody>\n",
       "    <tr>\n",
       "      <th>2010.0</th>\n",
       "      <td>20343.000000</td>\n",
       "      <td>87969.749</td>\n",
       "    </tr>\n",
       "    <tr>\n",
       "      <th>2011.0</th>\n",
       "      <td>20535.000000</td>\n",
       "      <td>96247.730</td>\n",
       "    </tr>\n",
       "    <tr>\n",
       "      <th>2012.0</th>\n",
       "      <td>20364.000000</td>\n",
       "      <td>116911.574</td>\n",
       "    </tr>\n",
       "    <tr>\n",
       "      <th>2013.0</th>\n",
       "      <td>20318.469064</td>\n",
       "      <td>122285.538</td>\n",
       "    </tr>\n",
       "    <tr>\n",
       "      <th>2014.0</th>\n",
       "      <td>20634.000000</td>\n",
       "      <td>125135.992</td>\n",
       "    </tr>\n",
       "    <tr>\n",
       "      <th>2015.0</th>\n",
       "      <td>20630.000000</td>\n",
       "      <td>123891.962</td>\n",
       "    </tr>\n",
       "    <tr>\n",
       "      <th>2016.0</th>\n",
       "      <td>20629.000000</td>\n",
       "      <td>129404.072</td>\n",
       "    </tr>\n",
       "    <tr>\n",
       "      <th>2017.0</th>\n",
       "      <td>20523.000000</td>\n",
       "      <td>142017.180</td>\n",
       "    </tr>\n",
       "    <tr>\n",
       "      <th>2018.0</th>\n",
       "      <td>20527.000000</td>\n",
       "      <td>142741.160</td>\n",
       "    </tr>\n",
       "  </tbody>\n",
       "</table>\n",
       "</div>"
      ],
      "text/plain": [
       "        เนื้อที่สวนผักและไม้ดอก (ไร่)  GPP Per capita (Baht)\n",
       "Year                                                        \n",
       "2010.0                   20343.000000              87969.749\n",
       "2011.0                   20535.000000              96247.730\n",
       "2012.0                   20364.000000             116911.574\n",
       "2013.0                   20318.469064             122285.538\n",
       "2014.0                   20634.000000             125135.992\n",
       "2015.0                   20630.000000             123891.962\n",
       "2016.0                   20629.000000             129404.072\n",
       "2017.0                   20523.000000             142017.180\n",
       "2018.0                   20527.000000             142741.160"
      ]
     },
     "execution_count": 80,
     "metadata": {},
     "output_type": "execute_result"
    }
   ],
   "source": [
    "ex4 = df1.loc[[i for i in range(2010,2019)],['เนื้อที่สวนผักและไม้ดอก (ไร่)','GPP Per capita (Baht)']]\n",
    "ex4"
   ]
  },
  {
   "cell_type": "code",
   "execution_count": 81,
   "metadata": {},
   "outputs": [
    {
     "name": "stderr",
     "output_type": "stream",
     "text": [
      "/Users/pantchanit/opt/anaconda3/lib/python3.9/site-packages/statsmodels/tsa/tsatools.py:142: FutureWarning: In a future version of pandas all arguments of concat except for the argument 'objs' will be keyword-only\n",
      "  x = pd.concat(x[::order], 1)\n"
     ]
    },
    {
     "data": {
      "text/html": [
       "<div>\n",
       "<style scoped>\n",
       "    .dataframe tbody tr th:only-of-type {\n",
       "        vertical-align: middle;\n",
       "    }\n",
       "\n",
       "    .dataframe tbody tr th {\n",
       "        vertical-align: top;\n",
       "    }\n",
       "\n",
       "    .dataframe thead th {\n",
       "        text-align: right;\n",
       "    }\n",
       "</style>\n",
       "<table border=\"1\" class=\"dataframe\">\n",
       "  <thead>\n",
       "    <tr style=\"text-align: right;\">\n",
       "      <th></th>\n",
       "      <th>GPP Per capita (Baht)</th>\n",
       "      <th>const</th>\n",
       "    </tr>\n",
       "    <tr>\n",
       "      <th>Year</th>\n",
       "      <th></th>\n",
       "      <th></th>\n",
       "    </tr>\n",
       "  </thead>\n",
       "  <tbody>\n",
       "    <tr>\n",
       "      <th>2010.0</th>\n",
       "      <td>87969.749</td>\n",
       "      <td>1.0</td>\n",
       "    </tr>\n",
       "    <tr>\n",
       "      <th>2011.0</th>\n",
       "      <td>96247.730</td>\n",
       "      <td>1.0</td>\n",
       "    </tr>\n",
       "    <tr>\n",
       "      <th>2012.0</th>\n",
       "      <td>116911.574</td>\n",
       "      <td>1.0</td>\n",
       "    </tr>\n",
       "    <tr>\n",
       "      <th>2013.0</th>\n",
       "      <td>122285.538</td>\n",
       "      <td>1.0</td>\n",
       "    </tr>\n",
       "    <tr>\n",
       "      <th>2014.0</th>\n",
       "      <td>125135.992</td>\n",
       "      <td>1.0</td>\n",
       "    </tr>\n",
       "  </tbody>\n",
       "</table>\n",
       "</div>"
      ],
      "text/plain": [
       "        GPP Per capita (Baht)  const\n",
       "Year                                \n",
       "2010.0              87969.749    1.0\n",
       "2011.0              96247.730    1.0\n",
       "2012.0             116911.574    1.0\n",
       "2013.0             122285.538    1.0\n",
       "2014.0             125135.992    1.0"
      ]
     },
     "execution_count": 81,
     "metadata": {},
     "output_type": "execute_result"
    }
   ],
   "source": [
    "X = ex4[['GPP Per capita (Baht)']]\n",
    "X = sm.add_constant(X, prepend=False)\n",
    "X.head()"
   ]
  },
  {
   "cell_type": "code",
   "execution_count": 82,
   "metadata": {},
   "outputs": [
    {
     "data": {
      "text/plain": [
       "Year\n",
       "2010.0    20343.000000\n",
       "2011.0    20535.000000\n",
       "2012.0    20364.000000\n",
       "2013.0    20318.469064\n",
       "2014.0    20634.000000\n",
       "Name: เนื้อที่สวนผักและไม้ดอก (ไร่), dtype: float64"
      ]
     },
     "execution_count": 82,
     "metadata": {},
     "output_type": "execute_result"
    }
   ],
   "source": [
    "y = ex4['เนื้อที่สวนผักและไม้ดอก (ไร่)']\n",
    "y.head()"
   ]
  },
  {
   "cell_type": "code",
   "execution_count": 83,
   "metadata": {},
   "outputs": [],
   "source": [
    "X_train, X_test, y_train, y_test = train_test_split(X, y, test_size=0.001,random_state=14)"
   ]
  },
  {
   "cell_type": "code",
   "execution_count": 84,
   "metadata": {},
   "outputs": [
    {
     "data": {
      "text/plain": [
       "LinearRegression()"
      ]
     },
     "execution_count": 84,
     "metadata": {},
     "output_type": "execute_result"
    }
   ],
   "source": [
    "lm = LinearRegression()\n",
    "lm.fit(X_train, y_train)"
   ]
  },
  {
   "cell_type": "code",
   "execution_count": 85,
   "metadata": {},
   "outputs": [
    {
     "data": {
      "text/html": [
       "<div>\n",
       "<style scoped>\n",
       "    .dataframe tbody tr th:only-of-type {\n",
       "        vertical-align: middle;\n",
       "    }\n",
       "\n",
       "    .dataframe tbody tr th {\n",
       "        vertical-align: top;\n",
       "    }\n",
       "\n",
       "    .dataframe thead th {\n",
       "        text-align: right;\n",
       "    }\n",
       "</style>\n",
       "<table border=\"1\" class=\"dataframe\">\n",
       "  <thead>\n",
       "    <tr style=\"text-align: right;\">\n",
       "      <th></th>\n",
       "      <th>GPP Per capita (Baht)</th>\n",
       "    </tr>\n",
       "    <tr>\n",
       "      <th>Year</th>\n",
       "      <th></th>\n",
       "    </tr>\n",
       "  </thead>\n",
       "  <tbody>\n",
       "    <tr>\n",
       "      <th>1995.0</th>\n",
       "      <td>42592.536</td>\n",
       "    </tr>\n",
       "    <tr>\n",
       "      <th>1996.0</th>\n",
       "      <td>50643.659</td>\n",
       "    </tr>\n",
       "    <tr>\n",
       "      <th>1997.0</th>\n",
       "      <td>49943.407</td>\n",
       "    </tr>\n",
       "    <tr>\n",
       "      <th>1998.0</th>\n",
       "      <td>48207.329</td>\n",
       "    </tr>\n",
       "    <tr>\n",
       "      <th>1999.0</th>\n",
       "      <td>44913.880</td>\n",
       "    </tr>\n",
       "    <tr>\n",
       "      <th>2000.0</th>\n",
       "      <td>47871.434</td>\n",
       "    </tr>\n",
       "    <tr>\n",
       "      <th>2001.0</th>\n",
       "      <td>52910.182</td>\n",
       "    </tr>\n",
       "    <tr>\n",
       "      <th>2002.0</th>\n",
       "      <td>61030.759</td>\n",
       "    </tr>\n",
       "    <tr>\n",
       "      <th>2003.0</th>\n",
       "      <td>63989.590</td>\n",
       "    </tr>\n",
       "    <tr>\n",
       "      <th>2004.0</th>\n",
       "      <td>65838.869</td>\n",
       "    </tr>\n",
       "    <tr>\n",
       "      <th>2005.0</th>\n",
       "      <td>73094.025</td>\n",
       "    </tr>\n",
       "    <tr>\n",
       "      <th>2006.0</th>\n",
       "      <td>73109.129</td>\n",
       "    </tr>\n",
       "    <tr>\n",
       "      <th>2007.0</th>\n",
       "      <td>73165.713</td>\n",
       "    </tr>\n",
       "    <tr>\n",
       "      <th>2008.0</th>\n",
       "      <td>79468.550</td>\n",
       "    </tr>\n",
       "    <tr>\n",
       "      <th>2009.0</th>\n",
       "      <td>85731.583</td>\n",
       "    </tr>\n",
       "  </tbody>\n",
       "</table>\n",
       "</div>"
      ],
      "text/plain": [
       "        GPP Per capita (Baht)\n",
       "Year                         \n",
       "1995.0              42592.536\n",
       "1996.0              50643.659\n",
       "1997.0              49943.407\n",
       "1998.0              48207.329\n",
       "1999.0              44913.880\n",
       "2000.0              47871.434\n",
       "2001.0              52910.182\n",
       "2002.0              61030.759\n",
       "2003.0              63989.590\n",
       "2004.0              65838.869\n",
       "2005.0              73094.025\n",
       "2006.0              73109.129\n",
       "2007.0              73165.713\n",
       "2008.0              79468.550\n",
       "2009.0              85731.583"
      ]
     },
     "execution_count": 85,
     "metadata": {},
     "output_type": "execute_result"
    }
   ],
   "source": [
    "test_ex4 = df1.loc[[i for i in range(1995,2010)],['GPP Per capita (Baht)']]\n",
    "test_ex4"
   ]
  },
  {
   "cell_type": "code",
   "execution_count": 86,
   "metadata": {},
   "outputs": [
    {
     "name": "stderr",
     "output_type": "stream",
     "text": [
      "/Users/pantchanit/opt/anaconda3/lib/python3.9/site-packages/statsmodels/tsa/tsatools.py:142: FutureWarning: In a future version of pandas all arguments of concat except for the argument 'objs' will be keyword-only\n",
      "  x = pd.concat(x[::order], 1)\n"
     ]
    },
    {
     "data": {
      "text/html": [
       "<div>\n",
       "<style scoped>\n",
       "    .dataframe tbody tr th:only-of-type {\n",
       "        vertical-align: middle;\n",
       "    }\n",
       "\n",
       "    .dataframe tbody tr th {\n",
       "        vertical-align: top;\n",
       "    }\n",
       "\n",
       "    .dataframe thead th {\n",
       "        text-align: right;\n",
       "    }\n",
       "</style>\n",
       "<table border=\"1\" class=\"dataframe\">\n",
       "  <thead>\n",
       "    <tr style=\"text-align: right;\">\n",
       "      <th></th>\n",
       "      <th>GPP Per capita (Baht)</th>\n",
       "      <th>const</th>\n",
       "    </tr>\n",
       "    <tr>\n",
       "      <th>Year</th>\n",
       "      <th></th>\n",
       "      <th></th>\n",
       "    </tr>\n",
       "  </thead>\n",
       "  <tbody>\n",
       "    <tr>\n",
       "      <th>1995.0</th>\n",
       "      <td>42592.536</td>\n",
       "      <td>1.0</td>\n",
       "    </tr>\n",
       "    <tr>\n",
       "      <th>1996.0</th>\n",
       "      <td>50643.659</td>\n",
       "      <td>1.0</td>\n",
       "    </tr>\n",
       "    <tr>\n",
       "      <th>1997.0</th>\n",
       "      <td>49943.407</td>\n",
       "      <td>1.0</td>\n",
       "    </tr>\n",
       "    <tr>\n",
       "      <th>1998.0</th>\n",
       "      <td>48207.329</td>\n",
       "      <td>1.0</td>\n",
       "    </tr>\n",
       "    <tr>\n",
       "      <th>1999.0</th>\n",
       "      <td>44913.880</td>\n",
       "      <td>1.0</td>\n",
       "    </tr>\n",
       "  </tbody>\n",
       "</table>\n",
       "</div>"
      ],
      "text/plain": [
       "        GPP Per capita (Baht)  const\n",
       "Year                                \n",
       "1995.0              42592.536    1.0\n",
       "1996.0              50643.659    1.0\n",
       "1997.0              49943.407    1.0\n",
       "1998.0              48207.329    1.0\n",
       "1999.0              44913.880    1.0"
      ]
     },
     "execution_count": 86,
     "metadata": {},
     "output_type": "execute_result"
    }
   ],
   "source": [
    "X_test_ex4 = test_ex4[['GPP Per capita (Baht)']]\n",
    "X_test_ex4 = sm.add_constant(X_test_ex4, prepend=False)\n",
    "X_test_ex4.head()"
   ]
  },
  {
   "cell_type": "code",
   "execution_count": 87,
   "metadata": {},
   "outputs": [
    {
     "data": {
      "text/plain": [
       "array([20276.51461408, 20298.01997978, 20296.14953571, 20291.51229538,\n",
       "       20282.71515923, 20290.61508578, 20304.07409248, 20325.76497685,\n",
       "       20333.6683144 , 20338.60792608, 20357.98718323, 20358.02752754,\n",
       "       20358.17866914, 20375.01418571, 20391.74338175])"
      ]
     },
     "execution_count": 87,
     "metadata": {},
     "output_type": "execute_result"
    }
   ],
   "source": [
    "predictions = lm.predict(X_test_ex4)\n",
    "predictions  "
   ]
  },
  {
   "cell_type": "markdown",
   "metadata": {},
   "source": [
    "##### เนื้อที่สำหรับปลูกนาข้าว (ไร่)"
   ]
  },
  {
   "cell_type": "code",
   "execution_count": 88,
   "metadata": {},
   "outputs": [
    {
     "data": {
      "text/html": [
       "<div>\n",
       "<style scoped>\n",
       "    .dataframe tbody tr th:only-of-type {\n",
       "        vertical-align: middle;\n",
       "    }\n",
       "\n",
       "    .dataframe tbody tr th {\n",
       "        vertical-align: top;\n",
       "    }\n",
       "\n",
       "    .dataframe thead th {\n",
       "        text-align: right;\n",
       "    }\n",
       "</style>\n",
       "<table border=\"1\" class=\"dataframe\">\n",
       "  <thead>\n",
       "    <tr style=\"text-align: right;\">\n",
       "      <th></th>\n",
       "      <th>เนื้อที่สำหรับปลูกนาข้าว (ไร่)</th>\n",
       "      <th>GPP Per capita (Baht)</th>\n",
       "    </tr>\n",
       "    <tr>\n",
       "      <th>Year</th>\n",
       "      <th></th>\n",
       "      <th></th>\n",
       "    </tr>\n",
       "  </thead>\n",
       "  <tbody>\n",
       "    <tr>\n",
       "      <th>2010.0</th>\n",
       "      <td>825214.0</td>\n",
       "      <td>87969.749</td>\n",
       "    </tr>\n",
       "    <tr>\n",
       "      <th>2011.0</th>\n",
       "      <td>812779.0</td>\n",
       "      <td>96247.730</td>\n",
       "    </tr>\n",
       "    <tr>\n",
       "      <th>2012.0</th>\n",
       "      <td>812975.0</td>\n",
       "      <td>116911.574</td>\n",
       "    </tr>\n",
       "    <tr>\n",
       "      <th>2013.0</th>\n",
       "      <td>812719.0</td>\n",
       "      <td>122285.538</td>\n",
       "    </tr>\n",
       "    <tr>\n",
       "      <th>2014.0</th>\n",
       "      <td>812522.0</td>\n",
       "      <td>125135.992</td>\n",
       "    </tr>\n",
       "    <tr>\n",
       "      <th>2015.0</th>\n",
       "      <td>813100.0</td>\n",
       "      <td>123891.962</td>\n",
       "    </tr>\n",
       "    <tr>\n",
       "      <th>2016.0</th>\n",
       "      <td>812485.0</td>\n",
       "      <td>129404.072</td>\n",
       "    </tr>\n",
       "    <tr>\n",
       "      <th>2017.0</th>\n",
       "      <td>813167.0</td>\n",
       "      <td>142017.180</td>\n",
       "    </tr>\n",
       "    <tr>\n",
       "      <th>2018.0</th>\n",
       "      <td>812834.0</td>\n",
       "      <td>142741.160</td>\n",
       "    </tr>\n",
       "  </tbody>\n",
       "</table>\n",
       "</div>"
      ],
      "text/plain": [
       "        เนื้อที่สำหรับปลูกนาข้าว (ไร่)  GPP Per capita (Baht)\n",
       "Year                                                         \n",
       "2010.0                        825214.0              87969.749\n",
       "2011.0                        812779.0              96247.730\n",
       "2012.0                        812975.0             116911.574\n",
       "2013.0                        812719.0             122285.538\n",
       "2014.0                        812522.0             125135.992\n",
       "2015.0                        813100.0             123891.962\n",
       "2016.0                        812485.0             129404.072\n",
       "2017.0                        813167.0             142017.180\n",
       "2018.0                        812834.0             142741.160"
      ]
     },
     "execution_count": 88,
     "metadata": {},
     "output_type": "execute_result"
    }
   ],
   "source": [
    "ex5 = df1.loc[[i for i in range(2010,2019)],['เนื้อที่สำหรับปลูกนาข้าว (ไร่)','GPP Per capita (Baht)']]\n",
    "ex5"
   ]
  },
  {
   "cell_type": "code",
   "execution_count": 89,
   "metadata": {},
   "outputs": [
    {
     "name": "stderr",
     "output_type": "stream",
     "text": [
      "/Users/pantchanit/opt/anaconda3/lib/python3.9/site-packages/statsmodels/tsa/tsatools.py:142: FutureWarning: In a future version of pandas all arguments of concat except for the argument 'objs' will be keyword-only\n",
      "  x = pd.concat(x[::order], 1)\n"
     ]
    },
    {
     "data": {
      "text/html": [
       "<div>\n",
       "<style scoped>\n",
       "    .dataframe tbody tr th:only-of-type {\n",
       "        vertical-align: middle;\n",
       "    }\n",
       "\n",
       "    .dataframe tbody tr th {\n",
       "        vertical-align: top;\n",
       "    }\n",
       "\n",
       "    .dataframe thead th {\n",
       "        text-align: right;\n",
       "    }\n",
       "</style>\n",
       "<table border=\"1\" class=\"dataframe\">\n",
       "  <thead>\n",
       "    <tr style=\"text-align: right;\">\n",
       "      <th></th>\n",
       "      <th>GPP Per capita (Baht)</th>\n",
       "      <th>const</th>\n",
       "    </tr>\n",
       "    <tr>\n",
       "      <th>Year</th>\n",
       "      <th></th>\n",
       "      <th></th>\n",
       "    </tr>\n",
       "  </thead>\n",
       "  <tbody>\n",
       "    <tr>\n",
       "      <th>2010.0</th>\n",
       "      <td>87969.749</td>\n",
       "      <td>1.0</td>\n",
       "    </tr>\n",
       "    <tr>\n",
       "      <th>2011.0</th>\n",
       "      <td>96247.730</td>\n",
       "      <td>1.0</td>\n",
       "    </tr>\n",
       "    <tr>\n",
       "      <th>2012.0</th>\n",
       "      <td>116911.574</td>\n",
       "      <td>1.0</td>\n",
       "    </tr>\n",
       "    <tr>\n",
       "      <th>2013.0</th>\n",
       "      <td>122285.538</td>\n",
       "      <td>1.0</td>\n",
       "    </tr>\n",
       "    <tr>\n",
       "      <th>2014.0</th>\n",
       "      <td>125135.992</td>\n",
       "      <td>1.0</td>\n",
       "    </tr>\n",
       "  </tbody>\n",
       "</table>\n",
       "</div>"
      ],
      "text/plain": [
       "        GPP Per capita (Baht)  const\n",
       "Year                                \n",
       "2010.0              87969.749    1.0\n",
       "2011.0              96247.730    1.0\n",
       "2012.0             116911.574    1.0\n",
       "2013.0             122285.538    1.0\n",
       "2014.0             125135.992    1.0"
      ]
     },
     "execution_count": 89,
     "metadata": {},
     "output_type": "execute_result"
    }
   ],
   "source": [
    "X = ex5[['GPP Per capita (Baht)']]\n",
    "X = sm.add_constant(X, prepend=False)\n",
    "X.head()"
   ]
  },
  {
   "cell_type": "code",
   "execution_count": 90,
   "metadata": {},
   "outputs": [
    {
     "data": {
      "text/plain": [
       "Year\n",
       "2010.0    825214.0\n",
       "2011.0    812779.0\n",
       "2012.0    812975.0\n",
       "2013.0    812719.0\n",
       "2014.0    812522.0\n",
       "Name: เนื้อที่สำหรับปลูกนาข้าว (ไร่), dtype: float64"
      ]
     },
     "execution_count": 90,
     "metadata": {},
     "output_type": "execute_result"
    }
   ],
   "source": [
    "y = ex5['เนื้อที่สำหรับปลูกนาข้าว (ไร่)']\n",
    "y.head()"
   ]
  },
  {
   "cell_type": "code",
   "execution_count": 91,
   "metadata": {},
   "outputs": [],
   "source": [
    "X_train, X_test, y_train, y_test = train_test_split(X, y, test_size=0.000000000001,random_state=14)"
   ]
  },
  {
   "cell_type": "code",
   "execution_count": 92,
   "metadata": {},
   "outputs": [
    {
     "data": {
      "text/plain": [
       "LinearRegression()"
      ]
     },
     "execution_count": 92,
     "metadata": {},
     "output_type": "execute_result"
    }
   ],
   "source": [
    "lm = LinearRegression()\n",
    "lm.fit(X_train, y_train)"
   ]
  },
  {
   "cell_type": "code",
   "execution_count": 93,
   "metadata": {},
   "outputs": [
    {
     "data": {
      "text/html": [
       "<div>\n",
       "<style scoped>\n",
       "    .dataframe tbody tr th:only-of-type {\n",
       "        vertical-align: middle;\n",
       "    }\n",
       "\n",
       "    .dataframe tbody tr th {\n",
       "        vertical-align: top;\n",
       "    }\n",
       "\n",
       "    .dataframe thead th {\n",
       "        text-align: right;\n",
       "    }\n",
       "</style>\n",
       "<table border=\"1\" class=\"dataframe\">\n",
       "  <thead>\n",
       "    <tr style=\"text-align: right;\">\n",
       "      <th></th>\n",
       "      <th>GPP Per capita (Baht)</th>\n",
       "    </tr>\n",
       "    <tr>\n",
       "      <th>Year</th>\n",
       "      <th></th>\n",
       "    </tr>\n",
       "  </thead>\n",
       "  <tbody>\n",
       "    <tr>\n",
       "      <th>1995.0</th>\n",
       "      <td>42592.536</td>\n",
       "    </tr>\n",
       "    <tr>\n",
       "      <th>1996.0</th>\n",
       "      <td>50643.659</td>\n",
       "    </tr>\n",
       "    <tr>\n",
       "      <th>1997.0</th>\n",
       "      <td>49943.407</td>\n",
       "    </tr>\n",
       "    <tr>\n",
       "      <th>1998.0</th>\n",
       "      <td>48207.329</td>\n",
       "    </tr>\n",
       "    <tr>\n",
       "      <th>1999.0</th>\n",
       "      <td>44913.880</td>\n",
       "    </tr>\n",
       "    <tr>\n",
       "      <th>2000.0</th>\n",
       "      <td>47871.434</td>\n",
       "    </tr>\n",
       "    <tr>\n",
       "      <th>2001.0</th>\n",
       "      <td>52910.182</td>\n",
       "    </tr>\n",
       "    <tr>\n",
       "      <th>2002.0</th>\n",
       "      <td>61030.759</td>\n",
       "    </tr>\n",
       "    <tr>\n",
       "      <th>2003.0</th>\n",
       "      <td>63989.590</td>\n",
       "    </tr>\n",
       "    <tr>\n",
       "      <th>2004.0</th>\n",
       "      <td>65838.869</td>\n",
       "    </tr>\n",
       "    <tr>\n",
       "      <th>2005.0</th>\n",
       "      <td>73094.025</td>\n",
       "    </tr>\n",
       "    <tr>\n",
       "      <th>2006.0</th>\n",
       "      <td>73109.129</td>\n",
       "    </tr>\n",
       "    <tr>\n",
       "      <th>2007.0</th>\n",
       "      <td>73165.713</td>\n",
       "    </tr>\n",
       "    <tr>\n",
       "      <th>2008.0</th>\n",
       "      <td>79468.550</td>\n",
       "    </tr>\n",
       "    <tr>\n",
       "      <th>2009.0</th>\n",
       "      <td>85731.583</td>\n",
       "    </tr>\n",
       "  </tbody>\n",
       "</table>\n",
       "</div>"
      ],
      "text/plain": [
       "        GPP Per capita (Baht)\n",
       "Year                         \n",
       "1995.0              42592.536\n",
       "1996.0              50643.659\n",
       "1997.0              49943.407\n",
       "1998.0              48207.329\n",
       "1999.0              44913.880\n",
       "2000.0              47871.434\n",
       "2001.0              52910.182\n",
       "2002.0              61030.759\n",
       "2003.0              63989.590\n",
       "2004.0              65838.869\n",
       "2005.0              73094.025\n",
       "2006.0              73109.129\n",
       "2007.0              73165.713\n",
       "2008.0              79468.550\n",
       "2009.0              85731.583"
      ]
     },
     "execution_count": 93,
     "metadata": {},
     "output_type": "execute_result"
    }
   ],
   "source": [
    "test_ex5 = df1.loc[[i for i in range(1995,2010)],['GPP Per capita (Baht)']]\n",
    "test_ex5"
   ]
  },
  {
   "cell_type": "code",
   "execution_count": 94,
   "metadata": {},
   "outputs": [
    {
     "name": "stderr",
     "output_type": "stream",
     "text": [
      "/Users/pantchanit/opt/anaconda3/lib/python3.9/site-packages/statsmodels/tsa/tsatools.py:142: FutureWarning: In a future version of pandas all arguments of concat except for the argument 'objs' will be keyword-only\n",
      "  x = pd.concat(x[::order], 1)\n"
     ]
    },
    {
     "data": {
      "text/html": [
       "<div>\n",
       "<style scoped>\n",
       "    .dataframe tbody tr th:only-of-type {\n",
       "        vertical-align: middle;\n",
       "    }\n",
       "\n",
       "    .dataframe tbody tr th {\n",
       "        vertical-align: top;\n",
       "    }\n",
       "\n",
       "    .dataframe thead th {\n",
       "        text-align: right;\n",
       "    }\n",
       "</style>\n",
       "<table border=\"1\" class=\"dataframe\">\n",
       "  <thead>\n",
       "    <tr style=\"text-align: right;\">\n",
       "      <th></th>\n",
       "      <th>GPP Per capita (Baht)</th>\n",
       "      <th>const</th>\n",
       "    </tr>\n",
       "    <tr>\n",
       "      <th>Year</th>\n",
       "      <th></th>\n",
       "      <th></th>\n",
       "    </tr>\n",
       "  </thead>\n",
       "  <tbody>\n",
       "    <tr>\n",
       "      <th>1995.0</th>\n",
       "      <td>42592.536</td>\n",
       "      <td>1.0</td>\n",
       "    </tr>\n",
       "    <tr>\n",
       "      <th>1996.0</th>\n",
       "      <td>50643.659</td>\n",
       "      <td>1.0</td>\n",
       "    </tr>\n",
       "    <tr>\n",
       "      <th>1997.0</th>\n",
       "      <td>49943.407</td>\n",
       "      <td>1.0</td>\n",
       "    </tr>\n",
       "    <tr>\n",
       "      <th>1998.0</th>\n",
       "      <td>48207.329</td>\n",
       "      <td>1.0</td>\n",
       "    </tr>\n",
       "    <tr>\n",
       "      <th>1999.0</th>\n",
       "      <td>44913.880</td>\n",
       "      <td>1.0</td>\n",
       "    </tr>\n",
       "  </tbody>\n",
       "</table>\n",
       "</div>"
      ],
      "text/plain": [
       "        GPP Per capita (Baht)  const\n",
       "Year                                \n",
       "1995.0              42592.536    1.0\n",
       "1996.0              50643.659    1.0\n",
       "1997.0              49943.407    1.0\n",
       "1998.0              48207.329    1.0\n",
       "1999.0              44913.880    1.0"
      ]
     },
     "execution_count": 94,
     "metadata": {},
     "output_type": "execute_result"
    }
   ],
   "source": [
    "X_test_ex5 = test_ex5[['GPP Per capita (Baht)']]\n",
    "X_test_ex5 = sm.add_constant(X_test_ex5, prepend=False)\n",
    "X_test_ex5.head()"
   ]
  },
  {
   "cell_type": "code",
   "execution_count": 95,
   "metadata": {},
   "outputs": [
    {
     "data": {
      "text/plain": [
       "array([825697.50851189, 824521.04714331, 824623.37068578, 824877.0531472 ,\n",
       "       825358.30470899, 824926.13542944, 824189.85399789, 823003.24374102,\n",
       "       822570.88786127, 822300.66402999, 821240.5124515 , 821238.30539635,\n",
       "       821230.03712246, 820309.04209568, 819393.86338401])"
      ]
     },
     "execution_count": 95,
     "metadata": {},
     "output_type": "execute_result"
    }
   ],
   "source": [
    "predictions = lm.predict(X_test_ex5)\n",
    "predictions  "
   ]
  },
  {
   "cell_type": "markdown",
   "metadata": {},
   "source": [
    "## Find data by Interpolation"
   ]
  },
  {
   "cell_type": "code",
   "execution_count": 96,
   "metadata": {},
   "outputs": [
    {
     "data": {
      "text/plain": [
       "Year\n",
       "1995.0        NaN\n",
       "1996.0    0.11918\n",
       "1997.0    0.10214\n",
       "1998.0        NaN\n",
       "1999.0    0.24836\n",
       "2000.0    0.24471\n",
       "2001.0    0.25231\n",
       "2002.0    0.23055\n",
       "2003.0    0.24534\n",
       "2004.0    0.23828\n",
       "2005.0    0.21889\n",
       "2006.0    0.23271\n",
       "2007.0    0.20080\n",
       "2008.0    0.20331\n",
       "2009.0    0.23455\n",
       "2010.0        NaN\n",
       "2011.0    0.36146\n",
       "2012.0        NaN\n",
       "2013.0    0.44164\n",
       "2014.0    0.47988\n",
       "2015.0    0.61609\n",
       "2016.0    0.77817\n",
       "2017.0    1.00179\n",
       "2018.0        NaN\n",
       "NaN           NaN\n",
       "NaN           NaN\n",
       "NaN           NaN\n",
       "NaN           NaN\n",
       "NaN           NaN\n",
       "Name: ค่าใช้จ่ายในการวิจัยและพัฒนา (คิดเป็น % ของจีดีพี), dtype: float64"
      ]
     },
     "execution_count": 96,
     "metadata": {},
     "output_type": "execute_result"
    }
   ],
   "source": [
    "ex6 = df1['ค่าใช้จ่ายในการวิจัยและพัฒนา (คิดเป็น % ของจีดีพี)']\n",
    "ex6"
   ]
  },
  {
   "cell_type": "code",
   "execution_count": 97,
   "metadata": {},
   "outputs": [
    {
     "data": {
      "text/plain": [
       "Year\n",
       "1995.0         NaN\n",
       "1996.0    0.119180\n",
       "1997.0    0.102140\n",
       "1998.0    0.175250\n",
       "1999.0    0.248360\n",
       "2000.0    0.244710\n",
       "2001.0    0.252310\n",
       "2002.0    0.230550\n",
       "2003.0    0.245340\n",
       "2004.0    0.238280\n",
       "2005.0    0.218890\n",
       "2006.0    0.232710\n",
       "2007.0    0.200800\n",
       "2008.0    0.203310\n",
       "2009.0    0.234550\n",
       "2010.0    0.298005\n",
       "2011.0    0.361460\n",
       "2012.0    0.401550\n",
       "2013.0    0.441640\n",
       "2014.0    0.479880\n",
       "2015.0    0.616090\n",
       "2016.0    0.778170\n",
       "2017.0    1.001790\n",
       "2018.0    1.001790\n",
       "NaN       1.001790\n",
       "NaN       1.001790\n",
       "NaN       1.001790\n",
       "NaN       1.001790\n",
       "NaN       1.001790\n",
       "Name: ค่าใช้จ่ายในการวิจัยและพัฒนา (คิดเป็น % ของจีดีพี), dtype: float64"
      ]
     },
     "execution_count": 97,
     "metadata": {},
     "output_type": "execute_result"
    }
   ],
   "source": [
    "ex6.interpolate(method='linear', limit_direction='forward', axis=0)"
   ]
  },
  {
   "cell_type": "code",
   "execution_count": 98,
   "metadata": {},
   "outputs": [
    {
     "data": {
      "text/plain": [
       "Year\n",
       "1995.0    0.119180\n",
       "1996.0    0.119180\n",
       "1997.0    0.102140\n",
       "1998.0    0.175250\n",
       "1999.0    0.248360\n",
       "2000.0    0.244710\n",
       "2001.0    0.252310\n",
       "2002.0    0.230550\n",
       "2003.0    0.245340\n",
       "2004.0    0.238280\n",
       "2005.0    0.218890\n",
       "2006.0    0.232710\n",
       "2007.0    0.200800\n",
       "2008.0    0.203310\n",
       "2009.0    0.234550\n",
       "2010.0    0.298005\n",
       "2011.0    0.361460\n",
       "2012.0    0.401550\n",
       "2013.0    0.441640\n",
       "2014.0    0.479880\n",
       "2015.0    0.616090\n",
       "2016.0    0.778170\n",
       "2017.0    1.001790\n",
       "2018.0         NaN\n",
       "NaN            NaN\n",
       "NaN            NaN\n",
       "NaN            NaN\n",
       "NaN            NaN\n",
       "NaN            NaN\n",
       "Name: ค่าใช้จ่ายในการวิจัยและพัฒนา (คิดเป็น % ของจีดีพี), dtype: float64"
      ]
     },
     "execution_count": 98,
     "metadata": {},
     "output_type": "execute_result"
    }
   ],
   "source": [
    "ex6.interpolate(method='linear', limit_direction='backward', axis=0)"
   ]
  }
 ],
 "metadata": {
  "interpreter": {
   "hash": "a55ab719c9bfc05de0d3a1d1915f1d68fd6eba03203b10440bfba1b28ddfa129"
  },
  "kernelspec": {
   "display_name": "Python 3.9.7 ('base')",
   "language": "python",
   "name": "python3"
  },
  "language_info": {
   "codemirror_mode": {
    "name": "ipython",
    "version": 3
   },
   "file_extension": ".py",
   "mimetype": "text/x-python",
   "name": "python",
   "nbconvert_exporter": "python",
   "pygments_lexer": "ipython3",
   "version": "3.9.7"
  },
  "orig_nbformat": 4
 },
 "nbformat": 4,
 "nbformat_minor": 2
}
