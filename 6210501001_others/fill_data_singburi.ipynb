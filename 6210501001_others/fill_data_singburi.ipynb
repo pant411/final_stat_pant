{
 "cells": [
  {
   "cell_type": "code",
   "execution_count": 50,
   "metadata": {},
   "outputs": [],
   "source": [
    "#! -*- coding: UTF8 -*-\n",
    "import os\n",
    "os.chdir(os.getcwd())"
   ]
  },
  {
   "cell_type": "markdown",
   "metadata": {},
   "source": [
    "## Import Module"
   ]
  },
  {
   "cell_type": "code",
   "execution_count": 51,
   "metadata": {},
   "outputs": [],
   "source": [
    "import pandas as pd\n",
    "import numpy as np\n",
    "import matplotlib.pyplot as plt\n",
    "import seaborn as sns\n",
    "%matplotlib inline"
   ]
  },
  {
   "cell_type": "code",
   "execution_count": 52,
   "metadata": {},
   "outputs": [],
   "source": [
    "from sklearn.model_selection import train_test_split\n",
    "from sklearn.linear_model import LinearRegression\n",
    "from sklearn import metrics"
   ]
  },
  {
   "cell_type": "markdown",
   "metadata": {},
   "source": [
    "## Import Data "
   ]
  },
  {
   "cell_type": "code",
   "execution_count": 53,
   "metadata": {},
   "outputs": [
    {
     "data": {
      "text/html": [
       "<div>\n",
       "<style scoped>\n",
       "    .dataframe tbody tr th:only-of-type {\n",
       "        vertical-align: middle;\n",
       "    }\n",
       "\n",
       "    .dataframe tbody tr th {\n",
       "        vertical-align: top;\n",
       "    }\n",
       "\n",
       "    .dataframe thead th {\n",
       "        text-align: right;\n",
       "    }\n",
       "</style>\n",
       "<table border=\"1\" class=\"dataframe\">\n",
       "  <thead>\n",
       "    <tr style=\"text-align: right;\">\n",
       "      <th></th>\n",
       "      <th>Agriculture, forestry and fishing</th>\n",
       "      <th>Mining and quarrying</th>\n",
       "      <th>Manufacturing</th>\n",
       "      <th>Electricity, gas, steam and air conditioning supply</th>\n",
       "      <th>Water supply; sewerage, waste management and remediation activities</th>\n",
       "      <th>Construction</th>\n",
       "      <th>Wholesale and retail trade and repair of motor vehicles</th>\n",
       "      <th>Transportation and storage</th>\n",
       "      <th>Accommodation and food service activities</th>\n",
       "      <th>Information and communication</th>\n",
       "      <th>...</th>\n",
       "      <th>การนำเข้าสินค้าและบริการ (คิดเป็น % ของจีดีพี)</th>\n",
       "      <th>มูลค่าเพิ่มของอุตสาหกรรม (คิดเป็น % ของจีดีพี)</th>\n",
       "      <th>จำนวนประชากรทั้งหมด (คน)</th>\n",
       "      <th>ค่าใช้จ่ายในการวิจัยและพัฒนา (คิดเป็น % ของจีดีพี)</th>\n",
       "      <th>รายจ่ายของประชากรในจังหวัดสิงห์บุรี (บาท)</th>\n",
       "      <th>เนื้อที่ที่ถือครองเพื่อการเกษตร (ไร่)</th>\n",
       "      <th>เนื้อที่สวนผักและไม้ดอก (ไร่)</th>\n",
       "      <th>เนื้อที่สำหรับปลูกนาข้าว (ไร่)</th>\n",
       "      <th>จำนวนโรงงานอุตสาหกรรม (โรงงาน)</th>\n",
       "      <th>GPP Per capita (Baht)</th>\n",
       "    </tr>\n",
       "    <tr>\n",
       "      <th>Year</th>\n",
       "      <th></th>\n",
       "      <th></th>\n",
       "      <th></th>\n",
       "      <th></th>\n",
       "      <th></th>\n",
       "      <th></th>\n",
       "      <th></th>\n",
       "      <th></th>\n",
       "      <th></th>\n",
       "      <th></th>\n",
       "      <th></th>\n",
       "      <th></th>\n",
       "      <th></th>\n",
       "      <th></th>\n",
       "      <th></th>\n",
       "      <th></th>\n",
       "      <th></th>\n",
       "      <th></th>\n",
       "      <th></th>\n",
       "      <th></th>\n",
       "      <th></th>\n",
       "    </tr>\n",
       "  </thead>\n",
       "  <tbody>\n",
       "    <tr>\n",
       "      <th>1995</th>\n",
       "      <td>1517.167364</td>\n",
       "      <td>42.410974</td>\n",
       "      <td>2247.735336</td>\n",
       "      <td>251.360573</td>\n",
       "      <td>20.751178</td>\n",
       "      <td>540.088489</td>\n",
       "      <td>1553.350483</td>\n",
       "      <td>662.278852</td>\n",
       "      <td>43.742963</td>\n",
       "      <td>80.752569</td>\n",
       "      <td>...</td>\n",
       "      <td>48.223830</td>\n",
       "      <td>37.278020</td>\n",
       "      <td>59467272</td>\n",
       "      <td>NaN</td>\n",
       "      <td>NaN</td>\n",
       "      <td>NaN</td>\n",
       "      <td>NaN</td>\n",
       "      <td>NaN</td>\n",
       "      <td>NaN</td>\n",
       "      <td>143862.554</td>\n",
       "    </tr>\n",
       "    <tr>\n",
       "      <th>1996</th>\n",
       "      <td>2151.732729</td>\n",
       "      <td>39.837997</td>\n",
       "      <td>2525.526291</td>\n",
       "      <td>268.322033</td>\n",
       "      <td>21.818723</td>\n",
       "      <td>412.596415</td>\n",
       "      <td>1778.579003</td>\n",
       "      <td>737.967580</td>\n",
       "      <td>37.939543</td>\n",
       "      <td>90.268175</td>\n",
       "      <td>...</td>\n",
       "      <td>45.255728</td>\n",
       "      <td>37.081286</td>\n",
       "      <td>60130190</td>\n",
       "      <td>0.11918</td>\n",
       "      <td>NaN</td>\n",
       "      <td>NaN</td>\n",
       "      <td>NaN</td>\n",
       "      <td>NaN</td>\n",
       "      <td>NaN</td>\n",
       "      <td>171503.917</td>\n",
       "    </tr>\n",
       "    <tr>\n",
       "      <th>1997</th>\n",
       "      <td>2438.909192</td>\n",
       "      <td>28.967616</td>\n",
       "      <td>2434.777758</td>\n",
       "      <td>282.656660</td>\n",
       "      <td>23.104803</td>\n",
       "      <td>399.625836</td>\n",
       "      <td>1934.577471</td>\n",
       "      <td>790.819202</td>\n",
       "      <td>44.211324</td>\n",
       "      <td>89.376423</td>\n",
       "      <td>...</td>\n",
       "      <td>46.814732</td>\n",
       "      <td>36.564600</td>\n",
       "      <td>60846588</td>\n",
       "      <td>0.10214</td>\n",
       "      <td>NaN</td>\n",
       "      <td>NaN</td>\n",
       "      <td>NaN</td>\n",
       "      <td>NaN</td>\n",
       "      <td>NaN</td>\n",
       "      <td>179223.451</td>\n",
       "    </tr>\n",
       "    <tr>\n",
       "      <th>1998</th>\n",
       "      <td>2872.227679</td>\n",
       "      <td>23.722862</td>\n",
       "      <td>2635.233786</td>\n",
       "      <td>362.892721</td>\n",
       "      <td>23.570355</td>\n",
       "      <td>241.360017</td>\n",
       "      <td>1787.959114</td>\n",
       "      <td>724.545611</td>\n",
       "      <td>45.740985</td>\n",
       "      <td>87.423898</td>\n",
       "      <td>...</td>\n",
       "      <td>42.303171</td>\n",
       "      <td>36.111727</td>\n",
       "      <td>61585103</td>\n",
       "      <td>NaN</td>\n",
       "      <td>NaN</td>\n",
       "      <td>NaN</td>\n",
       "      <td>NaN</td>\n",
       "      <td>NaN</td>\n",
       "      <td>NaN</td>\n",
       "      <td>180611.806</td>\n",
       "    </tr>\n",
       "    <tr>\n",
       "      <th>1999</th>\n",
       "      <td>1738.973389</td>\n",
       "      <td>18.169377</td>\n",
       "      <td>2775.669860</td>\n",
       "      <td>310.675285</td>\n",
       "      <td>26.850346</td>\n",
       "      <td>240.759815</td>\n",
       "      <td>1607.285461</td>\n",
       "      <td>736.278279</td>\n",
       "      <td>63.183246</td>\n",
       "      <td>98.627151</td>\n",
       "      <td>...</td>\n",
       "      <td>44.267746</td>\n",
       "      <td>36.378900</td>\n",
       "      <td>62298569</td>\n",
       "      <td>0.24836</td>\n",
       "      <td>NaN</td>\n",
       "      <td>NaN</td>\n",
       "      <td>NaN</td>\n",
       "      <td>NaN</td>\n",
       "      <td>NaN</td>\n",
       "      <td>189856.706</td>\n",
       "    </tr>\n",
       "  </tbody>\n",
       "</table>\n",
       "<p>5 rows × 31 columns</p>\n",
       "</div>"
      ],
      "text/plain": [
       "      Agriculture, forestry and fishing  Mining and quarrying  Manufacturing  \\\n",
       "Year                                                                           \n",
       "1995                        1517.167364             42.410974    2247.735336   \n",
       "1996                        2151.732729             39.837997    2525.526291   \n",
       "1997                        2438.909192             28.967616    2434.777758   \n",
       "1998                        2872.227679             23.722862    2635.233786   \n",
       "1999                        1738.973389             18.169377    2775.669860   \n",
       "\n",
       "      Electricity, gas, steam and air conditioning supply  \\\n",
       "Year                                                        \n",
       "1995                                         251.360573     \n",
       "1996                                         268.322033     \n",
       "1997                                         282.656660     \n",
       "1998                                         362.892721     \n",
       "1999                                         310.675285     \n",
       "\n",
       "      Water supply; sewerage, waste management and remediation activities  \\\n",
       "Year                                                                        \n",
       "1995                                          20.751178                     \n",
       "1996                                          21.818723                     \n",
       "1997                                          23.104803                     \n",
       "1998                                          23.570355                     \n",
       "1999                                          26.850346                     \n",
       "\n",
       "      Construction  Wholesale and retail trade and repair of motor vehicles  \\\n",
       "Year                                                                          \n",
       "1995    540.088489                                        1553.350483         \n",
       "1996    412.596415                                        1778.579003         \n",
       "1997    399.625836                                        1934.577471         \n",
       "1998    241.360017                                        1787.959114         \n",
       "1999    240.759815                                        1607.285461         \n",
       "\n",
       "      Transportation and storage  Accommodation and food service activities  \\\n",
       "Year                                                                          \n",
       "1995                  662.278852                                  43.742963   \n",
       "1996                  737.967580                                  37.939543   \n",
       "1997                  790.819202                                  44.211324   \n",
       "1998                  724.545611                                  45.740985   \n",
       "1999                  736.278279                                  63.183246   \n",
       "\n",
       "      Information and communication  ...  \\\n",
       "Year                                 ...   \n",
       "1995                      80.752569  ...   \n",
       "1996                      90.268175  ...   \n",
       "1997                      89.376423  ...   \n",
       "1998                      87.423898  ...   \n",
       "1999                      98.627151  ...   \n",
       "\n",
       "      การนำเข้าสินค้าและบริการ (คิดเป็น % ของจีดีพี)  \\\n",
       "Year                                                   \n",
       "1995                                       48.223830   \n",
       "1996                                       45.255728   \n",
       "1997                                       46.814732   \n",
       "1998                                       42.303171   \n",
       "1999                                       44.267746   \n",
       "\n",
       "      มูลค่าเพิ่มของอุตสาหกรรม (คิดเป็น % ของจีดีพี)  \\\n",
       "Year                                                   \n",
       "1995                                       37.278020   \n",
       "1996                                       37.081286   \n",
       "1997                                       36.564600   \n",
       "1998                                       36.111727   \n",
       "1999                                       36.378900   \n",
       "\n",
       "      จำนวนประชากรทั้งหมด (คน)  \\\n",
       "Year                             \n",
       "1995                  59467272   \n",
       "1996                  60130190   \n",
       "1997                  60846588   \n",
       "1998                  61585103   \n",
       "1999                  62298569   \n",
       "\n",
       "      ค่าใช้จ่ายในการวิจัยและพัฒนา (คิดเป็น % ของจีดีพี)  \\\n",
       "Year                                                       \n",
       "1995                                                NaN    \n",
       "1996                                            0.11918    \n",
       "1997                                            0.10214    \n",
       "1998                                                NaN    \n",
       "1999                                            0.24836    \n",
       "\n",
       "      รายจ่ายของประชากรในจังหวัดสิงห์บุรี (บาท)  \\\n",
       "Year                                              \n",
       "1995                                        NaN   \n",
       "1996                                        NaN   \n",
       "1997                                        NaN   \n",
       "1998                                        NaN   \n",
       "1999                                        NaN   \n",
       "\n",
       "      เนื้อที่ที่ถือครองเพื่อการเกษตร (ไร่)  เนื้อที่สวนผักและไม้ดอก (ไร่)  \\\n",
       "Year                                                                         \n",
       "1995                                    NaN                            NaN   \n",
       "1996                                    NaN                            NaN   \n",
       "1997                                    NaN                            NaN   \n",
       "1998                                    NaN                            NaN   \n",
       "1999                                    NaN                            NaN   \n",
       "\n",
       "      เนื้อที่สำหรับปลูกนาข้าว (ไร่)  จำนวนโรงงานอุตสาหกรรม (โรงงาน)  \\\n",
       "Year                                                                   \n",
       "1995                             NaN                             NaN   \n",
       "1996                             NaN                             NaN   \n",
       "1997                             NaN                             NaN   \n",
       "1998                             NaN                             NaN   \n",
       "1999                             NaN                             NaN   \n",
       "\n",
       "      GPP Per capita (Baht)  \n",
       "Year                         \n",
       "1995             143862.554  \n",
       "1996             171503.917  \n",
       "1997             179223.451  \n",
       "1998             180611.806  \n",
       "1999             189856.706  \n",
       "\n",
       "[5 rows x 31 columns]"
      ]
     },
     "execution_count": 53,
     "metadata": {},
     "output_type": "execute_result"
    }
   ],
   "source": [
    "df1 = pd.read_excel('process_data/GPP_6210501001.xlsx',sheet_name=\"SingBuri\",index_col=\"Year\") #ตัวอย่าง\n",
    "df1.head()"
   ]
  },
  {
   "cell_type": "code",
   "execution_count": 54,
   "metadata": {},
   "outputs": [
    {
     "data": {
      "text/plain": [
       "Index(['Agriculture, forestry and fishing', 'Mining and quarrying',\n",
       "       'Manufacturing', 'Electricity, gas, steam and air conditioning supply',\n",
       "       'Water supply; sewerage, waste management and remediation activities',\n",
       "       'Construction',\n",
       "       'Wholesale and retail trade and repair of motor vehicles',\n",
       "       'Transportation and storage',\n",
       "       'Accommodation and food service activities',\n",
       "       'Information and communication', 'Financial and insurance activities',\n",
       "       'Real estate activities',\n",
       "       'Professional, scientific and technical activities',\n",
       "       'Administrative and support service activities',\n",
       "       'Public administration and defence; compulsory social security',\n",
       "       'Education', 'Human health activities',\n",
       "       'Arts, entertainment and recreation', 'Other service activities',\n",
       "       'การค้าสินค้า (คิดเป็น % ของจีดีพี)',\n",
       "       'มูลค่าเพิ่มของการเกษตร (คิดเป็น % ของจีดีพี)',\n",
       "       'การนำเข้าสินค้าและบริการ (คิดเป็น % ของจีดีพี)',\n",
       "       'มูลค่าเพิ่มของอุตสาหกรรม (คิดเป็น % ของจีดีพี)',\n",
       "       'จำนวนประชากรทั้งหมด (คน)',\n",
       "       'ค่าใช้จ่ายในการวิจัยและพัฒนา (คิดเป็น % ของจีดีพี)',\n",
       "       'รายจ่ายของประชากรในจังหวัดสิงห์บุรี (บาท)',\n",
       "       'เนื้อที่ที่ถือครองเพื่อการเกษตร (ไร่)',\n",
       "       'เนื้อที่สวนผักและไม้ดอก (ไร่)', 'เนื้อที่สำหรับปลูกนาข้าว (ไร่)',\n",
       "       'จำนวนโรงงานอุตสาหกรรม (โรงงาน)', 'GPP Per capita (Baht)'],\n",
       "      dtype='object')"
      ]
     },
     "execution_count": 54,
     "metadata": {},
     "output_type": "execute_result"
    }
   ],
   "source": [
    "df1.keys()"
   ]
  },
  {
   "cell_type": "markdown",
   "metadata": {},
   "source": [
    "## Find data by Regression"
   ]
  },
  {
   "cell_type": "markdown",
   "metadata": {},
   "source": [
    "##### รายจ่ายของประชากรในจังหวัดสิงห์บุรี (บาท)"
   ]
  },
  {
   "cell_type": "code",
   "execution_count": 55,
   "metadata": {},
   "outputs": [
    {
     "data": {
      "text/html": [
       "<div>\n",
       "<style scoped>\n",
       "    .dataframe tbody tr th:only-of-type {\n",
       "        vertical-align: middle;\n",
       "    }\n",
       "\n",
       "    .dataframe tbody tr th {\n",
       "        vertical-align: top;\n",
       "    }\n",
       "\n",
       "    .dataframe thead th {\n",
       "        text-align: right;\n",
       "    }\n",
       "</style>\n",
       "<table border=\"1\" class=\"dataframe\">\n",
       "  <thead>\n",
       "    <tr style=\"text-align: right;\">\n",
       "      <th></th>\n",
       "      <th>รายจ่ายของประชากรในจังหวัดสิงห์บุรี (บาท)</th>\n",
       "      <th>GPP Per capita (Baht)</th>\n",
       "    </tr>\n",
       "    <tr>\n",
       "      <th>Year</th>\n",
       "      <th></th>\n",
       "      <th></th>\n",
       "    </tr>\n",
       "  </thead>\n",
       "  <tbody>\n",
       "    <tr>\n",
       "      <th>2006</th>\n",
       "      <td>16209.00</td>\n",
       "      <td>298954.253</td>\n",
       "    </tr>\n",
       "    <tr>\n",
       "      <th>2007</th>\n",
       "      <td>14988.00</td>\n",
       "      <td>339993.396</td>\n",
       "    </tr>\n",
       "    <tr>\n",
       "      <th>2008</th>\n",
       "      <td>13792.00</td>\n",
       "      <td>438555.445</td>\n",
       "    </tr>\n",
       "    <tr>\n",
       "      <th>2009</th>\n",
       "      <td>17787.00</td>\n",
       "      <td>379657.777</td>\n",
       "    </tr>\n",
       "    <tr>\n",
       "      <th>2010</th>\n",
       "      <td>15643.00</td>\n",
       "      <td>427733.436</td>\n",
       "    </tr>\n",
       "    <tr>\n",
       "      <th>2011</th>\n",
       "      <td>19207.10</td>\n",
       "      <td>365800.945</td>\n",
       "    </tr>\n",
       "    <tr>\n",
       "      <th>2012</th>\n",
       "      <td>23474.62</td>\n",
       "      <td>378620.537</td>\n",
       "    </tr>\n",
       "    <tr>\n",
       "      <th>2013</th>\n",
       "      <td>22118.20</td>\n",
       "      <td>461789.496</td>\n",
       "    </tr>\n",
       "    <tr>\n",
       "      <th>2014</th>\n",
       "      <td>19631.55</td>\n",
       "      <td>417614.341</td>\n",
       "    </tr>\n",
       "    <tr>\n",
       "      <th>2015</th>\n",
       "      <td>22136.80</td>\n",
       "      <td>468325.834</td>\n",
       "    </tr>\n",
       "    <tr>\n",
       "      <th>2016</th>\n",
       "      <td>19381.46</td>\n",
       "      <td>444803.565</td>\n",
       "    </tr>\n",
       "    <tr>\n",
       "      <th>2017</th>\n",
       "      <td>20262.78</td>\n",
       "      <td>449602.967</td>\n",
       "    </tr>\n",
       "    <tr>\n",
       "      <th>2018</th>\n",
       "      <td>19773.04</td>\n",
       "      <td>454952.541</td>\n",
       "    </tr>\n",
       "  </tbody>\n",
       "</table>\n",
       "</div>"
      ],
      "text/plain": [
       "      รายจ่ายของประชากรในจังหวัดสิงห์บุรี (บาท)  GPP Per capita (Baht)\n",
       "Year                                                                  \n",
       "2006                                   16209.00             298954.253\n",
       "2007                                   14988.00             339993.396\n",
       "2008                                   13792.00             438555.445\n",
       "2009                                   17787.00             379657.777\n",
       "2010                                   15643.00             427733.436\n",
       "2011                                   19207.10             365800.945\n",
       "2012                                   23474.62             378620.537\n",
       "2013                                   22118.20             461789.496\n",
       "2014                                   19631.55             417614.341\n",
       "2015                                   22136.80             468325.834\n",
       "2016                                   19381.46             444803.565\n",
       "2017                                   20262.78             449602.967\n",
       "2018                                   19773.04             454952.541"
      ]
     },
     "execution_count": 55,
     "metadata": {},
     "output_type": "execute_result"
    }
   ],
   "source": [
    "ex1 = df1.loc[[i for i in range(2006,2019)],['รายจ่ายของประชากรในจังหวัดสิงห์บุรี (บาท)','GPP Per capita (Baht)']]\n",
    "ex1"
   ]
  },
  {
   "cell_type": "code",
   "execution_count": 56,
   "metadata": {},
   "outputs": [
    {
     "name": "stderr",
     "output_type": "stream",
     "text": [
      "/Users/pantchanit/opt/anaconda3/lib/python3.9/site-packages/statsmodels/tsa/tsatools.py:142: FutureWarning: In a future version of pandas all arguments of concat except for the argument 'objs' will be keyword-only\n",
      "  x = pd.concat(x[::order], 1)\n"
     ]
    },
    {
     "data": {
      "text/html": [
       "<div>\n",
       "<style scoped>\n",
       "    .dataframe tbody tr th:only-of-type {\n",
       "        vertical-align: middle;\n",
       "    }\n",
       "\n",
       "    .dataframe tbody tr th {\n",
       "        vertical-align: top;\n",
       "    }\n",
       "\n",
       "    .dataframe thead th {\n",
       "        text-align: right;\n",
       "    }\n",
       "</style>\n",
       "<table border=\"1\" class=\"dataframe\">\n",
       "  <thead>\n",
       "    <tr style=\"text-align: right;\">\n",
       "      <th></th>\n",
       "      <th>GPP Per capita (Baht)</th>\n",
       "      <th>const</th>\n",
       "    </tr>\n",
       "    <tr>\n",
       "      <th>Year</th>\n",
       "      <th></th>\n",
       "      <th></th>\n",
       "    </tr>\n",
       "  </thead>\n",
       "  <tbody>\n",
       "    <tr>\n",
       "      <th>2006</th>\n",
       "      <td>298954.253</td>\n",
       "      <td>1.0</td>\n",
       "    </tr>\n",
       "    <tr>\n",
       "      <th>2007</th>\n",
       "      <td>339993.396</td>\n",
       "      <td>1.0</td>\n",
       "    </tr>\n",
       "    <tr>\n",
       "      <th>2008</th>\n",
       "      <td>438555.445</td>\n",
       "      <td>1.0</td>\n",
       "    </tr>\n",
       "    <tr>\n",
       "      <th>2009</th>\n",
       "      <td>379657.777</td>\n",
       "      <td>1.0</td>\n",
       "    </tr>\n",
       "    <tr>\n",
       "      <th>2010</th>\n",
       "      <td>427733.436</td>\n",
       "      <td>1.0</td>\n",
       "    </tr>\n",
       "  </tbody>\n",
       "</table>\n",
       "</div>"
      ],
      "text/plain": [
       "      GPP Per capita (Baht)  const\n",
       "Year                              \n",
       "2006             298954.253    1.0\n",
       "2007             339993.396    1.0\n",
       "2008             438555.445    1.0\n",
       "2009             379657.777    1.0\n",
       "2010             427733.436    1.0"
      ]
     },
     "execution_count": 56,
     "metadata": {},
     "output_type": "execute_result"
    }
   ],
   "source": [
    "import statsmodels.api as sm\n",
    "X = ex1[['GPP Per capita (Baht)']]\n",
    "X = sm.add_constant(X, prepend=False)\n",
    "X.head()"
   ]
  },
  {
   "cell_type": "code",
   "execution_count": 57,
   "metadata": {},
   "outputs": [
    {
     "data": {
      "text/plain": [
       "Year\n",
       "2006    16209.0\n",
       "2007    14988.0\n",
       "2008    13792.0\n",
       "2009    17787.0\n",
       "2010    15643.0\n",
       "Name: รายจ่ายของประชากรในจังหวัดสิงห์บุรี (บาท), dtype: float64"
      ]
     },
     "execution_count": 57,
     "metadata": {},
     "output_type": "execute_result"
    }
   ],
   "source": [
    "y = ex1['รายจ่ายของประชากรในจังหวัดสิงห์บุรี (บาท)']\n",
    "y.head()"
   ]
  },
  {
   "cell_type": "code",
   "execution_count": 58,
   "metadata": {},
   "outputs": [],
   "source": [
    "X_train, X_test, y_train, y_test = train_test_split(X, y, test_size=0.05,random_state=14)  "
   ]
  },
  {
   "cell_type": "code",
   "execution_count": 59,
   "metadata": {},
   "outputs": [
    {
     "data": {
      "text/plain": [
       "LinearRegression()"
      ]
     },
     "execution_count": 59,
     "metadata": {},
     "output_type": "execute_result"
    }
   ],
   "source": [
    "lm = LinearRegression()\n",
    "lm.fit(X_train, y_train)"
   ]
  },
  {
   "cell_type": "code",
   "execution_count": 60,
   "metadata": {},
   "outputs": [
    {
     "data": {
      "text/html": [
       "<div>\n",
       "<style scoped>\n",
       "    .dataframe tbody tr th:only-of-type {\n",
       "        vertical-align: middle;\n",
       "    }\n",
       "\n",
       "    .dataframe tbody tr th {\n",
       "        vertical-align: top;\n",
       "    }\n",
       "\n",
       "    .dataframe thead th {\n",
       "        text-align: right;\n",
       "    }\n",
       "</style>\n",
       "<table border=\"1\" class=\"dataframe\">\n",
       "  <thead>\n",
       "    <tr style=\"text-align: right;\">\n",
       "      <th></th>\n",
       "      <th>GPP Per capita (Baht)</th>\n",
       "      <th>const</th>\n",
       "    </tr>\n",
       "    <tr>\n",
       "      <th>Year</th>\n",
       "      <th></th>\n",
       "      <th></th>\n",
       "    </tr>\n",
       "  </thead>\n",
       "  <tbody>\n",
       "    <tr>\n",
       "      <th>2009</th>\n",
       "      <td>379657.777</td>\n",
       "      <td>1.0</td>\n",
       "    </tr>\n",
       "    <tr>\n",
       "      <th>2018</th>\n",
       "      <td>454952.541</td>\n",
       "      <td>1.0</td>\n",
       "    </tr>\n",
       "    <tr>\n",
       "      <th>2007</th>\n",
       "      <td>339993.396</td>\n",
       "      <td>1.0</td>\n",
       "    </tr>\n",
       "    <tr>\n",
       "      <th>2006</th>\n",
       "      <td>298954.253</td>\n",
       "      <td>1.0</td>\n",
       "    </tr>\n",
       "    <tr>\n",
       "      <th>2015</th>\n",
       "      <td>468325.834</td>\n",
       "      <td>1.0</td>\n",
       "    </tr>\n",
       "    <tr>\n",
       "      <th>2010</th>\n",
       "      <td>427733.436</td>\n",
       "      <td>1.0</td>\n",
       "    </tr>\n",
       "    <tr>\n",
       "      <th>2008</th>\n",
       "      <td>438555.445</td>\n",
       "      <td>1.0</td>\n",
       "    </tr>\n",
       "    <tr>\n",
       "      <th>2016</th>\n",
       "      <td>444803.565</td>\n",
       "      <td>1.0</td>\n",
       "    </tr>\n",
       "    <tr>\n",
       "      <th>2013</th>\n",
       "      <td>461789.496</td>\n",
       "      <td>1.0</td>\n",
       "    </tr>\n",
       "    <tr>\n",
       "      <th>2012</th>\n",
       "      <td>378620.537</td>\n",
       "      <td>1.0</td>\n",
       "    </tr>\n",
       "    <tr>\n",
       "      <th>2014</th>\n",
       "      <td>417614.341</td>\n",
       "      <td>1.0</td>\n",
       "    </tr>\n",
       "    <tr>\n",
       "      <th>2017</th>\n",
       "      <td>449602.967</td>\n",
       "      <td>1.0</td>\n",
       "    </tr>\n",
       "  </tbody>\n",
       "</table>\n",
       "</div>"
      ],
      "text/plain": [
       "      GPP Per capita (Baht)  const\n",
       "Year                              \n",
       "2009             379657.777    1.0\n",
       "2018             454952.541    1.0\n",
       "2007             339993.396    1.0\n",
       "2006             298954.253    1.0\n",
       "2015             468325.834    1.0\n",
       "2010             427733.436    1.0\n",
       "2008             438555.445    1.0\n",
       "2016             444803.565    1.0\n",
       "2013             461789.496    1.0\n",
       "2012             378620.537    1.0\n",
       "2014             417614.341    1.0\n",
       "2017             449602.967    1.0"
      ]
     },
     "execution_count": 60,
     "metadata": {},
     "output_type": "execute_result"
    }
   ],
   "source": [
    "X_train"
   ]
  },
  {
   "cell_type": "code",
   "execution_count": 61,
   "metadata": {},
   "outputs": [
    {
     "data": {
      "text/html": [
       "<div>\n",
       "<style scoped>\n",
       "    .dataframe tbody tr th:only-of-type {\n",
       "        vertical-align: middle;\n",
       "    }\n",
       "\n",
       "    .dataframe tbody tr th {\n",
       "        vertical-align: top;\n",
       "    }\n",
       "\n",
       "    .dataframe thead th {\n",
       "        text-align: right;\n",
       "    }\n",
       "</style>\n",
       "<table border=\"1\" class=\"dataframe\">\n",
       "  <thead>\n",
       "    <tr style=\"text-align: right;\">\n",
       "      <th></th>\n",
       "      <th>GPP Per capita (Baht)</th>\n",
       "    </tr>\n",
       "    <tr>\n",
       "      <th>Year</th>\n",
       "      <th></th>\n",
       "    </tr>\n",
       "  </thead>\n",
       "  <tbody>\n",
       "    <tr>\n",
       "      <th>1995</th>\n",
       "      <td>143862.554</td>\n",
       "    </tr>\n",
       "    <tr>\n",
       "      <th>1996</th>\n",
       "      <td>171503.917</td>\n",
       "    </tr>\n",
       "    <tr>\n",
       "      <th>1997</th>\n",
       "      <td>179223.451</td>\n",
       "    </tr>\n",
       "    <tr>\n",
       "      <th>1998</th>\n",
       "      <td>180611.806</td>\n",
       "    </tr>\n",
       "    <tr>\n",
       "      <th>1999</th>\n",
       "      <td>189856.706</td>\n",
       "    </tr>\n",
       "    <tr>\n",
       "      <th>2000</th>\n",
       "      <td>219141.847</td>\n",
       "    </tr>\n",
       "    <tr>\n",
       "      <th>2001</th>\n",
       "      <td>219060.592</td>\n",
       "    </tr>\n",
       "    <tr>\n",
       "      <th>2002</th>\n",
       "      <td>231122.492</td>\n",
       "    </tr>\n",
       "    <tr>\n",
       "      <th>2003</th>\n",
       "      <td>256743.101</td>\n",
       "    </tr>\n",
       "    <tr>\n",
       "      <th>2004</th>\n",
       "      <td>271765.117</td>\n",
       "    </tr>\n",
       "    <tr>\n",
       "      <th>2005</th>\n",
       "      <td>273739.910</td>\n",
       "    </tr>\n",
       "  </tbody>\n",
       "</table>\n",
       "</div>"
      ],
      "text/plain": [
       "      GPP Per capita (Baht)\n",
       "Year                       \n",
       "1995             143862.554\n",
       "1996             171503.917\n",
       "1997             179223.451\n",
       "1998             180611.806\n",
       "1999             189856.706\n",
       "2000             219141.847\n",
       "2001             219060.592\n",
       "2002             231122.492\n",
       "2003             256743.101\n",
       "2004             271765.117\n",
       "2005             273739.910"
      ]
     },
     "execution_count": 61,
     "metadata": {},
     "output_type": "execute_result"
    }
   ],
   "source": [
    "test_ex1 = df1.loc[[i for i in range(1995,2006)],['GPP Per capita (Baht)']]\n",
    "test_ex1"
   ]
  },
  {
   "cell_type": "code",
   "execution_count": 62,
   "metadata": {},
   "outputs": [
    {
     "name": "stderr",
     "output_type": "stream",
     "text": [
      "/Users/pantchanit/opt/anaconda3/lib/python3.9/site-packages/statsmodels/tsa/tsatools.py:142: FutureWarning: In a future version of pandas all arguments of concat except for the argument 'objs' will be keyword-only\n",
      "  x = pd.concat(x[::order], 1)\n"
     ]
    },
    {
     "data": {
      "text/html": [
       "<div>\n",
       "<style scoped>\n",
       "    .dataframe tbody tr th:only-of-type {\n",
       "        vertical-align: middle;\n",
       "    }\n",
       "\n",
       "    .dataframe tbody tr th {\n",
       "        vertical-align: top;\n",
       "    }\n",
       "\n",
       "    .dataframe thead th {\n",
       "        text-align: right;\n",
       "    }\n",
       "</style>\n",
       "<table border=\"1\" class=\"dataframe\">\n",
       "  <thead>\n",
       "    <tr style=\"text-align: right;\">\n",
       "      <th></th>\n",
       "      <th>GPP Per capita (Baht)</th>\n",
       "      <th>const</th>\n",
       "    </tr>\n",
       "    <tr>\n",
       "      <th>Year</th>\n",
       "      <th></th>\n",
       "      <th></th>\n",
       "    </tr>\n",
       "  </thead>\n",
       "  <tbody>\n",
       "    <tr>\n",
       "      <th>1995</th>\n",
       "      <td>143862.554</td>\n",
       "      <td>1.0</td>\n",
       "    </tr>\n",
       "    <tr>\n",
       "      <th>1996</th>\n",
       "      <td>171503.917</td>\n",
       "      <td>1.0</td>\n",
       "    </tr>\n",
       "    <tr>\n",
       "      <th>1997</th>\n",
       "      <td>179223.451</td>\n",
       "      <td>1.0</td>\n",
       "    </tr>\n",
       "    <tr>\n",
       "      <th>1998</th>\n",
       "      <td>180611.806</td>\n",
       "      <td>1.0</td>\n",
       "    </tr>\n",
       "    <tr>\n",
       "      <th>1999</th>\n",
       "      <td>189856.706</td>\n",
       "      <td>1.0</td>\n",
       "    </tr>\n",
       "  </tbody>\n",
       "</table>\n",
       "</div>"
      ],
      "text/plain": [
       "      GPP Per capita (Baht)  const\n",
       "Year                              \n",
       "1995             143862.554    1.0\n",
       "1996             171503.917    1.0\n",
       "1997             179223.451    1.0\n",
       "1998             180611.806    1.0\n",
       "1999             189856.706    1.0"
      ]
     },
     "execution_count": 62,
     "metadata": {},
     "output_type": "execute_result"
    }
   ],
   "source": [
    "X_test_ex1 = test_ex1[['GPP Per capita (Baht)']]\n",
    "X_test_ex1 = sm.add_constant(X_test_ex1, prepend=False)\n",
    "X_test_ex1.head()"
   ]
  },
  {
   "cell_type": "code",
   "execution_count": 63,
   "metadata": {},
   "outputs": [
    {
     "data": {
      "text/plain": [
       "array([12384.87013329, 13039.34837251, 13222.1276016 , 13255.00037042,\n",
       "       13473.89644562, 14167.29523052, 14165.37131564, 14450.96689477,\n",
       "       15057.59874089, 15413.28245234, 15460.04060408])"
      ]
     },
     "execution_count": 63,
     "metadata": {},
     "output_type": "execute_result"
    }
   ],
   "source": [
    "predictions = lm.predict(X_test_ex1)\n",
    "predictions                   "
   ]
  },
  {
   "cell_type": "markdown",
   "metadata": {},
   "source": [
    "##### เนื้อที่ที่ถือครองเพื่อการเกษตร (ไร่)"
   ]
  },
  {
   "cell_type": "code",
   "execution_count": 64,
   "metadata": {},
   "outputs": [
    {
     "data": {
      "text/html": [
       "<div>\n",
       "<style scoped>\n",
       "    .dataframe tbody tr th:only-of-type {\n",
       "        vertical-align: middle;\n",
       "    }\n",
       "\n",
       "    .dataframe tbody tr th {\n",
       "        vertical-align: top;\n",
       "    }\n",
       "\n",
       "    .dataframe thead th {\n",
       "        text-align: right;\n",
       "    }\n",
       "</style>\n",
       "<table border=\"1\" class=\"dataframe\">\n",
       "  <thead>\n",
       "    <tr style=\"text-align: right;\">\n",
       "      <th></th>\n",
       "      <th>เนื้อที่ที่ถือครองเพื่อการเกษตร (ไร่)</th>\n",
       "      <th>GPP Per capita (Baht)</th>\n",
       "    </tr>\n",
       "    <tr>\n",
       "      <th>Year</th>\n",
       "      <th></th>\n",
       "      <th></th>\n",
       "    </tr>\n",
       "  </thead>\n",
       "  <tbody>\n",
       "    <tr>\n",
       "      <th>2010</th>\n",
       "      <td>449686.0</td>\n",
       "      <td>427733.436</td>\n",
       "    </tr>\n",
       "    <tr>\n",
       "      <th>2011</th>\n",
       "      <td>449681.0</td>\n",
       "      <td>365800.945</td>\n",
       "    </tr>\n",
       "    <tr>\n",
       "      <th>2012</th>\n",
       "      <td>492314.0</td>\n",
       "      <td>378620.537</td>\n",
       "    </tr>\n",
       "    <tr>\n",
       "      <th>2013</th>\n",
       "      <td>491212.0</td>\n",
       "      <td>461789.496</td>\n",
       "    </tr>\n",
       "    <tr>\n",
       "      <th>2014</th>\n",
       "      <td>491553.0</td>\n",
       "      <td>417614.341</td>\n",
       "    </tr>\n",
       "    <tr>\n",
       "      <th>2015</th>\n",
       "      <td>491350.0</td>\n",
       "      <td>468325.834</td>\n",
       "    </tr>\n",
       "    <tr>\n",
       "      <th>2016</th>\n",
       "      <td>491322.0</td>\n",
       "      <td>444803.565</td>\n",
       "    </tr>\n",
       "    <tr>\n",
       "      <th>2017</th>\n",
       "      <td>491855.0</td>\n",
       "      <td>449602.967</td>\n",
       "    </tr>\n",
       "    <tr>\n",
       "      <th>2018</th>\n",
       "      <td>492113.0</td>\n",
       "      <td>454952.541</td>\n",
       "    </tr>\n",
       "  </tbody>\n",
       "</table>\n",
       "</div>"
      ],
      "text/plain": [
       "      เนื้อที่ที่ถือครองเพื่อการเกษตร (ไร่)  GPP Per capita (Baht)\n",
       "Year                                                              \n",
       "2010                               449686.0             427733.436\n",
       "2011                               449681.0             365800.945\n",
       "2012                               492314.0             378620.537\n",
       "2013                               491212.0             461789.496\n",
       "2014                               491553.0             417614.341\n",
       "2015                               491350.0             468325.834\n",
       "2016                               491322.0             444803.565\n",
       "2017                               491855.0             449602.967\n",
       "2018                               492113.0             454952.541"
      ]
     },
     "execution_count": 64,
     "metadata": {},
     "output_type": "execute_result"
    }
   ],
   "source": [
    "ex2 = df1.loc[[i for i in range(2010,2019)],['เนื้อที่ที่ถือครองเพื่อการเกษตร (ไร่)','GPP Per capita (Baht)']]\n",
    "ex2"
   ]
  },
  {
   "cell_type": "code",
   "execution_count": 65,
   "metadata": {},
   "outputs": [
    {
     "name": "stderr",
     "output_type": "stream",
     "text": [
      "/Users/pantchanit/opt/anaconda3/lib/python3.9/site-packages/statsmodels/tsa/tsatools.py:142: FutureWarning: In a future version of pandas all arguments of concat except for the argument 'objs' will be keyword-only\n",
      "  x = pd.concat(x[::order], 1)\n"
     ]
    },
    {
     "data": {
      "text/html": [
       "<div>\n",
       "<style scoped>\n",
       "    .dataframe tbody tr th:only-of-type {\n",
       "        vertical-align: middle;\n",
       "    }\n",
       "\n",
       "    .dataframe tbody tr th {\n",
       "        vertical-align: top;\n",
       "    }\n",
       "\n",
       "    .dataframe thead th {\n",
       "        text-align: right;\n",
       "    }\n",
       "</style>\n",
       "<table border=\"1\" class=\"dataframe\">\n",
       "  <thead>\n",
       "    <tr style=\"text-align: right;\">\n",
       "      <th></th>\n",
       "      <th>GPP Per capita (Baht)</th>\n",
       "      <th>const</th>\n",
       "    </tr>\n",
       "    <tr>\n",
       "      <th>Year</th>\n",
       "      <th></th>\n",
       "      <th></th>\n",
       "    </tr>\n",
       "  </thead>\n",
       "  <tbody>\n",
       "    <tr>\n",
       "      <th>2010</th>\n",
       "      <td>427733.436</td>\n",
       "      <td>1.0</td>\n",
       "    </tr>\n",
       "    <tr>\n",
       "      <th>2011</th>\n",
       "      <td>365800.945</td>\n",
       "      <td>1.0</td>\n",
       "    </tr>\n",
       "    <tr>\n",
       "      <th>2012</th>\n",
       "      <td>378620.537</td>\n",
       "      <td>1.0</td>\n",
       "    </tr>\n",
       "    <tr>\n",
       "      <th>2013</th>\n",
       "      <td>461789.496</td>\n",
       "      <td>1.0</td>\n",
       "    </tr>\n",
       "    <tr>\n",
       "      <th>2014</th>\n",
       "      <td>417614.341</td>\n",
       "      <td>1.0</td>\n",
       "    </tr>\n",
       "  </tbody>\n",
       "</table>\n",
       "</div>"
      ],
      "text/plain": [
       "      GPP Per capita (Baht)  const\n",
       "Year                              \n",
       "2010             427733.436    1.0\n",
       "2011             365800.945    1.0\n",
       "2012             378620.537    1.0\n",
       "2013             461789.496    1.0\n",
       "2014             417614.341    1.0"
      ]
     },
     "execution_count": 65,
     "metadata": {},
     "output_type": "execute_result"
    }
   ],
   "source": [
    "X = ex2[['GPP Per capita (Baht)']]\n",
    "X = sm.add_constant(X, prepend=False)\n",
    "X.head()"
   ]
  },
  {
   "cell_type": "code",
   "execution_count": 66,
   "metadata": {},
   "outputs": [
    {
     "data": {
      "text/plain": [
       "Year\n",
       "2010    449686.0\n",
       "2011    449681.0\n",
       "2012    492314.0\n",
       "2013    491212.0\n",
       "2014    491553.0\n",
       "Name: เนื้อที่ที่ถือครองเพื่อการเกษตร (ไร่), dtype: float64"
      ]
     },
     "execution_count": 66,
     "metadata": {},
     "output_type": "execute_result"
    }
   ],
   "source": [
    "y = ex2['เนื้อที่ที่ถือครองเพื่อการเกษตร (ไร่)']\n",
    "y.head()"
   ]
  },
  {
   "cell_type": "code",
   "execution_count": 67,
   "metadata": {},
   "outputs": [],
   "source": [
    "X_train, X_test, y_train, y_test = train_test_split(X, y, test_size=0.05,random_state=14)  "
   ]
  },
  {
   "cell_type": "code",
   "execution_count": 68,
   "metadata": {},
   "outputs": [
    {
     "data": {
      "text/plain": [
       "LinearRegression()"
      ]
     },
     "execution_count": 68,
     "metadata": {},
     "output_type": "execute_result"
    }
   ],
   "source": [
    "lm = LinearRegression()\n",
    "lm.fit(X_train, y_train)"
   ]
  },
  {
   "cell_type": "code",
   "execution_count": 69,
   "metadata": {},
   "outputs": [
    {
     "data": {
      "text/html": [
       "<div>\n",
       "<style scoped>\n",
       "    .dataframe tbody tr th:only-of-type {\n",
       "        vertical-align: middle;\n",
       "    }\n",
       "\n",
       "    .dataframe tbody tr th {\n",
       "        vertical-align: top;\n",
       "    }\n",
       "\n",
       "    .dataframe thead th {\n",
       "        text-align: right;\n",
       "    }\n",
       "</style>\n",
       "<table border=\"1\" class=\"dataframe\">\n",
       "  <thead>\n",
       "    <tr style=\"text-align: right;\">\n",
       "      <th></th>\n",
       "      <th>GPP Per capita (Baht)</th>\n",
       "    </tr>\n",
       "    <tr>\n",
       "      <th>Year</th>\n",
       "      <th></th>\n",
       "    </tr>\n",
       "  </thead>\n",
       "  <tbody>\n",
       "    <tr>\n",
       "      <th>1995</th>\n",
       "      <td>143862.554</td>\n",
       "    </tr>\n",
       "    <tr>\n",
       "      <th>1996</th>\n",
       "      <td>171503.917</td>\n",
       "    </tr>\n",
       "    <tr>\n",
       "      <th>1997</th>\n",
       "      <td>179223.451</td>\n",
       "    </tr>\n",
       "    <tr>\n",
       "      <th>1998</th>\n",
       "      <td>180611.806</td>\n",
       "    </tr>\n",
       "    <tr>\n",
       "      <th>1999</th>\n",
       "      <td>189856.706</td>\n",
       "    </tr>\n",
       "    <tr>\n",
       "      <th>2000</th>\n",
       "      <td>219141.847</td>\n",
       "    </tr>\n",
       "    <tr>\n",
       "      <th>2001</th>\n",
       "      <td>219060.592</td>\n",
       "    </tr>\n",
       "    <tr>\n",
       "      <th>2002</th>\n",
       "      <td>231122.492</td>\n",
       "    </tr>\n",
       "    <tr>\n",
       "      <th>2003</th>\n",
       "      <td>256743.101</td>\n",
       "    </tr>\n",
       "    <tr>\n",
       "      <th>2004</th>\n",
       "      <td>271765.117</td>\n",
       "    </tr>\n",
       "    <tr>\n",
       "      <th>2005</th>\n",
       "      <td>273739.910</td>\n",
       "    </tr>\n",
       "    <tr>\n",
       "      <th>2006</th>\n",
       "      <td>298954.253</td>\n",
       "    </tr>\n",
       "    <tr>\n",
       "      <th>2007</th>\n",
       "      <td>339993.396</td>\n",
       "    </tr>\n",
       "    <tr>\n",
       "      <th>2008</th>\n",
       "      <td>438555.445</td>\n",
       "    </tr>\n",
       "    <tr>\n",
       "      <th>2009</th>\n",
       "      <td>379657.777</td>\n",
       "    </tr>\n",
       "  </tbody>\n",
       "</table>\n",
       "</div>"
      ],
      "text/plain": [
       "      GPP Per capita (Baht)\n",
       "Year                       \n",
       "1995             143862.554\n",
       "1996             171503.917\n",
       "1997             179223.451\n",
       "1998             180611.806\n",
       "1999             189856.706\n",
       "2000             219141.847\n",
       "2001             219060.592\n",
       "2002             231122.492\n",
       "2003             256743.101\n",
       "2004             271765.117\n",
       "2005             273739.910\n",
       "2006             298954.253\n",
       "2007             339993.396\n",
       "2008             438555.445\n",
       "2009             379657.777"
      ]
     },
     "execution_count": 69,
     "metadata": {},
     "output_type": "execute_result"
    }
   ],
   "source": [
    "test_ex2 = df1.loc[[i for i in range(1995,2010)],['GPP Per capita (Baht)']]\n",
    "test_ex2"
   ]
  },
  {
   "cell_type": "code",
   "execution_count": 70,
   "metadata": {},
   "outputs": [
    {
     "name": "stderr",
     "output_type": "stream",
     "text": [
      "/Users/pantchanit/opt/anaconda3/lib/python3.9/site-packages/statsmodels/tsa/tsatools.py:142: FutureWarning: In a future version of pandas all arguments of concat except for the argument 'objs' will be keyword-only\n",
      "  x = pd.concat(x[::order], 1)\n"
     ]
    },
    {
     "data": {
      "text/html": [
       "<div>\n",
       "<style scoped>\n",
       "    .dataframe tbody tr th:only-of-type {\n",
       "        vertical-align: middle;\n",
       "    }\n",
       "\n",
       "    .dataframe tbody tr th {\n",
       "        vertical-align: top;\n",
       "    }\n",
       "\n",
       "    .dataframe thead th {\n",
       "        text-align: right;\n",
       "    }\n",
       "</style>\n",
       "<table border=\"1\" class=\"dataframe\">\n",
       "  <thead>\n",
       "    <tr style=\"text-align: right;\">\n",
       "      <th></th>\n",
       "      <th>GPP Per capita (Baht)</th>\n",
       "      <th>const</th>\n",
       "    </tr>\n",
       "    <tr>\n",
       "      <th>Year</th>\n",
       "      <th></th>\n",
       "      <th></th>\n",
       "    </tr>\n",
       "  </thead>\n",
       "  <tbody>\n",
       "    <tr>\n",
       "      <th>1995</th>\n",
       "      <td>143862.554</td>\n",
       "      <td>1.0</td>\n",
       "    </tr>\n",
       "    <tr>\n",
       "      <th>1996</th>\n",
       "      <td>171503.917</td>\n",
       "      <td>1.0</td>\n",
       "    </tr>\n",
       "    <tr>\n",
       "      <th>1997</th>\n",
       "      <td>179223.451</td>\n",
       "      <td>1.0</td>\n",
       "    </tr>\n",
       "    <tr>\n",
       "      <th>1998</th>\n",
       "      <td>180611.806</td>\n",
       "      <td>1.0</td>\n",
       "    </tr>\n",
       "    <tr>\n",
       "      <th>1999</th>\n",
       "      <td>189856.706</td>\n",
       "      <td>1.0</td>\n",
       "    </tr>\n",
       "  </tbody>\n",
       "</table>\n",
       "</div>"
      ],
      "text/plain": [
       "      GPP Per capita (Baht)  const\n",
       "Year                              \n",
       "1995             143862.554    1.0\n",
       "1996             171503.917    1.0\n",
       "1997             179223.451    1.0\n",
       "1998             180611.806    1.0\n",
       "1999             189856.706    1.0"
      ]
     },
     "execution_count": 70,
     "metadata": {},
     "output_type": "execute_result"
    }
   ],
   "source": [
    "X_test_ex2 = test_ex2[['GPP Per capita (Baht)']]\n",
    "X_test_ex2 = sm.add_constant(X_test_ex2, prepend=False)\n",
    "X_test_ex2.head()"
   ]
  },
  {
   "cell_type": "code",
   "execution_count": 71,
   "metadata": {},
   "outputs": [
    {
     "data": {
      "text/plain": [
       "array([407634.68248071, 414866.32629839, 416885.94162367, 417249.16860536,\n",
       "       419667.85627753, 427329.55186261, 427308.29360489, 430463.97607122,\n",
       "       437166.94215433, 441097.06199449, 441613.71522862, 448210.39237775,\n",
       "       458947.21692431, 484733.41394755, 469324.37074414])"
      ]
     },
     "execution_count": 71,
     "metadata": {},
     "output_type": "execute_result"
    }
   ],
   "source": [
    "predictions = lm.predict(X_test_ex2)\n",
    "predictions  "
   ]
  },
  {
   "cell_type": "markdown",
   "metadata": {},
   "source": [
    "##### จำนวนโรงงานอุตสาหกรรม (โรงงาน)"
   ]
  },
  {
   "cell_type": "code",
   "execution_count": 72,
   "metadata": {},
   "outputs": [
    {
     "data": {
      "text/html": [
       "<div>\n",
       "<style scoped>\n",
       "    .dataframe tbody tr th:only-of-type {\n",
       "        vertical-align: middle;\n",
       "    }\n",
       "\n",
       "    .dataframe tbody tr th {\n",
       "        vertical-align: top;\n",
       "    }\n",
       "\n",
       "    .dataframe thead th {\n",
       "        text-align: right;\n",
       "    }\n",
       "</style>\n",
       "<table border=\"1\" class=\"dataframe\">\n",
       "  <thead>\n",
       "    <tr style=\"text-align: right;\">\n",
       "      <th></th>\n",
       "      <th>จำนวนโรงงานอุตสาหกรรม (โรงงาน)</th>\n",
       "      <th>GPP Per capita (Baht)</th>\n",
       "    </tr>\n",
       "    <tr>\n",
       "      <th>Year</th>\n",
       "      <th></th>\n",
       "      <th></th>\n",
       "    </tr>\n",
       "  </thead>\n",
       "  <tbody>\n",
       "    <tr>\n",
       "      <th>2011</th>\n",
       "      <td>9.0</td>\n",
       "      <td>365800.945</td>\n",
       "    </tr>\n",
       "    <tr>\n",
       "      <th>2012</th>\n",
       "      <td>6.0</td>\n",
       "      <td>378620.537</td>\n",
       "    </tr>\n",
       "    <tr>\n",
       "      <th>2013</th>\n",
       "      <td>8.0</td>\n",
       "      <td>461789.496</td>\n",
       "    </tr>\n",
       "    <tr>\n",
       "      <th>2014</th>\n",
       "      <td>4.0</td>\n",
       "      <td>417614.341</td>\n",
       "    </tr>\n",
       "    <tr>\n",
       "      <th>2015</th>\n",
       "      <td>6.0</td>\n",
       "      <td>468325.834</td>\n",
       "    </tr>\n",
       "    <tr>\n",
       "      <th>2016</th>\n",
       "      <td>11.0</td>\n",
       "      <td>444803.565</td>\n",
       "    </tr>\n",
       "    <tr>\n",
       "      <th>2017</th>\n",
       "      <td>6.0</td>\n",
       "      <td>449602.967</td>\n",
       "    </tr>\n",
       "    <tr>\n",
       "      <th>2018</th>\n",
       "      <td>5.0</td>\n",
       "      <td>454952.541</td>\n",
       "    </tr>\n",
       "  </tbody>\n",
       "</table>\n",
       "</div>"
      ],
      "text/plain": [
       "      จำนวนโรงงานอุตสาหกรรม (โรงงาน)  GPP Per capita (Baht)\n",
       "Year                                                       \n",
       "2011                             9.0             365800.945\n",
       "2012                             6.0             378620.537\n",
       "2013                             8.0             461789.496\n",
       "2014                             4.0             417614.341\n",
       "2015                             6.0             468325.834\n",
       "2016                            11.0             444803.565\n",
       "2017                             6.0             449602.967\n",
       "2018                             5.0             454952.541"
      ]
     },
     "execution_count": 72,
     "metadata": {},
     "output_type": "execute_result"
    }
   ],
   "source": [
    "ex3= df1.loc[[i for i in range(2011,2019)],['จำนวนโรงงานอุตสาหกรรม (โรงงาน)','GPP Per capita (Baht)']]\n",
    "ex3"
   ]
  },
  {
   "cell_type": "code",
   "execution_count": 73,
   "metadata": {},
   "outputs": [
    {
     "name": "stderr",
     "output_type": "stream",
     "text": [
      "/Users/pantchanit/opt/anaconda3/lib/python3.9/site-packages/statsmodels/tsa/tsatools.py:142: FutureWarning: In a future version of pandas all arguments of concat except for the argument 'objs' will be keyword-only\n",
      "  x = pd.concat(x[::order], 1)\n"
     ]
    },
    {
     "data": {
      "text/html": [
       "<div>\n",
       "<style scoped>\n",
       "    .dataframe tbody tr th:only-of-type {\n",
       "        vertical-align: middle;\n",
       "    }\n",
       "\n",
       "    .dataframe tbody tr th {\n",
       "        vertical-align: top;\n",
       "    }\n",
       "\n",
       "    .dataframe thead th {\n",
       "        text-align: right;\n",
       "    }\n",
       "</style>\n",
       "<table border=\"1\" class=\"dataframe\">\n",
       "  <thead>\n",
       "    <tr style=\"text-align: right;\">\n",
       "      <th></th>\n",
       "      <th>GPP Per capita (Baht)</th>\n",
       "      <th>const</th>\n",
       "    </tr>\n",
       "    <tr>\n",
       "      <th>Year</th>\n",
       "      <th></th>\n",
       "      <th></th>\n",
       "    </tr>\n",
       "  </thead>\n",
       "  <tbody>\n",
       "    <tr>\n",
       "      <th>2011</th>\n",
       "      <td>365800.945</td>\n",
       "      <td>1.0</td>\n",
       "    </tr>\n",
       "    <tr>\n",
       "      <th>2012</th>\n",
       "      <td>378620.537</td>\n",
       "      <td>1.0</td>\n",
       "    </tr>\n",
       "    <tr>\n",
       "      <th>2013</th>\n",
       "      <td>461789.496</td>\n",
       "      <td>1.0</td>\n",
       "    </tr>\n",
       "    <tr>\n",
       "      <th>2014</th>\n",
       "      <td>417614.341</td>\n",
       "      <td>1.0</td>\n",
       "    </tr>\n",
       "    <tr>\n",
       "      <th>2015</th>\n",
       "      <td>468325.834</td>\n",
       "      <td>1.0</td>\n",
       "    </tr>\n",
       "  </tbody>\n",
       "</table>\n",
       "</div>"
      ],
      "text/plain": [
       "      GPP Per capita (Baht)  const\n",
       "Year                              \n",
       "2011             365800.945    1.0\n",
       "2012             378620.537    1.0\n",
       "2013             461789.496    1.0\n",
       "2014             417614.341    1.0\n",
       "2015             468325.834    1.0"
      ]
     },
     "execution_count": 73,
     "metadata": {},
     "output_type": "execute_result"
    }
   ],
   "source": [
    "X = ex3[['GPP Per capita (Baht)']]\n",
    "X = sm.add_constant(X, prepend=False)\n",
    "X.head()"
   ]
  },
  {
   "cell_type": "code",
   "execution_count": 74,
   "metadata": {},
   "outputs": [
    {
     "data": {
      "text/plain": [
       "Year\n",
       "2011    9.0\n",
       "2012    6.0\n",
       "2013    8.0\n",
       "2014    4.0\n",
       "2015    6.0\n",
       "Name: จำนวนโรงงานอุตสาหกรรม (โรงงาน), dtype: float64"
      ]
     },
     "execution_count": 74,
     "metadata": {},
     "output_type": "execute_result"
    }
   ],
   "source": [
    "y = ex3['จำนวนโรงงานอุตสาหกรรม (โรงงาน)']\n",
    "y.head()"
   ]
  },
  {
   "cell_type": "code",
   "execution_count": 75,
   "metadata": {},
   "outputs": [],
   "source": [
    "X_train, X_test, y_train, y_test = train_test_split(X, y, test_size=0.05,random_state=14)  "
   ]
  },
  {
   "cell_type": "code",
   "execution_count": 76,
   "metadata": {},
   "outputs": [
    {
     "data": {
      "text/plain": [
       "LinearRegression()"
      ]
     },
     "execution_count": 76,
     "metadata": {},
     "output_type": "execute_result"
    }
   ],
   "source": [
    "lm = LinearRegression()\n",
    "lm.fit(X_train, y_train)"
   ]
  },
  {
   "cell_type": "code",
   "execution_count": 77,
   "metadata": {},
   "outputs": [
    {
     "data": {
      "text/html": [
       "<div>\n",
       "<style scoped>\n",
       "    .dataframe tbody tr th:only-of-type {\n",
       "        vertical-align: middle;\n",
       "    }\n",
       "\n",
       "    .dataframe tbody tr th {\n",
       "        vertical-align: top;\n",
       "    }\n",
       "\n",
       "    .dataframe thead th {\n",
       "        text-align: right;\n",
       "    }\n",
       "</style>\n",
       "<table border=\"1\" class=\"dataframe\">\n",
       "  <thead>\n",
       "    <tr style=\"text-align: right;\">\n",
       "      <th></th>\n",
       "      <th>GPP Per capita (Baht)</th>\n",
       "    </tr>\n",
       "    <tr>\n",
       "      <th>Year</th>\n",
       "      <th></th>\n",
       "    </tr>\n",
       "  </thead>\n",
       "  <tbody>\n",
       "    <tr>\n",
       "      <th>1995</th>\n",
       "      <td>143862.554</td>\n",
       "    </tr>\n",
       "    <tr>\n",
       "      <th>1996</th>\n",
       "      <td>171503.917</td>\n",
       "    </tr>\n",
       "    <tr>\n",
       "      <th>1997</th>\n",
       "      <td>179223.451</td>\n",
       "    </tr>\n",
       "    <tr>\n",
       "      <th>1998</th>\n",
       "      <td>180611.806</td>\n",
       "    </tr>\n",
       "    <tr>\n",
       "      <th>1999</th>\n",
       "      <td>189856.706</td>\n",
       "    </tr>\n",
       "    <tr>\n",
       "      <th>2000</th>\n",
       "      <td>219141.847</td>\n",
       "    </tr>\n",
       "    <tr>\n",
       "      <th>2001</th>\n",
       "      <td>219060.592</td>\n",
       "    </tr>\n",
       "    <tr>\n",
       "      <th>2002</th>\n",
       "      <td>231122.492</td>\n",
       "    </tr>\n",
       "    <tr>\n",
       "      <th>2003</th>\n",
       "      <td>256743.101</td>\n",
       "    </tr>\n",
       "    <tr>\n",
       "      <th>2004</th>\n",
       "      <td>271765.117</td>\n",
       "    </tr>\n",
       "    <tr>\n",
       "      <th>2005</th>\n",
       "      <td>273739.910</td>\n",
       "    </tr>\n",
       "    <tr>\n",
       "      <th>2006</th>\n",
       "      <td>298954.253</td>\n",
       "    </tr>\n",
       "    <tr>\n",
       "      <th>2007</th>\n",
       "      <td>339993.396</td>\n",
       "    </tr>\n",
       "    <tr>\n",
       "      <th>2008</th>\n",
       "      <td>438555.445</td>\n",
       "    </tr>\n",
       "    <tr>\n",
       "      <th>2009</th>\n",
       "      <td>379657.777</td>\n",
       "    </tr>\n",
       "    <tr>\n",
       "      <th>2010</th>\n",
       "      <td>427733.436</td>\n",
       "    </tr>\n",
       "  </tbody>\n",
       "</table>\n",
       "</div>"
      ],
      "text/plain": [
       "      GPP Per capita (Baht)\n",
       "Year                       \n",
       "1995             143862.554\n",
       "1996             171503.917\n",
       "1997             179223.451\n",
       "1998             180611.806\n",
       "1999             189856.706\n",
       "2000             219141.847\n",
       "2001             219060.592\n",
       "2002             231122.492\n",
       "2003             256743.101\n",
       "2004             271765.117\n",
       "2005             273739.910\n",
       "2006             298954.253\n",
       "2007             339993.396\n",
       "2008             438555.445\n",
       "2009             379657.777\n",
       "2010             427733.436"
      ]
     },
     "execution_count": 77,
     "metadata": {},
     "output_type": "execute_result"
    }
   ],
   "source": [
    "test_ex3 = df1.loc[[i for i in range(1995,2011)],['GPP Per capita (Baht)']]\n",
    "test_ex3"
   ]
  },
  {
   "cell_type": "code",
   "execution_count": 78,
   "metadata": {},
   "outputs": [
    {
     "name": "stderr",
     "output_type": "stream",
     "text": [
      "/Users/pantchanit/opt/anaconda3/lib/python3.9/site-packages/statsmodels/tsa/tsatools.py:142: FutureWarning: In a future version of pandas all arguments of concat except for the argument 'objs' will be keyword-only\n",
      "  x = pd.concat(x[::order], 1)\n"
     ]
    },
    {
     "data": {
      "text/html": [
       "<div>\n",
       "<style scoped>\n",
       "    .dataframe tbody tr th:only-of-type {\n",
       "        vertical-align: middle;\n",
       "    }\n",
       "\n",
       "    .dataframe tbody tr th {\n",
       "        vertical-align: top;\n",
       "    }\n",
       "\n",
       "    .dataframe thead th {\n",
       "        text-align: right;\n",
       "    }\n",
       "</style>\n",
       "<table border=\"1\" class=\"dataframe\">\n",
       "  <thead>\n",
       "    <tr style=\"text-align: right;\">\n",
       "      <th></th>\n",
       "      <th>GPP Per capita (Baht)</th>\n",
       "      <th>const</th>\n",
       "    </tr>\n",
       "    <tr>\n",
       "      <th>Year</th>\n",
       "      <th></th>\n",
       "      <th></th>\n",
       "    </tr>\n",
       "  </thead>\n",
       "  <tbody>\n",
       "    <tr>\n",
       "      <th>1995</th>\n",
       "      <td>143862.554</td>\n",
       "      <td>1.0</td>\n",
       "    </tr>\n",
       "    <tr>\n",
       "      <th>1996</th>\n",
       "      <td>171503.917</td>\n",
       "      <td>1.0</td>\n",
       "    </tr>\n",
       "    <tr>\n",
       "      <th>1997</th>\n",
       "      <td>179223.451</td>\n",
       "      <td>1.0</td>\n",
       "    </tr>\n",
       "    <tr>\n",
       "      <th>1998</th>\n",
       "      <td>180611.806</td>\n",
       "      <td>1.0</td>\n",
       "    </tr>\n",
       "    <tr>\n",
       "      <th>1999</th>\n",
       "      <td>189856.706</td>\n",
       "      <td>1.0</td>\n",
       "    </tr>\n",
       "  </tbody>\n",
       "</table>\n",
       "</div>"
      ],
      "text/plain": [
       "      GPP Per capita (Baht)  const\n",
       "Year                              \n",
       "1995             143862.554    1.0\n",
       "1996             171503.917    1.0\n",
       "1997             179223.451    1.0\n",
       "1998             180611.806    1.0\n",
       "1999             189856.706    1.0"
      ]
     },
     "execution_count": 78,
     "metadata": {},
     "output_type": "execute_result"
    }
   ],
   "source": [
    "X_test_ex3 = test_ex3[['GPP Per capita (Baht)']]\n",
    "X_test_ex3 = sm.add_constant(X_test_ex3, prepend=False)\n",
    "X_test_ex3.head()"
   ]
  },
  {
   "cell_type": "code",
   "execution_count": 79,
   "metadata": {},
   "outputs": [
    {
     "data": {
      "text/plain": [
       "array([9.72097777, 9.38690832, 9.29361116, 9.27683171, 9.16509921,\n",
       "       8.8111633 , 8.81214533, 8.66636699, 8.35672007, 8.1751662 ,\n",
       "       8.15129914, 7.8465623 , 7.35056925, 6.15936282, 6.87119137,\n",
       "       6.29015602])"
      ]
     },
     "execution_count": 79,
     "metadata": {},
     "output_type": "execute_result"
    }
   ],
   "source": [
    "predictions = lm.predict(X_test_ex3)\n",
    "predictions  "
   ]
  },
  {
   "cell_type": "markdown",
   "metadata": {},
   "source": [
    "##### เนื้อที่สวนผักและไม้ดอก (ไร่)"
   ]
  },
  {
   "cell_type": "code",
   "execution_count": 80,
   "metadata": {},
   "outputs": [
    {
     "data": {
      "text/html": [
       "<div>\n",
       "<style scoped>\n",
       "    .dataframe tbody tr th:only-of-type {\n",
       "        vertical-align: middle;\n",
       "    }\n",
       "\n",
       "    .dataframe tbody tr th {\n",
       "        vertical-align: top;\n",
       "    }\n",
       "\n",
       "    .dataframe thead th {\n",
       "        text-align: right;\n",
       "    }\n",
       "</style>\n",
       "<table border=\"1\" class=\"dataframe\">\n",
       "  <thead>\n",
       "    <tr style=\"text-align: right;\">\n",
       "      <th></th>\n",
       "      <th>เนื้อที่สวนผักและไม้ดอก (ไร่)</th>\n",
       "      <th>GPP Per capita (Baht)</th>\n",
       "    </tr>\n",
       "    <tr>\n",
       "      <th>Year</th>\n",
       "      <th></th>\n",
       "      <th></th>\n",
       "    </tr>\n",
       "  </thead>\n",
       "  <tbody>\n",
       "    <tr>\n",
       "      <th>2010</th>\n",
       "      <td>2268.000000</td>\n",
       "      <td>427733.436</td>\n",
       "    </tr>\n",
       "    <tr>\n",
       "      <th>2011</th>\n",
       "      <td>2284.000000</td>\n",
       "      <td>365800.945</td>\n",
       "    </tr>\n",
       "    <tr>\n",
       "      <th>2012</th>\n",
       "      <td>2261.000000</td>\n",
       "      <td>378620.537</td>\n",
       "    </tr>\n",
       "    <tr>\n",
       "      <th>2013</th>\n",
       "      <td>2261.341851</td>\n",
       "      <td>461789.496</td>\n",
       "    </tr>\n",
       "    <tr>\n",
       "      <th>2014</th>\n",
       "      <td>2241.000000</td>\n",
       "      <td>417614.341</td>\n",
       "    </tr>\n",
       "    <tr>\n",
       "      <th>2015</th>\n",
       "      <td>2353.000000</td>\n",
       "      <td>468325.834</td>\n",
       "    </tr>\n",
       "    <tr>\n",
       "      <th>2016</th>\n",
       "      <td>2348.000000</td>\n",
       "      <td>444803.565</td>\n",
       "    </tr>\n",
       "    <tr>\n",
       "      <th>2017</th>\n",
       "      <td>2346.000000</td>\n",
       "      <td>449602.967</td>\n",
       "    </tr>\n",
       "    <tr>\n",
       "      <th>2018</th>\n",
       "      <td>2344.000000</td>\n",
       "      <td>454952.541</td>\n",
       "    </tr>\n",
       "  </tbody>\n",
       "</table>\n",
       "</div>"
      ],
      "text/plain": [
       "      เนื้อที่สวนผักและไม้ดอก (ไร่)  GPP Per capita (Baht)\n",
       "Year                                                      \n",
       "2010                    2268.000000             427733.436\n",
       "2011                    2284.000000             365800.945\n",
       "2012                    2261.000000             378620.537\n",
       "2013                    2261.341851             461789.496\n",
       "2014                    2241.000000             417614.341\n",
       "2015                    2353.000000             468325.834\n",
       "2016                    2348.000000             444803.565\n",
       "2017                    2346.000000             449602.967\n",
       "2018                    2344.000000             454952.541"
      ]
     },
     "execution_count": 80,
     "metadata": {},
     "output_type": "execute_result"
    }
   ],
   "source": [
    "ex4 = df1.loc[[i for i in range(2010,2019)],['เนื้อที่สวนผักและไม้ดอก (ไร่)','GPP Per capita (Baht)']]\n",
    "ex4"
   ]
  },
  {
   "cell_type": "code",
   "execution_count": 81,
   "metadata": {},
   "outputs": [
    {
     "name": "stderr",
     "output_type": "stream",
     "text": [
      "/Users/pantchanit/opt/anaconda3/lib/python3.9/site-packages/statsmodels/tsa/tsatools.py:142: FutureWarning: In a future version of pandas all arguments of concat except for the argument 'objs' will be keyword-only\n",
      "  x = pd.concat(x[::order], 1)\n"
     ]
    },
    {
     "data": {
      "text/html": [
       "<div>\n",
       "<style scoped>\n",
       "    .dataframe tbody tr th:only-of-type {\n",
       "        vertical-align: middle;\n",
       "    }\n",
       "\n",
       "    .dataframe tbody tr th {\n",
       "        vertical-align: top;\n",
       "    }\n",
       "\n",
       "    .dataframe thead th {\n",
       "        text-align: right;\n",
       "    }\n",
       "</style>\n",
       "<table border=\"1\" class=\"dataframe\">\n",
       "  <thead>\n",
       "    <tr style=\"text-align: right;\">\n",
       "      <th></th>\n",
       "      <th>GPP Per capita (Baht)</th>\n",
       "      <th>const</th>\n",
       "    </tr>\n",
       "    <tr>\n",
       "      <th>Year</th>\n",
       "      <th></th>\n",
       "      <th></th>\n",
       "    </tr>\n",
       "  </thead>\n",
       "  <tbody>\n",
       "    <tr>\n",
       "      <th>2010</th>\n",
       "      <td>427733.436</td>\n",
       "      <td>1.0</td>\n",
       "    </tr>\n",
       "    <tr>\n",
       "      <th>2011</th>\n",
       "      <td>365800.945</td>\n",
       "      <td>1.0</td>\n",
       "    </tr>\n",
       "    <tr>\n",
       "      <th>2012</th>\n",
       "      <td>378620.537</td>\n",
       "      <td>1.0</td>\n",
       "    </tr>\n",
       "    <tr>\n",
       "      <th>2013</th>\n",
       "      <td>461789.496</td>\n",
       "      <td>1.0</td>\n",
       "    </tr>\n",
       "    <tr>\n",
       "      <th>2014</th>\n",
       "      <td>417614.341</td>\n",
       "      <td>1.0</td>\n",
       "    </tr>\n",
       "  </tbody>\n",
       "</table>\n",
       "</div>"
      ],
      "text/plain": [
       "      GPP Per capita (Baht)  const\n",
       "Year                              \n",
       "2010             427733.436    1.0\n",
       "2011             365800.945    1.0\n",
       "2012             378620.537    1.0\n",
       "2013             461789.496    1.0\n",
       "2014             417614.341    1.0"
      ]
     },
     "execution_count": 81,
     "metadata": {},
     "output_type": "execute_result"
    }
   ],
   "source": [
    "X = ex4[['GPP Per capita (Baht)']]\n",
    "X = sm.add_constant(X, prepend=False)\n",
    "X.head()"
   ]
  },
  {
   "cell_type": "code",
   "execution_count": 82,
   "metadata": {},
   "outputs": [
    {
     "data": {
      "text/plain": [
       "Year\n",
       "2010    2268.000000\n",
       "2011    2284.000000\n",
       "2012    2261.000000\n",
       "2013    2261.341851\n",
       "2014    2241.000000\n",
       "Name: เนื้อที่สวนผักและไม้ดอก (ไร่), dtype: float64"
      ]
     },
     "execution_count": 82,
     "metadata": {},
     "output_type": "execute_result"
    }
   ],
   "source": [
    "y = ex4['เนื้อที่สวนผักและไม้ดอก (ไร่)']\n",
    "y.head()"
   ]
  },
  {
   "cell_type": "code",
   "execution_count": 83,
   "metadata": {},
   "outputs": [],
   "source": [
    "X_train, X_test, y_train, y_test = train_test_split(X, y, test_size=0.01,random_state=14)"
   ]
  },
  {
   "cell_type": "code",
   "execution_count": 84,
   "metadata": {},
   "outputs": [
    {
     "data": {
      "text/plain": [
       "LinearRegression()"
      ]
     },
     "execution_count": 84,
     "metadata": {},
     "output_type": "execute_result"
    }
   ],
   "source": [
    "lm = LinearRegression()\n",
    "lm.fit(X_train, y_train)"
   ]
  },
  {
   "cell_type": "code",
   "execution_count": 85,
   "metadata": {},
   "outputs": [
    {
     "data": {
      "text/html": [
       "<div>\n",
       "<style scoped>\n",
       "    .dataframe tbody tr th:only-of-type {\n",
       "        vertical-align: middle;\n",
       "    }\n",
       "\n",
       "    .dataframe tbody tr th {\n",
       "        vertical-align: top;\n",
       "    }\n",
       "\n",
       "    .dataframe thead th {\n",
       "        text-align: right;\n",
       "    }\n",
       "</style>\n",
       "<table border=\"1\" class=\"dataframe\">\n",
       "  <thead>\n",
       "    <tr style=\"text-align: right;\">\n",
       "      <th></th>\n",
       "      <th>GPP Per capita (Baht)</th>\n",
       "    </tr>\n",
       "    <tr>\n",
       "      <th>Year</th>\n",
       "      <th></th>\n",
       "    </tr>\n",
       "  </thead>\n",
       "  <tbody>\n",
       "    <tr>\n",
       "      <th>1995</th>\n",
       "      <td>143862.554</td>\n",
       "    </tr>\n",
       "    <tr>\n",
       "      <th>1996</th>\n",
       "      <td>171503.917</td>\n",
       "    </tr>\n",
       "    <tr>\n",
       "      <th>1997</th>\n",
       "      <td>179223.451</td>\n",
       "    </tr>\n",
       "    <tr>\n",
       "      <th>1998</th>\n",
       "      <td>180611.806</td>\n",
       "    </tr>\n",
       "    <tr>\n",
       "      <th>1999</th>\n",
       "      <td>189856.706</td>\n",
       "    </tr>\n",
       "    <tr>\n",
       "      <th>2000</th>\n",
       "      <td>219141.847</td>\n",
       "    </tr>\n",
       "    <tr>\n",
       "      <th>2001</th>\n",
       "      <td>219060.592</td>\n",
       "    </tr>\n",
       "    <tr>\n",
       "      <th>2002</th>\n",
       "      <td>231122.492</td>\n",
       "    </tr>\n",
       "    <tr>\n",
       "      <th>2003</th>\n",
       "      <td>256743.101</td>\n",
       "    </tr>\n",
       "    <tr>\n",
       "      <th>2004</th>\n",
       "      <td>271765.117</td>\n",
       "    </tr>\n",
       "    <tr>\n",
       "      <th>2005</th>\n",
       "      <td>273739.910</td>\n",
       "    </tr>\n",
       "    <tr>\n",
       "      <th>2006</th>\n",
       "      <td>298954.253</td>\n",
       "    </tr>\n",
       "    <tr>\n",
       "      <th>2007</th>\n",
       "      <td>339993.396</td>\n",
       "    </tr>\n",
       "    <tr>\n",
       "      <th>2008</th>\n",
       "      <td>438555.445</td>\n",
       "    </tr>\n",
       "    <tr>\n",
       "      <th>2009</th>\n",
       "      <td>379657.777</td>\n",
       "    </tr>\n",
       "  </tbody>\n",
       "</table>\n",
       "</div>"
      ],
      "text/plain": [
       "      GPP Per capita (Baht)\n",
       "Year                       \n",
       "1995             143862.554\n",
       "1996             171503.917\n",
       "1997             179223.451\n",
       "1998             180611.806\n",
       "1999             189856.706\n",
       "2000             219141.847\n",
       "2001             219060.592\n",
       "2002             231122.492\n",
       "2003             256743.101\n",
       "2004             271765.117\n",
       "2005             273739.910\n",
       "2006             298954.253\n",
       "2007             339993.396\n",
       "2008             438555.445\n",
       "2009             379657.777"
      ]
     },
     "execution_count": 85,
     "metadata": {},
     "output_type": "execute_result"
    }
   ],
   "source": [
    "test_ex4 = df1.loc[[i for i in range(1995,2010)],['GPP Per capita (Baht)']]\n",
    "test_ex4"
   ]
  },
  {
   "cell_type": "code",
   "execution_count": 86,
   "metadata": {},
   "outputs": [
    {
     "name": "stderr",
     "output_type": "stream",
     "text": [
      "/Users/pantchanit/opt/anaconda3/lib/python3.9/site-packages/statsmodels/tsa/tsatools.py:142: FutureWarning: In a future version of pandas all arguments of concat except for the argument 'objs' will be keyword-only\n",
      "  x = pd.concat(x[::order], 1)\n"
     ]
    },
    {
     "data": {
      "text/html": [
       "<div>\n",
       "<style scoped>\n",
       "    .dataframe tbody tr th:only-of-type {\n",
       "        vertical-align: middle;\n",
       "    }\n",
       "\n",
       "    .dataframe tbody tr th {\n",
       "        vertical-align: top;\n",
       "    }\n",
       "\n",
       "    .dataframe thead th {\n",
       "        text-align: right;\n",
       "    }\n",
       "</style>\n",
       "<table border=\"1\" class=\"dataframe\">\n",
       "  <thead>\n",
       "    <tr style=\"text-align: right;\">\n",
       "      <th></th>\n",
       "      <th>GPP Per capita (Baht)</th>\n",
       "      <th>const</th>\n",
       "    </tr>\n",
       "    <tr>\n",
       "      <th>Year</th>\n",
       "      <th></th>\n",
       "      <th></th>\n",
       "    </tr>\n",
       "  </thead>\n",
       "  <tbody>\n",
       "    <tr>\n",
       "      <th>1995</th>\n",
       "      <td>143862.554</td>\n",
       "      <td>1.0</td>\n",
       "    </tr>\n",
       "    <tr>\n",
       "      <th>1996</th>\n",
       "      <td>171503.917</td>\n",
       "      <td>1.0</td>\n",
       "    </tr>\n",
       "    <tr>\n",
       "      <th>1997</th>\n",
       "      <td>179223.451</td>\n",
       "      <td>1.0</td>\n",
       "    </tr>\n",
       "    <tr>\n",
       "      <th>1998</th>\n",
       "      <td>180611.806</td>\n",
       "      <td>1.0</td>\n",
       "    </tr>\n",
       "    <tr>\n",
       "      <th>1999</th>\n",
       "      <td>189856.706</td>\n",
       "      <td>1.0</td>\n",
       "    </tr>\n",
       "  </tbody>\n",
       "</table>\n",
       "</div>"
      ],
      "text/plain": [
       "      GPP Per capita (Baht)  const\n",
       "Year                              \n",
       "1995             143862.554    1.0\n",
       "1996             171503.917    1.0\n",
       "1997             179223.451    1.0\n",
       "1998             180611.806    1.0\n",
       "1999             189856.706    1.0"
      ]
     },
     "execution_count": 86,
     "metadata": {},
     "output_type": "execute_result"
    }
   ],
   "source": [
    "X_test_ex4 = test_ex4[['GPP Per capita (Baht)']]\n",
    "X_test_ex4 = sm.add_constant(X_test_ex4, prepend=False)\n",
    "X_test_ex4.head()"
   ]
  },
  {
   "cell_type": "code",
   "execution_count": 87,
   "metadata": {},
   "outputs": [
    {
     "data": {
      "text/plain": [
       "array([2134.56825574, 2150.25363505, 2154.63416501, 2155.42200152,\n",
       "       2160.66811631, 2177.28627456, 2177.24016557, 2184.08481635,\n",
       "       2198.62349776, 2207.14789719, 2208.26851404, 2222.57665558,\n",
       "       2245.86474469, 2301.79480589, 2268.37271078])"
      ]
     },
     "execution_count": 87,
     "metadata": {},
     "output_type": "execute_result"
    }
   ],
   "source": [
    "predictions = lm.predict(X_test_ex4)\n",
    "predictions  "
   ]
  },
  {
   "cell_type": "markdown",
   "metadata": {},
   "source": [
    "##### เนื้อที่สำหรับปลูกนาข้าว (ไร่)"
   ]
  },
  {
   "cell_type": "code",
   "execution_count": 88,
   "metadata": {},
   "outputs": [
    {
     "data": {
      "text/html": [
       "<div>\n",
       "<style scoped>\n",
       "    .dataframe tbody tr th:only-of-type {\n",
       "        vertical-align: middle;\n",
       "    }\n",
       "\n",
       "    .dataframe tbody tr th {\n",
       "        vertical-align: top;\n",
       "    }\n",
       "\n",
       "    .dataframe thead th {\n",
       "        text-align: right;\n",
       "    }\n",
       "</style>\n",
       "<table border=\"1\" class=\"dataframe\">\n",
       "  <thead>\n",
       "    <tr style=\"text-align: right;\">\n",
       "      <th></th>\n",
       "      <th>เนื้อที่สำหรับปลูกนาข้าว (ไร่)</th>\n",
       "      <th>GPP Per capita (Baht)</th>\n",
       "    </tr>\n",
       "    <tr>\n",
       "      <th>Year</th>\n",
       "      <th></th>\n",
       "      <th></th>\n",
       "    </tr>\n",
       "  </thead>\n",
       "  <tbody>\n",
       "    <tr>\n",
       "      <th>2010</th>\n",
       "      <td>313067.0</td>\n",
       "      <td>427733.436</td>\n",
       "    </tr>\n",
       "    <tr>\n",
       "      <th>2011</th>\n",
       "      <td>344589.0</td>\n",
       "      <td>365800.945</td>\n",
       "    </tr>\n",
       "    <tr>\n",
       "      <th>2012</th>\n",
       "      <td>345037.0</td>\n",
       "      <td>378620.537</td>\n",
       "    </tr>\n",
       "    <tr>\n",
       "      <th>2013</th>\n",
       "      <td>345116.0</td>\n",
       "      <td>461789.496</td>\n",
       "    </tr>\n",
       "    <tr>\n",
       "      <th>2014</th>\n",
       "      <td>345313.0</td>\n",
       "      <td>417614.341</td>\n",
       "    </tr>\n",
       "    <tr>\n",
       "      <th>2015</th>\n",
       "      <td>345205.0</td>\n",
       "      <td>468325.834</td>\n",
       "    </tr>\n",
       "    <tr>\n",
       "      <th>2016</th>\n",
       "      <td>345244.0</td>\n",
       "      <td>444803.565</td>\n",
       "    </tr>\n",
       "    <tr>\n",
       "      <th>2017</th>\n",
       "      <td>345124.0</td>\n",
       "      <td>449602.967</td>\n",
       "    </tr>\n",
       "    <tr>\n",
       "      <th>2018</th>\n",
       "      <td>345409.0</td>\n",
       "      <td>454952.541</td>\n",
       "    </tr>\n",
       "  </tbody>\n",
       "</table>\n",
       "</div>"
      ],
      "text/plain": [
       "      เนื้อที่สำหรับปลูกนาข้าว (ไร่)  GPP Per capita (Baht)\n",
       "Year                                                       \n",
       "2010                        313067.0             427733.436\n",
       "2011                        344589.0             365800.945\n",
       "2012                        345037.0             378620.537\n",
       "2013                        345116.0             461789.496\n",
       "2014                        345313.0             417614.341\n",
       "2015                        345205.0             468325.834\n",
       "2016                        345244.0             444803.565\n",
       "2017                        345124.0             449602.967\n",
       "2018                        345409.0             454952.541"
      ]
     },
     "execution_count": 88,
     "metadata": {},
     "output_type": "execute_result"
    }
   ],
   "source": [
    "ex5 = df1.loc[[i for i in range(2010,2019)],['เนื้อที่สำหรับปลูกนาข้าว (ไร่)','GPP Per capita (Baht)']]\n",
    "ex5"
   ]
  },
  {
   "cell_type": "code",
   "execution_count": 89,
   "metadata": {},
   "outputs": [
    {
     "name": "stderr",
     "output_type": "stream",
     "text": [
      "/Users/pantchanit/opt/anaconda3/lib/python3.9/site-packages/statsmodels/tsa/tsatools.py:142: FutureWarning: In a future version of pandas all arguments of concat except for the argument 'objs' will be keyword-only\n",
      "  x = pd.concat(x[::order], 1)\n"
     ]
    },
    {
     "data": {
      "text/html": [
       "<div>\n",
       "<style scoped>\n",
       "    .dataframe tbody tr th:only-of-type {\n",
       "        vertical-align: middle;\n",
       "    }\n",
       "\n",
       "    .dataframe tbody tr th {\n",
       "        vertical-align: top;\n",
       "    }\n",
       "\n",
       "    .dataframe thead th {\n",
       "        text-align: right;\n",
       "    }\n",
       "</style>\n",
       "<table border=\"1\" class=\"dataframe\">\n",
       "  <thead>\n",
       "    <tr style=\"text-align: right;\">\n",
       "      <th></th>\n",
       "      <th>GPP Per capita (Baht)</th>\n",
       "      <th>const</th>\n",
       "    </tr>\n",
       "    <tr>\n",
       "      <th>Year</th>\n",
       "      <th></th>\n",
       "      <th></th>\n",
       "    </tr>\n",
       "  </thead>\n",
       "  <tbody>\n",
       "    <tr>\n",
       "      <th>2010</th>\n",
       "      <td>427733.436</td>\n",
       "      <td>1.0</td>\n",
       "    </tr>\n",
       "    <tr>\n",
       "      <th>2011</th>\n",
       "      <td>365800.945</td>\n",
       "      <td>1.0</td>\n",
       "    </tr>\n",
       "    <tr>\n",
       "      <th>2012</th>\n",
       "      <td>378620.537</td>\n",
       "      <td>1.0</td>\n",
       "    </tr>\n",
       "    <tr>\n",
       "      <th>2013</th>\n",
       "      <td>461789.496</td>\n",
       "      <td>1.0</td>\n",
       "    </tr>\n",
       "    <tr>\n",
       "      <th>2014</th>\n",
       "      <td>417614.341</td>\n",
       "      <td>1.0</td>\n",
       "    </tr>\n",
       "  </tbody>\n",
       "</table>\n",
       "</div>"
      ],
      "text/plain": [
       "      GPP Per capita (Baht)  const\n",
       "Year                              \n",
       "2010             427733.436    1.0\n",
       "2011             365800.945    1.0\n",
       "2012             378620.537    1.0\n",
       "2013             461789.496    1.0\n",
       "2014             417614.341    1.0"
      ]
     },
     "execution_count": 89,
     "metadata": {},
     "output_type": "execute_result"
    }
   ],
   "source": [
    "X = ex5[['GPP Per capita (Baht)']]\n",
    "X = sm.add_constant(X, prepend=False)\n",
    "X.head()"
   ]
  },
  {
   "cell_type": "code",
   "execution_count": 90,
   "metadata": {},
   "outputs": [
    {
     "data": {
      "text/plain": [
       "Year\n",
       "2010    313067.0\n",
       "2011    344589.0\n",
       "2012    345037.0\n",
       "2013    345116.0\n",
       "2014    345313.0\n",
       "Name: เนื้อที่สำหรับปลูกนาข้าว (ไร่), dtype: float64"
      ]
     },
     "execution_count": 90,
     "metadata": {},
     "output_type": "execute_result"
    }
   ],
   "source": [
    "y = ex5['เนื้อที่สำหรับปลูกนาข้าว (ไร่)']\n",
    "y.head()"
   ]
  },
  {
   "cell_type": "code",
   "execution_count": 91,
   "metadata": {},
   "outputs": [],
   "source": [
    "X_train, X_test, y_train, y_test = train_test_split(X, y, test_size=0.000000000001,random_state=14)"
   ]
  },
  {
   "cell_type": "code",
   "execution_count": 92,
   "metadata": {},
   "outputs": [
    {
     "data": {
      "text/plain": [
       "LinearRegression()"
      ]
     },
     "execution_count": 92,
     "metadata": {},
     "output_type": "execute_result"
    }
   ],
   "source": [
    "lm = LinearRegression()\n",
    "lm.fit(X_train, y_train)"
   ]
  },
  {
   "cell_type": "code",
   "execution_count": 93,
   "metadata": {},
   "outputs": [
    {
     "data": {
      "text/html": [
       "<div>\n",
       "<style scoped>\n",
       "    .dataframe tbody tr th:only-of-type {\n",
       "        vertical-align: middle;\n",
       "    }\n",
       "\n",
       "    .dataframe tbody tr th {\n",
       "        vertical-align: top;\n",
       "    }\n",
       "\n",
       "    .dataframe thead th {\n",
       "        text-align: right;\n",
       "    }\n",
       "</style>\n",
       "<table border=\"1\" class=\"dataframe\">\n",
       "  <thead>\n",
       "    <tr style=\"text-align: right;\">\n",
       "      <th></th>\n",
       "      <th>GPP Per capita (Baht)</th>\n",
       "    </tr>\n",
       "    <tr>\n",
       "      <th>Year</th>\n",
       "      <th></th>\n",
       "    </tr>\n",
       "  </thead>\n",
       "  <tbody>\n",
       "    <tr>\n",
       "      <th>1995</th>\n",
       "      <td>143862.554</td>\n",
       "    </tr>\n",
       "    <tr>\n",
       "      <th>1996</th>\n",
       "      <td>171503.917</td>\n",
       "    </tr>\n",
       "    <tr>\n",
       "      <th>1997</th>\n",
       "      <td>179223.451</td>\n",
       "    </tr>\n",
       "    <tr>\n",
       "      <th>1998</th>\n",
       "      <td>180611.806</td>\n",
       "    </tr>\n",
       "    <tr>\n",
       "      <th>1999</th>\n",
       "      <td>189856.706</td>\n",
       "    </tr>\n",
       "    <tr>\n",
       "      <th>2000</th>\n",
       "      <td>219141.847</td>\n",
       "    </tr>\n",
       "    <tr>\n",
       "      <th>2001</th>\n",
       "      <td>219060.592</td>\n",
       "    </tr>\n",
       "    <tr>\n",
       "      <th>2002</th>\n",
       "      <td>231122.492</td>\n",
       "    </tr>\n",
       "    <tr>\n",
       "      <th>2003</th>\n",
       "      <td>256743.101</td>\n",
       "    </tr>\n",
       "    <tr>\n",
       "      <th>2004</th>\n",
       "      <td>271765.117</td>\n",
       "    </tr>\n",
       "    <tr>\n",
       "      <th>2005</th>\n",
       "      <td>273739.910</td>\n",
       "    </tr>\n",
       "    <tr>\n",
       "      <th>2006</th>\n",
       "      <td>298954.253</td>\n",
       "    </tr>\n",
       "    <tr>\n",
       "      <th>2007</th>\n",
       "      <td>339993.396</td>\n",
       "    </tr>\n",
       "    <tr>\n",
       "      <th>2008</th>\n",
       "      <td>438555.445</td>\n",
       "    </tr>\n",
       "    <tr>\n",
       "      <th>2009</th>\n",
       "      <td>379657.777</td>\n",
       "    </tr>\n",
       "  </tbody>\n",
       "</table>\n",
       "</div>"
      ],
      "text/plain": [
       "      GPP Per capita (Baht)\n",
       "Year                       \n",
       "1995             143862.554\n",
       "1996             171503.917\n",
       "1997             179223.451\n",
       "1998             180611.806\n",
       "1999             189856.706\n",
       "2000             219141.847\n",
       "2001             219060.592\n",
       "2002             231122.492\n",
       "2003             256743.101\n",
       "2004             271765.117\n",
       "2005             273739.910\n",
       "2006             298954.253\n",
       "2007             339993.396\n",
       "2008             438555.445\n",
       "2009             379657.777"
      ]
     },
     "execution_count": 93,
     "metadata": {},
     "output_type": "execute_result"
    }
   ],
   "source": [
    "test_ex5 = df1.loc[[i for i in range(1995,2010)],['GPP Per capita (Baht)']]\n",
    "test_ex5"
   ]
  },
  {
   "cell_type": "code",
   "execution_count": 94,
   "metadata": {},
   "outputs": [
    {
     "name": "stderr",
     "output_type": "stream",
     "text": [
      "/Users/pantchanit/opt/anaconda3/lib/python3.9/site-packages/statsmodels/tsa/tsatools.py:142: FutureWarning: In a future version of pandas all arguments of concat except for the argument 'objs' will be keyword-only\n",
      "  x = pd.concat(x[::order], 1)\n"
     ]
    },
    {
     "data": {
      "text/html": [
       "<div>\n",
       "<style scoped>\n",
       "    .dataframe tbody tr th:only-of-type {\n",
       "        vertical-align: middle;\n",
       "    }\n",
       "\n",
       "    .dataframe tbody tr th {\n",
       "        vertical-align: top;\n",
       "    }\n",
       "\n",
       "    .dataframe thead th {\n",
       "        text-align: right;\n",
       "    }\n",
       "</style>\n",
       "<table border=\"1\" class=\"dataframe\">\n",
       "  <thead>\n",
       "    <tr style=\"text-align: right;\">\n",
       "      <th></th>\n",
       "      <th>GPP Per capita (Baht)</th>\n",
       "      <th>const</th>\n",
       "    </tr>\n",
       "    <tr>\n",
       "      <th>Year</th>\n",
       "      <th></th>\n",
       "      <th></th>\n",
       "    </tr>\n",
       "  </thead>\n",
       "  <tbody>\n",
       "    <tr>\n",
       "      <th>1995</th>\n",
       "      <td>143862.554</td>\n",
       "      <td>1.0</td>\n",
       "    </tr>\n",
       "    <tr>\n",
       "      <th>1996</th>\n",
       "      <td>171503.917</td>\n",
       "      <td>1.0</td>\n",
       "    </tr>\n",
       "    <tr>\n",
       "      <th>1997</th>\n",
       "      <td>179223.451</td>\n",
       "      <td>1.0</td>\n",
       "    </tr>\n",
       "    <tr>\n",
       "      <th>1998</th>\n",
       "      <td>180611.806</td>\n",
       "      <td>1.0</td>\n",
       "    </tr>\n",
       "    <tr>\n",
       "      <th>1999</th>\n",
       "      <td>189856.706</td>\n",
       "      <td>1.0</td>\n",
       "    </tr>\n",
       "  </tbody>\n",
       "</table>\n",
       "</div>"
      ],
      "text/plain": [
       "      GPP Per capita (Baht)  const\n",
       "Year                              \n",
       "1995             143862.554    1.0\n",
       "1996             171503.917    1.0\n",
       "1997             179223.451    1.0\n",
       "1998             180611.806    1.0\n",
       "1999             189856.706    1.0"
      ]
     },
     "execution_count": 94,
     "metadata": {},
     "output_type": "execute_result"
    }
   ],
   "source": [
    "X_test_ex5 = test_ex5[['GPP Per capita (Baht)']]\n",
    "X_test_ex5 = sm.add_constant(X_test_ex5, prepend=False)\n",
    "X_test_ex5.head()"
   ]
  },
  {
   "cell_type": "code",
   "execution_count": 95,
   "metadata": {},
   "outputs": [
    {
     "data": {
      "text/plain": [
       "array([342336.26697967, 342215.98331415, 342182.39112676, 342176.34958574,\n",
       "       342136.11964269, 342008.68294195, 342009.03652977, 341956.54817943,\n",
       "       341845.05799122, 341779.68845254, 341771.09497831, 341661.37269003,\n",
       "       341482.78748243, 341053.88661621, 341310.1846648 ])"
      ]
     },
     "execution_count": 95,
     "metadata": {},
     "output_type": "execute_result"
    }
   ],
   "source": [
    "predictions = lm.predict(X_test_ex5)\n",
    "predictions  "
   ]
  },
  {
   "cell_type": "markdown",
   "metadata": {},
   "source": [
    "## Find data by Interpolation"
   ]
  },
  {
   "cell_type": "code",
   "execution_count": 96,
   "metadata": {},
   "outputs": [
    {
     "data": {
      "text/plain": [
       "Year\n",
       "1995        NaN\n",
       "1996    0.11918\n",
       "1997    0.10214\n",
       "1998        NaN\n",
       "1999    0.24836\n",
       "2000    0.24471\n",
       "2001    0.25231\n",
       "2002    0.23055\n",
       "2003    0.24534\n",
       "2004    0.23828\n",
       "2005    0.21889\n",
       "2006    0.23271\n",
       "2007    0.20080\n",
       "2008    0.20331\n",
       "2009    0.23455\n",
       "2010        NaN\n",
       "2011    0.36146\n",
       "2012        NaN\n",
       "2013    0.44164\n",
       "2014    0.47988\n",
       "2015    0.61609\n",
       "2016    0.77817\n",
       "2017    1.00179\n",
       "2018        NaN\n",
       "Name: ค่าใช้จ่ายในการวิจัยและพัฒนา (คิดเป็น % ของจีดีพี), dtype: float64"
      ]
     },
     "execution_count": 96,
     "metadata": {},
     "output_type": "execute_result"
    }
   ],
   "source": [
    "ex6 = df1['ค่าใช้จ่ายในการวิจัยและพัฒนา (คิดเป็น % ของจีดีพี)']\n",
    "ex6"
   ]
  },
  {
   "cell_type": "code",
   "execution_count": 97,
   "metadata": {},
   "outputs": [
    {
     "data": {
      "text/plain": [
       "Year\n",
       "1995         NaN\n",
       "1996    0.119180\n",
       "1997    0.102140\n",
       "1998    0.175250\n",
       "1999    0.248360\n",
       "2000    0.244710\n",
       "2001    0.252310\n",
       "2002    0.230550\n",
       "2003    0.245340\n",
       "2004    0.238280\n",
       "2005    0.218890\n",
       "2006    0.232710\n",
       "2007    0.200800\n",
       "2008    0.203310\n",
       "2009    0.234550\n",
       "2010    0.298005\n",
       "2011    0.361460\n",
       "2012    0.401550\n",
       "2013    0.441640\n",
       "2014    0.479880\n",
       "2015    0.616090\n",
       "2016    0.778170\n",
       "2017    1.001790\n",
       "2018    1.001790\n",
       "Name: ค่าใช้จ่ายในการวิจัยและพัฒนา (คิดเป็น % ของจีดีพี), dtype: float64"
      ]
     },
     "execution_count": 97,
     "metadata": {},
     "output_type": "execute_result"
    }
   ],
   "source": [
    "ex6.interpolate(method='linear', limit_direction='forward', axis=0)"
   ]
  },
  {
   "cell_type": "code",
   "execution_count": 98,
   "metadata": {},
   "outputs": [
    {
     "data": {
      "text/plain": [
       "Year\n",
       "1995    0.119180\n",
       "1996    0.119180\n",
       "1997    0.102140\n",
       "1998    0.175250\n",
       "1999    0.248360\n",
       "2000    0.244710\n",
       "2001    0.252310\n",
       "2002    0.230550\n",
       "2003    0.245340\n",
       "2004    0.238280\n",
       "2005    0.218890\n",
       "2006    0.232710\n",
       "2007    0.200800\n",
       "2008    0.203310\n",
       "2009    0.234550\n",
       "2010    0.298005\n",
       "2011    0.361460\n",
       "2012    0.401550\n",
       "2013    0.441640\n",
       "2014    0.479880\n",
       "2015    0.616090\n",
       "2016    0.778170\n",
       "2017    1.001790\n",
       "2018         NaN\n",
       "Name: ค่าใช้จ่ายในการวิจัยและพัฒนา (คิดเป็น % ของจีดีพี), dtype: float64"
      ]
     },
     "execution_count": 98,
     "metadata": {},
     "output_type": "execute_result"
    }
   ],
   "source": [
    "ex6.interpolate(method='linear', limit_direction='backward', axis=0)"
   ]
  }
 ],
 "metadata": {
  "interpreter": {
   "hash": "a55ab719c9bfc05de0d3a1d1915f1d68fd6eba03203b10440bfba1b28ddfa129"
  },
  "kernelspec": {
   "display_name": "Python 3.9.7 ('base')",
   "language": "python",
   "name": "python3"
  },
  "language_info": {
   "codemirror_mode": {
    "name": "ipython",
    "version": 3
   },
   "file_extension": ".py",
   "mimetype": "text/x-python",
   "name": "python",
   "nbconvert_exporter": "python",
   "pygments_lexer": "ipython3",
   "version": "3.9.7"
  },
  "orig_nbformat": 4
 },
 "nbformat": 4,
 "nbformat_minor": 2
}
