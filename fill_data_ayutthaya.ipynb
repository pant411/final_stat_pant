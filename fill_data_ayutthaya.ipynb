{
 "cells": [
  {
   "cell_type": "code",
   "execution_count": 63,
   "metadata": {},
   "outputs": [],
   "source": [
    "#! -*- coding: UTF8 -*-\n",
    "import os\n",
    "os.chdir(os.getcwd())"
   ]
  },
  {
   "cell_type": "markdown",
   "metadata": {},
   "source": [
    "## Import Module"
   ]
  },
  {
   "cell_type": "code",
   "execution_count": 64,
   "metadata": {},
   "outputs": [],
   "source": [
    "import pandas as pd\n",
    "import numpy as np\n",
    "import matplotlib.pyplot as plt\n",
    "import seaborn as sns\n",
    "%matplotlib inline"
   ]
  },
  {
   "cell_type": "code",
   "execution_count": 65,
   "metadata": {},
   "outputs": [],
   "source": [
    "from sklearn.model_selection import train_test_split\n",
    "from sklearn.linear_model import LinearRegression\n",
    "from sklearn import metrics"
   ]
  },
  {
   "cell_type": "markdown",
   "metadata": {},
   "source": [
    "## Import Data "
   ]
  },
  {
   "cell_type": "code",
   "execution_count": 66,
   "metadata": {},
   "outputs": [
    {
     "data": {
      "text/html": [
       "<div>\n",
       "<style scoped>\n",
       "    .dataframe tbody tr th:only-of-type {\n",
       "        vertical-align: middle;\n",
       "    }\n",
       "\n",
       "    .dataframe tbody tr th {\n",
       "        vertical-align: top;\n",
       "    }\n",
       "\n",
       "    .dataframe thead th {\n",
       "        text-align: right;\n",
       "    }\n",
       "</style>\n",
       "<table border=\"1\" class=\"dataframe\">\n",
       "  <thead>\n",
       "    <tr style=\"text-align: right;\">\n",
       "      <th></th>\n",
       "      <th>Agriculture, forestry and fishing</th>\n",
       "      <th>Mining and quarrying</th>\n",
       "      <th>Manufacturing</th>\n",
       "      <th>Electricity, gas, steam and air conditioning supply</th>\n",
       "      <th>Water supply; sewerage, waste management and remediation activities</th>\n",
       "      <th>Construction</th>\n",
       "      <th>Wholesale and retail trade and repair of motor vehicles</th>\n",
       "      <th>Transportation and storage</th>\n",
       "      <th>Accommodation and food service activities</th>\n",
       "      <th>Information and communication</th>\n",
       "      <th>...</th>\n",
       "      <th>การนำเข้าสินค้าและบริการ (คิดเป็น % ของจีดีพี)</th>\n",
       "      <th>มูลค่าเพิ่มของอุตสาหกรรม (คิดเป็น % ของจีดีพี)</th>\n",
       "      <th>จำนวนประชากรทั้งหมด (คน)</th>\n",
       "      <th>ค่าใช้จ่ายในการวิจัยและพัฒนา (คิดเป็น % ของจีดีพี)</th>\n",
       "      <th>รายจ่ายของประชากรในจังหวัดพระนครศรีอยุธยา (บาท)</th>\n",
       "      <th>เนื้อที่ที่ถือครองเพื่อการเกษตร (ไร่)</th>\n",
       "      <th>เนื้อที่สวนผักและไม้ดอก (ไร่)</th>\n",
       "      <th>เนื้อที่สำหรับปลูกนาข้าว (ไร่)</th>\n",
       "      <th>จำนวนโรงงานอุตสาหกรรม (โรงงาน)</th>\n",
       "      <th>GPP Per capita (Baht)</th>\n",
       "    </tr>\n",
       "    <tr>\n",
       "      <th>Year</th>\n",
       "      <th></th>\n",
       "      <th></th>\n",
       "      <th></th>\n",
       "      <th></th>\n",
       "      <th></th>\n",
       "      <th></th>\n",
       "      <th></th>\n",
       "      <th></th>\n",
       "      <th></th>\n",
       "      <th></th>\n",
       "      <th></th>\n",
       "      <th></th>\n",
       "      <th></th>\n",
       "      <th></th>\n",
       "      <th></th>\n",
       "      <th></th>\n",
       "      <th></th>\n",
       "      <th></th>\n",
       "      <th></th>\n",
       "      <th></th>\n",
       "      <th></th>\n",
       "    </tr>\n",
       "  </thead>\n",
       "  <tbody>\n",
       "    <tr>\n",
       "      <th>1995</th>\n",
       "      <td>3069</td>\n",
       "      <td>471</td>\n",
       "      <td>70294</td>\n",
       "      <td>2030</td>\n",
       "      <td>254</td>\n",
       "      <td>1566</td>\n",
       "      <td>16137</td>\n",
       "      <td>1392</td>\n",
       "      <td>655</td>\n",
       "      <td>472</td>\n",
       "      <td>...</td>\n",
       "      <td>48.223830</td>\n",
       "      <td>37.278020</td>\n",
       "      <td>59467272</td>\n",
       "      <td>NaN</td>\n",
       "      <td>NaN</td>\n",
       "      <td>NaN</td>\n",
       "      <td>NaN</td>\n",
       "      <td>NaN</td>\n",
       "      <td>NaN</td>\n",
       "      <td>143862.554</td>\n",
       "    </tr>\n",
       "    <tr>\n",
       "      <th>1996</th>\n",
       "      <td>3305</td>\n",
       "      <td>513</td>\n",
       "      <td>80942</td>\n",
       "      <td>2290</td>\n",
       "      <td>324</td>\n",
       "      <td>5205</td>\n",
       "      <td>19161</td>\n",
       "      <td>1626</td>\n",
       "      <td>819</td>\n",
       "      <td>595</td>\n",
       "      <td>...</td>\n",
       "      <td>45.255728</td>\n",
       "      <td>37.081286</td>\n",
       "      <td>60130190</td>\n",
       "      <td>0.11918</td>\n",
       "      <td>NaN</td>\n",
       "      <td>NaN</td>\n",
       "      <td>NaN</td>\n",
       "      <td>NaN</td>\n",
       "      <td>NaN</td>\n",
       "      <td>171503.917</td>\n",
       "    </tr>\n",
       "    <tr>\n",
       "      <th>1997</th>\n",
       "      <td>4056</td>\n",
       "      <td>474</td>\n",
       "      <td>86917</td>\n",
       "      <td>2697</td>\n",
       "      <td>382</td>\n",
       "      <td>1756</td>\n",
       "      <td>20641</td>\n",
       "      <td>2219</td>\n",
       "      <td>675</td>\n",
       "      <td>575</td>\n",
       "      <td>...</td>\n",
       "      <td>46.814732</td>\n",
       "      <td>36.564600</td>\n",
       "      <td>60846588</td>\n",
       "      <td>0.10214</td>\n",
       "      <td>NaN</td>\n",
       "      <td>NaN</td>\n",
       "      <td>NaN</td>\n",
       "      <td>NaN</td>\n",
       "      <td>NaN</td>\n",
       "      <td>179223.451</td>\n",
       "    </tr>\n",
       "    <tr>\n",
       "      <th>1998</th>\n",
       "      <td>4805</td>\n",
       "      <td>395</td>\n",
       "      <td>84878</td>\n",
       "      <td>3388</td>\n",
       "      <td>420</td>\n",
       "      <td>1166</td>\n",
       "      <td>22362</td>\n",
       "      <td>2306</td>\n",
       "      <td>666</td>\n",
       "      <td>585</td>\n",
       "      <td>...</td>\n",
       "      <td>42.303171</td>\n",
       "      <td>36.111727</td>\n",
       "      <td>61585103</td>\n",
       "      <td>NaN</td>\n",
       "      <td>NaN</td>\n",
       "      <td>NaN</td>\n",
       "      <td>NaN</td>\n",
       "      <td>NaN</td>\n",
       "      <td>NaN</td>\n",
       "      <td>180611.806</td>\n",
       "    </tr>\n",
       "    <tr>\n",
       "      <th>1999</th>\n",
       "      <td>4030</td>\n",
       "      <td>302</td>\n",
       "      <td>92332</td>\n",
       "      <td>2974</td>\n",
       "      <td>503</td>\n",
       "      <td>1397</td>\n",
       "      <td>22431</td>\n",
       "      <td>2483</td>\n",
       "      <td>685</td>\n",
       "      <td>836</td>\n",
       "      <td>...</td>\n",
       "      <td>44.267746</td>\n",
       "      <td>36.378900</td>\n",
       "      <td>62298569</td>\n",
       "      <td>0.24836</td>\n",
       "      <td>NaN</td>\n",
       "      <td>NaN</td>\n",
       "      <td>NaN</td>\n",
       "      <td>NaN</td>\n",
       "      <td>NaN</td>\n",
       "      <td>189856.706</td>\n",
       "    </tr>\n",
       "  </tbody>\n",
       "</table>\n",
       "<p>5 rows × 31 columns</p>\n",
       "</div>"
      ],
      "text/plain": [
       "      Agriculture, forestry and fishing  Mining and quarrying  Manufacturing  \\\n",
       "Year                                                                           \n",
       "1995                               3069                   471          70294   \n",
       "1996                               3305                   513          80942   \n",
       "1997                               4056                   474          86917   \n",
       "1998                               4805                   395          84878   \n",
       "1999                               4030                   302          92332   \n",
       "\n",
       "      Electricity, gas, steam and air conditioning supply  \\\n",
       "Year                                                        \n",
       "1995                                               2030     \n",
       "1996                                               2290     \n",
       "1997                                               2697     \n",
       "1998                                               3388     \n",
       "1999                                               2974     \n",
       "\n",
       "      Water supply; sewerage, waste management and remediation activities  \\\n",
       "Year                                                                        \n",
       "1995                                                254                     \n",
       "1996                                                324                     \n",
       "1997                                                382                     \n",
       "1998                                                420                     \n",
       "1999                                                503                     \n",
       "\n",
       "      Construction  Wholesale and retail trade and repair of motor vehicles  \\\n",
       "Year                                                                          \n",
       "1995          1566                                              16137         \n",
       "1996          5205                                              19161         \n",
       "1997          1756                                              20641         \n",
       "1998          1166                                              22362         \n",
       "1999          1397                                              22431         \n",
       "\n",
       "      Transportation and storage  Accommodation and food service activities  \\\n",
       "Year                                                                          \n",
       "1995                        1392                                        655   \n",
       "1996                        1626                                        819   \n",
       "1997                        2219                                        675   \n",
       "1998                        2306                                        666   \n",
       "1999                        2483                                        685   \n",
       "\n",
       "      Information and communication  ...  \\\n",
       "Year                                 ...   \n",
       "1995                            472  ...   \n",
       "1996                            595  ...   \n",
       "1997                            575  ...   \n",
       "1998                            585  ...   \n",
       "1999                            836  ...   \n",
       "\n",
       "      การนำเข้าสินค้าและบริการ (คิดเป็น % ของจีดีพี)  \\\n",
       "Year                                                   \n",
       "1995                                       48.223830   \n",
       "1996                                       45.255728   \n",
       "1997                                       46.814732   \n",
       "1998                                       42.303171   \n",
       "1999                                       44.267746   \n",
       "\n",
       "      มูลค่าเพิ่มของอุตสาหกรรม (คิดเป็น % ของจีดีพี)  \\\n",
       "Year                                                   \n",
       "1995                                       37.278020   \n",
       "1996                                       37.081286   \n",
       "1997                                       36.564600   \n",
       "1998                                       36.111727   \n",
       "1999                                       36.378900   \n",
       "\n",
       "      จำนวนประชากรทั้งหมด (คน)  \\\n",
       "Year                             \n",
       "1995                  59467272   \n",
       "1996                  60130190   \n",
       "1997                  60846588   \n",
       "1998                  61585103   \n",
       "1999                  62298569   \n",
       "\n",
       "      ค่าใช้จ่ายในการวิจัยและพัฒนา (คิดเป็น % ของจีดีพี)  \\\n",
       "Year                                                       \n",
       "1995                                                NaN    \n",
       "1996                                            0.11918    \n",
       "1997                                            0.10214    \n",
       "1998                                                NaN    \n",
       "1999                                            0.24836    \n",
       "\n",
       "      รายจ่ายของประชากรในจังหวัดพระนครศรีอยุธยา (บาท)  \\\n",
       "Year                                                    \n",
       "1995                                              NaN   \n",
       "1996                                              NaN   \n",
       "1997                                              NaN   \n",
       "1998                                              NaN   \n",
       "1999                                              NaN   \n",
       "\n",
       "      เนื้อที่ที่ถือครองเพื่อการเกษตร (ไร่)  เนื้อที่สวนผักและไม้ดอก (ไร่)  \\\n",
       "Year                                                                         \n",
       "1995                                    NaN                            NaN   \n",
       "1996                                    NaN                            NaN   \n",
       "1997                                    NaN                            NaN   \n",
       "1998                                    NaN                            NaN   \n",
       "1999                                    NaN                            NaN   \n",
       "\n",
       "      เนื้อที่สำหรับปลูกนาข้าว (ไร่)  จำนวนโรงงานอุตสาหกรรม (โรงงาน)  \\\n",
       "Year                                                                   \n",
       "1995                             NaN                             NaN   \n",
       "1996                             NaN                             NaN   \n",
       "1997                             NaN                             NaN   \n",
       "1998                             NaN                             NaN   \n",
       "1999                             NaN                             NaN   \n",
       "\n",
       "      GPP Per capita (Baht)  \n",
       "Year                         \n",
       "1995             143862.554  \n",
       "1996             171503.917  \n",
       "1997             179223.451  \n",
       "1998             180611.806  \n",
       "1999             189856.706  \n",
       "\n",
       "[5 rows x 31 columns]"
      ]
     },
     "execution_count": 66,
     "metadata": {},
     "output_type": "execute_result"
    }
   ],
   "source": [
    "df1 = pd.read_excel('process_data/GPP_6210501001.xlsx',sheet_name=\"Ayutthaya\",index_col=\"Year\") #ตัวอย่าง\n",
    "df1.head()"
   ]
  },
  {
   "cell_type": "code",
   "execution_count": 67,
   "metadata": {},
   "outputs": [
    {
     "data": {
      "text/plain": [
       "Index(['Agriculture, forestry and fishing', 'Mining and quarrying',\n",
       "       'Manufacturing', 'Electricity, gas, steam and air conditioning supply',\n",
       "       'Water supply; sewerage, waste management and remediation activities',\n",
       "       'Construction',\n",
       "       'Wholesale and retail trade and repair of motor vehicles',\n",
       "       'Transportation and storage',\n",
       "       'Accommodation and food service activities',\n",
       "       'Information and communication', 'Financial and insurance activities',\n",
       "       'Real estate activities',\n",
       "       'Professional, scientific and technical activities',\n",
       "       'Administrative and support service activities',\n",
       "       'Public administration and defence; compulsory social security',\n",
       "       'Education', 'Human health activities',\n",
       "       'Arts, entertainment and recreation', 'Other service activities',\n",
       "       'การค้าสินค้า (คิดเป็น % ของจีดีพี)',\n",
       "       'มูลค่าเพิ่มของการเกษตร (คิดเป็น % ของจีดีพี)',\n",
       "       'การนำเข้าสินค้าและบริการ (คิดเป็น % ของจีดีพี)',\n",
       "       'มูลค่าเพิ่มของอุตสาหกรรม (คิดเป็น % ของจีดีพี)',\n",
       "       'จำนวนประชากรทั้งหมด (คน)',\n",
       "       'ค่าใช้จ่ายในการวิจัยและพัฒนา (คิดเป็น % ของจีดีพี)',\n",
       "       'รายจ่ายของประชากรในจังหวัดพระนครศรีอยุธยา (บาท)',\n",
       "       'เนื้อที่ที่ถือครองเพื่อการเกษตร (ไร่)',\n",
       "       'เนื้อที่สวนผักและไม้ดอก (ไร่)', 'เนื้อที่สำหรับปลูกนาข้าว (ไร่)',\n",
       "       'จำนวนโรงงานอุตสาหกรรม (โรงงาน)', 'GPP Per capita (Baht)'],\n",
       "      dtype='object')"
      ]
     },
     "execution_count": 67,
     "metadata": {},
     "output_type": "execute_result"
    }
   ],
   "source": [
    "df1.keys()"
   ]
  },
  {
   "cell_type": "markdown",
   "metadata": {},
   "source": [
    "## Find data by Regression"
   ]
  },
  {
   "cell_type": "markdown",
   "metadata": {},
   "source": [
    "##### รายจ่ายของประชากรในจังหวัดพระนครศรีอยุธยา (บาท)"
   ]
  },
  {
   "cell_type": "code",
   "execution_count": 68,
   "metadata": {},
   "outputs": [
    {
     "data": {
      "text/html": [
       "<div>\n",
       "<style scoped>\n",
       "    .dataframe tbody tr th:only-of-type {\n",
       "        vertical-align: middle;\n",
       "    }\n",
       "\n",
       "    .dataframe tbody tr th {\n",
       "        vertical-align: top;\n",
       "    }\n",
       "\n",
       "    .dataframe thead th {\n",
       "        text-align: right;\n",
       "    }\n",
       "</style>\n",
       "<table border=\"1\" class=\"dataframe\">\n",
       "  <thead>\n",
       "    <tr style=\"text-align: right;\">\n",
       "      <th></th>\n",
       "      <th>รายจ่ายของประชากรในจังหวัดพระนครศรีอยุธยา (บาท)</th>\n",
       "      <th>GPP Per capita (Baht)</th>\n",
       "    </tr>\n",
       "    <tr>\n",
       "      <th>Year</th>\n",
       "      <th></th>\n",
       "      <th></th>\n",
       "    </tr>\n",
       "  </thead>\n",
       "  <tbody>\n",
       "    <tr>\n",
       "      <th>2006</th>\n",
       "      <td>15859.00</td>\n",
       "      <td>298954.253</td>\n",
       "    </tr>\n",
       "    <tr>\n",
       "      <th>2007</th>\n",
       "      <td>16757.00</td>\n",
       "      <td>339993.396</td>\n",
       "    </tr>\n",
       "    <tr>\n",
       "      <th>2008</th>\n",
       "      <td>19201.00</td>\n",
       "      <td>438555.445</td>\n",
       "    </tr>\n",
       "    <tr>\n",
       "      <th>2009</th>\n",
       "      <td>20717.00</td>\n",
       "      <td>379657.777</td>\n",
       "    </tr>\n",
       "    <tr>\n",
       "      <th>2010</th>\n",
       "      <td>18789.00</td>\n",
       "      <td>427733.436</td>\n",
       "    </tr>\n",
       "    <tr>\n",
       "      <th>2011</th>\n",
       "      <td>17534.30</td>\n",
       "      <td>365800.945</td>\n",
       "    </tr>\n",
       "    <tr>\n",
       "      <th>2012</th>\n",
       "      <td>25215.89</td>\n",
       "      <td>378620.537</td>\n",
       "    </tr>\n",
       "    <tr>\n",
       "      <th>2013</th>\n",
       "      <td>20493.70</td>\n",
       "      <td>461789.496</td>\n",
       "    </tr>\n",
       "    <tr>\n",
       "      <th>2014</th>\n",
       "      <td>20409.63</td>\n",
       "      <td>417614.341</td>\n",
       "    </tr>\n",
       "    <tr>\n",
       "      <th>2015</th>\n",
       "      <td>22218.10</td>\n",
       "      <td>468325.834</td>\n",
       "    </tr>\n",
       "    <tr>\n",
       "      <th>2016</th>\n",
       "      <td>23095.32</td>\n",
       "      <td>444803.565</td>\n",
       "    </tr>\n",
       "    <tr>\n",
       "      <th>2017</th>\n",
       "      <td>23780.19</td>\n",
       "      <td>449602.967</td>\n",
       "    </tr>\n",
       "    <tr>\n",
       "      <th>2018</th>\n",
       "      <td>22790.08</td>\n",
       "      <td>454952.541</td>\n",
       "    </tr>\n",
       "  </tbody>\n",
       "</table>\n",
       "</div>"
      ],
      "text/plain": [
       "      รายจ่ายของประชากรในจังหวัดพระนครศรีอยุธยา (บาท)  GPP Per capita (Baht)\n",
       "Year                                                                        \n",
       "2006                                         15859.00             298954.253\n",
       "2007                                         16757.00             339993.396\n",
       "2008                                         19201.00             438555.445\n",
       "2009                                         20717.00             379657.777\n",
       "2010                                         18789.00             427733.436\n",
       "2011                                         17534.30             365800.945\n",
       "2012                                         25215.89             378620.537\n",
       "2013                                         20493.70             461789.496\n",
       "2014                                         20409.63             417614.341\n",
       "2015                                         22218.10             468325.834\n",
       "2016                                         23095.32             444803.565\n",
       "2017                                         23780.19             449602.967\n",
       "2018                                         22790.08             454952.541"
      ]
     },
     "execution_count": 68,
     "metadata": {},
     "output_type": "execute_result"
    }
   ],
   "source": [
    "ex1 = df1.loc[[i for i in range(2006,2019)],['รายจ่ายของประชากรในจังหวัดพระนครศรีอยุธยา (บาท)','GPP Per capita (Baht)']]\n",
    "ex1"
   ]
  },
  {
   "cell_type": "code",
   "execution_count": 69,
   "metadata": {},
   "outputs": [
    {
     "name": "stderr",
     "output_type": "stream",
     "text": [
      "/Users/pantchanit/opt/anaconda3/lib/python3.9/site-packages/statsmodels/tsa/tsatools.py:142: FutureWarning: In a future version of pandas all arguments of concat except for the argument 'objs' will be keyword-only\n",
      "  x = pd.concat(x[::order], 1)\n"
     ]
    },
    {
     "data": {
      "text/html": [
       "<div>\n",
       "<style scoped>\n",
       "    .dataframe tbody tr th:only-of-type {\n",
       "        vertical-align: middle;\n",
       "    }\n",
       "\n",
       "    .dataframe tbody tr th {\n",
       "        vertical-align: top;\n",
       "    }\n",
       "\n",
       "    .dataframe thead th {\n",
       "        text-align: right;\n",
       "    }\n",
       "</style>\n",
       "<table border=\"1\" class=\"dataframe\">\n",
       "  <thead>\n",
       "    <tr style=\"text-align: right;\">\n",
       "      <th></th>\n",
       "      <th>GPP Per capita (Baht)</th>\n",
       "      <th>const</th>\n",
       "    </tr>\n",
       "    <tr>\n",
       "      <th>Year</th>\n",
       "      <th></th>\n",
       "      <th></th>\n",
       "    </tr>\n",
       "  </thead>\n",
       "  <tbody>\n",
       "    <tr>\n",
       "      <th>2006</th>\n",
       "      <td>298954.253</td>\n",
       "      <td>1.0</td>\n",
       "    </tr>\n",
       "    <tr>\n",
       "      <th>2007</th>\n",
       "      <td>339993.396</td>\n",
       "      <td>1.0</td>\n",
       "    </tr>\n",
       "    <tr>\n",
       "      <th>2008</th>\n",
       "      <td>438555.445</td>\n",
       "      <td>1.0</td>\n",
       "    </tr>\n",
       "    <tr>\n",
       "      <th>2009</th>\n",
       "      <td>379657.777</td>\n",
       "      <td>1.0</td>\n",
       "    </tr>\n",
       "    <tr>\n",
       "      <th>2010</th>\n",
       "      <td>427733.436</td>\n",
       "      <td>1.0</td>\n",
       "    </tr>\n",
       "  </tbody>\n",
       "</table>\n",
       "</div>"
      ],
      "text/plain": [
       "      GPP Per capita (Baht)  const\n",
       "Year                              \n",
       "2006             298954.253    1.0\n",
       "2007             339993.396    1.0\n",
       "2008             438555.445    1.0\n",
       "2009             379657.777    1.0\n",
       "2010             427733.436    1.0"
      ]
     },
     "execution_count": 69,
     "metadata": {},
     "output_type": "execute_result"
    }
   ],
   "source": [
    "import statsmodels.api as sm\n",
    "X = ex1[['GPP Per capita (Baht)']]\n",
    "X = sm.add_constant(X, prepend=False)\n",
    "X.head()"
   ]
  },
  {
   "cell_type": "code",
   "execution_count": 70,
   "metadata": {},
   "outputs": [
    {
     "data": {
      "text/plain": [
       "Year\n",
       "2006    15859.0\n",
       "2007    16757.0\n",
       "2008    19201.0\n",
       "2009    20717.0\n",
       "2010    18789.0\n",
       "Name: รายจ่ายของประชากรในจังหวัดพระนครศรีอยุธยา (บาท), dtype: float64"
      ]
     },
     "execution_count": 70,
     "metadata": {},
     "output_type": "execute_result"
    }
   ],
   "source": [
    "y = ex1['รายจ่ายของประชากรในจังหวัดพระนครศรีอยุธยา (บาท)']\n",
    "y.head()"
   ]
  },
  {
   "cell_type": "code",
   "execution_count": 71,
   "metadata": {},
   "outputs": [],
   "source": [
    "X_train, X_test, y_train, y_test = train_test_split(X, y, test_size=0.05,random_state=14)  "
   ]
  },
  {
   "cell_type": "code",
   "execution_count": 72,
   "metadata": {},
   "outputs": [
    {
     "data": {
      "text/plain": [
       "LinearRegression()"
      ]
     },
     "execution_count": 72,
     "metadata": {},
     "output_type": "execute_result"
    }
   ],
   "source": [
    "lm = LinearRegression()\n",
    "lm.fit(X_train, y_train)"
   ]
  },
  {
   "cell_type": "code",
   "execution_count": 73,
   "metadata": {},
   "outputs": [
    {
     "data": {
      "text/html": [
       "<div>\n",
       "<style scoped>\n",
       "    .dataframe tbody tr th:only-of-type {\n",
       "        vertical-align: middle;\n",
       "    }\n",
       "\n",
       "    .dataframe tbody tr th {\n",
       "        vertical-align: top;\n",
       "    }\n",
       "\n",
       "    .dataframe thead th {\n",
       "        text-align: right;\n",
       "    }\n",
       "</style>\n",
       "<table border=\"1\" class=\"dataframe\">\n",
       "  <thead>\n",
       "    <tr style=\"text-align: right;\">\n",
       "      <th></th>\n",
       "      <th>GPP Per capita (Baht)</th>\n",
       "      <th>const</th>\n",
       "    </tr>\n",
       "    <tr>\n",
       "      <th>Year</th>\n",
       "      <th></th>\n",
       "      <th></th>\n",
       "    </tr>\n",
       "  </thead>\n",
       "  <tbody>\n",
       "    <tr>\n",
       "      <th>2009</th>\n",
       "      <td>379657.777</td>\n",
       "      <td>1.0</td>\n",
       "    </tr>\n",
       "    <tr>\n",
       "      <th>2018</th>\n",
       "      <td>454952.541</td>\n",
       "      <td>1.0</td>\n",
       "    </tr>\n",
       "    <tr>\n",
       "      <th>2007</th>\n",
       "      <td>339993.396</td>\n",
       "      <td>1.0</td>\n",
       "    </tr>\n",
       "    <tr>\n",
       "      <th>2006</th>\n",
       "      <td>298954.253</td>\n",
       "      <td>1.0</td>\n",
       "    </tr>\n",
       "    <tr>\n",
       "      <th>2015</th>\n",
       "      <td>468325.834</td>\n",
       "      <td>1.0</td>\n",
       "    </tr>\n",
       "    <tr>\n",
       "      <th>2010</th>\n",
       "      <td>427733.436</td>\n",
       "      <td>1.0</td>\n",
       "    </tr>\n",
       "    <tr>\n",
       "      <th>2008</th>\n",
       "      <td>438555.445</td>\n",
       "      <td>1.0</td>\n",
       "    </tr>\n",
       "    <tr>\n",
       "      <th>2016</th>\n",
       "      <td>444803.565</td>\n",
       "      <td>1.0</td>\n",
       "    </tr>\n",
       "    <tr>\n",
       "      <th>2013</th>\n",
       "      <td>461789.496</td>\n",
       "      <td>1.0</td>\n",
       "    </tr>\n",
       "    <tr>\n",
       "      <th>2012</th>\n",
       "      <td>378620.537</td>\n",
       "      <td>1.0</td>\n",
       "    </tr>\n",
       "    <tr>\n",
       "      <th>2014</th>\n",
       "      <td>417614.341</td>\n",
       "      <td>1.0</td>\n",
       "    </tr>\n",
       "    <tr>\n",
       "      <th>2017</th>\n",
       "      <td>449602.967</td>\n",
       "      <td>1.0</td>\n",
       "    </tr>\n",
       "  </tbody>\n",
       "</table>\n",
       "</div>"
      ],
      "text/plain": [
       "      GPP Per capita (Baht)  const\n",
       "Year                              \n",
       "2009             379657.777    1.0\n",
       "2018             454952.541    1.0\n",
       "2007             339993.396    1.0\n",
       "2006             298954.253    1.0\n",
       "2015             468325.834    1.0\n",
       "2010             427733.436    1.0\n",
       "2008             438555.445    1.0\n",
       "2016             444803.565    1.0\n",
       "2013             461789.496    1.0\n",
       "2012             378620.537    1.0\n",
       "2014             417614.341    1.0\n",
       "2017             449602.967    1.0"
      ]
     },
     "execution_count": 73,
     "metadata": {},
     "output_type": "execute_result"
    }
   ],
   "source": [
    "X_train"
   ]
  },
  {
   "cell_type": "code",
   "execution_count": 74,
   "metadata": {},
   "outputs": [
    {
     "data": {
      "text/html": [
       "<div>\n",
       "<style scoped>\n",
       "    .dataframe tbody tr th:only-of-type {\n",
       "        vertical-align: middle;\n",
       "    }\n",
       "\n",
       "    .dataframe tbody tr th {\n",
       "        vertical-align: top;\n",
       "    }\n",
       "\n",
       "    .dataframe thead th {\n",
       "        text-align: right;\n",
       "    }\n",
       "</style>\n",
       "<table border=\"1\" class=\"dataframe\">\n",
       "  <thead>\n",
       "    <tr style=\"text-align: right;\">\n",
       "      <th></th>\n",
       "      <th>GPP Per capita (Baht)</th>\n",
       "    </tr>\n",
       "    <tr>\n",
       "      <th>Year</th>\n",
       "      <th></th>\n",
       "    </tr>\n",
       "  </thead>\n",
       "  <tbody>\n",
       "    <tr>\n",
       "      <th>1995</th>\n",
       "      <td>143862.554</td>\n",
       "    </tr>\n",
       "    <tr>\n",
       "      <th>1996</th>\n",
       "      <td>171503.917</td>\n",
       "    </tr>\n",
       "    <tr>\n",
       "      <th>1997</th>\n",
       "      <td>179223.451</td>\n",
       "    </tr>\n",
       "    <tr>\n",
       "      <th>1998</th>\n",
       "      <td>180611.806</td>\n",
       "    </tr>\n",
       "    <tr>\n",
       "      <th>1999</th>\n",
       "      <td>189856.706</td>\n",
       "    </tr>\n",
       "    <tr>\n",
       "      <th>2000</th>\n",
       "      <td>219141.847</td>\n",
       "    </tr>\n",
       "    <tr>\n",
       "      <th>2001</th>\n",
       "      <td>219060.592</td>\n",
       "    </tr>\n",
       "    <tr>\n",
       "      <th>2002</th>\n",
       "      <td>231122.492</td>\n",
       "    </tr>\n",
       "    <tr>\n",
       "      <th>2003</th>\n",
       "      <td>256743.101</td>\n",
       "    </tr>\n",
       "    <tr>\n",
       "      <th>2004</th>\n",
       "      <td>271765.117</td>\n",
       "    </tr>\n",
       "    <tr>\n",
       "      <th>2005</th>\n",
       "      <td>273739.910</td>\n",
       "    </tr>\n",
       "  </tbody>\n",
       "</table>\n",
       "</div>"
      ],
      "text/plain": [
       "      GPP Per capita (Baht)\n",
       "Year                       \n",
       "1995             143862.554\n",
       "1996             171503.917\n",
       "1997             179223.451\n",
       "1998             180611.806\n",
       "1999             189856.706\n",
       "2000             219141.847\n",
       "2001             219060.592\n",
       "2002             231122.492\n",
       "2003             256743.101\n",
       "2004             271765.117\n",
       "2005             273739.910"
      ]
     },
     "execution_count": 74,
     "metadata": {},
     "output_type": "execute_result"
    }
   ],
   "source": [
    "test_ex1 = df1.loc[[i for i in range(1995,2006)],['GPP Per capita (Baht)']]\n",
    "test_ex1"
   ]
  },
  {
   "cell_type": "code",
   "execution_count": 75,
   "metadata": {},
   "outputs": [
    {
     "name": "stderr",
     "output_type": "stream",
     "text": [
      "/Users/pantchanit/opt/anaconda3/lib/python3.9/site-packages/statsmodels/tsa/tsatools.py:142: FutureWarning: In a future version of pandas all arguments of concat except for the argument 'objs' will be keyword-only\n",
      "  x = pd.concat(x[::order], 1)\n"
     ]
    },
    {
     "data": {
      "text/html": [
       "<div>\n",
       "<style scoped>\n",
       "    .dataframe tbody tr th:only-of-type {\n",
       "        vertical-align: middle;\n",
       "    }\n",
       "\n",
       "    .dataframe tbody tr th {\n",
       "        vertical-align: top;\n",
       "    }\n",
       "\n",
       "    .dataframe thead th {\n",
       "        text-align: right;\n",
       "    }\n",
       "</style>\n",
       "<table border=\"1\" class=\"dataframe\">\n",
       "  <thead>\n",
       "    <tr style=\"text-align: right;\">\n",
       "      <th></th>\n",
       "      <th>GPP Per capita (Baht)</th>\n",
       "      <th>const</th>\n",
       "    </tr>\n",
       "    <tr>\n",
       "      <th>Year</th>\n",
       "      <th></th>\n",
       "      <th></th>\n",
       "    </tr>\n",
       "  </thead>\n",
       "  <tbody>\n",
       "    <tr>\n",
       "      <th>1995</th>\n",
       "      <td>143862.554</td>\n",
       "      <td>1.0</td>\n",
       "    </tr>\n",
       "    <tr>\n",
       "      <th>1996</th>\n",
       "      <td>171503.917</td>\n",
       "      <td>1.0</td>\n",
       "    </tr>\n",
       "    <tr>\n",
       "      <th>1997</th>\n",
       "      <td>179223.451</td>\n",
       "      <td>1.0</td>\n",
       "    </tr>\n",
       "    <tr>\n",
       "      <th>1998</th>\n",
       "      <td>180611.806</td>\n",
       "      <td>1.0</td>\n",
       "    </tr>\n",
       "    <tr>\n",
       "      <th>1999</th>\n",
       "      <td>189856.706</td>\n",
       "      <td>1.0</td>\n",
       "    </tr>\n",
       "  </tbody>\n",
       "</table>\n",
       "</div>"
      ],
      "text/plain": [
       "      GPP Per capita (Baht)  const\n",
       "Year                              \n",
       "1995             143862.554    1.0\n",
       "1996             171503.917    1.0\n",
       "1997             179223.451    1.0\n",
       "1998             180611.806    1.0\n",
       "1999             189856.706    1.0"
      ]
     },
     "execution_count": 75,
     "metadata": {},
     "output_type": "execute_result"
    }
   ],
   "source": [
    "X_test_ex1 = test_ex1[['GPP Per capita (Baht)']]\n",
    "X_test_ex1 = sm.add_constant(X_test_ex1, prepend=False)\n",
    "X_test_ex1.head()"
   ]
  },
  {
   "cell_type": "code",
   "execution_count": 76,
   "metadata": {},
   "outputs": [
    {
     "data": {
      "text/plain": [
       "array([12393.62893434, 13253.42143668, 13493.53974975, 13536.72492914,\n",
       "       13824.29018795, 14735.21287514, 14732.68541513, 15107.87426468,\n",
       "       15904.81063585, 16372.07474026, 16433.50124137])"
      ]
     },
     "execution_count": 76,
     "metadata": {},
     "output_type": "execute_result"
    }
   ],
   "source": [
    "predictions = lm.predict(X_test_ex1)\n",
    "predictions                   "
   ]
  },
  {
   "cell_type": "markdown",
   "metadata": {},
   "source": [
    "##### เนื้อที่ที่ถือครองเพื่อการเกษตร (ไร่)"
   ]
  },
  {
   "cell_type": "code",
   "execution_count": 77,
   "metadata": {},
   "outputs": [
    {
     "data": {
      "text/html": [
       "<div>\n",
       "<style scoped>\n",
       "    .dataframe tbody tr th:only-of-type {\n",
       "        vertical-align: middle;\n",
       "    }\n",
       "\n",
       "    .dataframe tbody tr th {\n",
       "        vertical-align: top;\n",
       "    }\n",
       "\n",
       "    .dataframe thead th {\n",
       "        text-align: right;\n",
       "    }\n",
       "</style>\n",
       "<table border=\"1\" class=\"dataframe\">\n",
       "  <thead>\n",
       "    <tr style=\"text-align: right;\">\n",
       "      <th></th>\n",
       "      <th>เนื้อที่ที่ถือครองเพื่อการเกษตร (ไร่)</th>\n",
       "      <th>GPP Per capita (Baht)</th>\n",
       "    </tr>\n",
       "    <tr>\n",
       "      <th>Year</th>\n",
       "      <th></th>\n",
       "      <th></th>\n",
       "    </tr>\n",
       "  </thead>\n",
       "  <tbody>\n",
       "    <tr>\n",
       "      <th>2010</th>\n",
       "      <td>1155861.0</td>\n",
       "      <td>427733.436</td>\n",
       "    </tr>\n",
       "    <tr>\n",
       "      <th>2011</th>\n",
       "      <td>1158113.0</td>\n",
       "      <td>365800.945</td>\n",
       "    </tr>\n",
       "    <tr>\n",
       "      <th>2012</th>\n",
       "      <td>1180726.0</td>\n",
       "      <td>378620.537</td>\n",
       "    </tr>\n",
       "    <tr>\n",
       "      <th>2013</th>\n",
       "      <td>1177369.0</td>\n",
       "      <td>461789.496</td>\n",
       "    </tr>\n",
       "    <tr>\n",
       "      <th>2014</th>\n",
       "      <td>1178443.0</td>\n",
       "      <td>417614.341</td>\n",
       "    </tr>\n",
       "    <tr>\n",
       "      <th>2015</th>\n",
       "      <td>1177896.0</td>\n",
       "      <td>468325.834</td>\n",
       "    </tr>\n",
       "    <tr>\n",
       "      <th>2016</th>\n",
       "      <td>1178345.0</td>\n",
       "      <td>444803.565</td>\n",
       "    </tr>\n",
       "    <tr>\n",
       "      <th>2017</th>\n",
       "      <td>1178698.0</td>\n",
       "      <td>449602.967</td>\n",
       "    </tr>\n",
       "    <tr>\n",
       "      <th>2018</th>\n",
       "      <td>1178475.0</td>\n",
       "      <td>454952.541</td>\n",
       "    </tr>\n",
       "  </tbody>\n",
       "</table>\n",
       "</div>"
      ],
      "text/plain": [
       "      เนื้อที่ที่ถือครองเพื่อการเกษตร (ไร่)  GPP Per capita (Baht)\n",
       "Year                                                              \n",
       "2010                              1155861.0             427733.436\n",
       "2011                              1158113.0             365800.945\n",
       "2012                              1180726.0             378620.537\n",
       "2013                              1177369.0             461789.496\n",
       "2014                              1178443.0             417614.341\n",
       "2015                              1177896.0             468325.834\n",
       "2016                              1178345.0             444803.565\n",
       "2017                              1178698.0             449602.967\n",
       "2018                              1178475.0             454952.541"
      ]
     },
     "execution_count": 77,
     "metadata": {},
     "output_type": "execute_result"
    }
   ],
   "source": [
    "ex2 = df1.loc[[i for i in range(2010,2019)],['เนื้อที่ที่ถือครองเพื่อการเกษตร (ไร่)','GPP Per capita (Baht)']]\n",
    "ex2"
   ]
  },
  {
   "cell_type": "code",
   "execution_count": 78,
   "metadata": {},
   "outputs": [
    {
     "name": "stderr",
     "output_type": "stream",
     "text": [
      "/Users/pantchanit/opt/anaconda3/lib/python3.9/site-packages/statsmodels/tsa/tsatools.py:142: FutureWarning: In a future version of pandas all arguments of concat except for the argument 'objs' will be keyword-only\n",
      "  x = pd.concat(x[::order], 1)\n"
     ]
    },
    {
     "data": {
      "text/html": [
       "<div>\n",
       "<style scoped>\n",
       "    .dataframe tbody tr th:only-of-type {\n",
       "        vertical-align: middle;\n",
       "    }\n",
       "\n",
       "    .dataframe tbody tr th {\n",
       "        vertical-align: top;\n",
       "    }\n",
       "\n",
       "    .dataframe thead th {\n",
       "        text-align: right;\n",
       "    }\n",
       "</style>\n",
       "<table border=\"1\" class=\"dataframe\">\n",
       "  <thead>\n",
       "    <tr style=\"text-align: right;\">\n",
       "      <th></th>\n",
       "      <th>GPP Per capita (Baht)</th>\n",
       "      <th>const</th>\n",
       "    </tr>\n",
       "    <tr>\n",
       "      <th>Year</th>\n",
       "      <th></th>\n",
       "      <th></th>\n",
       "    </tr>\n",
       "  </thead>\n",
       "  <tbody>\n",
       "    <tr>\n",
       "      <th>2010</th>\n",
       "      <td>427733.436</td>\n",
       "      <td>1.0</td>\n",
       "    </tr>\n",
       "    <tr>\n",
       "      <th>2011</th>\n",
       "      <td>365800.945</td>\n",
       "      <td>1.0</td>\n",
       "    </tr>\n",
       "    <tr>\n",
       "      <th>2012</th>\n",
       "      <td>378620.537</td>\n",
       "      <td>1.0</td>\n",
       "    </tr>\n",
       "    <tr>\n",
       "      <th>2013</th>\n",
       "      <td>461789.496</td>\n",
       "      <td>1.0</td>\n",
       "    </tr>\n",
       "    <tr>\n",
       "      <th>2014</th>\n",
       "      <td>417614.341</td>\n",
       "      <td>1.0</td>\n",
       "    </tr>\n",
       "  </tbody>\n",
       "</table>\n",
       "</div>"
      ],
      "text/plain": [
       "      GPP Per capita (Baht)  const\n",
       "Year                              \n",
       "2010             427733.436    1.0\n",
       "2011             365800.945    1.0\n",
       "2012             378620.537    1.0\n",
       "2013             461789.496    1.0\n",
       "2014             417614.341    1.0"
      ]
     },
     "execution_count": 78,
     "metadata": {},
     "output_type": "execute_result"
    }
   ],
   "source": [
    "X = ex2[['GPP Per capita (Baht)']]\n",
    "X = sm.add_constant(X, prepend=False)\n",
    "X.head()"
   ]
  },
  {
   "cell_type": "code",
   "execution_count": 79,
   "metadata": {},
   "outputs": [
    {
     "data": {
      "text/plain": [
       "Year\n",
       "2010    1155861.0\n",
       "2011    1158113.0\n",
       "2012    1180726.0\n",
       "2013    1177369.0\n",
       "2014    1178443.0\n",
       "Name: เนื้อที่ที่ถือครองเพื่อการเกษตร (ไร่), dtype: float64"
      ]
     },
     "execution_count": 79,
     "metadata": {},
     "output_type": "execute_result"
    }
   ],
   "source": [
    "y = ex2['เนื้อที่ที่ถือครองเพื่อการเกษตร (ไร่)']\n",
    "y.head()"
   ]
  },
  {
   "cell_type": "code",
   "execution_count": 80,
   "metadata": {},
   "outputs": [],
   "source": [
    "X_train, X_test, y_train, y_test = train_test_split(X, y, test_size=0.05,random_state=14)  "
   ]
  },
  {
   "cell_type": "code",
   "execution_count": 81,
   "metadata": {},
   "outputs": [
    {
     "data": {
      "text/plain": [
       "LinearRegression()"
      ]
     },
     "execution_count": 81,
     "metadata": {},
     "output_type": "execute_result"
    }
   ],
   "source": [
    "lm = LinearRegression()\n",
    "lm.fit(X_train, y_train)"
   ]
  },
  {
   "cell_type": "code",
   "execution_count": 82,
   "metadata": {},
   "outputs": [
    {
     "data": {
      "text/html": [
       "<div>\n",
       "<style scoped>\n",
       "    .dataframe tbody tr th:only-of-type {\n",
       "        vertical-align: middle;\n",
       "    }\n",
       "\n",
       "    .dataframe tbody tr th {\n",
       "        vertical-align: top;\n",
       "    }\n",
       "\n",
       "    .dataframe thead th {\n",
       "        text-align: right;\n",
       "    }\n",
       "</style>\n",
       "<table border=\"1\" class=\"dataframe\">\n",
       "  <thead>\n",
       "    <tr style=\"text-align: right;\">\n",
       "      <th></th>\n",
       "      <th>GPP Per capita (Baht)</th>\n",
       "    </tr>\n",
       "    <tr>\n",
       "      <th>Year</th>\n",
       "      <th></th>\n",
       "    </tr>\n",
       "  </thead>\n",
       "  <tbody>\n",
       "    <tr>\n",
       "      <th>1995</th>\n",
       "      <td>143862.554</td>\n",
       "    </tr>\n",
       "    <tr>\n",
       "      <th>1996</th>\n",
       "      <td>171503.917</td>\n",
       "    </tr>\n",
       "    <tr>\n",
       "      <th>1997</th>\n",
       "      <td>179223.451</td>\n",
       "    </tr>\n",
       "    <tr>\n",
       "      <th>1998</th>\n",
       "      <td>180611.806</td>\n",
       "    </tr>\n",
       "    <tr>\n",
       "      <th>1999</th>\n",
       "      <td>189856.706</td>\n",
       "    </tr>\n",
       "    <tr>\n",
       "      <th>2000</th>\n",
       "      <td>219141.847</td>\n",
       "    </tr>\n",
       "    <tr>\n",
       "      <th>2001</th>\n",
       "      <td>219060.592</td>\n",
       "    </tr>\n",
       "    <tr>\n",
       "      <th>2002</th>\n",
       "      <td>231122.492</td>\n",
       "    </tr>\n",
       "    <tr>\n",
       "      <th>2003</th>\n",
       "      <td>256743.101</td>\n",
       "    </tr>\n",
       "    <tr>\n",
       "      <th>2004</th>\n",
       "      <td>271765.117</td>\n",
       "    </tr>\n",
       "    <tr>\n",
       "      <th>2005</th>\n",
       "      <td>273739.910</td>\n",
       "    </tr>\n",
       "    <tr>\n",
       "      <th>2006</th>\n",
       "      <td>298954.253</td>\n",
       "    </tr>\n",
       "    <tr>\n",
       "      <th>2007</th>\n",
       "      <td>339993.396</td>\n",
       "    </tr>\n",
       "    <tr>\n",
       "      <th>2008</th>\n",
       "      <td>438555.445</td>\n",
       "    </tr>\n",
       "    <tr>\n",
       "      <th>2009</th>\n",
       "      <td>379657.777</td>\n",
       "    </tr>\n",
       "  </tbody>\n",
       "</table>\n",
       "</div>"
      ],
      "text/plain": [
       "      GPP Per capita (Baht)\n",
       "Year                       \n",
       "1995             143862.554\n",
       "1996             171503.917\n",
       "1997             179223.451\n",
       "1998             180611.806\n",
       "1999             189856.706\n",
       "2000             219141.847\n",
       "2001             219060.592\n",
       "2002             231122.492\n",
       "2003             256743.101\n",
       "2004             271765.117\n",
       "2005             273739.910\n",
       "2006             298954.253\n",
       "2007             339993.396\n",
       "2008             438555.445\n",
       "2009             379657.777"
      ]
     },
     "execution_count": 82,
     "metadata": {},
     "output_type": "execute_result"
    }
   ],
   "source": [
    "test_ex2 = df1.loc[[i for i in range(1995,2010)],['GPP Per capita (Baht)']]\n",
    "test_ex2"
   ]
  },
  {
   "cell_type": "code",
   "execution_count": 83,
   "metadata": {},
   "outputs": [
    {
     "name": "stderr",
     "output_type": "stream",
     "text": [
      "/Users/pantchanit/opt/anaconda3/lib/python3.9/site-packages/statsmodels/tsa/tsatools.py:142: FutureWarning: In a future version of pandas all arguments of concat except for the argument 'objs' will be keyword-only\n",
      "  x = pd.concat(x[::order], 1)\n"
     ]
    },
    {
     "data": {
      "text/html": [
       "<div>\n",
       "<style scoped>\n",
       "    .dataframe tbody tr th:only-of-type {\n",
       "        vertical-align: middle;\n",
       "    }\n",
       "\n",
       "    .dataframe tbody tr th {\n",
       "        vertical-align: top;\n",
       "    }\n",
       "\n",
       "    .dataframe thead th {\n",
       "        text-align: right;\n",
       "    }\n",
       "</style>\n",
       "<table border=\"1\" class=\"dataframe\">\n",
       "  <thead>\n",
       "    <tr style=\"text-align: right;\">\n",
       "      <th></th>\n",
       "      <th>GPP Per capita (Baht)</th>\n",
       "      <th>const</th>\n",
       "    </tr>\n",
       "    <tr>\n",
       "      <th>Year</th>\n",
       "      <th></th>\n",
       "      <th></th>\n",
       "    </tr>\n",
       "  </thead>\n",
       "  <tbody>\n",
       "    <tr>\n",
       "      <th>1995</th>\n",
       "      <td>143862.554</td>\n",
       "      <td>1.0</td>\n",
       "    </tr>\n",
       "    <tr>\n",
       "      <th>1996</th>\n",
       "      <td>171503.917</td>\n",
       "      <td>1.0</td>\n",
       "    </tr>\n",
       "    <tr>\n",
       "      <th>1997</th>\n",
       "      <td>179223.451</td>\n",
       "      <td>1.0</td>\n",
       "    </tr>\n",
       "    <tr>\n",
       "      <th>1998</th>\n",
       "      <td>180611.806</td>\n",
       "      <td>1.0</td>\n",
       "    </tr>\n",
       "    <tr>\n",
       "      <th>1999</th>\n",
       "      <td>189856.706</td>\n",
       "      <td>1.0</td>\n",
       "    </tr>\n",
       "  </tbody>\n",
       "</table>\n",
       "</div>"
      ],
      "text/plain": [
       "      GPP Per capita (Baht)  const\n",
       "Year                              \n",
       "1995             143862.554    1.0\n",
       "1996             171503.917    1.0\n",
       "1997             179223.451    1.0\n",
       "1998             180611.806    1.0\n",
       "1999             189856.706    1.0"
      ]
     },
     "execution_count": 83,
     "metadata": {},
     "output_type": "execute_result"
    }
   ],
   "source": [
    "X_test_ex2 = test_ex2[['GPP Per capita (Baht)']]\n",
    "X_test_ex2 = sm.add_constant(X_test_ex2, prepend=False)\n",
    "X_test_ex2.head()"
   ]
  },
  {
   "cell_type": "code",
   "execution_count": 84,
   "metadata": {},
   "outputs": [
    {
     "data": {
      "text/plain": [
       "array([1141681.33738848, 1144784.26279459, 1145650.83142842,\n",
       "       1145806.68343912, 1146844.48447256, 1150131.9348067 ,\n",
       "       1150122.81339674, 1151476.84126997, 1154352.92370433,\n",
       "       1156039.24413279, 1156260.92767899, 1159091.40407385,\n",
       "       1163698.31869885, 1174762.55912436, 1168150.90721711])"
      ]
     },
     "execution_count": 84,
     "metadata": {},
     "output_type": "execute_result"
    }
   ],
   "source": [
    "predictions = lm.predict(X_test_ex2)\n",
    "predictions  "
   ]
  },
  {
   "cell_type": "markdown",
   "metadata": {},
   "source": [
    "##### จำนวนโรงงานอุตสาหกรรม (โรงงาน)"
   ]
  },
  {
   "cell_type": "code",
   "execution_count": 85,
   "metadata": {},
   "outputs": [
    {
     "data": {
      "text/html": [
       "<div>\n",
       "<style scoped>\n",
       "    .dataframe tbody tr th:only-of-type {\n",
       "        vertical-align: middle;\n",
       "    }\n",
       "\n",
       "    .dataframe tbody tr th {\n",
       "        vertical-align: top;\n",
       "    }\n",
       "\n",
       "    .dataframe thead th {\n",
       "        text-align: right;\n",
       "    }\n",
       "</style>\n",
       "<table border=\"1\" class=\"dataframe\">\n",
       "  <thead>\n",
       "    <tr style=\"text-align: right;\">\n",
       "      <th></th>\n",
       "      <th>จำนวนโรงงานอุตสาหกรรม (โรงงาน)</th>\n",
       "      <th>GPP Per capita (Baht)</th>\n",
       "    </tr>\n",
       "    <tr>\n",
       "      <th>Year</th>\n",
       "      <th></th>\n",
       "      <th></th>\n",
       "    </tr>\n",
       "  </thead>\n",
       "  <tbody>\n",
       "    <tr>\n",
       "      <th>2011</th>\n",
       "      <td>147.0</td>\n",
       "      <td>365800.945</td>\n",
       "    </tr>\n",
       "    <tr>\n",
       "      <th>2012</th>\n",
       "      <td>109.0</td>\n",
       "      <td>378620.537</td>\n",
       "    </tr>\n",
       "    <tr>\n",
       "      <th>2013</th>\n",
       "      <td>93.0</td>\n",
       "      <td>461789.496</td>\n",
       "    </tr>\n",
       "    <tr>\n",
       "      <th>2014</th>\n",
       "      <td>117.0</td>\n",
       "      <td>417614.341</td>\n",
       "    </tr>\n",
       "    <tr>\n",
       "      <th>2015</th>\n",
       "      <td>132.0</td>\n",
       "      <td>468325.834</td>\n",
       "    </tr>\n",
       "    <tr>\n",
       "      <th>2016</th>\n",
       "      <td>121.0</td>\n",
       "      <td>444803.565</td>\n",
       "    </tr>\n",
       "    <tr>\n",
       "      <th>2017</th>\n",
       "      <td>117.0</td>\n",
       "      <td>449602.967</td>\n",
       "    </tr>\n",
       "    <tr>\n",
       "      <th>2018</th>\n",
       "      <td>96.0</td>\n",
       "      <td>454952.541</td>\n",
       "    </tr>\n",
       "  </tbody>\n",
       "</table>\n",
       "</div>"
      ],
      "text/plain": [
       "      จำนวนโรงงานอุตสาหกรรม (โรงงาน)  GPP Per capita (Baht)\n",
       "Year                                                       \n",
       "2011                           147.0             365800.945\n",
       "2012                           109.0             378620.537\n",
       "2013                            93.0             461789.496\n",
       "2014                           117.0             417614.341\n",
       "2015                           132.0             468325.834\n",
       "2016                           121.0             444803.565\n",
       "2017                           117.0             449602.967\n",
       "2018                            96.0             454952.541"
      ]
     },
     "execution_count": 85,
     "metadata": {},
     "output_type": "execute_result"
    }
   ],
   "source": [
    "ex3= df1.loc[[i for i in range(2011,2019)],['จำนวนโรงงานอุตสาหกรรม (โรงงาน)','GPP Per capita (Baht)']]\n",
    "ex3"
   ]
  },
  {
   "cell_type": "code",
   "execution_count": 86,
   "metadata": {},
   "outputs": [
    {
     "name": "stderr",
     "output_type": "stream",
     "text": [
      "/Users/pantchanit/opt/anaconda3/lib/python3.9/site-packages/statsmodels/tsa/tsatools.py:142: FutureWarning: In a future version of pandas all arguments of concat except for the argument 'objs' will be keyword-only\n",
      "  x = pd.concat(x[::order], 1)\n"
     ]
    },
    {
     "data": {
      "text/html": [
       "<div>\n",
       "<style scoped>\n",
       "    .dataframe tbody tr th:only-of-type {\n",
       "        vertical-align: middle;\n",
       "    }\n",
       "\n",
       "    .dataframe tbody tr th {\n",
       "        vertical-align: top;\n",
       "    }\n",
       "\n",
       "    .dataframe thead th {\n",
       "        text-align: right;\n",
       "    }\n",
       "</style>\n",
       "<table border=\"1\" class=\"dataframe\">\n",
       "  <thead>\n",
       "    <tr style=\"text-align: right;\">\n",
       "      <th></th>\n",
       "      <th>GPP Per capita (Baht)</th>\n",
       "      <th>const</th>\n",
       "    </tr>\n",
       "    <tr>\n",
       "      <th>Year</th>\n",
       "      <th></th>\n",
       "      <th></th>\n",
       "    </tr>\n",
       "  </thead>\n",
       "  <tbody>\n",
       "    <tr>\n",
       "      <th>2011</th>\n",
       "      <td>365800.945</td>\n",
       "      <td>1.0</td>\n",
       "    </tr>\n",
       "    <tr>\n",
       "      <th>2012</th>\n",
       "      <td>378620.537</td>\n",
       "      <td>1.0</td>\n",
       "    </tr>\n",
       "    <tr>\n",
       "      <th>2013</th>\n",
       "      <td>461789.496</td>\n",
       "      <td>1.0</td>\n",
       "    </tr>\n",
       "    <tr>\n",
       "      <th>2014</th>\n",
       "      <td>417614.341</td>\n",
       "      <td>1.0</td>\n",
       "    </tr>\n",
       "    <tr>\n",
       "      <th>2015</th>\n",
       "      <td>468325.834</td>\n",
       "      <td>1.0</td>\n",
       "    </tr>\n",
       "  </tbody>\n",
       "</table>\n",
       "</div>"
      ],
      "text/plain": [
       "      GPP Per capita (Baht)  const\n",
       "Year                              \n",
       "2011             365800.945    1.0\n",
       "2012             378620.537    1.0\n",
       "2013             461789.496    1.0\n",
       "2014             417614.341    1.0\n",
       "2015             468325.834    1.0"
      ]
     },
     "execution_count": 86,
     "metadata": {},
     "output_type": "execute_result"
    }
   ],
   "source": [
    "X = ex3[['GPP Per capita (Baht)']]\n",
    "X = sm.add_constant(X, prepend=False)\n",
    "X.head()"
   ]
  },
  {
   "cell_type": "code",
   "execution_count": 87,
   "metadata": {},
   "outputs": [
    {
     "data": {
      "text/plain": [
       "Year\n",
       "2011    147.0\n",
       "2012    109.0\n",
       "2013     93.0\n",
       "2014    117.0\n",
       "2015    132.0\n",
       "Name: จำนวนโรงงานอุตสาหกรรม (โรงงาน), dtype: float64"
      ]
     },
     "execution_count": 87,
     "metadata": {},
     "output_type": "execute_result"
    }
   ],
   "source": [
    "y = ex3['จำนวนโรงงานอุตสาหกรรม (โรงงาน)']\n",
    "y.head()"
   ]
  },
  {
   "cell_type": "code",
   "execution_count": 88,
   "metadata": {},
   "outputs": [],
   "source": [
    "X_train, X_test, y_train, y_test = train_test_split(X, y, test_size=0.05,random_state=14)  "
   ]
  },
  {
   "cell_type": "code",
   "execution_count": 89,
   "metadata": {},
   "outputs": [
    {
     "data": {
      "text/plain": [
       "LinearRegression()"
      ]
     },
     "execution_count": 89,
     "metadata": {},
     "output_type": "execute_result"
    }
   ],
   "source": [
    "lm = LinearRegression()\n",
    "lm.fit(X_train, y_train)"
   ]
  },
  {
   "cell_type": "code",
   "execution_count": 90,
   "metadata": {},
   "outputs": [
    {
     "data": {
      "text/html": [
       "<div>\n",
       "<style scoped>\n",
       "    .dataframe tbody tr th:only-of-type {\n",
       "        vertical-align: middle;\n",
       "    }\n",
       "\n",
       "    .dataframe tbody tr th {\n",
       "        vertical-align: top;\n",
       "    }\n",
       "\n",
       "    .dataframe thead th {\n",
       "        text-align: right;\n",
       "    }\n",
       "</style>\n",
       "<table border=\"1\" class=\"dataframe\">\n",
       "  <thead>\n",
       "    <tr style=\"text-align: right;\">\n",
       "      <th></th>\n",
       "      <th>GPP Per capita (Baht)</th>\n",
       "    </tr>\n",
       "    <tr>\n",
       "      <th>Year</th>\n",
       "      <th></th>\n",
       "    </tr>\n",
       "  </thead>\n",
       "  <tbody>\n",
       "    <tr>\n",
       "      <th>1995</th>\n",
       "      <td>143862.554</td>\n",
       "    </tr>\n",
       "    <tr>\n",
       "      <th>1996</th>\n",
       "      <td>171503.917</td>\n",
       "    </tr>\n",
       "    <tr>\n",
       "      <th>1997</th>\n",
       "      <td>179223.451</td>\n",
       "    </tr>\n",
       "    <tr>\n",
       "      <th>1998</th>\n",
       "      <td>180611.806</td>\n",
       "    </tr>\n",
       "    <tr>\n",
       "      <th>1999</th>\n",
       "      <td>189856.706</td>\n",
       "    </tr>\n",
       "    <tr>\n",
       "      <th>2000</th>\n",
       "      <td>219141.847</td>\n",
       "    </tr>\n",
       "    <tr>\n",
       "      <th>2001</th>\n",
       "      <td>219060.592</td>\n",
       "    </tr>\n",
       "    <tr>\n",
       "      <th>2002</th>\n",
       "      <td>231122.492</td>\n",
       "    </tr>\n",
       "    <tr>\n",
       "      <th>2003</th>\n",
       "      <td>256743.101</td>\n",
       "    </tr>\n",
       "    <tr>\n",
       "      <th>2004</th>\n",
       "      <td>271765.117</td>\n",
       "    </tr>\n",
       "    <tr>\n",
       "      <th>2005</th>\n",
       "      <td>273739.910</td>\n",
       "    </tr>\n",
       "    <tr>\n",
       "      <th>2006</th>\n",
       "      <td>298954.253</td>\n",
       "    </tr>\n",
       "    <tr>\n",
       "      <th>2007</th>\n",
       "      <td>339993.396</td>\n",
       "    </tr>\n",
       "    <tr>\n",
       "      <th>2008</th>\n",
       "      <td>438555.445</td>\n",
       "    </tr>\n",
       "    <tr>\n",
       "      <th>2009</th>\n",
       "      <td>379657.777</td>\n",
       "    </tr>\n",
       "    <tr>\n",
       "      <th>2010</th>\n",
       "      <td>427733.436</td>\n",
       "    </tr>\n",
       "  </tbody>\n",
       "</table>\n",
       "</div>"
      ],
      "text/plain": [
       "      GPP Per capita (Baht)\n",
       "Year                       \n",
       "1995             143862.554\n",
       "1996             171503.917\n",
       "1997             179223.451\n",
       "1998             180611.806\n",
       "1999             189856.706\n",
       "2000             219141.847\n",
       "2001             219060.592\n",
       "2002             231122.492\n",
       "2003             256743.101\n",
       "2004             271765.117\n",
       "2005             273739.910\n",
       "2006             298954.253\n",
       "2007             339993.396\n",
       "2008             438555.445\n",
       "2009             379657.777\n",
       "2010             427733.436"
      ]
     },
     "execution_count": 90,
     "metadata": {},
     "output_type": "execute_result"
    }
   ],
   "source": [
    "test_ex3 = df1.loc[[i for i in range(1995,2011)],['GPP Per capita (Baht)']]\n",
    "test_ex3"
   ]
  },
  {
   "cell_type": "code",
   "execution_count": 91,
   "metadata": {},
   "outputs": [
    {
     "name": "stderr",
     "output_type": "stream",
     "text": [
      "/Users/pantchanit/opt/anaconda3/lib/python3.9/site-packages/statsmodels/tsa/tsatools.py:142: FutureWarning: In a future version of pandas all arguments of concat except for the argument 'objs' will be keyword-only\n",
      "  x = pd.concat(x[::order], 1)\n"
     ]
    },
    {
     "data": {
      "text/html": [
       "<div>\n",
       "<style scoped>\n",
       "    .dataframe tbody tr th:only-of-type {\n",
       "        vertical-align: middle;\n",
       "    }\n",
       "\n",
       "    .dataframe tbody tr th {\n",
       "        vertical-align: top;\n",
       "    }\n",
       "\n",
       "    .dataframe thead th {\n",
       "        text-align: right;\n",
       "    }\n",
       "</style>\n",
       "<table border=\"1\" class=\"dataframe\">\n",
       "  <thead>\n",
       "    <tr style=\"text-align: right;\">\n",
       "      <th></th>\n",
       "      <th>GPP Per capita (Baht)</th>\n",
       "      <th>const</th>\n",
       "    </tr>\n",
       "    <tr>\n",
       "      <th>Year</th>\n",
       "      <th></th>\n",
       "      <th></th>\n",
       "    </tr>\n",
       "  </thead>\n",
       "  <tbody>\n",
       "    <tr>\n",
       "      <th>1995</th>\n",
       "      <td>143862.554</td>\n",
       "      <td>1.0</td>\n",
       "    </tr>\n",
       "    <tr>\n",
       "      <th>1996</th>\n",
       "      <td>171503.917</td>\n",
       "      <td>1.0</td>\n",
       "    </tr>\n",
       "    <tr>\n",
       "      <th>1997</th>\n",
       "      <td>179223.451</td>\n",
       "      <td>1.0</td>\n",
       "    </tr>\n",
       "    <tr>\n",
       "      <th>1998</th>\n",
       "      <td>180611.806</td>\n",
       "      <td>1.0</td>\n",
       "    </tr>\n",
       "    <tr>\n",
       "      <th>1999</th>\n",
       "      <td>189856.706</td>\n",
       "      <td>1.0</td>\n",
       "    </tr>\n",
       "  </tbody>\n",
       "</table>\n",
       "</div>"
      ],
      "text/plain": [
       "      GPP Per capita (Baht)  const\n",
       "Year                              \n",
       "1995             143862.554    1.0\n",
       "1996             171503.917    1.0\n",
       "1997             179223.451    1.0\n",
       "1998             180611.806    1.0\n",
       "1999             189856.706    1.0"
      ]
     },
     "execution_count": 91,
     "metadata": {},
     "output_type": "execute_result"
    }
   ],
   "source": [
    "X_test_ex3 = test_ex3[['GPP Per capita (Baht)']]\n",
    "X_test_ex3 = sm.add_constant(X_test_ex3, prepend=False)\n",
    "X_test_ex3.head()"
   ]
  },
  {
   "cell_type": "code",
   "execution_count": 92,
   "metadata": {},
   "outputs": [
    {
     "data": {
      "text/plain": [
       "array([177.28011573, 171.30690907, 169.63874343, 169.33872453,\n",
       "       167.34093237, 161.01251075, 161.03006969, 158.42353319,\n",
       "       152.88700475, 149.64079703, 149.21405083, 143.76531512,\n",
       "       134.89689274, 113.59796158, 126.32555185, 115.93656175])"
      ]
     },
     "execution_count": 92,
     "metadata": {},
     "output_type": "execute_result"
    }
   ],
   "source": [
    "predictions = lm.predict(X_test_ex3)\n",
    "predictions  "
   ]
  },
  {
   "cell_type": "markdown",
   "metadata": {},
   "source": [
    "##### สวนผักและไม้ดอก (ไร่)"
   ]
  },
  {
   "cell_type": "code",
   "execution_count": 93,
   "metadata": {},
   "outputs": [
    {
     "data": {
      "text/html": [
       "<div>\n",
       "<style scoped>\n",
       "    .dataframe tbody tr th:only-of-type {\n",
       "        vertical-align: middle;\n",
       "    }\n",
       "\n",
       "    .dataframe tbody tr th {\n",
       "        vertical-align: top;\n",
       "    }\n",
       "\n",
       "    .dataframe thead th {\n",
       "        text-align: right;\n",
       "    }\n",
       "</style>\n",
       "<table border=\"1\" class=\"dataframe\">\n",
       "  <thead>\n",
       "    <tr style=\"text-align: right;\">\n",
       "      <th></th>\n",
       "      <th>เนื้อที่สวนผักและไม้ดอก (ไร่)</th>\n",
       "      <th>GPP Per capita (Baht)</th>\n",
       "    </tr>\n",
       "    <tr>\n",
       "      <th>Year</th>\n",
       "      <th></th>\n",
       "      <th></th>\n",
       "    </tr>\n",
       "  </thead>\n",
       "  <tbody>\n",
       "    <tr>\n",
       "      <th>2010</th>\n",
       "      <td>9042.000000</td>\n",
       "      <td>427733.436</td>\n",
       "    </tr>\n",
       "    <tr>\n",
       "      <th>2011</th>\n",
       "      <td>9461.000000</td>\n",
       "      <td>365800.945</td>\n",
       "    </tr>\n",
       "    <tr>\n",
       "      <th>2012</th>\n",
       "      <td>9598.000000</td>\n",
       "      <td>378620.537</td>\n",
       "    </tr>\n",
       "    <tr>\n",
       "      <th>2013</th>\n",
       "      <td>9573.830465</td>\n",
       "      <td>461789.496</td>\n",
       "    </tr>\n",
       "    <tr>\n",
       "      <th>2014</th>\n",
       "      <td>9510.000000</td>\n",
       "      <td>417614.341</td>\n",
       "    </tr>\n",
       "    <tr>\n",
       "      <th>2015</th>\n",
       "      <td>9500.000000</td>\n",
       "      <td>468325.834</td>\n",
       "    </tr>\n",
       "    <tr>\n",
       "      <th>2016</th>\n",
       "      <td>9711.000000</td>\n",
       "      <td>444803.565</td>\n",
       "    </tr>\n",
       "    <tr>\n",
       "      <th>2017</th>\n",
       "      <td>9720.000000</td>\n",
       "      <td>449602.967</td>\n",
       "    </tr>\n",
       "    <tr>\n",
       "      <th>2018</th>\n",
       "      <td>9713.000000</td>\n",
       "      <td>454952.541</td>\n",
       "    </tr>\n",
       "  </tbody>\n",
       "</table>\n",
       "</div>"
      ],
      "text/plain": [
       "      เนื้อที่สวนผักและไม้ดอก (ไร่)  GPP Per capita (Baht)\n",
       "Year                                                      \n",
       "2010                    9042.000000             427733.436\n",
       "2011                    9461.000000             365800.945\n",
       "2012                    9598.000000             378620.537\n",
       "2013                    9573.830465             461789.496\n",
       "2014                    9510.000000             417614.341\n",
       "2015                    9500.000000             468325.834\n",
       "2016                    9711.000000             444803.565\n",
       "2017                    9720.000000             449602.967\n",
       "2018                    9713.000000             454952.541"
      ]
     },
     "execution_count": 93,
     "metadata": {},
     "output_type": "execute_result"
    }
   ],
   "source": [
    "ex4 = df1.loc[[i for i in range(2010,2019)],['เนื้อที่สวนผักและไม้ดอก (ไร่)','GPP Per capita (Baht)']]\n",
    "ex4"
   ]
  },
  {
   "cell_type": "code",
   "execution_count": 94,
   "metadata": {},
   "outputs": [
    {
     "name": "stderr",
     "output_type": "stream",
     "text": [
      "/Users/pantchanit/opt/anaconda3/lib/python3.9/site-packages/statsmodels/tsa/tsatools.py:142: FutureWarning: In a future version of pandas all arguments of concat except for the argument 'objs' will be keyword-only\n",
      "  x = pd.concat(x[::order], 1)\n"
     ]
    },
    {
     "data": {
      "text/html": [
       "<div>\n",
       "<style scoped>\n",
       "    .dataframe tbody tr th:only-of-type {\n",
       "        vertical-align: middle;\n",
       "    }\n",
       "\n",
       "    .dataframe tbody tr th {\n",
       "        vertical-align: top;\n",
       "    }\n",
       "\n",
       "    .dataframe thead th {\n",
       "        text-align: right;\n",
       "    }\n",
       "</style>\n",
       "<table border=\"1\" class=\"dataframe\">\n",
       "  <thead>\n",
       "    <tr style=\"text-align: right;\">\n",
       "      <th></th>\n",
       "      <th>GPP Per capita (Baht)</th>\n",
       "      <th>const</th>\n",
       "    </tr>\n",
       "    <tr>\n",
       "      <th>Year</th>\n",
       "      <th></th>\n",
       "      <th></th>\n",
       "    </tr>\n",
       "  </thead>\n",
       "  <tbody>\n",
       "    <tr>\n",
       "      <th>2010</th>\n",
       "      <td>427733.436</td>\n",
       "      <td>1.0</td>\n",
       "    </tr>\n",
       "    <tr>\n",
       "      <th>2011</th>\n",
       "      <td>365800.945</td>\n",
       "      <td>1.0</td>\n",
       "    </tr>\n",
       "    <tr>\n",
       "      <th>2012</th>\n",
       "      <td>378620.537</td>\n",
       "      <td>1.0</td>\n",
       "    </tr>\n",
       "    <tr>\n",
       "      <th>2013</th>\n",
       "      <td>461789.496</td>\n",
       "      <td>1.0</td>\n",
       "    </tr>\n",
       "    <tr>\n",
       "      <th>2014</th>\n",
       "      <td>417614.341</td>\n",
       "      <td>1.0</td>\n",
       "    </tr>\n",
       "  </tbody>\n",
       "</table>\n",
       "</div>"
      ],
      "text/plain": [
       "      GPP Per capita (Baht)  const\n",
       "Year                              \n",
       "2010             427733.436    1.0\n",
       "2011             365800.945    1.0\n",
       "2012             378620.537    1.0\n",
       "2013             461789.496    1.0\n",
       "2014             417614.341    1.0"
      ]
     },
     "execution_count": 94,
     "metadata": {},
     "output_type": "execute_result"
    }
   ],
   "source": [
    "X = ex4[['GPP Per capita (Baht)']]\n",
    "X = sm.add_constant(X, prepend=False)\n",
    "X.head()"
   ]
  },
  {
   "cell_type": "code",
   "execution_count": 95,
   "metadata": {},
   "outputs": [
    {
     "data": {
      "text/plain": [
       "Year\n",
       "2010    9042.000000\n",
       "2011    9461.000000\n",
       "2012    9598.000000\n",
       "2013    9573.830465\n",
       "2014    9510.000000\n",
       "Name: เนื้อที่สวนผักและไม้ดอก (ไร่), dtype: float64"
      ]
     },
     "execution_count": 95,
     "metadata": {},
     "output_type": "execute_result"
    }
   ],
   "source": [
    "y = ex4['เนื้อที่สวนผักและไม้ดอก (ไร่)']\n",
    "y.head()"
   ]
  },
  {
   "cell_type": "code",
   "execution_count": 96,
   "metadata": {},
   "outputs": [],
   "source": [
    "X_train, X_test, y_train, y_test = train_test_split(X, y, test_size=0.01,random_state=14)"
   ]
  },
  {
   "cell_type": "code",
   "execution_count": 97,
   "metadata": {},
   "outputs": [
    {
     "data": {
      "text/plain": [
       "LinearRegression()"
      ]
     },
     "execution_count": 97,
     "metadata": {},
     "output_type": "execute_result"
    }
   ],
   "source": [
    "lm = LinearRegression()\n",
    "lm.fit(X_train, y_train)"
   ]
  },
  {
   "cell_type": "code",
   "execution_count": 98,
   "metadata": {},
   "outputs": [
    {
     "data": {
      "text/html": [
       "<div>\n",
       "<style scoped>\n",
       "    .dataframe tbody tr th:only-of-type {\n",
       "        vertical-align: middle;\n",
       "    }\n",
       "\n",
       "    .dataframe tbody tr th {\n",
       "        vertical-align: top;\n",
       "    }\n",
       "\n",
       "    .dataframe thead th {\n",
       "        text-align: right;\n",
       "    }\n",
       "</style>\n",
       "<table border=\"1\" class=\"dataframe\">\n",
       "  <thead>\n",
       "    <tr style=\"text-align: right;\">\n",
       "      <th></th>\n",
       "      <th>GPP Per capita (Baht)</th>\n",
       "    </tr>\n",
       "    <tr>\n",
       "      <th>Year</th>\n",
       "      <th></th>\n",
       "    </tr>\n",
       "  </thead>\n",
       "  <tbody>\n",
       "    <tr>\n",
       "      <th>1995</th>\n",
       "      <td>143862.554</td>\n",
       "    </tr>\n",
       "    <tr>\n",
       "      <th>1996</th>\n",
       "      <td>171503.917</td>\n",
       "    </tr>\n",
       "    <tr>\n",
       "      <th>1997</th>\n",
       "      <td>179223.451</td>\n",
       "    </tr>\n",
       "    <tr>\n",
       "      <th>1998</th>\n",
       "      <td>180611.806</td>\n",
       "    </tr>\n",
       "    <tr>\n",
       "      <th>1999</th>\n",
       "      <td>189856.706</td>\n",
       "    </tr>\n",
       "    <tr>\n",
       "      <th>2000</th>\n",
       "      <td>219141.847</td>\n",
       "    </tr>\n",
       "    <tr>\n",
       "      <th>2001</th>\n",
       "      <td>219060.592</td>\n",
       "    </tr>\n",
       "    <tr>\n",
       "      <th>2002</th>\n",
       "      <td>231122.492</td>\n",
       "    </tr>\n",
       "    <tr>\n",
       "      <th>2003</th>\n",
       "      <td>256743.101</td>\n",
       "    </tr>\n",
       "    <tr>\n",
       "      <th>2004</th>\n",
       "      <td>271765.117</td>\n",
       "    </tr>\n",
       "    <tr>\n",
       "      <th>2005</th>\n",
       "      <td>273739.910</td>\n",
       "    </tr>\n",
       "    <tr>\n",
       "      <th>2006</th>\n",
       "      <td>298954.253</td>\n",
       "    </tr>\n",
       "    <tr>\n",
       "      <th>2007</th>\n",
       "      <td>339993.396</td>\n",
       "    </tr>\n",
       "    <tr>\n",
       "      <th>2008</th>\n",
       "      <td>438555.445</td>\n",
       "    </tr>\n",
       "    <tr>\n",
       "      <th>2009</th>\n",
       "      <td>379657.777</td>\n",
       "    </tr>\n",
       "  </tbody>\n",
       "</table>\n",
       "</div>"
      ],
      "text/plain": [
       "      GPP Per capita (Baht)\n",
       "Year                       \n",
       "1995             143862.554\n",
       "1996             171503.917\n",
       "1997             179223.451\n",
       "1998             180611.806\n",
       "1999             189856.706\n",
       "2000             219141.847\n",
       "2001             219060.592\n",
       "2002             231122.492\n",
       "2003             256743.101\n",
       "2004             271765.117\n",
       "2005             273739.910\n",
       "2006             298954.253\n",
       "2007             339993.396\n",
       "2008             438555.445\n",
       "2009             379657.777"
      ]
     },
     "execution_count": 98,
     "metadata": {},
     "output_type": "execute_result"
    }
   ],
   "source": [
    "test_ex4 = df1.loc[[i for i in range(1995,2010)],['GPP Per capita (Baht)']]\n",
    "test_ex4"
   ]
  },
  {
   "cell_type": "code",
   "execution_count": 99,
   "metadata": {},
   "outputs": [
    {
     "name": "stderr",
     "output_type": "stream",
     "text": [
      "/Users/pantchanit/opt/anaconda3/lib/python3.9/site-packages/statsmodels/tsa/tsatools.py:142: FutureWarning: In a future version of pandas all arguments of concat except for the argument 'objs' will be keyword-only\n",
      "  x = pd.concat(x[::order], 1)\n"
     ]
    },
    {
     "data": {
      "text/html": [
       "<div>\n",
       "<style scoped>\n",
       "    .dataframe tbody tr th:only-of-type {\n",
       "        vertical-align: middle;\n",
       "    }\n",
       "\n",
       "    .dataframe tbody tr th {\n",
       "        vertical-align: top;\n",
       "    }\n",
       "\n",
       "    .dataframe thead th {\n",
       "        text-align: right;\n",
       "    }\n",
       "</style>\n",
       "<table border=\"1\" class=\"dataframe\">\n",
       "  <thead>\n",
       "    <tr style=\"text-align: right;\">\n",
       "      <th></th>\n",
       "      <th>GPP Per capita (Baht)</th>\n",
       "      <th>const</th>\n",
       "    </tr>\n",
       "    <tr>\n",
       "      <th>Year</th>\n",
       "      <th></th>\n",
       "      <th></th>\n",
       "    </tr>\n",
       "  </thead>\n",
       "  <tbody>\n",
       "    <tr>\n",
       "      <th>1995</th>\n",
       "      <td>143862.554</td>\n",
       "      <td>1.0</td>\n",
       "    </tr>\n",
       "    <tr>\n",
       "      <th>1996</th>\n",
       "      <td>171503.917</td>\n",
       "      <td>1.0</td>\n",
       "    </tr>\n",
       "    <tr>\n",
       "      <th>1997</th>\n",
       "      <td>179223.451</td>\n",
       "      <td>1.0</td>\n",
       "    </tr>\n",
       "    <tr>\n",
       "      <th>1998</th>\n",
       "      <td>180611.806</td>\n",
       "      <td>1.0</td>\n",
       "    </tr>\n",
       "    <tr>\n",
       "      <th>1999</th>\n",
       "      <td>189856.706</td>\n",
       "      <td>1.0</td>\n",
       "    </tr>\n",
       "  </tbody>\n",
       "</table>\n",
       "</div>"
      ],
      "text/plain": [
       "      GPP Per capita (Baht)  const\n",
       "Year                              \n",
       "1995             143862.554    1.0\n",
       "1996             171503.917    1.0\n",
       "1997             179223.451    1.0\n",
       "1998             180611.806    1.0\n",
       "1999             189856.706    1.0"
      ]
     },
     "execution_count": 99,
     "metadata": {},
     "output_type": "execute_result"
    }
   ],
   "source": [
    "X_test_ex4 = test_ex4[['GPP Per capita (Baht)']]\n",
    "X_test_ex4 = sm.add_constant(X_test_ex4, prepend=False)\n",
    "X_test_ex4.head()"
   ]
  },
  {
   "cell_type": "code",
   "execution_count": 100,
   "metadata": {},
   "outputs": [
    {
     "data": {
      "text/plain": [
       "array([9067.81141342, 9114.3264205 , 9127.31688622, 9129.65321611,\n",
       "       9145.21057444, 9194.49173835, 9194.35500208, 9214.65282039,\n",
       "       9257.76729375, 9283.04640826, 9286.3695986 , 9328.80040575,\n",
       "       9397.86125586, 9563.72190486, 9464.60865044])"
      ]
     },
     "execution_count": 100,
     "metadata": {},
     "output_type": "execute_result"
    }
   ],
   "source": [
    "predictions = lm.predict(X_test_ex4)\n",
    "predictions  "
   ]
  },
  {
   "cell_type": "markdown",
   "metadata": {},
   "source": [
    "##### เนื้อที่สำหรับปลูกนาข้าว (ไร่)"
   ]
  },
  {
   "cell_type": "code",
   "execution_count": 101,
   "metadata": {},
   "outputs": [
    {
     "data": {
      "text/html": [
       "<div>\n",
       "<style scoped>\n",
       "    .dataframe tbody tr th:only-of-type {\n",
       "        vertical-align: middle;\n",
       "    }\n",
       "\n",
       "    .dataframe tbody tr th {\n",
       "        vertical-align: top;\n",
       "    }\n",
       "\n",
       "    .dataframe thead th {\n",
       "        text-align: right;\n",
       "    }\n",
       "</style>\n",
       "<table border=\"1\" class=\"dataframe\">\n",
       "  <thead>\n",
       "    <tr style=\"text-align: right;\">\n",
       "      <th></th>\n",
       "      <th>เนื้อที่สำหรับปลูกนาข้าว (ไร่)</th>\n",
       "      <th>GPP Per capita (Baht)</th>\n",
       "    </tr>\n",
       "    <tr>\n",
       "      <th>Year</th>\n",
       "      <th></th>\n",
       "      <th></th>\n",
       "    </tr>\n",
       "  </thead>\n",
       "  <tbody>\n",
       "    <tr>\n",
       "      <th>2010</th>\n",
       "      <td>1.046128e+06</td>\n",
       "      <td>427733.436</td>\n",
       "    </tr>\n",
       "    <tr>\n",
       "      <th>2011</th>\n",
       "      <td>1.065030e+06</td>\n",
       "      <td>365800.945</td>\n",
       "    </tr>\n",
       "    <tr>\n",
       "      <th>2012</th>\n",
       "      <td>1.065565e+06</td>\n",
       "      <td>378620.537</td>\n",
       "    </tr>\n",
       "    <tr>\n",
       "      <th>2013</th>\n",
       "      <td>1.065336e+06</td>\n",
       "      <td>461789.496</td>\n",
       "    </tr>\n",
       "    <tr>\n",
       "      <th>2014</th>\n",
       "      <td>1.065583e+06</td>\n",
       "      <td>417614.341</td>\n",
       "    </tr>\n",
       "    <tr>\n",
       "      <th>2015</th>\n",
       "      <td>1.065016e+06</td>\n",
       "      <td>468325.834</td>\n",
       "    </tr>\n",
       "    <tr>\n",
       "      <th>2016</th>\n",
       "      <td>1.065315e+06</td>\n",
       "      <td>444803.565</td>\n",
       "    </tr>\n",
       "    <tr>\n",
       "      <th>2017</th>\n",
       "      <td>1.065376e+06</td>\n",
       "      <td>449602.967</td>\n",
       "    </tr>\n",
       "    <tr>\n",
       "      <th>2018</th>\n",
       "      <td>1.065197e+06</td>\n",
       "      <td>454952.541</td>\n",
       "    </tr>\n",
       "  </tbody>\n",
       "</table>\n",
       "</div>"
      ],
      "text/plain": [
       "      เนื้อที่สำหรับปลูกนาข้าว (ไร่)  GPP Per capita (Baht)\n",
       "Year                                                       \n",
       "2010                    1.046128e+06             427733.436\n",
       "2011                    1.065030e+06             365800.945\n",
       "2012                    1.065565e+06             378620.537\n",
       "2013                    1.065336e+06             461789.496\n",
       "2014                    1.065583e+06             417614.341\n",
       "2015                    1.065016e+06             468325.834\n",
       "2016                    1.065315e+06             444803.565\n",
       "2017                    1.065376e+06             449602.967\n",
       "2018                    1.065197e+06             454952.541"
      ]
     },
     "execution_count": 101,
     "metadata": {},
     "output_type": "execute_result"
    }
   ],
   "source": [
    "ex5 = df1.loc[[i for i in range(2010,2019)],['เนื้อที่สำหรับปลูกนาข้าว (ไร่)','GPP Per capita (Baht)']]\n",
    "ex5"
   ]
  },
  {
   "cell_type": "code",
   "execution_count": 102,
   "metadata": {},
   "outputs": [
    {
     "name": "stderr",
     "output_type": "stream",
     "text": [
      "/Users/pantchanit/opt/anaconda3/lib/python3.9/site-packages/statsmodels/tsa/tsatools.py:142: FutureWarning: In a future version of pandas all arguments of concat except for the argument 'objs' will be keyword-only\n",
      "  x = pd.concat(x[::order], 1)\n"
     ]
    },
    {
     "data": {
      "text/html": [
       "<div>\n",
       "<style scoped>\n",
       "    .dataframe tbody tr th:only-of-type {\n",
       "        vertical-align: middle;\n",
       "    }\n",
       "\n",
       "    .dataframe tbody tr th {\n",
       "        vertical-align: top;\n",
       "    }\n",
       "\n",
       "    .dataframe thead th {\n",
       "        text-align: right;\n",
       "    }\n",
       "</style>\n",
       "<table border=\"1\" class=\"dataframe\">\n",
       "  <thead>\n",
       "    <tr style=\"text-align: right;\">\n",
       "      <th></th>\n",
       "      <th>GPP Per capita (Baht)</th>\n",
       "      <th>const</th>\n",
       "    </tr>\n",
       "    <tr>\n",
       "      <th>Year</th>\n",
       "      <th></th>\n",
       "      <th></th>\n",
       "    </tr>\n",
       "  </thead>\n",
       "  <tbody>\n",
       "    <tr>\n",
       "      <th>2010</th>\n",
       "      <td>427733.436</td>\n",
       "      <td>1.0</td>\n",
       "    </tr>\n",
       "    <tr>\n",
       "      <th>2011</th>\n",
       "      <td>365800.945</td>\n",
       "      <td>1.0</td>\n",
       "    </tr>\n",
       "    <tr>\n",
       "      <th>2012</th>\n",
       "      <td>378620.537</td>\n",
       "      <td>1.0</td>\n",
       "    </tr>\n",
       "    <tr>\n",
       "      <th>2013</th>\n",
       "      <td>461789.496</td>\n",
       "      <td>1.0</td>\n",
       "    </tr>\n",
       "    <tr>\n",
       "      <th>2014</th>\n",
       "      <td>417614.341</td>\n",
       "      <td>1.0</td>\n",
       "    </tr>\n",
       "  </tbody>\n",
       "</table>\n",
       "</div>"
      ],
      "text/plain": [
       "      GPP Per capita (Baht)  const\n",
       "Year                              \n",
       "2010             427733.436    1.0\n",
       "2011             365800.945    1.0\n",
       "2012             378620.537    1.0\n",
       "2013             461789.496    1.0\n",
       "2014             417614.341    1.0"
      ]
     },
     "execution_count": 102,
     "metadata": {},
     "output_type": "execute_result"
    }
   ],
   "source": [
    "X = ex5[['GPP Per capita (Baht)']]\n",
    "X = sm.add_constant(X, prepend=False)\n",
    "X.head()"
   ]
  },
  {
   "cell_type": "code",
   "execution_count": 103,
   "metadata": {},
   "outputs": [
    {
     "data": {
      "text/plain": [
       "Year\n",
       "2010    1.046128e+06\n",
       "2011    1.065030e+06\n",
       "2012    1.065565e+06\n",
       "2013    1.065336e+06\n",
       "2014    1.065583e+06\n",
       "Name: เนื้อที่สำหรับปลูกนาข้าว (ไร่), dtype: float64"
      ]
     },
     "execution_count": 103,
     "metadata": {},
     "output_type": "execute_result"
    }
   ],
   "source": [
    "y = ex5['เนื้อที่สำหรับปลูกนาข้าว (ไร่)']\n",
    "y.head()"
   ]
  },
  {
   "cell_type": "code",
   "execution_count": 104,
   "metadata": {},
   "outputs": [],
   "source": [
    "X_train, X_test, y_train, y_test = train_test_split(X, y, test_size=0.000000000001,random_state=14)"
   ]
  },
  {
   "cell_type": "code",
   "execution_count": 105,
   "metadata": {},
   "outputs": [
    {
     "data": {
      "text/plain": [
       "LinearRegression()"
      ]
     },
     "execution_count": 105,
     "metadata": {},
     "output_type": "execute_result"
    }
   ],
   "source": [
    "lm = LinearRegression()\n",
    "lm.fit(X_train, y_train)"
   ]
  },
  {
   "cell_type": "code",
   "execution_count": 106,
   "metadata": {},
   "outputs": [
    {
     "data": {
      "text/html": [
       "<div>\n",
       "<style scoped>\n",
       "    .dataframe tbody tr th:only-of-type {\n",
       "        vertical-align: middle;\n",
       "    }\n",
       "\n",
       "    .dataframe tbody tr th {\n",
       "        vertical-align: top;\n",
       "    }\n",
       "\n",
       "    .dataframe thead th {\n",
       "        text-align: right;\n",
       "    }\n",
       "</style>\n",
       "<table border=\"1\" class=\"dataframe\">\n",
       "  <thead>\n",
       "    <tr style=\"text-align: right;\">\n",
       "      <th></th>\n",
       "      <th>GPP Per capita (Baht)</th>\n",
       "    </tr>\n",
       "    <tr>\n",
       "      <th>Year</th>\n",
       "      <th></th>\n",
       "    </tr>\n",
       "  </thead>\n",
       "  <tbody>\n",
       "    <tr>\n",
       "      <th>1995</th>\n",
       "      <td>143862.554</td>\n",
       "    </tr>\n",
       "    <tr>\n",
       "      <th>1996</th>\n",
       "      <td>171503.917</td>\n",
       "    </tr>\n",
       "    <tr>\n",
       "      <th>1997</th>\n",
       "      <td>179223.451</td>\n",
       "    </tr>\n",
       "    <tr>\n",
       "      <th>1998</th>\n",
       "      <td>180611.806</td>\n",
       "    </tr>\n",
       "    <tr>\n",
       "      <th>1999</th>\n",
       "      <td>189856.706</td>\n",
       "    </tr>\n",
       "    <tr>\n",
       "      <th>2000</th>\n",
       "      <td>219141.847</td>\n",
       "    </tr>\n",
       "    <tr>\n",
       "      <th>2001</th>\n",
       "      <td>219060.592</td>\n",
       "    </tr>\n",
       "    <tr>\n",
       "      <th>2002</th>\n",
       "      <td>231122.492</td>\n",
       "    </tr>\n",
       "    <tr>\n",
       "      <th>2003</th>\n",
       "      <td>256743.101</td>\n",
       "    </tr>\n",
       "    <tr>\n",
       "      <th>2004</th>\n",
       "      <td>271765.117</td>\n",
       "    </tr>\n",
       "    <tr>\n",
       "      <th>2005</th>\n",
       "      <td>273739.910</td>\n",
       "    </tr>\n",
       "    <tr>\n",
       "      <th>2006</th>\n",
       "      <td>298954.253</td>\n",
       "    </tr>\n",
       "    <tr>\n",
       "      <th>2007</th>\n",
       "      <td>339993.396</td>\n",
       "    </tr>\n",
       "    <tr>\n",
       "      <th>2008</th>\n",
       "      <td>438555.445</td>\n",
       "    </tr>\n",
       "    <tr>\n",
       "      <th>2009</th>\n",
       "      <td>379657.777</td>\n",
       "    </tr>\n",
       "  </tbody>\n",
       "</table>\n",
       "</div>"
      ],
      "text/plain": [
       "      GPP Per capita (Baht)\n",
       "Year                       \n",
       "1995             143862.554\n",
       "1996             171503.917\n",
       "1997             179223.451\n",
       "1998             180611.806\n",
       "1999             189856.706\n",
       "2000             219141.847\n",
       "2001             219060.592\n",
       "2002             231122.492\n",
       "2003             256743.101\n",
       "2004             271765.117\n",
       "2005             273739.910\n",
       "2006             298954.253\n",
       "2007             339993.396\n",
       "2008             438555.445\n",
       "2009             379657.777"
      ]
     },
     "execution_count": 106,
     "metadata": {},
     "output_type": "execute_result"
    }
   ],
   "source": [
    "test_ex5 = df1.loc[[i for i in range(1995,2010)],['GPP Per capita (Baht)']]\n",
    "test_ex5"
   ]
  },
  {
   "cell_type": "code",
   "execution_count": 107,
   "metadata": {},
   "outputs": [
    {
     "name": "stderr",
     "output_type": "stream",
     "text": [
      "/Users/pantchanit/opt/anaconda3/lib/python3.9/site-packages/statsmodels/tsa/tsatools.py:142: FutureWarning: In a future version of pandas all arguments of concat except for the argument 'objs' will be keyword-only\n",
      "  x = pd.concat(x[::order], 1)\n"
     ]
    },
    {
     "data": {
      "text/html": [
       "<div>\n",
       "<style scoped>\n",
       "    .dataframe tbody tr th:only-of-type {\n",
       "        vertical-align: middle;\n",
       "    }\n",
       "\n",
       "    .dataframe tbody tr th {\n",
       "        vertical-align: top;\n",
       "    }\n",
       "\n",
       "    .dataframe thead th {\n",
       "        text-align: right;\n",
       "    }\n",
       "</style>\n",
       "<table border=\"1\" class=\"dataframe\">\n",
       "  <thead>\n",
       "    <tr style=\"text-align: right;\">\n",
       "      <th></th>\n",
       "      <th>GPP Per capita (Baht)</th>\n",
       "      <th>const</th>\n",
       "    </tr>\n",
       "    <tr>\n",
       "      <th>Year</th>\n",
       "      <th></th>\n",
       "      <th></th>\n",
       "    </tr>\n",
       "  </thead>\n",
       "  <tbody>\n",
       "    <tr>\n",
       "      <th>1995</th>\n",
       "      <td>143862.554</td>\n",
       "      <td>1.0</td>\n",
       "    </tr>\n",
       "    <tr>\n",
       "      <th>1996</th>\n",
       "      <td>171503.917</td>\n",
       "      <td>1.0</td>\n",
       "    </tr>\n",
       "    <tr>\n",
       "      <th>1997</th>\n",
       "      <td>179223.451</td>\n",
       "      <td>1.0</td>\n",
       "    </tr>\n",
       "    <tr>\n",
       "      <th>1998</th>\n",
       "      <td>180611.806</td>\n",
       "      <td>1.0</td>\n",
       "    </tr>\n",
       "    <tr>\n",
       "      <th>1999</th>\n",
       "      <td>189856.706</td>\n",
       "      <td>1.0</td>\n",
       "    </tr>\n",
       "  </tbody>\n",
       "</table>\n",
       "</div>"
      ],
      "text/plain": [
       "      GPP Per capita (Baht)  const\n",
       "Year                              \n",
       "1995             143862.554    1.0\n",
       "1996             171503.917    1.0\n",
       "1997             179223.451    1.0\n",
       "1998             180611.806    1.0\n",
       "1999             189856.706    1.0"
      ]
     },
     "execution_count": 107,
     "metadata": {},
     "output_type": "execute_result"
    }
   ],
   "source": [
    "X_test_ex5 = test_ex5[['GPP Per capita (Baht)']]\n",
    "X_test_ex5 = sm.add_constant(X_test_ex5, prepend=False)\n",
    "X_test_ex5.head()"
   ]
  },
  {
   "cell_type": "code",
   "execution_count": 108,
   "metadata": {},
   "outputs": [
    {
     "data": {
      "text/plain": [
       "array([1064454.46045036, 1064305.74040025, 1064264.20664943,\n",
       "       1064256.73682151, 1064206.99607641, 1064049.43193469,\n",
       "       1064049.86911457, 1063984.97193955, 1063847.12424173,\n",
       "       1063766.30062343, 1063755.67555715, 1063620.01371029,\n",
       "       1063399.20899081, 1062868.9112314 , 1063185.80096423])"
      ]
     },
     "execution_count": 108,
     "metadata": {},
     "output_type": "execute_result"
    }
   ],
   "source": [
    "predictions = lm.predict(X_test_ex5)\n",
    "predictions  "
   ]
  },
  {
   "cell_type": "markdown",
   "metadata": {},
   "source": [
    "## Find data by Interpolation"
   ]
  },
  {
   "cell_type": "code",
   "execution_count": 111,
   "metadata": {},
   "outputs": [
    {
     "data": {
      "text/plain": [
       "Year\n",
       "1995        NaN\n",
       "1996    0.11918\n",
       "1997    0.10214\n",
       "1998        NaN\n",
       "1999    0.24836\n",
       "2000    0.24471\n",
       "2001    0.25231\n",
       "2002    0.23055\n",
       "2003    0.24534\n",
       "2004    0.23828\n",
       "2005    0.21889\n",
       "2006    0.23271\n",
       "2007    0.20080\n",
       "2008    0.20331\n",
       "2009    0.23455\n",
       "2010        NaN\n",
       "2011    0.36146\n",
       "2012        NaN\n",
       "2013    0.44164\n",
       "2014    0.47988\n",
       "2015    0.61609\n",
       "2016    0.77817\n",
       "2017    1.00179\n",
       "2018        NaN\n",
       "Name: ค่าใช้จ่ายในการวิจัยและพัฒนา (คิดเป็น % ของจีดีพี), dtype: float64"
      ]
     },
     "execution_count": 111,
     "metadata": {},
     "output_type": "execute_result"
    }
   ],
   "source": [
    "ex6 = df1['ค่าใช้จ่ายในการวิจัยและพัฒนา (คิดเป็น % ของจีดีพี)']\n",
    "ex6"
   ]
  },
  {
   "cell_type": "code",
   "execution_count": 112,
   "metadata": {},
   "outputs": [
    {
     "data": {
      "text/plain": [
       "Year\n",
       "1995         NaN\n",
       "1996    0.119180\n",
       "1997    0.102140\n",
       "1998    0.175250\n",
       "1999    0.248360\n",
       "2000    0.244710\n",
       "2001    0.252310\n",
       "2002    0.230550\n",
       "2003    0.245340\n",
       "2004    0.238280\n",
       "2005    0.218890\n",
       "2006    0.232710\n",
       "2007    0.200800\n",
       "2008    0.203310\n",
       "2009    0.234550\n",
       "2010    0.298005\n",
       "2011    0.361460\n",
       "2012    0.401550\n",
       "2013    0.441640\n",
       "2014    0.479880\n",
       "2015    0.616090\n",
       "2016    0.778170\n",
       "2017    1.001790\n",
       "2018    1.001790\n",
       "Name: ค่าใช้จ่ายในการวิจัยและพัฒนา (คิดเป็น % ของจีดีพี), dtype: float64"
      ]
     },
     "execution_count": 112,
     "metadata": {},
     "output_type": "execute_result"
    }
   ],
   "source": [
    "ex6.interpolate(method='linear', limit_direction='forward', axis=0)"
   ]
  },
  {
   "cell_type": "code",
   "execution_count": 113,
   "metadata": {},
   "outputs": [
    {
     "data": {
      "text/plain": [
       "Year\n",
       "1995    0.119180\n",
       "1996    0.119180\n",
       "1997    0.102140\n",
       "1998    0.175250\n",
       "1999    0.248360\n",
       "2000    0.244710\n",
       "2001    0.252310\n",
       "2002    0.230550\n",
       "2003    0.245340\n",
       "2004    0.238280\n",
       "2005    0.218890\n",
       "2006    0.232710\n",
       "2007    0.200800\n",
       "2008    0.203310\n",
       "2009    0.234550\n",
       "2010    0.298005\n",
       "2011    0.361460\n",
       "2012    0.401550\n",
       "2013    0.441640\n",
       "2014    0.479880\n",
       "2015    0.616090\n",
       "2016    0.778170\n",
       "2017    1.001790\n",
       "2018         NaN\n",
       "Name: ค่าใช้จ่ายในการวิจัยและพัฒนา (คิดเป็น % ของจีดีพี), dtype: float64"
      ]
     },
     "execution_count": 113,
     "metadata": {},
     "output_type": "execute_result"
    }
   ],
   "source": [
    "ex6.interpolate(method='linear', limit_direction='backward', axis=0)"
   ]
  }
 ],
 "metadata": {
  "interpreter": {
   "hash": "a55ab719c9bfc05de0d3a1d1915f1d68fd6eba03203b10440bfba1b28ddfa129"
  },
  "kernelspec": {
   "display_name": "Python 3.9.7 ('base')",
   "language": "python",
   "name": "python3"
  },
  "language_info": {
   "codemirror_mode": {
    "name": "ipython",
    "version": 3
   },
   "file_extension": ".py",
   "mimetype": "text/x-python",
   "name": "python",
   "nbconvert_exporter": "python",
   "pygments_lexer": "ipython3",
   "version": "3.9.7"
  },
  "orig_nbformat": 4
 },
 "nbformat": 4,
 "nbformat_minor": 2
}
