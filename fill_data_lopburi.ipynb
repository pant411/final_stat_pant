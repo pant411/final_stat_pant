{
 "cells": [
  {
   "cell_type": "code",
   "execution_count": 1,
   "metadata": {},
   "outputs": [],
   "source": [
    "#! -*- coding: UTF8 -*-\n",
    "import os\n",
    "os.chdir(os.getcwd())"
   ]
  },
  {
   "cell_type": "markdown",
   "metadata": {},
   "source": [
    "## Import Module"
   ]
  },
  {
   "cell_type": "code",
   "execution_count": 2,
   "metadata": {},
   "outputs": [],
   "source": [
    "import pandas as pd\n",
    "import numpy as np\n",
    "import matplotlib.pyplot as plt\n",
    "import seaborn as sns\n",
    "%matplotlib inline"
   ]
  },
  {
   "cell_type": "code",
   "execution_count": 3,
   "metadata": {},
   "outputs": [],
   "source": [
    "from sklearn.model_selection import train_test_split\n",
    "from sklearn.linear_model import LinearRegression\n",
    "from sklearn import metrics"
   ]
  },
  {
   "cell_type": "markdown",
   "metadata": {},
   "source": [
    "## Import Data "
   ]
  },
  {
   "cell_type": "code",
   "execution_count": 4,
   "metadata": {},
   "outputs": [
    {
     "data": {
      "text/html": [
       "<div>\n",
       "<style scoped>\n",
       "    .dataframe tbody tr th:only-of-type {\n",
       "        vertical-align: middle;\n",
       "    }\n",
       "\n",
       "    .dataframe tbody tr th {\n",
       "        vertical-align: top;\n",
       "    }\n",
       "\n",
       "    .dataframe thead th {\n",
       "        text-align: right;\n",
       "    }\n",
       "</style>\n",
       "<table border=\"1\" class=\"dataframe\">\n",
       "  <thead>\n",
       "    <tr style=\"text-align: right;\">\n",
       "      <th></th>\n",
       "      <th>Agriculture, forestry and fishing</th>\n",
       "      <th>Mining and quarrying</th>\n",
       "      <th>Manufacturing</th>\n",
       "      <th>Electricity, gas, steam and air conditioning supply</th>\n",
       "      <th>Water supply; sewerage, waste management and remediation activities</th>\n",
       "      <th>Construction</th>\n",
       "      <th>Wholesale and retail trade and repair of motor vehicles</th>\n",
       "      <th>Transportation and storage</th>\n",
       "      <th>Accommodation and food service activities</th>\n",
       "      <th>Information and communication</th>\n",
       "      <th>...</th>\n",
       "      <th>ค่าใช้จ่ายในการวิจัยและพัฒนา (คิดเป็น % ของจีดีพี)</th>\n",
       "      <th>รายจ่ายของประชากรในจังหวัดลพบุรี (บาท)</th>\n",
       "      <th>เนื้อที่ที่ถือครองเพื่อการเกษตร (ไร่)</th>\n",
       "      <th>เนื้อที่สวนผักและไม้ดอก (ไร่)</th>\n",
       "      <th>เนื้อที่สำหรับปลูกนาข้าว (ไร่)</th>\n",
       "      <th>จำนวนโรงงานอุตสาหกรรม (โรงงาน)</th>\n",
       "      <th>GPP Per capita (Baht)</th>\n",
       "      <th>Unnamed: 32</th>\n",
       "      <th>Unnamed: 33</th>\n",
       "      <th>Unnamed: 34</th>\n",
       "    </tr>\n",
       "    <tr>\n",
       "      <th>Year</th>\n",
       "      <th></th>\n",
       "      <th></th>\n",
       "      <th></th>\n",
       "      <th></th>\n",
       "      <th></th>\n",
       "      <th></th>\n",
       "      <th></th>\n",
       "      <th></th>\n",
       "      <th></th>\n",
       "      <th></th>\n",
       "      <th></th>\n",
       "      <th></th>\n",
       "      <th></th>\n",
       "      <th></th>\n",
       "      <th></th>\n",
       "      <th></th>\n",
       "      <th></th>\n",
       "      <th></th>\n",
       "      <th></th>\n",
       "      <th></th>\n",
       "      <th></th>\n",
       "    </tr>\n",
       "  </thead>\n",
       "  <tbody>\n",
       "    <tr>\n",
       "      <th>1995.0</th>\n",
       "      <td>5391.575854</td>\n",
       "      <td>19.009823</td>\n",
       "      <td>7176.043232</td>\n",
       "      <td>590.238706</td>\n",
       "      <td>142.277622</td>\n",
       "      <td>3391.005101</td>\n",
       "      <td>3484.507633</td>\n",
       "      <td>1016.736730</td>\n",
       "      <td>176.898917</td>\n",
       "      <td>195.790885</td>\n",
       "      <td>...</td>\n",
       "      <td>NaN</td>\n",
       "      <td>NaN</td>\n",
       "      <td>NaN</td>\n",
       "      <td>NaN</td>\n",
       "      <td>NaN</td>\n",
       "      <td>NaN</td>\n",
       "      <td>143862.554</td>\n",
       "      <td>NaN</td>\n",
       "      <td>NaN</td>\n",
       "      <td>NaN</td>\n",
       "    </tr>\n",
       "    <tr>\n",
       "      <th>1996.0</th>\n",
       "      <td>6206.682558</td>\n",
       "      <td>37.744703</td>\n",
       "      <td>6810.317457</td>\n",
       "      <td>677.218307</td>\n",
       "      <td>137.423999</td>\n",
       "      <td>7728.645631</td>\n",
       "      <td>3737.141208</td>\n",
       "      <td>1113.256820</td>\n",
       "      <td>153.858116</td>\n",
       "      <td>224.369211</td>\n",
       "      <td>...</td>\n",
       "      <td>0.11918</td>\n",
       "      <td>NaN</td>\n",
       "      <td>NaN</td>\n",
       "      <td>NaN</td>\n",
       "      <td>NaN</td>\n",
       "      <td>NaN</td>\n",
       "      <td>171503.917</td>\n",
       "      <td>NaN</td>\n",
       "      <td>NaN</td>\n",
       "      <td>NaN</td>\n",
       "    </tr>\n",
       "    <tr>\n",
       "      <th>1997.0</th>\n",
       "      <td>6014.415215</td>\n",
       "      <td>36.238535</td>\n",
       "      <td>6988.106194</td>\n",
       "      <td>817.941119</td>\n",
       "      <td>149.159330</td>\n",
       "      <td>5647.894247</td>\n",
       "      <td>4542.778789</td>\n",
       "      <td>1172.783861</td>\n",
       "      <td>140.141879</td>\n",
       "      <td>234.727143</td>\n",
       "      <td>...</td>\n",
       "      <td>0.10214</td>\n",
       "      <td>NaN</td>\n",
       "      <td>NaN</td>\n",
       "      <td>NaN</td>\n",
       "      <td>NaN</td>\n",
       "      <td>NaN</td>\n",
       "      <td>179223.451</td>\n",
       "      <td>NaN</td>\n",
       "      <td>NaN</td>\n",
       "      <td>NaN</td>\n",
       "    </tr>\n",
       "    <tr>\n",
       "      <th>1998.0</th>\n",
       "      <td>6270.177149</td>\n",
       "      <td>28.193053</td>\n",
       "      <td>5739.574622</td>\n",
       "      <td>1090.869869</td>\n",
       "      <td>130.489143</td>\n",
       "      <td>3182.288913</td>\n",
       "      <td>4987.801949</td>\n",
       "      <td>1245.856126</td>\n",
       "      <td>474.662929</td>\n",
       "      <td>229.726314</td>\n",
       "      <td>...</td>\n",
       "      <td>NaN</td>\n",
       "      <td>NaN</td>\n",
       "      <td>NaN</td>\n",
       "      <td>NaN</td>\n",
       "      <td>NaN</td>\n",
       "      <td>NaN</td>\n",
       "      <td>180611.806</td>\n",
       "      <td>NaN</td>\n",
       "      <td>NaN</td>\n",
       "      <td>NaN</td>\n",
       "    </tr>\n",
       "    <tr>\n",
       "      <th>1999.0</th>\n",
       "      <td>5684.674097</td>\n",
       "      <td>42.046276</td>\n",
       "      <td>4594.756351</td>\n",
       "      <td>958.722269</td>\n",
       "      <td>143.734495</td>\n",
       "      <td>2304.876078</td>\n",
       "      <td>4652.336854</td>\n",
       "      <td>1226.177795</td>\n",
       "      <td>564.896952</td>\n",
       "      <td>241.436570</td>\n",
       "      <td>...</td>\n",
       "      <td>0.24836</td>\n",
       "      <td>NaN</td>\n",
       "      <td>NaN</td>\n",
       "      <td>NaN</td>\n",
       "      <td>NaN</td>\n",
       "      <td>NaN</td>\n",
       "      <td>189856.706</td>\n",
       "      <td>NaN</td>\n",
       "      <td>NaN</td>\n",
       "      <td>NaN</td>\n",
       "    </tr>\n",
       "  </tbody>\n",
       "</table>\n",
       "<p>5 rows × 34 columns</p>\n",
       "</div>"
      ],
      "text/plain": [
       "        Agriculture, forestry and fishing  Mining and quarrying  \\\n",
       "Year                                                              \n",
       "1995.0                        5391.575854             19.009823   \n",
       "1996.0                        6206.682558             37.744703   \n",
       "1997.0                        6014.415215             36.238535   \n",
       "1998.0                        6270.177149             28.193053   \n",
       "1999.0                        5684.674097             42.046276   \n",
       "\n",
       "        Manufacturing  Electricity, gas, steam and air conditioning supply  \\\n",
       "Year                                                                         \n",
       "1995.0    7176.043232                                         590.238706     \n",
       "1996.0    6810.317457                                         677.218307     \n",
       "1997.0    6988.106194                                         817.941119     \n",
       "1998.0    5739.574622                                        1090.869869     \n",
       "1999.0    4594.756351                                         958.722269     \n",
       "\n",
       "        Water supply; sewerage, waste management and remediation activities  \\\n",
       "Year                                                                          \n",
       "1995.0                                         142.277622                     \n",
       "1996.0                                         137.423999                     \n",
       "1997.0                                         149.159330                     \n",
       "1998.0                                         130.489143                     \n",
       "1999.0                                         143.734495                     \n",
       "\n",
       "        Construction  Wholesale and retail trade and repair of motor vehicles  \\\n",
       "Year                                                                            \n",
       "1995.0   3391.005101                                        3484.507633         \n",
       "1996.0   7728.645631                                        3737.141208         \n",
       "1997.0   5647.894247                                        4542.778789         \n",
       "1998.0   3182.288913                                        4987.801949         \n",
       "1999.0   2304.876078                                        4652.336854         \n",
       "\n",
       "        Transportation and storage  Accommodation and food service activities  \\\n",
       "Year                                                                            \n",
       "1995.0                 1016.736730                                 176.898917   \n",
       "1996.0                 1113.256820                                 153.858116   \n",
       "1997.0                 1172.783861                                 140.141879   \n",
       "1998.0                 1245.856126                                 474.662929   \n",
       "1999.0                 1226.177795                                 564.896952   \n",
       "\n",
       "        Information and communication  ...  \\\n",
       "Year                                   ...   \n",
       "1995.0                     195.790885  ...   \n",
       "1996.0                     224.369211  ...   \n",
       "1997.0                     234.727143  ...   \n",
       "1998.0                     229.726314  ...   \n",
       "1999.0                     241.436570  ...   \n",
       "\n",
       "        ค่าใช้จ่ายในการวิจัยและพัฒนา (คิดเป็น % ของจีดีพี)  \\\n",
       "Year                                                         \n",
       "1995.0                                                NaN    \n",
       "1996.0                                            0.11918    \n",
       "1997.0                                            0.10214    \n",
       "1998.0                                                NaN    \n",
       "1999.0                                            0.24836    \n",
       "\n",
       "        รายจ่ายของประชากรในจังหวัดลพบุรี (บาท)  \\\n",
       "Year                                             \n",
       "1995.0                                     NaN   \n",
       "1996.0                                     NaN   \n",
       "1997.0                                     NaN   \n",
       "1998.0                                     NaN   \n",
       "1999.0                                     NaN   \n",
       "\n",
       "        เนื้อที่ที่ถือครองเพื่อการเกษตร (ไร่)  เนื้อที่สวนผักและไม้ดอก (ไร่)  \\\n",
       "Year                                                                           \n",
       "1995.0                                    NaN                            NaN   \n",
       "1996.0                                    NaN                            NaN   \n",
       "1997.0                                    NaN                            NaN   \n",
       "1998.0                                    NaN                            NaN   \n",
       "1999.0                                    NaN                            NaN   \n",
       "\n",
       "        เนื้อที่สำหรับปลูกนาข้าว (ไร่)  จำนวนโรงงานอุตสาหกรรม (โรงงาน)  \\\n",
       "Year                                                                     \n",
       "1995.0                             NaN                             NaN   \n",
       "1996.0                             NaN                             NaN   \n",
       "1997.0                             NaN                             NaN   \n",
       "1998.0                             NaN                             NaN   \n",
       "1999.0                             NaN                             NaN   \n",
       "\n",
       "        GPP Per capita (Baht)  Unnamed: 32  Unnamed: 33  Unnamed: 34  \n",
       "Year                                                                  \n",
       "1995.0             143862.554          NaN          NaN          NaN  \n",
       "1996.0             171503.917          NaN          NaN          NaN  \n",
       "1997.0             179223.451          NaN          NaN          NaN  \n",
       "1998.0             180611.806          NaN          NaN          NaN  \n",
       "1999.0             189856.706          NaN          NaN          NaN  \n",
       "\n",
       "[5 rows x 34 columns]"
      ]
     },
     "execution_count": 4,
     "metadata": {},
     "output_type": "execute_result"
    }
   ],
   "source": [
    "df1 = pd.read_excel('process_data/GPP_6210501001.xlsx',sheet_name=\"LopBuri\",index_col=\"Year\") #ตัวอย่าง\n",
    "df1.head()"
   ]
  },
  {
   "cell_type": "code",
   "execution_count": 5,
   "metadata": {},
   "outputs": [
    {
     "data": {
      "text/plain": [
       "Index(['Agriculture, forestry and fishing', 'Mining and quarrying',\n",
       "       'Manufacturing', 'Electricity, gas, steam and air conditioning supply',\n",
       "       'Water supply; sewerage, waste management and remediation activities',\n",
       "       'Construction',\n",
       "       'Wholesale and retail trade and repair of motor vehicles',\n",
       "       'Transportation and storage',\n",
       "       'Accommodation and food service activities',\n",
       "       'Information and communication', 'Financial and insurance activities',\n",
       "       'Real estate activities',\n",
       "       'Professional, scientific and technical activities',\n",
       "       'Administrative and support service activities',\n",
       "       'Public administration and defence; compulsory social security',\n",
       "       'Education', 'Human health activities',\n",
       "       'Arts, entertainment and recreation', 'Other service activities',\n",
       "       'การค้าสินค้า (คิดเป็น % ของจีดีพี)',\n",
       "       'มูลค่าเพิ่มของการเกษตร (คิดเป็น % ของจีดีพี)',\n",
       "       'การนำเข้าสินค้าและบริการ (คิดเป็น % ของจีดีพี)',\n",
       "       'มูลค่าเพิ่มของอุตสาหกรรม (คิดเป็น % ของจีดีพี)',\n",
       "       'จำนวนประชากรทั้งหมด (คน)',\n",
       "       'ค่าใช้จ่ายในการวิจัยและพัฒนา (คิดเป็น % ของจีดีพี)',\n",
       "       'รายจ่ายของประชากรในจังหวัดลพบุรี (บาท)',\n",
       "       'เนื้อที่ที่ถือครองเพื่อการเกษตร (ไร่)',\n",
       "       'เนื้อที่สวนผักและไม้ดอก (ไร่)', 'เนื้อที่สำหรับปลูกนาข้าว (ไร่)',\n",
       "       'จำนวนโรงงานอุตสาหกรรม (โรงงาน)', 'GPP Per capita (Baht)',\n",
       "       'Unnamed: 32', 'Unnamed: 33', 'Unnamed: 34'],\n",
       "      dtype='object')"
      ]
     },
     "execution_count": 5,
     "metadata": {},
     "output_type": "execute_result"
    }
   ],
   "source": [
    "df1.keys()"
   ]
  },
  {
   "cell_type": "markdown",
   "metadata": {},
   "source": [
    "## Find data by Regression"
   ]
  },
  {
   "cell_type": "markdown",
   "metadata": {},
   "source": [
    "##### รายจ่ายของประชากรในจังหวัดลพบุรี (บาท)"
   ]
  },
  {
   "cell_type": "code",
   "execution_count": 6,
   "metadata": {},
   "outputs": [
    {
     "data": {
      "text/html": [
       "<div>\n",
       "<style scoped>\n",
       "    .dataframe tbody tr th:only-of-type {\n",
       "        vertical-align: middle;\n",
       "    }\n",
       "\n",
       "    .dataframe tbody tr th {\n",
       "        vertical-align: top;\n",
       "    }\n",
       "\n",
       "    .dataframe thead th {\n",
       "        text-align: right;\n",
       "    }\n",
       "</style>\n",
       "<table border=\"1\" class=\"dataframe\">\n",
       "  <thead>\n",
       "    <tr style=\"text-align: right;\">\n",
       "      <th></th>\n",
       "      <th>รายจ่ายของประชากรในจังหวัดลพบุรี (บาท)</th>\n",
       "      <th>GPP Per capita (Baht)</th>\n",
       "    </tr>\n",
       "    <tr>\n",
       "      <th>Year</th>\n",
       "      <th></th>\n",
       "      <th></th>\n",
       "    </tr>\n",
       "  </thead>\n",
       "  <tbody>\n",
       "    <tr>\n",
       "      <th>2006.0</th>\n",
       "      <td>15870.00</td>\n",
       "      <td>298954.253</td>\n",
       "    </tr>\n",
       "    <tr>\n",
       "      <th>2007.0</th>\n",
       "      <td>14462.00</td>\n",
       "      <td>339993.396</td>\n",
       "    </tr>\n",
       "    <tr>\n",
       "      <th>2008.0</th>\n",
       "      <td>15386.00</td>\n",
       "      <td>438555.445</td>\n",
       "    </tr>\n",
       "    <tr>\n",
       "      <th>2009.0</th>\n",
       "      <td>16764.00</td>\n",
       "      <td>379657.777</td>\n",
       "    </tr>\n",
       "    <tr>\n",
       "      <th>2010.0</th>\n",
       "      <td>14433.00</td>\n",
       "      <td>427733.436</td>\n",
       "    </tr>\n",
       "    <tr>\n",
       "      <th>2011.0</th>\n",
       "      <td>14875.40</td>\n",
       "      <td>365800.945</td>\n",
       "    </tr>\n",
       "    <tr>\n",
       "      <th>2012.0</th>\n",
       "      <td>17356.96</td>\n",
       "      <td>378620.537</td>\n",
       "    </tr>\n",
       "    <tr>\n",
       "      <th>2013.0</th>\n",
       "      <td>15944.80</td>\n",
       "      <td>461789.496</td>\n",
       "    </tr>\n",
       "    <tr>\n",
       "      <th>2014.0</th>\n",
       "      <td>14910.71</td>\n",
       "      <td>417614.341</td>\n",
       "    </tr>\n",
       "    <tr>\n",
       "      <th>2015.0</th>\n",
       "      <td>17968.90</td>\n",
       "      <td>468325.834</td>\n",
       "    </tr>\n",
       "    <tr>\n",
       "      <th>2016.0</th>\n",
       "      <td>15875.50</td>\n",
       "      <td>444803.565</td>\n",
       "    </tr>\n",
       "    <tr>\n",
       "      <th>2017.0</th>\n",
       "      <td>16012.15</td>\n",
       "      <td>449602.967</td>\n",
       "    </tr>\n",
       "    <tr>\n",
       "      <th>2018.0</th>\n",
       "      <td>17016.83</td>\n",
       "      <td>454952.541</td>\n",
       "    </tr>\n",
       "  </tbody>\n",
       "</table>\n",
       "</div>"
      ],
      "text/plain": [
       "        รายจ่ายของประชากรในจังหวัดลพบุรี (บาท)  GPP Per capita (Baht)\n",
       "Year                                                                 \n",
       "2006.0                                15870.00             298954.253\n",
       "2007.0                                14462.00             339993.396\n",
       "2008.0                                15386.00             438555.445\n",
       "2009.0                                16764.00             379657.777\n",
       "2010.0                                14433.00             427733.436\n",
       "2011.0                                14875.40             365800.945\n",
       "2012.0                                17356.96             378620.537\n",
       "2013.0                                15944.80             461789.496\n",
       "2014.0                                14910.71             417614.341\n",
       "2015.0                                17968.90             468325.834\n",
       "2016.0                                15875.50             444803.565\n",
       "2017.0                                16012.15             449602.967\n",
       "2018.0                                17016.83             454952.541"
      ]
     },
     "execution_count": 6,
     "metadata": {},
     "output_type": "execute_result"
    }
   ],
   "source": [
    "ex1 = df1.loc[[i for i in range(2006,2019)],['รายจ่ายของประชากรในจังหวัดลพบุรี (บาท)','GPP Per capita (Baht)']]\n",
    "ex1"
   ]
  },
  {
   "cell_type": "code",
   "execution_count": 7,
   "metadata": {},
   "outputs": [
    {
     "name": "stderr",
     "output_type": "stream",
     "text": [
      "/Users/pantchanit/opt/anaconda3/lib/python3.9/site-packages/statsmodels/tsa/tsatools.py:142: FutureWarning: In a future version of pandas all arguments of concat except for the argument 'objs' will be keyword-only\n",
      "  x = pd.concat(x[::order], 1)\n"
     ]
    },
    {
     "data": {
      "text/html": [
       "<div>\n",
       "<style scoped>\n",
       "    .dataframe tbody tr th:only-of-type {\n",
       "        vertical-align: middle;\n",
       "    }\n",
       "\n",
       "    .dataframe tbody tr th {\n",
       "        vertical-align: top;\n",
       "    }\n",
       "\n",
       "    .dataframe thead th {\n",
       "        text-align: right;\n",
       "    }\n",
       "</style>\n",
       "<table border=\"1\" class=\"dataframe\">\n",
       "  <thead>\n",
       "    <tr style=\"text-align: right;\">\n",
       "      <th></th>\n",
       "      <th>GPP Per capita (Baht)</th>\n",
       "      <th>const</th>\n",
       "    </tr>\n",
       "    <tr>\n",
       "      <th>Year</th>\n",
       "      <th></th>\n",
       "      <th></th>\n",
       "    </tr>\n",
       "  </thead>\n",
       "  <tbody>\n",
       "    <tr>\n",
       "      <th>2006.0</th>\n",
       "      <td>298954.253</td>\n",
       "      <td>1.0</td>\n",
       "    </tr>\n",
       "    <tr>\n",
       "      <th>2007.0</th>\n",
       "      <td>339993.396</td>\n",
       "      <td>1.0</td>\n",
       "    </tr>\n",
       "    <tr>\n",
       "      <th>2008.0</th>\n",
       "      <td>438555.445</td>\n",
       "      <td>1.0</td>\n",
       "    </tr>\n",
       "    <tr>\n",
       "      <th>2009.0</th>\n",
       "      <td>379657.777</td>\n",
       "      <td>1.0</td>\n",
       "    </tr>\n",
       "    <tr>\n",
       "      <th>2010.0</th>\n",
       "      <td>427733.436</td>\n",
       "      <td>1.0</td>\n",
       "    </tr>\n",
       "  </tbody>\n",
       "</table>\n",
       "</div>"
      ],
      "text/plain": [
       "        GPP Per capita (Baht)  const\n",
       "Year                                \n",
       "2006.0             298954.253    1.0\n",
       "2007.0             339993.396    1.0\n",
       "2008.0             438555.445    1.0\n",
       "2009.0             379657.777    1.0\n",
       "2010.0             427733.436    1.0"
      ]
     },
     "execution_count": 7,
     "metadata": {},
     "output_type": "execute_result"
    }
   ],
   "source": [
    "import statsmodels.api as sm\n",
    "X = ex1[['GPP Per capita (Baht)']]\n",
    "X = sm.add_constant(X, prepend=False)\n",
    "X.head()"
   ]
  },
  {
   "cell_type": "code",
   "execution_count": 8,
   "metadata": {},
   "outputs": [
    {
     "data": {
      "text/plain": [
       "Year\n",
       "2006.0    15870.0\n",
       "2007.0    14462.0\n",
       "2008.0    15386.0\n",
       "2009.0    16764.0\n",
       "2010.0    14433.0\n",
       "Name: รายจ่ายของประชากรในจังหวัดลพบุรี (บาท), dtype: float64"
      ]
     },
     "execution_count": 8,
     "metadata": {},
     "output_type": "execute_result"
    }
   ],
   "source": [
    "y = ex1['รายจ่ายของประชากรในจังหวัดลพบุรี (บาท)']\n",
    "y.head()"
   ]
  },
  {
   "cell_type": "code",
   "execution_count": 9,
   "metadata": {},
   "outputs": [],
   "source": [
    "X_train, X_test, y_train, y_test = train_test_split(X, y, test_size=0.05,random_state=14)  "
   ]
  },
  {
   "cell_type": "code",
   "execution_count": 10,
   "metadata": {},
   "outputs": [
    {
     "data": {
      "text/plain": [
       "LinearRegression()"
      ]
     },
     "execution_count": 10,
     "metadata": {},
     "output_type": "execute_result"
    }
   ],
   "source": [
    "lm = LinearRegression()\n",
    "lm.fit(X_train, y_train)"
   ]
  },
  {
   "cell_type": "code",
   "execution_count": 11,
   "metadata": {},
   "outputs": [
    {
     "data": {
      "text/html": [
       "<div>\n",
       "<style scoped>\n",
       "    .dataframe tbody tr th:only-of-type {\n",
       "        vertical-align: middle;\n",
       "    }\n",
       "\n",
       "    .dataframe tbody tr th {\n",
       "        vertical-align: top;\n",
       "    }\n",
       "\n",
       "    .dataframe thead th {\n",
       "        text-align: right;\n",
       "    }\n",
       "</style>\n",
       "<table border=\"1\" class=\"dataframe\">\n",
       "  <thead>\n",
       "    <tr style=\"text-align: right;\">\n",
       "      <th></th>\n",
       "      <th>GPP Per capita (Baht)</th>\n",
       "      <th>const</th>\n",
       "    </tr>\n",
       "    <tr>\n",
       "      <th>Year</th>\n",
       "      <th></th>\n",
       "      <th></th>\n",
       "    </tr>\n",
       "  </thead>\n",
       "  <tbody>\n",
       "    <tr>\n",
       "      <th>2009.0</th>\n",
       "      <td>379657.777</td>\n",
       "      <td>1.0</td>\n",
       "    </tr>\n",
       "    <tr>\n",
       "      <th>2018.0</th>\n",
       "      <td>454952.541</td>\n",
       "      <td>1.0</td>\n",
       "    </tr>\n",
       "    <tr>\n",
       "      <th>2007.0</th>\n",
       "      <td>339993.396</td>\n",
       "      <td>1.0</td>\n",
       "    </tr>\n",
       "    <tr>\n",
       "      <th>2006.0</th>\n",
       "      <td>298954.253</td>\n",
       "      <td>1.0</td>\n",
       "    </tr>\n",
       "    <tr>\n",
       "      <th>2015.0</th>\n",
       "      <td>468325.834</td>\n",
       "      <td>1.0</td>\n",
       "    </tr>\n",
       "    <tr>\n",
       "      <th>2010.0</th>\n",
       "      <td>427733.436</td>\n",
       "      <td>1.0</td>\n",
       "    </tr>\n",
       "    <tr>\n",
       "      <th>2008.0</th>\n",
       "      <td>438555.445</td>\n",
       "      <td>1.0</td>\n",
       "    </tr>\n",
       "    <tr>\n",
       "      <th>2016.0</th>\n",
       "      <td>444803.565</td>\n",
       "      <td>1.0</td>\n",
       "    </tr>\n",
       "    <tr>\n",
       "      <th>2013.0</th>\n",
       "      <td>461789.496</td>\n",
       "      <td>1.0</td>\n",
       "    </tr>\n",
       "    <tr>\n",
       "      <th>2012.0</th>\n",
       "      <td>378620.537</td>\n",
       "      <td>1.0</td>\n",
       "    </tr>\n",
       "    <tr>\n",
       "      <th>2014.0</th>\n",
       "      <td>417614.341</td>\n",
       "      <td>1.0</td>\n",
       "    </tr>\n",
       "    <tr>\n",
       "      <th>2017.0</th>\n",
       "      <td>449602.967</td>\n",
       "      <td>1.0</td>\n",
       "    </tr>\n",
       "  </tbody>\n",
       "</table>\n",
       "</div>"
      ],
      "text/plain": [
       "        GPP Per capita (Baht)  const\n",
       "Year                                \n",
       "2009.0             379657.777    1.0\n",
       "2018.0             454952.541    1.0\n",
       "2007.0             339993.396    1.0\n",
       "2006.0             298954.253    1.0\n",
       "2015.0             468325.834    1.0\n",
       "2010.0             427733.436    1.0\n",
       "2008.0             438555.445    1.0\n",
       "2016.0             444803.565    1.0\n",
       "2013.0             461789.496    1.0\n",
       "2012.0             378620.537    1.0\n",
       "2014.0             417614.341    1.0\n",
       "2017.0             449602.967    1.0"
      ]
     },
     "execution_count": 11,
     "metadata": {},
     "output_type": "execute_result"
    }
   ],
   "source": [
    "X_train"
   ]
  },
  {
   "cell_type": "code",
   "execution_count": 12,
   "metadata": {},
   "outputs": [
    {
     "data": {
      "text/html": [
       "<div>\n",
       "<style scoped>\n",
       "    .dataframe tbody tr th:only-of-type {\n",
       "        vertical-align: middle;\n",
       "    }\n",
       "\n",
       "    .dataframe tbody tr th {\n",
       "        vertical-align: top;\n",
       "    }\n",
       "\n",
       "    .dataframe thead th {\n",
       "        text-align: right;\n",
       "    }\n",
       "</style>\n",
       "<table border=\"1\" class=\"dataframe\">\n",
       "  <thead>\n",
       "    <tr style=\"text-align: right;\">\n",
       "      <th></th>\n",
       "      <th>GPP Per capita (Baht)</th>\n",
       "    </tr>\n",
       "    <tr>\n",
       "      <th>Year</th>\n",
       "      <th></th>\n",
       "    </tr>\n",
       "  </thead>\n",
       "  <tbody>\n",
       "    <tr>\n",
       "      <th>1995.0</th>\n",
       "      <td>143862.554</td>\n",
       "    </tr>\n",
       "    <tr>\n",
       "      <th>1996.0</th>\n",
       "      <td>171503.917</td>\n",
       "    </tr>\n",
       "    <tr>\n",
       "      <th>1997.0</th>\n",
       "      <td>179223.451</td>\n",
       "    </tr>\n",
       "    <tr>\n",
       "      <th>1998.0</th>\n",
       "      <td>180611.806</td>\n",
       "    </tr>\n",
       "    <tr>\n",
       "      <th>1999.0</th>\n",
       "      <td>189856.706</td>\n",
       "    </tr>\n",
       "    <tr>\n",
       "      <th>2000.0</th>\n",
       "      <td>219141.847</td>\n",
       "    </tr>\n",
       "    <tr>\n",
       "      <th>2001.0</th>\n",
       "      <td>219060.592</td>\n",
       "    </tr>\n",
       "    <tr>\n",
       "      <th>2002.0</th>\n",
       "      <td>231122.492</td>\n",
       "    </tr>\n",
       "    <tr>\n",
       "      <th>2003.0</th>\n",
       "      <td>256743.101</td>\n",
       "    </tr>\n",
       "    <tr>\n",
       "      <th>2004.0</th>\n",
       "      <td>271765.117</td>\n",
       "    </tr>\n",
       "    <tr>\n",
       "      <th>2005.0</th>\n",
       "      <td>273739.910</td>\n",
       "    </tr>\n",
       "  </tbody>\n",
       "</table>\n",
       "</div>"
      ],
      "text/plain": [
       "        GPP Per capita (Baht)\n",
       "Year                         \n",
       "1995.0             143862.554\n",
       "1996.0             171503.917\n",
       "1997.0             179223.451\n",
       "1998.0             180611.806\n",
       "1999.0             189856.706\n",
       "2000.0             219141.847\n",
       "2001.0             219060.592\n",
       "2002.0             231122.492\n",
       "2003.0             256743.101\n",
       "2004.0             271765.117\n",
       "2005.0             273739.910"
      ]
     },
     "execution_count": 12,
     "metadata": {},
     "output_type": "execute_result"
    }
   ],
   "source": [
    "test_ex1 = df1.loc[[i for i in range(1995,2006)],['GPP Per capita (Baht)']]\n",
    "test_ex1"
   ]
  },
  {
   "cell_type": "code",
   "execution_count": 13,
   "metadata": {},
   "outputs": [
    {
     "name": "stderr",
     "output_type": "stream",
     "text": [
      "/Users/pantchanit/opt/anaconda3/lib/python3.9/site-packages/statsmodels/tsa/tsatools.py:142: FutureWarning: In a future version of pandas all arguments of concat except for the argument 'objs' will be keyword-only\n",
      "  x = pd.concat(x[::order], 1)\n"
     ]
    },
    {
     "data": {
      "text/html": [
       "<div>\n",
       "<style scoped>\n",
       "    .dataframe tbody tr th:only-of-type {\n",
       "        vertical-align: middle;\n",
       "    }\n",
       "\n",
       "    .dataframe tbody tr th {\n",
       "        vertical-align: top;\n",
       "    }\n",
       "\n",
       "    .dataframe thead th {\n",
       "        text-align: right;\n",
       "    }\n",
       "</style>\n",
       "<table border=\"1\" class=\"dataframe\">\n",
       "  <thead>\n",
       "    <tr style=\"text-align: right;\">\n",
       "      <th></th>\n",
       "      <th>GPP Per capita (Baht)</th>\n",
       "      <th>const</th>\n",
       "    </tr>\n",
       "    <tr>\n",
       "      <th>Year</th>\n",
       "      <th></th>\n",
       "      <th></th>\n",
       "    </tr>\n",
       "  </thead>\n",
       "  <tbody>\n",
       "    <tr>\n",
       "      <th>1995.0</th>\n",
       "      <td>143862.554</td>\n",
       "      <td>1.0</td>\n",
       "    </tr>\n",
       "    <tr>\n",
       "      <th>1996.0</th>\n",
       "      <td>171503.917</td>\n",
       "      <td>1.0</td>\n",
       "    </tr>\n",
       "    <tr>\n",
       "      <th>1997.0</th>\n",
       "      <td>179223.451</td>\n",
       "      <td>1.0</td>\n",
       "    </tr>\n",
       "    <tr>\n",
       "      <th>1998.0</th>\n",
       "      <td>180611.806</td>\n",
       "      <td>1.0</td>\n",
       "    </tr>\n",
       "    <tr>\n",
       "      <th>1999.0</th>\n",
       "      <td>189856.706</td>\n",
       "      <td>1.0</td>\n",
       "    </tr>\n",
       "  </tbody>\n",
       "</table>\n",
       "</div>"
      ],
      "text/plain": [
       "        GPP Per capita (Baht)  const\n",
       "Year                                \n",
       "1995.0             143862.554    1.0\n",
       "1996.0             171503.917    1.0\n",
       "1997.0             179223.451    1.0\n",
       "1998.0             180611.806    1.0\n",
       "1999.0             189856.706    1.0"
      ]
     },
     "execution_count": 13,
     "metadata": {},
     "output_type": "execute_result"
    }
   ],
   "source": [
    "X_test_ex1 = test_ex1[['GPP Per capita (Baht)']]\n",
    "X_test_ex1 = sm.add_constant(X_test_ex1, prepend=False)\n",
    "X_test_ex1.head()"
   ]
  },
  {
   "cell_type": "code",
   "execution_count": 14,
   "metadata": {},
   "outputs": [
    {
     "data": {
      "text/plain": [
       "array([14642.05707269, 14781.33134225, 14820.22712533, 14827.22251585,\n",
       "       14873.80403553, 15021.36067454, 15020.95126163, 15081.72656826,\n",
       "       15210.81903032, 15286.50923075, 15296.45945834])"
      ]
     },
     "execution_count": 14,
     "metadata": {},
     "output_type": "execute_result"
    }
   ],
   "source": [
    "predictions = lm.predict(X_test_ex1)\n",
    "predictions                   "
   ]
  },
  {
   "cell_type": "markdown",
   "metadata": {},
   "source": [
    "##### เนื้อที่ที่ถือครองเพื่อการเกษตร (ไร่)"
   ]
  },
  {
   "cell_type": "code",
   "execution_count": 15,
   "metadata": {},
   "outputs": [
    {
     "data": {
      "text/html": [
       "<div>\n",
       "<style scoped>\n",
       "    .dataframe tbody tr th:only-of-type {\n",
       "        vertical-align: middle;\n",
       "    }\n",
       "\n",
       "    .dataframe tbody tr th {\n",
       "        vertical-align: top;\n",
       "    }\n",
       "\n",
       "    .dataframe thead th {\n",
       "        text-align: right;\n",
       "    }\n",
       "</style>\n",
       "<table border=\"1\" class=\"dataframe\">\n",
       "  <thead>\n",
       "    <tr style=\"text-align: right;\">\n",
       "      <th></th>\n",
       "      <th>เนื้อที่ที่ถือครองเพื่อการเกษตร (ไร่)</th>\n",
       "      <th>GPP Per capita (Baht)</th>\n",
       "    </tr>\n",
       "    <tr>\n",
       "      <th>Year</th>\n",
       "      <th></th>\n",
       "      <th></th>\n",
       "    </tr>\n",
       "  </thead>\n",
       "  <tbody>\n",
       "    <tr>\n",
       "      <th>2010.0</th>\n",
       "      <td>2541350.0</td>\n",
       "      <td>427733.436</td>\n",
       "    </tr>\n",
       "    <tr>\n",
       "      <th>2011.0</th>\n",
       "      <td>2541569.0</td>\n",
       "      <td>365800.945</td>\n",
       "    </tr>\n",
       "    <tr>\n",
       "      <th>2012.0</th>\n",
       "      <td>2196101.0</td>\n",
       "      <td>378620.537</td>\n",
       "    </tr>\n",
       "    <tr>\n",
       "      <th>2013.0</th>\n",
       "      <td>2189464.0</td>\n",
       "      <td>461789.496</td>\n",
       "    </tr>\n",
       "    <tr>\n",
       "      <th>2014.0</th>\n",
       "      <td>2211616.0</td>\n",
       "      <td>417614.341</td>\n",
       "    </tr>\n",
       "    <tr>\n",
       "      <th>2015.0</th>\n",
       "      <td>2191974.0</td>\n",
       "      <td>468325.834</td>\n",
       "    </tr>\n",
       "    <tr>\n",
       "      <th>2016.0</th>\n",
       "      <td>2191454.0</td>\n",
       "      <td>444803.565</td>\n",
       "    </tr>\n",
       "    <tr>\n",
       "      <th>2017.0</th>\n",
       "      <td>2191311.0</td>\n",
       "      <td>449602.967</td>\n",
       "    </tr>\n",
       "    <tr>\n",
       "      <th>2018.0</th>\n",
       "      <td>2191867.0</td>\n",
       "      <td>454952.541</td>\n",
       "    </tr>\n",
       "  </tbody>\n",
       "</table>\n",
       "</div>"
      ],
      "text/plain": [
       "        เนื้อที่ที่ถือครองเพื่อการเกษตร (ไร่)  GPP Per capita (Baht)\n",
       "Year                                                                \n",
       "2010.0                              2541350.0             427733.436\n",
       "2011.0                              2541569.0             365800.945\n",
       "2012.0                              2196101.0             378620.537\n",
       "2013.0                              2189464.0             461789.496\n",
       "2014.0                              2211616.0             417614.341\n",
       "2015.0                              2191974.0             468325.834\n",
       "2016.0                              2191454.0             444803.565\n",
       "2017.0                              2191311.0             449602.967\n",
       "2018.0                              2191867.0             454952.541"
      ]
     },
     "execution_count": 15,
     "metadata": {},
     "output_type": "execute_result"
    }
   ],
   "source": [
    "ex2 = df1.loc[[i for i in range(2010,2019)],['เนื้อที่ที่ถือครองเพื่อการเกษตร (ไร่)','GPP Per capita (Baht)']]\n",
    "ex2"
   ]
  },
  {
   "cell_type": "code",
   "execution_count": 16,
   "metadata": {},
   "outputs": [
    {
     "name": "stderr",
     "output_type": "stream",
     "text": [
      "/Users/pantchanit/opt/anaconda3/lib/python3.9/site-packages/statsmodels/tsa/tsatools.py:142: FutureWarning: In a future version of pandas all arguments of concat except for the argument 'objs' will be keyword-only\n",
      "  x = pd.concat(x[::order], 1)\n"
     ]
    },
    {
     "data": {
      "text/html": [
       "<div>\n",
       "<style scoped>\n",
       "    .dataframe tbody tr th:only-of-type {\n",
       "        vertical-align: middle;\n",
       "    }\n",
       "\n",
       "    .dataframe tbody tr th {\n",
       "        vertical-align: top;\n",
       "    }\n",
       "\n",
       "    .dataframe thead th {\n",
       "        text-align: right;\n",
       "    }\n",
       "</style>\n",
       "<table border=\"1\" class=\"dataframe\">\n",
       "  <thead>\n",
       "    <tr style=\"text-align: right;\">\n",
       "      <th></th>\n",
       "      <th>GPP Per capita (Baht)</th>\n",
       "      <th>const</th>\n",
       "    </tr>\n",
       "    <tr>\n",
       "      <th>Year</th>\n",
       "      <th></th>\n",
       "      <th></th>\n",
       "    </tr>\n",
       "  </thead>\n",
       "  <tbody>\n",
       "    <tr>\n",
       "      <th>2010.0</th>\n",
       "      <td>427733.436</td>\n",
       "      <td>1.0</td>\n",
       "    </tr>\n",
       "    <tr>\n",
       "      <th>2011.0</th>\n",
       "      <td>365800.945</td>\n",
       "      <td>1.0</td>\n",
       "    </tr>\n",
       "    <tr>\n",
       "      <th>2012.0</th>\n",
       "      <td>378620.537</td>\n",
       "      <td>1.0</td>\n",
       "    </tr>\n",
       "    <tr>\n",
       "      <th>2013.0</th>\n",
       "      <td>461789.496</td>\n",
       "      <td>1.0</td>\n",
       "    </tr>\n",
       "    <tr>\n",
       "      <th>2014.0</th>\n",
       "      <td>417614.341</td>\n",
       "      <td>1.0</td>\n",
       "    </tr>\n",
       "  </tbody>\n",
       "</table>\n",
       "</div>"
      ],
      "text/plain": [
       "        GPP Per capita (Baht)  const\n",
       "Year                                \n",
       "2010.0             427733.436    1.0\n",
       "2011.0             365800.945    1.0\n",
       "2012.0             378620.537    1.0\n",
       "2013.0             461789.496    1.0\n",
       "2014.0             417614.341    1.0"
      ]
     },
     "execution_count": 16,
     "metadata": {},
     "output_type": "execute_result"
    }
   ],
   "source": [
    "X = ex2[['GPP Per capita (Baht)']]\n",
    "X = sm.add_constant(X, prepend=False)\n",
    "X.head()"
   ]
  },
  {
   "cell_type": "code",
   "execution_count": 17,
   "metadata": {},
   "outputs": [
    {
     "data": {
      "text/plain": [
       "Year\n",
       "2010.0    2541350.0\n",
       "2011.0    2541569.0\n",
       "2012.0    2196101.0\n",
       "2013.0    2189464.0\n",
       "2014.0    2211616.0\n",
       "Name: เนื้อที่ที่ถือครองเพื่อการเกษตร (ไร่), dtype: float64"
      ]
     },
     "execution_count": 17,
     "metadata": {},
     "output_type": "execute_result"
    }
   ],
   "source": [
    "y = ex2['เนื้อที่ที่ถือครองเพื่อการเกษตร (ไร่)']\n",
    "y.head()"
   ]
  },
  {
   "cell_type": "code",
   "execution_count": 18,
   "metadata": {},
   "outputs": [],
   "source": [
    "X_train, X_test, y_train, y_test = train_test_split(X, y, test_size=0.05,random_state=14)  "
   ]
  },
  {
   "cell_type": "code",
   "execution_count": 19,
   "metadata": {},
   "outputs": [
    {
     "data": {
      "text/plain": [
       "LinearRegression()"
      ]
     },
     "execution_count": 19,
     "metadata": {},
     "output_type": "execute_result"
    }
   ],
   "source": [
    "lm = LinearRegression()\n",
    "lm.fit(X_train, y_train)"
   ]
  },
  {
   "cell_type": "code",
   "execution_count": 20,
   "metadata": {},
   "outputs": [
    {
     "data": {
      "text/html": [
       "<div>\n",
       "<style scoped>\n",
       "    .dataframe tbody tr th:only-of-type {\n",
       "        vertical-align: middle;\n",
       "    }\n",
       "\n",
       "    .dataframe tbody tr th {\n",
       "        vertical-align: top;\n",
       "    }\n",
       "\n",
       "    .dataframe thead th {\n",
       "        text-align: right;\n",
       "    }\n",
       "</style>\n",
       "<table border=\"1\" class=\"dataframe\">\n",
       "  <thead>\n",
       "    <tr style=\"text-align: right;\">\n",
       "      <th></th>\n",
       "      <th>GPP Per capita (Baht)</th>\n",
       "    </tr>\n",
       "    <tr>\n",
       "      <th>Year</th>\n",
       "      <th></th>\n",
       "    </tr>\n",
       "  </thead>\n",
       "  <tbody>\n",
       "    <tr>\n",
       "      <th>1995.0</th>\n",
       "      <td>143862.554</td>\n",
       "    </tr>\n",
       "    <tr>\n",
       "      <th>1996.0</th>\n",
       "      <td>171503.917</td>\n",
       "    </tr>\n",
       "    <tr>\n",
       "      <th>1997.0</th>\n",
       "      <td>179223.451</td>\n",
       "    </tr>\n",
       "    <tr>\n",
       "      <th>1998.0</th>\n",
       "      <td>180611.806</td>\n",
       "    </tr>\n",
       "    <tr>\n",
       "      <th>1999.0</th>\n",
       "      <td>189856.706</td>\n",
       "    </tr>\n",
       "    <tr>\n",
       "      <th>2000.0</th>\n",
       "      <td>219141.847</td>\n",
       "    </tr>\n",
       "    <tr>\n",
       "      <th>2001.0</th>\n",
       "      <td>219060.592</td>\n",
       "    </tr>\n",
       "    <tr>\n",
       "      <th>2002.0</th>\n",
       "      <td>231122.492</td>\n",
       "    </tr>\n",
       "    <tr>\n",
       "      <th>2003.0</th>\n",
       "      <td>256743.101</td>\n",
       "    </tr>\n",
       "    <tr>\n",
       "      <th>2004.0</th>\n",
       "      <td>271765.117</td>\n",
       "    </tr>\n",
       "    <tr>\n",
       "      <th>2005.0</th>\n",
       "      <td>273739.910</td>\n",
       "    </tr>\n",
       "    <tr>\n",
       "      <th>2006.0</th>\n",
       "      <td>298954.253</td>\n",
       "    </tr>\n",
       "    <tr>\n",
       "      <th>2007.0</th>\n",
       "      <td>339993.396</td>\n",
       "    </tr>\n",
       "    <tr>\n",
       "      <th>2008.0</th>\n",
       "      <td>438555.445</td>\n",
       "    </tr>\n",
       "    <tr>\n",
       "      <th>2009.0</th>\n",
       "      <td>379657.777</td>\n",
       "    </tr>\n",
       "  </tbody>\n",
       "</table>\n",
       "</div>"
      ],
      "text/plain": [
       "        GPP Per capita (Baht)\n",
       "Year                         \n",
       "1995.0             143862.554\n",
       "1996.0             171503.917\n",
       "1997.0             179223.451\n",
       "1998.0             180611.806\n",
       "1999.0             189856.706\n",
       "2000.0             219141.847\n",
       "2001.0             219060.592\n",
       "2002.0             231122.492\n",
       "2003.0             256743.101\n",
       "2004.0             271765.117\n",
       "2005.0             273739.910\n",
       "2006.0             298954.253\n",
       "2007.0             339993.396\n",
       "2008.0             438555.445\n",
       "2009.0             379657.777"
      ]
     },
     "execution_count": 20,
     "metadata": {},
     "output_type": "execute_result"
    }
   ],
   "source": [
    "test_ex2 = df1.loc[[i for i in range(1995,2010)],['GPP Per capita (Baht)']]\n",
    "test_ex2"
   ]
  },
  {
   "cell_type": "code",
   "execution_count": 21,
   "metadata": {},
   "outputs": [
    {
     "name": "stderr",
     "output_type": "stream",
     "text": [
      "/Users/pantchanit/opt/anaconda3/lib/python3.9/site-packages/statsmodels/tsa/tsatools.py:142: FutureWarning: In a future version of pandas all arguments of concat except for the argument 'objs' will be keyword-only\n",
      "  x = pd.concat(x[::order], 1)\n"
     ]
    },
    {
     "data": {
      "text/html": [
       "<div>\n",
       "<style scoped>\n",
       "    .dataframe tbody tr th:only-of-type {\n",
       "        vertical-align: middle;\n",
       "    }\n",
       "\n",
       "    .dataframe tbody tr th {\n",
       "        vertical-align: top;\n",
       "    }\n",
       "\n",
       "    .dataframe thead th {\n",
       "        text-align: right;\n",
       "    }\n",
       "</style>\n",
       "<table border=\"1\" class=\"dataframe\">\n",
       "  <thead>\n",
       "    <tr style=\"text-align: right;\">\n",
       "      <th></th>\n",
       "      <th>GPP Per capita (Baht)</th>\n",
       "      <th>const</th>\n",
       "    </tr>\n",
       "    <tr>\n",
       "      <th>Year</th>\n",
       "      <th></th>\n",
       "      <th></th>\n",
       "    </tr>\n",
       "  </thead>\n",
       "  <tbody>\n",
       "    <tr>\n",
       "      <th>1995.0</th>\n",
       "      <td>143862.554</td>\n",
       "      <td>1.0</td>\n",
       "    </tr>\n",
       "    <tr>\n",
       "      <th>1996.0</th>\n",
       "      <td>171503.917</td>\n",
       "      <td>1.0</td>\n",
       "    </tr>\n",
       "    <tr>\n",
       "      <th>1997.0</th>\n",
       "      <td>179223.451</td>\n",
       "      <td>1.0</td>\n",
       "    </tr>\n",
       "    <tr>\n",
       "      <th>1998.0</th>\n",
       "      <td>180611.806</td>\n",
       "      <td>1.0</td>\n",
       "    </tr>\n",
       "    <tr>\n",
       "      <th>1999.0</th>\n",
       "      <td>189856.706</td>\n",
       "      <td>1.0</td>\n",
       "    </tr>\n",
       "  </tbody>\n",
       "</table>\n",
       "</div>"
      ],
      "text/plain": [
       "        GPP Per capita (Baht)  const\n",
       "Year                                \n",
       "1995.0             143862.554    1.0\n",
       "1996.0             171503.917    1.0\n",
       "1997.0             179223.451    1.0\n",
       "1998.0             180611.806    1.0\n",
       "1999.0             189856.706    1.0"
      ]
     },
     "execution_count": 21,
     "metadata": {},
     "output_type": "execute_result"
    }
   ],
   "source": [
    "X_test_ex2 = test_ex2[['GPP Per capita (Baht)']]\n",
    "X_test_ex2 = sm.add_constant(X_test_ex2, prepend=False)\n",
    "X_test_ex2.head()"
   ]
  },
  {
   "cell_type": "code",
   "execution_count": 22,
   "metadata": {},
   "outputs": [
    {
     "data": {
      "text/plain": [
       "array([2918084.49750019, 2855554.76352968, 2838091.78938487,\n",
       "       2834951.08070106, 2814037.45435116, 2747789.19893703,\n",
       "       2747973.01235946, 2720686.82541641, 2662728.40039474,\n",
       "       2628745.89872937, 2624278.5618279 , 2567239.18355878,\n",
       "       2474401.26184821, 2251436.18217548, 2384673.29901096])"
      ]
     },
     "execution_count": 22,
     "metadata": {},
     "output_type": "execute_result"
    }
   ],
   "source": [
    "predictions = lm.predict(X_test_ex2)\n",
    "predictions  "
   ]
  },
  {
   "cell_type": "markdown",
   "metadata": {},
   "source": [
    "##### จำนวนโรงงานอุตสาหกรรม (โรงงาน)"
   ]
  },
  {
   "cell_type": "code",
   "execution_count": 23,
   "metadata": {},
   "outputs": [
    {
     "data": {
      "text/html": [
       "<div>\n",
       "<style scoped>\n",
       "    .dataframe tbody tr th:only-of-type {\n",
       "        vertical-align: middle;\n",
       "    }\n",
       "\n",
       "    .dataframe tbody tr th {\n",
       "        vertical-align: top;\n",
       "    }\n",
       "\n",
       "    .dataframe thead th {\n",
       "        text-align: right;\n",
       "    }\n",
       "</style>\n",
       "<table border=\"1\" class=\"dataframe\">\n",
       "  <thead>\n",
       "    <tr style=\"text-align: right;\">\n",
       "      <th></th>\n",
       "      <th>จำนวนโรงงานอุตสาหกรรม (โรงงาน)</th>\n",
       "      <th>GPP Per capita (Baht)</th>\n",
       "    </tr>\n",
       "    <tr>\n",
       "      <th>Year</th>\n",
       "      <th></th>\n",
       "      <th></th>\n",
       "    </tr>\n",
       "  </thead>\n",
       "  <tbody>\n",
       "    <tr>\n",
       "      <th>2011.0</th>\n",
       "      <td>26.0</td>\n",
       "      <td>365800.945</td>\n",
       "    </tr>\n",
       "    <tr>\n",
       "      <th>2012.0</th>\n",
       "      <td>40.0</td>\n",
       "      <td>378620.537</td>\n",
       "    </tr>\n",
       "    <tr>\n",
       "      <th>2013.0</th>\n",
       "      <td>32.0</td>\n",
       "      <td>461789.496</td>\n",
       "    </tr>\n",
       "    <tr>\n",
       "      <th>2014.0</th>\n",
       "      <td>37.0</td>\n",
       "      <td>417614.341</td>\n",
       "    </tr>\n",
       "    <tr>\n",
       "      <th>2015.0</th>\n",
       "      <td>59.0</td>\n",
       "      <td>468325.834</td>\n",
       "    </tr>\n",
       "    <tr>\n",
       "      <th>2016.0</th>\n",
       "      <td>31.0</td>\n",
       "      <td>444803.565</td>\n",
       "    </tr>\n",
       "    <tr>\n",
       "      <th>2017.0</th>\n",
       "      <td>19.0</td>\n",
       "      <td>449602.967</td>\n",
       "    </tr>\n",
       "    <tr>\n",
       "      <th>2018.0</th>\n",
       "      <td>30.0</td>\n",
       "      <td>454952.541</td>\n",
       "    </tr>\n",
       "  </tbody>\n",
       "</table>\n",
       "</div>"
      ],
      "text/plain": [
       "        จำนวนโรงงานอุตสาหกรรม (โรงงาน)  GPP Per capita (Baht)\n",
       "Year                                                         \n",
       "2011.0                            26.0             365800.945\n",
       "2012.0                            40.0             378620.537\n",
       "2013.0                            32.0             461789.496\n",
       "2014.0                            37.0             417614.341\n",
       "2015.0                            59.0             468325.834\n",
       "2016.0                            31.0             444803.565\n",
       "2017.0                            19.0             449602.967\n",
       "2018.0                            30.0             454952.541"
      ]
     },
     "execution_count": 23,
     "metadata": {},
     "output_type": "execute_result"
    }
   ],
   "source": [
    "ex3= df1.loc[[i for i in range(2011,2019)],['จำนวนโรงงานอุตสาหกรรม (โรงงาน)','GPP Per capita (Baht)']]\n",
    "ex3"
   ]
  },
  {
   "cell_type": "code",
   "execution_count": 24,
   "metadata": {},
   "outputs": [
    {
     "name": "stderr",
     "output_type": "stream",
     "text": [
      "/Users/pantchanit/opt/anaconda3/lib/python3.9/site-packages/statsmodels/tsa/tsatools.py:142: FutureWarning: In a future version of pandas all arguments of concat except for the argument 'objs' will be keyword-only\n",
      "  x = pd.concat(x[::order], 1)\n"
     ]
    },
    {
     "data": {
      "text/html": [
       "<div>\n",
       "<style scoped>\n",
       "    .dataframe tbody tr th:only-of-type {\n",
       "        vertical-align: middle;\n",
       "    }\n",
       "\n",
       "    .dataframe tbody tr th {\n",
       "        vertical-align: top;\n",
       "    }\n",
       "\n",
       "    .dataframe thead th {\n",
       "        text-align: right;\n",
       "    }\n",
       "</style>\n",
       "<table border=\"1\" class=\"dataframe\">\n",
       "  <thead>\n",
       "    <tr style=\"text-align: right;\">\n",
       "      <th></th>\n",
       "      <th>GPP Per capita (Baht)</th>\n",
       "      <th>const</th>\n",
       "    </tr>\n",
       "    <tr>\n",
       "      <th>Year</th>\n",
       "      <th></th>\n",
       "      <th></th>\n",
       "    </tr>\n",
       "  </thead>\n",
       "  <tbody>\n",
       "    <tr>\n",
       "      <th>2011.0</th>\n",
       "      <td>365800.945</td>\n",
       "      <td>1.0</td>\n",
       "    </tr>\n",
       "    <tr>\n",
       "      <th>2012.0</th>\n",
       "      <td>378620.537</td>\n",
       "      <td>1.0</td>\n",
       "    </tr>\n",
       "    <tr>\n",
       "      <th>2013.0</th>\n",
       "      <td>461789.496</td>\n",
       "      <td>1.0</td>\n",
       "    </tr>\n",
       "    <tr>\n",
       "      <th>2014.0</th>\n",
       "      <td>417614.341</td>\n",
       "      <td>1.0</td>\n",
       "    </tr>\n",
       "    <tr>\n",
       "      <th>2015.0</th>\n",
       "      <td>468325.834</td>\n",
       "      <td>1.0</td>\n",
       "    </tr>\n",
       "  </tbody>\n",
       "</table>\n",
       "</div>"
      ],
      "text/plain": [
       "        GPP Per capita (Baht)  const\n",
       "Year                                \n",
       "2011.0             365800.945    1.0\n",
       "2012.0             378620.537    1.0\n",
       "2013.0             461789.496    1.0\n",
       "2014.0             417614.341    1.0\n",
       "2015.0             468325.834    1.0"
      ]
     },
     "execution_count": 24,
     "metadata": {},
     "output_type": "execute_result"
    }
   ],
   "source": [
    "X = ex3[['GPP Per capita (Baht)']]\n",
    "X = sm.add_constant(X, prepend=False)\n",
    "X.head()"
   ]
  },
  {
   "cell_type": "code",
   "execution_count": 25,
   "metadata": {},
   "outputs": [
    {
     "data": {
      "text/plain": [
       "Year\n",
       "2011.0    26.0\n",
       "2012.0    40.0\n",
       "2013.0    32.0\n",
       "2014.0    37.0\n",
       "2015.0    59.0\n",
       "Name: จำนวนโรงงานอุตสาหกรรม (โรงงาน), dtype: float64"
      ]
     },
     "execution_count": 25,
     "metadata": {},
     "output_type": "execute_result"
    }
   ],
   "source": [
    "y = ex3['จำนวนโรงงานอุตสาหกรรม (โรงงาน)']\n",
    "y.head()"
   ]
  },
  {
   "cell_type": "code",
   "execution_count": 26,
   "metadata": {},
   "outputs": [],
   "source": [
    "X_train, X_test, y_train, y_test = train_test_split(X, y, test_size=0.05,random_state=14)  "
   ]
  },
  {
   "cell_type": "code",
   "execution_count": 27,
   "metadata": {},
   "outputs": [
    {
     "data": {
      "text/plain": [
       "LinearRegression()"
      ]
     },
     "execution_count": 27,
     "metadata": {},
     "output_type": "execute_result"
    }
   ],
   "source": [
    "lm = LinearRegression()\n",
    "lm.fit(X_train, y_train)"
   ]
  },
  {
   "cell_type": "code",
   "execution_count": 28,
   "metadata": {},
   "outputs": [
    {
     "data": {
      "text/html": [
       "<div>\n",
       "<style scoped>\n",
       "    .dataframe tbody tr th:only-of-type {\n",
       "        vertical-align: middle;\n",
       "    }\n",
       "\n",
       "    .dataframe tbody tr th {\n",
       "        vertical-align: top;\n",
       "    }\n",
       "\n",
       "    .dataframe thead th {\n",
       "        text-align: right;\n",
       "    }\n",
       "</style>\n",
       "<table border=\"1\" class=\"dataframe\">\n",
       "  <thead>\n",
       "    <tr style=\"text-align: right;\">\n",
       "      <th></th>\n",
       "      <th>GPP Per capita (Baht)</th>\n",
       "    </tr>\n",
       "    <tr>\n",
       "      <th>Year</th>\n",
       "      <th></th>\n",
       "    </tr>\n",
       "  </thead>\n",
       "  <tbody>\n",
       "    <tr>\n",
       "      <th>1995.0</th>\n",
       "      <td>143862.554</td>\n",
       "    </tr>\n",
       "    <tr>\n",
       "      <th>1996.0</th>\n",
       "      <td>171503.917</td>\n",
       "    </tr>\n",
       "    <tr>\n",
       "      <th>1997.0</th>\n",
       "      <td>179223.451</td>\n",
       "    </tr>\n",
       "    <tr>\n",
       "      <th>1998.0</th>\n",
       "      <td>180611.806</td>\n",
       "    </tr>\n",
       "    <tr>\n",
       "      <th>1999.0</th>\n",
       "      <td>189856.706</td>\n",
       "    </tr>\n",
       "    <tr>\n",
       "      <th>2000.0</th>\n",
       "      <td>219141.847</td>\n",
       "    </tr>\n",
       "    <tr>\n",
       "      <th>2001.0</th>\n",
       "      <td>219060.592</td>\n",
       "    </tr>\n",
       "    <tr>\n",
       "      <th>2002.0</th>\n",
       "      <td>231122.492</td>\n",
       "    </tr>\n",
       "    <tr>\n",
       "      <th>2003.0</th>\n",
       "      <td>256743.101</td>\n",
       "    </tr>\n",
       "    <tr>\n",
       "      <th>2004.0</th>\n",
       "      <td>271765.117</td>\n",
       "    </tr>\n",
       "    <tr>\n",
       "      <th>2005.0</th>\n",
       "      <td>273739.910</td>\n",
       "    </tr>\n",
       "    <tr>\n",
       "      <th>2006.0</th>\n",
       "      <td>298954.253</td>\n",
       "    </tr>\n",
       "    <tr>\n",
       "      <th>2007.0</th>\n",
       "      <td>339993.396</td>\n",
       "    </tr>\n",
       "    <tr>\n",
       "      <th>2008.0</th>\n",
       "      <td>438555.445</td>\n",
       "    </tr>\n",
       "    <tr>\n",
       "      <th>2009.0</th>\n",
       "      <td>379657.777</td>\n",
       "    </tr>\n",
       "    <tr>\n",
       "      <th>2010.0</th>\n",
       "      <td>427733.436</td>\n",
       "    </tr>\n",
       "  </tbody>\n",
       "</table>\n",
       "</div>"
      ],
      "text/plain": [
       "        GPP Per capita (Baht)\n",
       "Year                         \n",
       "1995.0             143862.554\n",
       "1996.0             171503.917\n",
       "1997.0             179223.451\n",
       "1998.0             180611.806\n",
       "1999.0             189856.706\n",
       "2000.0             219141.847\n",
       "2001.0             219060.592\n",
       "2002.0             231122.492\n",
       "2003.0             256743.101\n",
       "2004.0             271765.117\n",
       "2005.0             273739.910\n",
       "2006.0             298954.253\n",
       "2007.0             339993.396\n",
       "2008.0             438555.445\n",
       "2009.0             379657.777\n",
       "2010.0             427733.436"
      ]
     },
     "execution_count": 28,
     "metadata": {},
     "output_type": "execute_result"
    }
   ],
   "source": [
    "test_ex3 = df1.loc[[i for i in range(1995,2011)],['GPP Per capita (Baht)']]\n",
    "test_ex3"
   ]
  },
  {
   "cell_type": "code",
   "execution_count": 29,
   "metadata": {},
   "outputs": [
    {
     "name": "stderr",
     "output_type": "stream",
     "text": [
      "/Users/pantchanit/opt/anaconda3/lib/python3.9/site-packages/statsmodels/tsa/tsatools.py:142: FutureWarning: In a future version of pandas all arguments of concat except for the argument 'objs' will be keyword-only\n",
      "  x = pd.concat(x[::order], 1)\n"
     ]
    },
    {
     "data": {
      "text/html": [
       "<div>\n",
       "<style scoped>\n",
       "    .dataframe tbody tr th:only-of-type {\n",
       "        vertical-align: middle;\n",
       "    }\n",
       "\n",
       "    .dataframe tbody tr th {\n",
       "        vertical-align: top;\n",
       "    }\n",
       "\n",
       "    .dataframe thead th {\n",
       "        text-align: right;\n",
       "    }\n",
       "</style>\n",
       "<table border=\"1\" class=\"dataframe\">\n",
       "  <thead>\n",
       "    <tr style=\"text-align: right;\">\n",
       "      <th></th>\n",
       "      <th>GPP Per capita (Baht)</th>\n",
       "      <th>const</th>\n",
       "    </tr>\n",
       "    <tr>\n",
       "      <th>Year</th>\n",
       "      <th></th>\n",
       "      <th></th>\n",
       "    </tr>\n",
       "  </thead>\n",
       "  <tbody>\n",
       "    <tr>\n",
       "      <th>1995.0</th>\n",
       "      <td>143862.554</td>\n",
       "      <td>1.0</td>\n",
       "    </tr>\n",
       "    <tr>\n",
       "      <th>1996.0</th>\n",
       "      <td>171503.917</td>\n",
       "      <td>1.0</td>\n",
       "    </tr>\n",
       "    <tr>\n",
       "      <th>1997.0</th>\n",
       "      <td>179223.451</td>\n",
       "      <td>1.0</td>\n",
       "    </tr>\n",
       "    <tr>\n",
       "      <th>1998.0</th>\n",
       "      <td>180611.806</td>\n",
       "      <td>1.0</td>\n",
       "    </tr>\n",
       "    <tr>\n",
       "      <th>1999.0</th>\n",
       "      <td>189856.706</td>\n",
       "      <td>1.0</td>\n",
       "    </tr>\n",
       "  </tbody>\n",
       "</table>\n",
       "</div>"
      ],
      "text/plain": [
       "        GPP Per capita (Baht)  const\n",
       "Year                                \n",
       "1995.0             143862.554    1.0\n",
       "1996.0             171503.917    1.0\n",
       "1997.0             179223.451    1.0\n",
       "1998.0             180611.806    1.0\n",
       "1999.0             189856.706    1.0"
      ]
     },
     "execution_count": 29,
     "metadata": {},
     "output_type": "execute_result"
    }
   ],
   "source": [
    "X_test_ex3 = test_ex3[['GPP Per capita (Baht)']]\n",
    "X_test_ex3 = sm.add_constant(X_test_ex3, prepend=False)\n",
    "X_test_ex3.head()"
   ]
  },
  {
   "cell_type": "code",
   "execution_count": 30,
   "metadata": {},
   "outputs": [
    {
     "data": {
      "text/plain": [
       "array([16.13101456, 17.938184  , 18.44288074, 18.53365024, 19.13807415,\n",
       "       21.05271243, 21.04740004, 21.83599708, 23.51105129, 24.49317826,\n",
       "       24.62228859, 26.27078146, 28.95388666, 35.39779184, 31.54711106,\n",
       "       34.69025785])"
      ]
     },
     "execution_count": 30,
     "metadata": {},
     "output_type": "execute_result"
    }
   ],
   "source": [
    "predictions = lm.predict(X_test_ex3)\n",
    "predictions  "
   ]
  },
  {
   "cell_type": "markdown",
   "metadata": {},
   "source": [
    "##### เนื้อที่สวนผักและไม้ดอก (ไร่)"
   ]
  },
  {
   "cell_type": "code",
   "execution_count": 31,
   "metadata": {},
   "outputs": [
    {
     "data": {
      "text/html": [
       "<div>\n",
       "<style scoped>\n",
       "    .dataframe tbody tr th:only-of-type {\n",
       "        vertical-align: middle;\n",
       "    }\n",
       "\n",
       "    .dataframe tbody tr th {\n",
       "        vertical-align: top;\n",
       "    }\n",
       "\n",
       "    .dataframe thead th {\n",
       "        text-align: right;\n",
       "    }\n",
       "</style>\n",
       "<table border=\"1\" class=\"dataframe\">\n",
       "  <thead>\n",
       "    <tr style=\"text-align: right;\">\n",
       "      <th></th>\n",
       "      <th>เนื้อที่สวนผักและไม้ดอก (ไร่)</th>\n",
       "      <th>GPP Per capita (Baht)</th>\n",
       "    </tr>\n",
       "    <tr>\n",
       "      <th>Year</th>\n",
       "      <th></th>\n",
       "      <th></th>\n",
       "    </tr>\n",
       "  </thead>\n",
       "  <tbody>\n",
       "    <tr>\n",
       "      <th>2010.0</th>\n",
       "      <td>20343.000000</td>\n",
       "      <td>427733.436</td>\n",
       "    </tr>\n",
       "    <tr>\n",
       "      <th>2011.0</th>\n",
       "      <td>20535.000000</td>\n",
       "      <td>365800.945</td>\n",
       "    </tr>\n",
       "    <tr>\n",
       "      <th>2012.0</th>\n",
       "      <td>20364.000000</td>\n",
       "      <td>378620.537</td>\n",
       "    </tr>\n",
       "    <tr>\n",
       "      <th>2013.0</th>\n",
       "      <td>20318.469064</td>\n",
       "      <td>461789.496</td>\n",
       "    </tr>\n",
       "    <tr>\n",
       "      <th>2014.0</th>\n",
       "      <td>20634.000000</td>\n",
       "      <td>417614.341</td>\n",
       "    </tr>\n",
       "    <tr>\n",
       "      <th>2015.0</th>\n",
       "      <td>20630.000000</td>\n",
       "      <td>468325.834</td>\n",
       "    </tr>\n",
       "    <tr>\n",
       "      <th>2016.0</th>\n",
       "      <td>20629.000000</td>\n",
       "      <td>444803.565</td>\n",
       "    </tr>\n",
       "    <tr>\n",
       "      <th>2017.0</th>\n",
       "      <td>20523.000000</td>\n",
       "      <td>449602.967</td>\n",
       "    </tr>\n",
       "    <tr>\n",
       "      <th>2018.0</th>\n",
       "      <td>20527.000000</td>\n",
       "      <td>454952.541</td>\n",
       "    </tr>\n",
       "  </tbody>\n",
       "</table>\n",
       "</div>"
      ],
      "text/plain": [
       "        เนื้อที่สวนผักและไม้ดอก (ไร่)  GPP Per capita (Baht)\n",
       "Year                                                        \n",
       "2010.0                   20343.000000             427733.436\n",
       "2011.0                   20535.000000             365800.945\n",
       "2012.0                   20364.000000             378620.537\n",
       "2013.0                   20318.469064             461789.496\n",
       "2014.0                   20634.000000             417614.341\n",
       "2015.0                   20630.000000             468325.834\n",
       "2016.0                   20629.000000             444803.565\n",
       "2017.0                   20523.000000             449602.967\n",
       "2018.0                   20527.000000             454952.541"
      ]
     },
     "execution_count": 31,
     "metadata": {},
     "output_type": "execute_result"
    }
   ],
   "source": [
    "ex4 = df1.loc[[i for i in range(2010,2019)],['เนื้อที่สวนผักและไม้ดอก (ไร่)','GPP Per capita (Baht)']]\n",
    "ex4"
   ]
  },
  {
   "cell_type": "code",
   "execution_count": 32,
   "metadata": {},
   "outputs": [
    {
     "name": "stderr",
     "output_type": "stream",
     "text": [
      "/Users/pantchanit/opt/anaconda3/lib/python3.9/site-packages/statsmodels/tsa/tsatools.py:142: FutureWarning: In a future version of pandas all arguments of concat except for the argument 'objs' will be keyword-only\n",
      "  x = pd.concat(x[::order], 1)\n"
     ]
    },
    {
     "data": {
      "text/html": [
       "<div>\n",
       "<style scoped>\n",
       "    .dataframe tbody tr th:only-of-type {\n",
       "        vertical-align: middle;\n",
       "    }\n",
       "\n",
       "    .dataframe tbody tr th {\n",
       "        vertical-align: top;\n",
       "    }\n",
       "\n",
       "    .dataframe thead th {\n",
       "        text-align: right;\n",
       "    }\n",
       "</style>\n",
       "<table border=\"1\" class=\"dataframe\">\n",
       "  <thead>\n",
       "    <tr style=\"text-align: right;\">\n",
       "      <th></th>\n",
       "      <th>GPP Per capita (Baht)</th>\n",
       "      <th>const</th>\n",
       "    </tr>\n",
       "    <tr>\n",
       "      <th>Year</th>\n",
       "      <th></th>\n",
       "      <th></th>\n",
       "    </tr>\n",
       "  </thead>\n",
       "  <tbody>\n",
       "    <tr>\n",
       "      <th>2010.0</th>\n",
       "      <td>427733.436</td>\n",
       "      <td>1.0</td>\n",
       "    </tr>\n",
       "    <tr>\n",
       "      <th>2011.0</th>\n",
       "      <td>365800.945</td>\n",
       "      <td>1.0</td>\n",
       "    </tr>\n",
       "    <tr>\n",
       "      <th>2012.0</th>\n",
       "      <td>378620.537</td>\n",
       "      <td>1.0</td>\n",
       "    </tr>\n",
       "    <tr>\n",
       "      <th>2013.0</th>\n",
       "      <td>461789.496</td>\n",
       "      <td>1.0</td>\n",
       "    </tr>\n",
       "    <tr>\n",
       "      <th>2014.0</th>\n",
       "      <td>417614.341</td>\n",
       "      <td>1.0</td>\n",
       "    </tr>\n",
       "  </tbody>\n",
       "</table>\n",
       "</div>"
      ],
      "text/plain": [
       "        GPP Per capita (Baht)  const\n",
       "Year                                \n",
       "2010.0             427733.436    1.0\n",
       "2011.0             365800.945    1.0\n",
       "2012.0             378620.537    1.0\n",
       "2013.0             461789.496    1.0\n",
       "2014.0             417614.341    1.0"
      ]
     },
     "execution_count": 32,
     "metadata": {},
     "output_type": "execute_result"
    }
   ],
   "source": [
    "X = ex4[['GPP Per capita (Baht)']]\n",
    "X = sm.add_constant(X, prepend=False)\n",
    "X.head()"
   ]
  },
  {
   "cell_type": "code",
   "execution_count": 33,
   "metadata": {},
   "outputs": [
    {
     "data": {
      "text/plain": [
       "Year\n",
       "2010.0    20343.000000\n",
       "2011.0    20535.000000\n",
       "2012.0    20364.000000\n",
       "2013.0    20318.469064\n",
       "2014.0    20634.000000\n",
       "Name: เนื้อที่สวนผักและไม้ดอก (ไร่), dtype: float64"
      ]
     },
     "execution_count": 33,
     "metadata": {},
     "output_type": "execute_result"
    }
   ],
   "source": [
    "y = ex4['เนื้อที่สวนผักและไม้ดอก (ไร่)']\n",
    "y.head()"
   ]
  },
  {
   "cell_type": "code",
   "execution_count": 34,
   "metadata": {},
   "outputs": [],
   "source": [
    "X_train, X_test, y_train, y_test = train_test_split(X, y, test_size=0.001,random_state=14)"
   ]
  },
  {
   "cell_type": "code",
   "execution_count": 35,
   "metadata": {},
   "outputs": [
    {
     "data": {
      "text/plain": [
       "LinearRegression()"
      ]
     },
     "execution_count": 35,
     "metadata": {},
     "output_type": "execute_result"
    }
   ],
   "source": [
    "lm = LinearRegression()\n",
    "lm.fit(X_train, y_train)"
   ]
  },
  {
   "cell_type": "code",
   "execution_count": 36,
   "metadata": {},
   "outputs": [
    {
     "data": {
      "text/html": [
       "<div>\n",
       "<style scoped>\n",
       "    .dataframe tbody tr th:only-of-type {\n",
       "        vertical-align: middle;\n",
       "    }\n",
       "\n",
       "    .dataframe tbody tr th {\n",
       "        vertical-align: top;\n",
       "    }\n",
       "\n",
       "    .dataframe thead th {\n",
       "        text-align: right;\n",
       "    }\n",
       "</style>\n",
       "<table border=\"1\" class=\"dataframe\">\n",
       "  <thead>\n",
       "    <tr style=\"text-align: right;\">\n",
       "      <th></th>\n",
       "      <th>GPP Per capita (Baht)</th>\n",
       "    </tr>\n",
       "    <tr>\n",
       "      <th>Year</th>\n",
       "      <th></th>\n",
       "    </tr>\n",
       "  </thead>\n",
       "  <tbody>\n",
       "    <tr>\n",
       "      <th>1995.0</th>\n",
       "      <td>143862.554</td>\n",
       "    </tr>\n",
       "    <tr>\n",
       "      <th>1996.0</th>\n",
       "      <td>171503.917</td>\n",
       "    </tr>\n",
       "    <tr>\n",
       "      <th>1997.0</th>\n",
       "      <td>179223.451</td>\n",
       "    </tr>\n",
       "    <tr>\n",
       "      <th>1998.0</th>\n",
       "      <td>180611.806</td>\n",
       "    </tr>\n",
       "    <tr>\n",
       "      <th>1999.0</th>\n",
       "      <td>189856.706</td>\n",
       "    </tr>\n",
       "    <tr>\n",
       "      <th>2000.0</th>\n",
       "      <td>219141.847</td>\n",
       "    </tr>\n",
       "    <tr>\n",
       "      <th>2001.0</th>\n",
       "      <td>219060.592</td>\n",
       "    </tr>\n",
       "    <tr>\n",
       "      <th>2002.0</th>\n",
       "      <td>231122.492</td>\n",
       "    </tr>\n",
       "    <tr>\n",
       "      <th>2003.0</th>\n",
       "      <td>256743.101</td>\n",
       "    </tr>\n",
       "    <tr>\n",
       "      <th>2004.0</th>\n",
       "      <td>271765.117</td>\n",
       "    </tr>\n",
       "    <tr>\n",
       "      <th>2005.0</th>\n",
       "      <td>273739.910</td>\n",
       "    </tr>\n",
       "    <tr>\n",
       "      <th>2006.0</th>\n",
       "      <td>298954.253</td>\n",
       "    </tr>\n",
       "    <tr>\n",
       "      <th>2007.0</th>\n",
       "      <td>339993.396</td>\n",
       "    </tr>\n",
       "    <tr>\n",
       "      <th>2008.0</th>\n",
       "      <td>438555.445</td>\n",
       "    </tr>\n",
       "    <tr>\n",
       "      <th>2009.0</th>\n",
       "      <td>379657.777</td>\n",
       "    </tr>\n",
       "  </tbody>\n",
       "</table>\n",
       "</div>"
      ],
      "text/plain": [
       "        GPP Per capita (Baht)\n",
       "Year                         \n",
       "1995.0             143862.554\n",
       "1996.0             171503.917\n",
       "1997.0             179223.451\n",
       "1998.0             180611.806\n",
       "1999.0             189856.706\n",
       "2000.0             219141.847\n",
       "2001.0             219060.592\n",
       "2002.0             231122.492\n",
       "2003.0             256743.101\n",
       "2004.0             271765.117\n",
       "2005.0             273739.910\n",
       "2006.0             298954.253\n",
       "2007.0             339993.396\n",
       "2008.0             438555.445\n",
       "2009.0             379657.777"
      ]
     },
     "execution_count": 36,
     "metadata": {},
     "output_type": "execute_result"
    }
   ],
   "source": [
    "test_ex4 = df1.loc[[i for i in range(1995,2010)],['GPP Per capita (Baht)']]\n",
    "test_ex4"
   ]
  },
  {
   "cell_type": "code",
   "execution_count": 37,
   "metadata": {},
   "outputs": [
    {
     "name": "stderr",
     "output_type": "stream",
     "text": [
      "/Users/pantchanit/opt/anaconda3/lib/python3.9/site-packages/statsmodels/tsa/tsatools.py:142: FutureWarning: In a future version of pandas all arguments of concat except for the argument 'objs' will be keyword-only\n",
      "  x = pd.concat(x[::order], 1)\n"
     ]
    },
    {
     "data": {
      "text/html": [
       "<div>\n",
       "<style scoped>\n",
       "    .dataframe tbody tr th:only-of-type {\n",
       "        vertical-align: middle;\n",
       "    }\n",
       "\n",
       "    .dataframe tbody tr th {\n",
       "        vertical-align: top;\n",
       "    }\n",
       "\n",
       "    .dataframe thead th {\n",
       "        text-align: right;\n",
       "    }\n",
       "</style>\n",
       "<table border=\"1\" class=\"dataframe\">\n",
       "  <thead>\n",
       "    <tr style=\"text-align: right;\">\n",
       "      <th></th>\n",
       "      <th>GPP Per capita (Baht)</th>\n",
       "      <th>const</th>\n",
       "    </tr>\n",
       "    <tr>\n",
       "      <th>Year</th>\n",
       "      <th></th>\n",
       "      <th></th>\n",
       "    </tr>\n",
       "  </thead>\n",
       "  <tbody>\n",
       "    <tr>\n",
       "      <th>1995.0</th>\n",
       "      <td>143862.554</td>\n",
       "      <td>1.0</td>\n",
       "    </tr>\n",
       "    <tr>\n",
       "      <th>1996.0</th>\n",
       "      <td>171503.917</td>\n",
       "      <td>1.0</td>\n",
       "    </tr>\n",
       "    <tr>\n",
       "      <th>1997.0</th>\n",
       "      <td>179223.451</td>\n",
       "      <td>1.0</td>\n",
       "    </tr>\n",
       "    <tr>\n",
       "      <th>1998.0</th>\n",
       "      <td>180611.806</td>\n",
       "      <td>1.0</td>\n",
       "    </tr>\n",
       "    <tr>\n",
       "      <th>1999.0</th>\n",
       "      <td>189856.706</td>\n",
       "      <td>1.0</td>\n",
       "    </tr>\n",
       "  </tbody>\n",
       "</table>\n",
       "</div>"
      ],
      "text/plain": [
       "        GPP Per capita (Baht)  const\n",
       "Year                                \n",
       "1995.0             143862.554    1.0\n",
       "1996.0             171503.917    1.0\n",
       "1997.0             179223.451    1.0\n",
       "1998.0             180611.806    1.0\n",
       "1999.0             189856.706    1.0"
      ]
     },
     "execution_count": 37,
     "metadata": {},
     "output_type": "execute_result"
    }
   ],
   "source": [
    "X_test_ex4 = test_ex4[['GPP Per capita (Baht)']]\n",
    "X_test_ex4 = sm.add_constant(X_test_ex4, prepend=False)\n",
    "X_test_ex4.head()"
   ]
  },
  {
   "cell_type": "code",
   "execution_count": 38,
   "metadata": {},
   "outputs": [
    {
     "data": {
      "text/plain": [
       "array([20481.60676276, 20481.86001665, 20481.93074406, 20481.94346435,\n",
       "       20482.02816737, 20482.29648178, 20482.29573731, 20482.40625006,\n",
       "       20482.64098952, 20482.77862326, 20482.79671658, 20483.02773378,\n",
       "       20483.40373993, 20484.30677869, 20483.76715033])"
      ]
     },
     "execution_count": 38,
     "metadata": {},
     "output_type": "execute_result"
    }
   ],
   "source": [
    "predictions = lm.predict(X_test_ex4)\n",
    "predictions  "
   ]
  },
  {
   "cell_type": "markdown",
   "metadata": {},
   "source": [
    "##### เนื้อที่สำหรับปลูกนาข้าว (ไร่)"
   ]
  },
  {
   "cell_type": "code",
   "execution_count": 39,
   "metadata": {},
   "outputs": [
    {
     "data": {
      "text/html": [
       "<div>\n",
       "<style scoped>\n",
       "    .dataframe tbody tr th:only-of-type {\n",
       "        vertical-align: middle;\n",
       "    }\n",
       "\n",
       "    .dataframe tbody tr th {\n",
       "        vertical-align: top;\n",
       "    }\n",
       "\n",
       "    .dataframe thead th {\n",
       "        text-align: right;\n",
       "    }\n",
       "</style>\n",
       "<table border=\"1\" class=\"dataframe\">\n",
       "  <thead>\n",
       "    <tr style=\"text-align: right;\">\n",
       "      <th></th>\n",
       "      <th>เนื้อที่สำหรับปลูกนาข้าว (ไร่)</th>\n",
       "      <th>GPP Per capita (Baht)</th>\n",
       "    </tr>\n",
       "    <tr>\n",
       "      <th>Year</th>\n",
       "      <th></th>\n",
       "      <th></th>\n",
       "    </tr>\n",
       "  </thead>\n",
       "  <tbody>\n",
       "    <tr>\n",
       "      <th>2010.0</th>\n",
       "      <td>825214.0</td>\n",
       "      <td>427733.436</td>\n",
       "    </tr>\n",
       "    <tr>\n",
       "      <th>2011.0</th>\n",
       "      <td>812779.0</td>\n",
       "      <td>365800.945</td>\n",
       "    </tr>\n",
       "    <tr>\n",
       "      <th>2012.0</th>\n",
       "      <td>812975.0</td>\n",
       "      <td>378620.537</td>\n",
       "    </tr>\n",
       "    <tr>\n",
       "      <th>2013.0</th>\n",
       "      <td>812719.0</td>\n",
       "      <td>461789.496</td>\n",
       "    </tr>\n",
       "    <tr>\n",
       "      <th>2014.0</th>\n",
       "      <td>812522.0</td>\n",
       "      <td>417614.341</td>\n",
       "    </tr>\n",
       "    <tr>\n",
       "      <th>2015.0</th>\n",
       "      <td>813100.0</td>\n",
       "      <td>468325.834</td>\n",
       "    </tr>\n",
       "    <tr>\n",
       "      <th>2016.0</th>\n",
       "      <td>812485.0</td>\n",
       "      <td>444803.565</td>\n",
       "    </tr>\n",
       "    <tr>\n",
       "      <th>2017.0</th>\n",
       "      <td>813167.0</td>\n",
       "      <td>449602.967</td>\n",
       "    </tr>\n",
       "    <tr>\n",
       "      <th>2018.0</th>\n",
       "      <td>812834.0</td>\n",
       "      <td>454952.541</td>\n",
       "    </tr>\n",
       "  </tbody>\n",
       "</table>\n",
       "</div>"
      ],
      "text/plain": [
       "        เนื้อที่สำหรับปลูกนาข้าว (ไร่)  GPP Per capita (Baht)\n",
       "Year                                                         \n",
       "2010.0                        825214.0             427733.436\n",
       "2011.0                        812779.0             365800.945\n",
       "2012.0                        812975.0             378620.537\n",
       "2013.0                        812719.0             461789.496\n",
       "2014.0                        812522.0             417614.341\n",
       "2015.0                        813100.0             468325.834\n",
       "2016.0                        812485.0             444803.565\n",
       "2017.0                        813167.0             449602.967\n",
       "2018.0                        812834.0             454952.541"
      ]
     },
     "execution_count": 39,
     "metadata": {},
     "output_type": "execute_result"
    }
   ],
   "source": [
    "ex5 = df1.loc[[i for i in range(2010,2019)],['เนื้อที่สำหรับปลูกนาข้าว (ไร่)','GPP Per capita (Baht)']]\n",
    "ex5"
   ]
  },
  {
   "cell_type": "code",
   "execution_count": 40,
   "metadata": {},
   "outputs": [
    {
     "name": "stderr",
     "output_type": "stream",
     "text": [
      "/Users/pantchanit/opt/anaconda3/lib/python3.9/site-packages/statsmodels/tsa/tsatools.py:142: FutureWarning: In a future version of pandas all arguments of concat except for the argument 'objs' will be keyword-only\n",
      "  x = pd.concat(x[::order], 1)\n"
     ]
    },
    {
     "data": {
      "text/html": [
       "<div>\n",
       "<style scoped>\n",
       "    .dataframe tbody tr th:only-of-type {\n",
       "        vertical-align: middle;\n",
       "    }\n",
       "\n",
       "    .dataframe tbody tr th {\n",
       "        vertical-align: top;\n",
       "    }\n",
       "\n",
       "    .dataframe thead th {\n",
       "        text-align: right;\n",
       "    }\n",
       "</style>\n",
       "<table border=\"1\" class=\"dataframe\">\n",
       "  <thead>\n",
       "    <tr style=\"text-align: right;\">\n",
       "      <th></th>\n",
       "      <th>GPP Per capita (Baht)</th>\n",
       "      <th>const</th>\n",
       "    </tr>\n",
       "    <tr>\n",
       "      <th>Year</th>\n",
       "      <th></th>\n",
       "      <th></th>\n",
       "    </tr>\n",
       "  </thead>\n",
       "  <tbody>\n",
       "    <tr>\n",
       "      <th>2010.0</th>\n",
       "      <td>427733.436</td>\n",
       "      <td>1.0</td>\n",
       "    </tr>\n",
       "    <tr>\n",
       "      <th>2011.0</th>\n",
       "      <td>365800.945</td>\n",
       "      <td>1.0</td>\n",
       "    </tr>\n",
       "    <tr>\n",
       "      <th>2012.0</th>\n",
       "      <td>378620.537</td>\n",
       "      <td>1.0</td>\n",
       "    </tr>\n",
       "    <tr>\n",
       "      <th>2013.0</th>\n",
       "      <td>461789.496</td>\n",
       "      <td>1.0</td>\n",
       "    </tr>\n",
       "    <tr>\n",
       "      <th>2014.0</th>\n",
       "      <td>417614.341</td>\n",
       "      <td>1.0</td>\n",
       "    </tr>\n",
       "  </tbody>\n",
       "</table>\n",
       "</div>"
      ],
      "text/plain": [
       "        GPP Per capita (Baht)  const\n",
       "Year                                \n",
       "2010.0             427733.436    1.0\n",
       "2011.0             365800.945    1.0\n",
       "2012.0             378620.537    1.0\n",
       "2013.0             461789.496    1.0\n",
       "2014.0             417614.341    1.0"
      ]
     },
     "execution_count": 40,
     "metadata": {},
     "output_type": "execute_result"
    }
   ],
   "source": [
    "X = ex5[['GPP Per capita (Baht)']]\n",
    "X = sm.add_constant(X, prepend=False)\n",
    "X.head()"
   ]
  },
  {
   "cell_type": "code",
   "execution_count": 41,
   "metadata": {},
   "outputs": [
    {
     "data": {
      "text/plain": [
       "Year\n",
       "2010.0    825214.0\n",
       "2011.0    812779.0\n",
       "2012.0    812975.0\n",
       "2013.0    812719.0\n",
       "2014.0    812522.0\n",
       "Name: เนื้อที่สำหรับปลูกนาข้าว (ไร่), dtype: float64"
      ]
     },
     "execution_count": 41,
     "metadata": {},
     "output_type": "execute_result"
    }
   ],
   "source": [
    "y = ex5['เนื้อที่สำหรับปลูกนาข้าว (ไร่)']\n",
    "y.head()"
   ]
  },
  {
   "cell_type": "code",
   "execution_count": 42,
   "metadata": {},
   "outputs": [],
   "source": [
    "X_train, X_test, y_train, y_test = train_test_split(X, y, test_size=0.000000000001,random_state=14)"
   ]
  },
  {
   "cell_type": "code",
   "execution_count": 43,
   "metadata": {},
   "outputs": [
    {
     "data": {
      "text/plain": [
       "LinearRegression()"
      ]
     },
     "execution_count": 43,
     "metadata": {},
     "output_type": "execute_result"
    }
   ],
   "source": [
    "lm = LinearRegression()\n",
    "lm.fit(X_train, y_train)"
   ]
  },
  {
   "cell_type": "code",
   "execution_count": 44,
   "metadata": {},
   "outputs": [
    {
     "data": {
      "text/html": [
       "<div>\n",
       "<style scoped>\n",
       "    .dataframe tbody tr th:only-of-type {\n",
       "        vertical-align: middle;\n",
       "    }\n",
       "\n",
       "    .dataframe tbody tr th {\n",
       "        vertical-align: top;\n",
       "    }\n",
       "\n",
       "    .dataframe thead th {\n",
       "        text-align: right;\n",
       "    }\n",
       "</style>\n",
       "<table border=\"1\" class=\"dataframe\">\n",
       "  <thead>\n",
       "    <tr style=\"text-align: right;\">\n",
       "      <th></th>\n",
       "      <th>GPP Per capita (Baht)</th>\n",
       "    </tr>\n",
       "    <tr>\n",
       "      <th>Year</th>\n",
       "      <th></th>\n",
       "    </tr>\n",
       "  </thead>\n",
       "  <tbody>\n",
       "    <tr>\n",
       "      <th>1995.0</th>\n",
       "      <td>143862.554</td>\n",
       "    </tr>\n",
       "    <tr>\n",
       "      <th>1996.0</th>\n",
       "      <td>171503.917</td>\n",
       "    </tr>\n",
       "    <tr>\n",
       "      <th>1997.0</th>\n",
       "      <td>179223.451</td>\n",
       "    </tr>\n",
       "    <tr>\n",
       "      <th>1998.0</th>\n",
       "      <td>180611.806</td>\n",
       "    </tr>\n",
       "    <tr>\n",
       "      <th>1999.0</th>\n",
       "      <td>189856.706</td>\n",
       "    </tr>\n",
       "    <tr>\n",
       "      <th>2000.0</th>\n",
       "      <td>219141.847</td>\n",
       "    </tr>\n",
       "    <tr>\n",
       "      <th>2001.0</th>\n",
       "      <td>219060.592</td>\n",
       "    </tr>\n",
       "    <tr>\n",
       "      <th>2002.0</th>\n",
       "      <td>231122.492</td>\n",
       "    </tr>\n",
       "    <tr>\n",
       "      <th>2003.0</th>\n",
       "      <td>256743.101</td>\n",
       "    </tr>\n",
       "    <tr>\n",
       "      <th>2004.0</th>\n",
       "      <td>271765.117</td>\n",
       "    </tr>\n",
       "    <tr>\n",
       "      <th>2005.0</th>\n",
       "      <td>273739.910</td>\n",
       "    </tr>\n",
       "    <tr>\n",
       "      <th>2006.0</th>\n",
       "      <td>298954.253</td>\n",
       "    </tr>\n",
       "    <tr>\n",
       "      <th>2007.0</th>\n",
       "      <td>339993.396</td>\n",
       "    </tr>\n",
       "    <tr>\n",
       "      <th>2008.0</th>\n",
       "      <td>438555.445</td>\n",
       "    </tr>\n",
       "    <tr>\n",
       "      <th>2009.0</th>\n",
       "      <td>379657.777</td>\n",
       "    </tr>\n",
       "  </tbody>\n",
       "</table>\n",
       "</div>"
      ],
      "text/plain": [
       "        GPP Per capita (Baht)\n",
       "Year                         \n",
       "1995.0             143862.554\n",
       "1996.0             171503.917\n",
       "1997.0             179223.451\n",
       "1998.0             180611.806\n",
       "1999.0             189856.706\n",
       "2000.0             219141.847\n",
       "2001.0             219060.592\n",
       "2002.0             231122.492\n",
       "2003.0             256743.101\n",
       "2004.0             271765.117\n",
       "2005.0             273739.910\n",
       "2006.0             298954.253\n",
       "2007.0             339993.396\n",
       "2008.0             438555.445\n",
       "2009.0             379657.777"
      ]
     },
     "execution_count": 44,
     "metadata": {},
     "output_type": "execute_result"
    }
   ],
   "source": [
    "test_ex5 = df1.loc[[i for i in range(1995,2010)],['GPP Per capita (Baht)']]\n",
    "test_ex5"
   ]
  },
  {
   "cell_type": "code",
   "execution_count": 45,
   "metadata": {},
   "outputs": [
    {
     "name": "stderr",
     "output_type": "stream",
     "text": [
      "/Users/pantchanit/opt/anaconda3/lib/python3.9/site-packages/statsmodels/tsa/tsatools.py:142: FutureWarning: In a future version of pandas all arguments of concat except for the argument 'objs' will be keyword-only\n",
      "  x = pd.concat(x[::order], 1)\n"
     ]
    },
    {
     "data": {
      "text/html": [
       "<div>\n",
       "<style scoped>\n",
       "    .dataframe tbody tr th:only-of-type {\n",
       "        vertical-align: middle;\n",
       "    }\n",
       "\n",
       "    .dataframe tbody tr th {\n",
       "        vertical-align: top;\n",
       "    }\n",
       "\n",
       "    .dataframe thead th {\n",
       "        text-align: right;\n",
       "    }\n",
       "</style>\n",
       "<table border=\"1\" class=\"dataframe\">\n",
       "  <thead>\n",
       "    <tr style=\"text-align: right;\">\n",
       "      <th></th>\n",
       "      <th>GPP Per capita (Baht)</th>\n",
       "      <th>const</th>\n",
       "    </tr>\n",
       "    <tr>\n",
       "      <th>Year</th>\n",
       "      <th></th>\n",
       "      <th></th>\n",
       "    </tr>\n",
       "  </thead>\n",
       "  <tbody>\n",
       "    <tr>\n",
       "      <th>1995.0</th>\n",
       "      <td>143862.554</td>\n",
       "      <td>1.0</td>\n",
       "    </tr>\n",
       "    <tr>\n",
       "      <th>1996.0</th>\n",
       "      <td>171503.917</td>\n",
       "      <td>1.0</td>\n",
       "    </tr>\n",
       "    <tr>\n",
       "      <th>1997.0</th>\n",
       "      <td>179223.451</td>\n",
       "      <td>1.0</td>\n",
       "    </tr>\n",
       "    <tr>\n",
       "      <th>1998.0</th>\n",
       "      <td>180611.806</td>\n",
       "      <td>1.0</td>\n",
       "    </tr>\n",
       "    <tr>\n",
       "      <th>1999.0</th>\n",
       "      <td>189856.706</td>\n",
       "      <td>1.0</td>\n",
       "    </tr>\n",
       "  </tbody>\n",
       "</table>\n",
       "</div>"
      ],
      "text/plain": [
       "        GPP Per capita (Baht)  const\n",
       "Year                                \n",
       "1995.0             143862.554    1.0\n",
       "1996.0             171503.917    1.0\n",
       "1997.0             179223.451    1.0\n",
       "1998.0             180611.806    1.0\n",
       "1999.0             189856.706    1.0"
      ]
     },
     "execution_count": 45,
     "metadata": {},
     "output_type": "execute_result"
    }
   ],
   "source": [
    "X_test_ex5 = test_ex5[['GPP Per capita (Baht)']]\n",
    "X_test_ex5 = sm.add_constant(X_test_ex5, prepend=False)\n",
    "X_test_ex5.head()"
   ]
  },
  {
   "cell_type": "code",
   "execution_count": 46,
   "metadata": {},
   "outputs": [
    {
     "data": {
      "text/plain": [
       "array([813441.82643235, 813529.79148508, 813554.35790083, 813558.77616055,\n",
       "       813588.19685576, 813681.39301879, 813681.13443529, 813719.51986764,\n",
       "       813801.05413285, 813848.85975046, 813855.14427305, 813935.38564942,\n",
       "       814065.98739934, 814379.64833703, 814192.2141475 ])"
      ]
     },
     "execution_count": 46,
     "metadata": {},
     "output_type": "execute_result"
    }
   ],
   "source": [
    "predictions = lm.predict(X_test_ex5)\n",
    "predictions  "
   ]
  },
  {
   "cell_type": "markdown",
   "metadata": {},
   "source": [
    "## Find data by Interpolation"
   ]
  },
  {
   "cell_type": "code",
   "execution_count": 47,
   "metadata": {},
   "outputs": [
    {
     "data": {
      "text/plain": [
       "Year\n",
       "1995.0        NaN\n",
       "1996.0    0.11918\n",
       "1997.0    0.10214\n",
       "1998.0        NaN\n",
       "1999.0    0.24836\n",
       "2000.0    0.24471\n",
       "2001.0    0.25231\n",
       "2002.0    0.23055\n",
       "2003.0    0.24534\n",
       "2004.0    0.23828\n",
       "2005.0    0.21889\n",
       "2006.0    0.23271\n",
       "2007.0    0.20080\n",
       "2008.0    0.20331\n",
       "2009.0    0.23455\n",
       "2010.0        NaN\n",
       "2011.0    0.36146\n",
       "2012.0        NaN\n",
       "2013.0    0.44164\n",
       "2014.0    0.47988\n",
       "2015.0    0.61609\n",
       "2016.0    0.77817\n",
       "2017.0    1.00179\n",
       "2018.0        NaN\n",
       "NaN           NaN\n",
       "NaN           NaN\n",
       "NaN           NaN\n",
       "NaN           NaN\n",
       "NaN           NaN\n",
       "Name: ค่าใช้จ่ายในการวิจัยและพัฒนา (คิดเป็น % ของจีดีพี), dtype: float64"
      ]
     },
     "execution_count": 47,
     "metadata": {},
     "output_type": "execute_result"
    }
   ],
   "source": [
    "ex6 = df1['ค่าใช้จ่ายในการวิจัยและพัฒนา (คิดเป็น % ของจีดีพี)']\n",
    "ex6"
   ]
  },
  {
   "cell_type": "code",
   "execution_count": 48,
   "metadata": {},
   "outputs": [
    {
     "data": {
      "text/plain": [
       "Year\n",
       "1995.0         NaN\n",
       "1996.0    0.119180\n",
       "1997.0    0.102140\n",
       "1998.0    0.175250\n",
       "1999.0    0.248360\n",
       "2000.0    0.244710\n",
       "2001.0    0.252310\n",
       "2002.0    0.230550\n",
       "2003.0    0.245340\n",
       "2004.0    0.238280\n",
       "2005.0    0.218890\n",
       "2006.0    0.232710\n",
       "2007.0    0.200800\n",
       "2008.0    0.203310\n",
       "2009.0    0.234550\n",
       "2010.0    0.298005\n",
       "2011.0    0.361460\n",
       "2012.0    0.401550\n",
       "2013.0    0.441640\n",
       "2014.0    0.479880\n",
       "2015.0    0.616090\n",
       "2016.0    0.778170\n",
       "2017.0    1.001790\n",
       "2018.0    1.001790\n",
       "NaN       1.001790\n",
       "NaN       1.001790\n",
       "NaN       1.001790\n",
       "NaN       1.001790\n",
       "NaN       1.001790\n",
       "Name: ค่าใช้จ่ายในการวิจัยและพัฒนา (คิดเป็น % ของจีดีพี), dtype: float64"
      ]
     },
     "execution_count": 48,
     "metadata": {},
     "output_type": "execute_result"
    }
   ],
   "source": [
    "ex6.interpolate(method='linear', limit_direction='forward', axis=0)"
   ]
  },
  {
   "cell_type": "code",
   "execution_count": 49,
   "metadata": {},
   "outputs": [
    {
     "data": {
      "text/plain": [
       "Year\n",
       "1995.0    0.119180\n",
       "1996.0    0.119180\n",
       "1997.0    0.102140\n",
       "1998.0    0.175250\n",
       "1999.0    0.248360\n",
       "2000.0    0.244710\n",
       "2001.0    0.252310\n",
       "2002.0    0.230550\n",
       "2003.0    0.245340\n",
       "2004.0    0.238280\n",
       "2005.0    0.218890\n",
       "2006.0    0.232710\n",
       "2007.0    0.200800\n",
       "2008.0    0.203310\n",
       "2009.0    0.234550\n",
       "2010.0    0.298005\n",
       "2011.0    0.361460\n",
       "2012.0    0.401550\n",
       "2013.0    0.441640\n",
       "2014.0    0.479880\n",
       "2015.0    0.616090\n",
       "2016.0    0.778170\n",
       "2017.0    1.001790\n",
       "2018.0         NaN\n",
       "NaN            NaN\n",
       "NaN            NaN\n",
       "NaN            NaN\n",
       "NaN            NaN\n",
       "NaN            NaN\n",
       "Name: ค่าใช้จ่ายในการวิจัยและพัฒนา (คิดเป็น % ของจีดีพี), dtype: float64"
      ]
     },
     "execution_count": 49,
     "metadata": {},
     "output_type": "execute_result"
    }
   ],
   "source": [
    "ex6.interpolate(method='linear', limit_direction='backward', axis=0)"
   ]
  }
 ],
 "metadata": {
  "interpreter": {
   "hash": "a55ab719c9bfc05de0d3a1d1915f1d68fd6eba03203b10440bfba1b28ddfa129"
  },
  "kernelspec": {
   "display_name": "Python 3.9.7 ('base')",
   "language": "python",
   "name": "python3"
  },
  "language_info": {
   "codemirror_mode": {
    "name": "ipython",
    "version": 3
   },
   "file_extension": ".py",
   "mimetype": "text/x-python",
   "name": "python",
   "nbconvert_exporter": "python",
   "pygments_lexer": "ipython3",
   "version": "3.9.7"
  },
  "orig_nbformat": 4
 },
 "nbformat": 4,
 "nbformat_minor": 2
}
