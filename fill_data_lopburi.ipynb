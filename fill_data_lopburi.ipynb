{
 "cells": [
  {
   "cell_type": "code",
   "execution_count": 50,
   "metadata": {},
   "outputs": [],
   "source": [
    "#! -*- coding: UTF8 -*-\n",
    "import os\n",
    "os.chdir(os.getcwd())"
   ]
  },
  {
   "cell_type": "markdown",
   "metadata": {},
   "source": [
    "## Import Module"
   ]
  },
  {
   "cell_type": "code",
   "execution_count": 51,
   "metadata": {},
   "outputs": [],
   "source": [
    "import pandas as pd\n",
    "import numpy as np\n",
    "import matplotlib.pyplot as plt\n",
    "import seaborn as sns\n",
    "%matplotlib inline"
   ]
  },
  {
   "cell_type": "code",
   "execution_count": 52,
   "metadata": {},
   "outputs": [],
   "source": [
    "from sklearn.model_selection import train_test_split\n",
    "from sklearn.linear_model import LinearRegression\n",
    "from sklearn import metrics"
   ]
  },
  {
   "cell_type": "markdown",
   "metadata": {},
   "source": [
    "## Import Data "
   ]
  },
  {
   "cell_type": "code",
   "execution_count": 53,
   "metadata": {},
   "outputs": [
    {
     "data": {
      "text/html": [
       "<div>\n",
       "<style scoped>\n",
       "    .dataframe tbody tr th:only-of-type {\n",
       "        vertical-align: middle;\n",
       "    }\n",
       "\n",
       "    .dataframe tbody tr th {\n",
       "        vertical-align: top;\n",
       "    }\n",
       "\n",
       "    .dataframe thead th {\n",
       "        text-align: right;\n",
       "    }\n",
       "</style>\n",
       "<table border=\"1\" class=\"dataframe\">\n",
       "  <thead>\n",
       "    <tr style=\"text-align: right;\">\n",
       "      <th></th>\n",
       "      <th>Agriculture, forestry and fishing</th>\n",
       "      <th>Mining and quarrying</th>\n",
       "      <th>Manufacturing</th>\n",
       "      <th>Electricity, gas, steam and air conditioning supply</th>\n",
       "      <th>Water supply; sewerage, waste management and remediation activities</th>\n",
       "      <th>Construction</th>\n",
       "      <th>Wholesale and retail trade and repair of motor vehicles</th>\n",
       "      <th>Transportation and storage</th>\n",
       "      <th>Accommodation and food service activities</th>\n",
       "      <th>Information and communication</th>\n",
       "      <th>...</th>\n",
       "      <th>การนำเข้าสินค้าและบริการ (คิดเป็น % ของจีดีพี)</th>\n",
       "      <th>มูลค่าเพิ่มของอุตสาหกรรม (คิดเป็น % ของจีดีพี)</th>\n",
       "      <th>จำนวนประชากรทั้งหมด (คน)</th>\n",
       "      <th>ค่าใช้จ่ายในการวิจัยและพัฒนา (คิดเป็น % ของจีดีพี)</th>\n",
       "      <th>รายจ่ายของประชากรในจังหวัดลพบุรี (บาท)</th>\n",
       "      <th>เนื้อที่ที่ถือครองเพื่อการเกษตร (ไร่)</th>\n",
       "      <th>เนื้อที่สำหรับปลูกพืชไร่ (ไร่)</th>\n",
       "      <th>เนื้อที่สำหรับปลูกนาข้าว (ไร่)</th>\n",
       "      <th>จำนวนโรงงานอุตสาหกรรม (โรงงาน)</th>\n",
       "      <th>GPP Per capita (Baht)</th>\n",
       "    </tr>\n",
       "    <tr>\n",
       "      <th>Year</th>\n",
       "      <th></th>\n",
       "      <th></th>\n",
       "      <th></th>\n",
       "      <th></th>\n",
       "      <th></th>\n",
       "      <th></th>\n",
       "      <th></th>\n",
       "      <th></th>\n",
       "      <th></th>\n",
       "      <th></th>\n",
       "      <th></th>\n",
       "      <th></th>\n",
       "      <th></th>\n",
       "      <th></th>\n",
       "      <th></th>\n",
       "      <th></th>\n",
       "      <th></th>\n",
       "      <th></th>\n",
       "      <th></th>\n",
       "      <th></th>\n",
       "      <th></th>\n",
       "    </tr>\n",
       "  </thead>\n",
       "  <tbody>\n",
       "    <tr>\n",
       "      <th>1995</th>\n",
       "      <td>5391.575854</td>\n",
       "      <td>19.009823</td>\n",
       "      <td>7176.043232</td>\n",
       "      <td>590.238706</td>\n",
       "      <td>142.277622</td>\n",
       "      <td>3391.005101</td>\n",
       "      <td>3484.507633</td>\n",
       "      <td>1016.736730</td>\n",
       "      <td>176.898917</td>\n",
       "      <td>195.790885</td>\n",
       "      <td>...</td>\n",
       "      <td>48.223830</td>\n",
       "      <td>37.278020</td>\n",
       "      <td>59467272</td>\n",
       "      <td>NaN</td>\n",
       "      <td>NaN</td>\n",
       "      <td>NaN</td>\n",
       "      <td>NaN</td>\n",
       "      <td>NaN</td>\n",
       "      <td>NaN</td>\n",
       "      <td>143862.554</td>\n",
       "    </tr>\n",
       "    <tr>\n",
       "      <th>1996</th>\n",
       "      <td>6206.682558</td>\n",
       "      <td>37.744703</td>\n",
       "      <td>6810.317457</td>\n",
       "      <td>677.218307</td>\n",
       "      <td>137.423999</td>\n",
       "      <td>7728.645631</td>\n",
       "      <td>3737.141208</td>\n",
       "      <td>1113.256820</td>\n",
       "      <td>153.858116</td>\n",
       "      <td>224.369211</td>\n",
       "      <td>...</td>\n",
       "      <td>45.255728</td>\n",
       "      <td>37.081286</td>\n",
       "      <td>60130190</td>\n",
       "      <td>0.11918</td>\n",
       "      <td>NaN</td>\n",
       "      <td>NaN</td>\n",
       "      <td>NaN</td>\n",
       "      <td>NaN</td>\n",
       "      <td>NaN</td>\n",
       "      <td>171503.917</td>\n",
       "    </tr>\n",
       "    <tr>\n",
       "      <th>1997</th>\n",
       "      <td>6014.415215</td>\n",
       "      <td>36.238535</td>\n",
       "      <td>6988.106194</td>\n",
       "      <td>817.941119</td>\n",
       "      <td>149.159330</td>\n",
       "      <td>5647.894247</td>\n",
       "      <td>4542.778789</td>\n",
       "      <td>1172.783861</td>\n",
       "      <td>140.141879</td>\n",
       "      <td>234.727143</td>\n",
       "      <td>...</td>\n",
       "      <td>46.814732</td>\n",
       "      <td>36.564600</td>\n",
       "      <td>60846588</td>\n",
       "      <td>0.10214</td>\n",
       "      <td>NaN</td>\n",
       "      <td>NaN</td>\n",
       "      <td>NaN</td>\n",
       "      <td>NaN</td>\n",
       "      <td>NaN</td>\n",
       "      <td>179223.451</td>\n",
       "    </tr>\n",
       "    <tr>\n",
       "      <th>1998</th>\n",
       "      <td>6270.177149</td>\n",
       "      <td>28.193053</td>\n",
       "      <td>5739.574622</td>\n",
       "      <td>1090.869869</td>\n",
       "      <td>130.489143</td>\n",
       "      <td>3182.288913</td>\n",
       "      <td>4987.801949</td>\n",
       "      <td>1245.856126</td>\n",
       "      <td>474.662929</td>\n",
       "      <td>229.726314</td>\n",
       "      <td>...</td>\n",
       "      <td>42.303171</td>\n",
       "      <td>36.111727</td>\n",
       "      <td>61585103</td>\n",
       "      <td>NaN</td>\n",
       "      <td>NaN</td>\n",
       "      <td>NaN</td>\n",
       "      <td>NaN</td>\n",
       "      <td>NaN</td>\n",
       "      <td>NaN</td>\n",
       "      <td>180611.806</td>\n",
       "    </tr>\n",
       "    <tr>\n",
       "      <th>1999</th>\n",
       "      <td>5684.674097</td>\n",
       "      <td>42.046276</td>\n",
       "      <td>4594.756351</td>\n",
       "      <td>958.722269</td>\n",
       "      <td>143.734495</td>\n",
       "      <td>2304.876078</td>\n",
       "      <td>4652.336854</td>\n",
       "      <td>1226.177795</td>\n",
       "      <td>564.896952</td>\n",
       "      <td>241.436570</td>\n",
       "      <td>...</td>\n",
       "      <td>44.267746</td>\n",
       "      <td>36.378900</td>\n",
       "      <td>62298569</td>\n",
       "      <td>0.24836</td>\n",
       "      <td>NaN</td>\n",
       "      <td>NaN</td>\n",
       "      <td>NaN</td>\n",
       "      <td>NaN</td>\n",
       "      <td>NaN</td>\n",
       "      <td>189856.706</td>\n",
       "    </tr>\n",
       "  </tbody>\n",
       "</table>\n",
       "<p>5 rows × 31 columns</p>\n",
       "</div>"
      ],
      "text/plain": [
       "      Agriculture, forestry and fishing  Mining and quarrying  Manufacturing  \\\n",
       "Year                                                                           \n",
       "1995                        5391.575854             19.009823    7176.043232   \n",
       "1996                        6206.682558             37.744703    6810.317457   \n",
       "1997                        6014.415215             36.238535    6988.106194   \n",
       "1998                        6270.177149             28.193053    5739.574622   \n",
       "1999                        5684.674097             42.046276    4594.756351   \n",
       "\n",
       "      Electricity, gas, steam and air conditioning supply  \\\n",
       "Year                                                        \n",
       "1995                                         590.238706     \n",
       "1996                                         677.218307     \n",
       "1997                                         817.941119     \n",
       "1998                                        1090.869869     \n",
       "1999                                         958.722269     \n",
       "\n",
       "      Water supply; sewerage, waste management and remediation activities  \\\n",
       "Year                                                                        \n",
       "1995                                         142.277622                     \n",
       "1996                                         137.423999                     \n",
       "1997                                         149.159330                     \n",
       "1998                                         130.489143                     \n",
       "1999                                         143.734495                     \n",
       "\n",
       "      Construction  Wholesale and retail trade and repair of motor vehicles  \\\n",
       "Year                                                                          \n",
       "1995   3391.005101                                        3484.507633         \n",
       "1996   7728.645631                                        3737.141208         \n",
       "1997   5647.894247                                        4542.778789         \n",
       "1998   3182.288913                                        4987.801949         \n",
       "1999   2304.876078                                        4652.336854         \n",
       "\n",
       "      Transportation and storage  Accommodation and food service activities  \\\n",
       "Year                                                                          \n",
       "1995                 1016.736730                                 176.898917   \n",
       "1996                 1113.256820                                 153.858116   \n",
       "1997                 1172.783861                                 140.141879   \n",
       "1998                 1245.856126                                 474.662929   \n",
       "1999                 1226.177795                                 564.896952   \n",
       "\n",
       "      Information and communication  ...  \\\n",
       "Year                                 ...   \n",
       "1995                     195.790885  ...   \n",
       "1996                     224.369211  ...   \n",
       "1997                     234.727143  ...   \n",
       "1998                     229.726314  ...   \n",
       "1999                     241.436570  ...   \n",
       "\n",
       "      การนำเข้าสินค้าและบริการ (คิดเป็น % ของจีดีพี)  \\\n",
       "Year                                                   \n",
       "1995                                       48.223830   \n",
       "1996                                       45.255728   \n",
       "1997                                       46.814732   \n",
       "1998                                       42.303171   \n",
       "1999                                       44.267746   \n",
       "\n",
       "      มูลค่าเพิ่มของอุตสาหกรรม (คิดเป็น % ของจีดีพี)  \\\n",
       "Year                                                   \n",
       "1995                                       37.278020   \n",
       "1996                                       37.081286   \n",
       "1997                                       36.564600   \n",
       "1998                                       36.111727   \n",
       "1999                                       36.378900   \n",
       "\n",
       "      จำนวนประชากรทั้งหมด (คน)  \\\n",
       "Year                             \n",
       "1995                  59467272   \n",
       "1996                  60130190   \n",
       "1997                  60846588   \n",
       "1998                  61585103   \n",
       "1999                  62298569   \n",
       "\n",
       "      ค่าใช้จ่ายในการวิจัยและพัฒนา (คิดเป็น % ของจีดีพี)  \\\n",
       "Year                                                       \n",
       "1995                                                NaN    \n",
       "1996                                            0.11918    \n",
       "1997                                            0.10214    \n",
       "1998                                                NaN    \n",
       "1999                                            0.24836    \n",
       "\n",
       "      รายจ่ายของประชากรในจังหวัดลพบุรี (บาท)  \\\n",
       "Year                                           \n",
       "1995                                     NaN   \n",
       "1996                                     NaN   \n",
       "1997                                     NaN   \n",
       "1998                                     NaN   \n",
       "1999                                     NaN   \n",
       "\n",
       "      เนื้อที่ที่ถือครองเพื่อการเกษตร (ไร่)  เนื้อที่สำหรับปลูกพืชไร่ (ไร่)  \\\n",
       "Year                                                                          \n",
       "1995                                    NaN                             NaN   \n",
       "1996                                    NaN                             NaN   \n",
       "1997                                    NaN                             NaN   \n",
       "1998                                    NaN                             NaN   \n",
       "1999                                    NaN                             NaN   \n",
       "\n",
       "      เนื้อที่สำหรับปลูกนาข้าว (ไร่)  จำนวนโรงงานอุตสาหกรรม (โรงงาน)  \\\n",
       "Year                                                                   \n",
       "1995                             NaN                             NaN   \n",
       "1996                             NaN                             NaN   \n",
       "1997                             NaN                             NaN   \n",
       "1998                             NaN                             NaN   \n",
       "1999                             NaN                             NaN   \n",
       "\n",
       "      GPP Per capita (Baht)  \n",
       "Year                         \n",
       "1995             143862.554  \n",
       "1996             171503.917  \n",
       "1997             179223.451  \n",
       "1998             180611.806  \n",
       "1999             189856.706  \n",
       "\n",
       "[5 rows x 31 columns]"
      ]
     },
     "execution_count": 53,
     "metadata": {},
     "output_type": "execute_result"
    }
   ],
   "source": [
    "df1 = pd.read_excel('process_data/GPP_6210501001.xlsx',sheet_name=\"LopBuri\",index_col=\"Year\") #ตัวอย่าง\n",
    "df1.head()"
   ]
  },
  {
   "cell_type": "code",
   "execution_count": 54,
   "metadata": {},
   "outputs": [
    {
     "data": {
      "text/plain": [
       "Index(['Agriculture, forestry and fishing', 'Mining and quarrying',\n",
       "       'Manufacturing', 'Electricity, gas, steam and air conditioning supply',\n",
       "       'Water supply; sewerage, waste management and remediation activities',\n",
       "       'Construction',\n",
       "       'Wholesale and retail trade and repair of motor vehicles',\n",
       "       'Transportation and storage',\n",
       "       'Accommodation and food service activities',\n",
       "       'Information and communication', 'Financial and insurance activities',\n",
       "       'Real estate activities',\n",
       "       'Professional, scientific and technical activities',\n",
       "       'Administrative and support service activities',\n",
       "       'Public administration and defence; compulsory social security',\n",
       "       'Education', 'Human health activities',\n",
       "       'Arts, entertainment and recreation', 'Other service activities',\n",
       "       'การค้าสินค้า (คิดเป็น % ของจีดีพี)',\n",
       "       'มูลค่าเพิ่มของการเกษตร (คิดเป็น % ของจีดีพี)',\n",
       "       'การนำเข้าสินค้าและบริการ (คิดเป็น % ของจีดีพี)',\n",
       "       'มูลค่าเพิ่มของอุตสาหกรรม (คิดเป็น % ของจีดีพี)',\n",
       "       'จำนวนประชากรทั้งหมด (คน)',\n",
       "       'ค่าใช้จ่ายในการวิจัยและพัฒนา (คิดเป็น % ของจีดีพี)',\n",
       "       'รายจ่ายของประชากรในจังหวัดลพบุรี (บาท)',\n",
       "       'เนื้อที่ที่ถือครองเพื่อการเกษตร (ไร่)',\n",
       "       'เนื้อที่สำหรับปลูกพืชไร่ (ไร่)', 'เนื้อที่สำหรับปลูกนาข้าว (ไร่)',\n",
       "       'จำนวนโรงงานอุตสาหกรรม (โรงงาน)', 'GPP Per capita (Baht)'],\n",
       "      dtype='object')"
      ]
     },
     "execution_count": 54,
     "metadata": {},
     "output_type": "execute_result"
    }
   ],
   "source": [
    "df1.keys()"
   ]
  },
  {
   "cell_type": "markdown",
   "metadata": {},
   "source": [
    "## Find data by Regression"
   ]
  },
  {
   "cell_type": "markdown",
   "metadata": {},
   "source": [
    "##### รายจ่ายของประชากรในจังหวัดลพบุรี (บาท)"
   ]
  },
  {
   "cell_type": "code",
   "execution_count": 55,
   "metadata": {},
   "outputs": [
    {
     "data": {
      "text/html": [
       "<div>\n",
       "<style scoped>\n",
       "    .dataframe tbody tr th:only-of-type {\n",
       "        vertical-align: middle;\n",
       "    }\n",
       "\n",
       "    .dataframe tbody tr th {\n",
       "        vertical-align: top;\n",
       "    }\n",
       "\n",
       "    .dataframe thead th {\n",
       "        text-align: right;\n",
       "    }\n",
       "</style>\n",
       "<table border=\"1\" class=\"dataframe\">\n",
       "  <thead>\n",
       "    <tr style=\"text-align: right;\">\n",
       "      <th></th>\n",
       "      <th>รายจ่ายของประชากรในจังหวัดลพบุรี (บาท)</th>\n",
       "      <th>GPP Per capita (Baht)</th>\n",
       "    </tr>\n",
       "    <tr>\n",
       "      <th>Year</th>\n",
       "      <th></th>\n",
       "      <th></th>\n",
       "    </tr>\n",
       "  </thead>\n",
       "  <tbody>\n",
       "    <tr>\n",
       "      <th>2006</th>\n",
       "      <td>15870.00</td>\n",
       "      <td>298954.253</td>\n",
       "    </tr>\n",
       "    <tr>\n",
       "      <th>2007</th>\n",
       "      <td>14462.00</td>\n",
       "      <td>339993.396</td>\n",
       "    </tr>\n",
       "    <tr>\n",
       "      <th>2008</th>\n",
       "      <td>15386.00</td>\n",
       "      <td>438555.445</td>\n",
       "    </tr>\n",
       "    <tr>\n",
       "      <th>2009</th>\n",
       "      <td>16764.00</td>\n",
       "      <td>379657.777</td>\n",
       "    </tr>\n",
       "    <tr>\n",
       "      <th>2010</th>\n",
       "      <td>14433.00</td>\n",
       "      <td>427733.436</td>\n",
       "    </tr>\n",
       "    <tr>\n",
       "      <th>2011</th>\n",
       "      <td>14875.40</td>\n",
       "      <td>365800.945</td>\n",
       "    </tr>\n",
       "    <tr>\n",
       "      <th>2012</th>\n",
       "      <td>17356.96</td>\n",
       "      <td>378620.537</td>\n",
       "    </tr>\n",
       "    <tr>\n",
       "      <th>2013</th>\n",
       "      <td>15944.80</td>\n",
       "      <td>461789.496</td>\n",
       "    </tr>\n",
       "    <tr>\n",
       "      <th>2014</th>\n",
       "      <td>14910.71</td>\n",
       "      <td>417614.341</td>\n",
       "    </tr>\n",
       "    <tr>\n",
       "      <th>2015</th>\n",
       "      <td>17968.90</td>\n",
       "      <td>468325.834</td>\n",
       "    </tr>\n",
       "    <tr>\n",
       "      <th>2016</th>\n",
       "      <td>15875.50</td>\n",
       "      <td>444803.565</td>\n",
       "    </tr>\n",
       "    <tr>\n",
       "      <th>2017</th>\n",
       "      <td>16012.15</td>\n",
       "      <td>449602.967</td>\n",
       "    </tr>\n",
       "    <tr>\n",
       "      <th>2018</th>\n",
       "      <td>17016.83</td>\n",
       "      <td>454952.541</td>\n",
       "    </tr>\n",
       "  </tbody>\n",
       "</table>\n",
       "</div>"
      ],
      "text/plain": [
       "      รายจ่ายของประชากรในจังหวัดลพบุรี (บาท)  GPP Per capita (Baht)\n",
       "Year                                                               \n",
       "2006                                15870.00             298954.253\n",
       "2007                                14462.00             339993.396\n",
       "2008                                15386.00             438555.445\n",
       "2009                                16764.00             379657.777\n",
       "2010                                14433.00             427733.436\n",
       "2011                                14875.40             365800.945\n",
       "2012                                17356.96             378620.537\n",
       "2013                                15944.80             461789.496\n",
       "2014                                14910.71             417614.341\n",
       "2015                                17968.90             468325.834\n",
       "2016                                15875.50             444803.565\n",
       "2017                                16012.15             449602.967\n",
       "2018                                17016.83             454952.541"
      ]
     },
     "execution_count": 55,
     "metadata": {},
     "output_type": "execute_result"
    }
   ],
   "source": [
    "ex1 = df1.loc[[i for i in range(2006,2019)],['รายจ่ายของประชากรในจังหวัดลพบุรี (บาท)','GPP Per capita (Baht)']]\n",
    "ex1"
   ]
  },
  {
   "cell_type": "code",
   "execution_count": 56,
   "metadata": {},
   "outputs": [
    {
     "name": "stderr",
     "output_type": "stream",
     "text": [
      "/Users/pantchanit/opt/anaconda3/lib/python3.9/site-packages/statsmodels/tsa/tsatools.py:142: FutureWarning: In a future version of pandas all arguments of concat except for the argument 'objs' will be keyword-only\n",
      "  x = pd.concat(x[::order], 1)\n"
     ]
    },
    {
     "data": {
      "text/html": [
       "<div>\n",
       "<style scoped>\n",
       "    .dataframe tbody tr th:only-of-type {\n",
       "        vertical-align: middle;\n",
       "    }\n",
       "\n",
       "    .dataframe tbody tr th {\n",
       "        vertical-align: top;\n",
       "    }\n",
       "\n",
       "    .dataframe thead th {\n",
       "        text-align: right;\n",
       "    }\n",
       "</style>\n",
       "<table border=\"1\" class=\"dataframe\">\n",
       "  <thead>\n",
       "    <tr style=\"text-align: right;\">\n",
       "      <th></th>\n",
       "      <th>GPP Per capita (Baht)</th>\n",
       "      <th>const</th>\n",
       "    </tr>\n",
       "    <tr>\n",
       "      <th>Year</th>\n",
       "      <th></th>\n",
       "      <th></th>\n",
       "    </tr>\n",
       "  </thead>\n",
       "  <tbody>\n",
       "    <tr>\n",
       "      <th>2006</th>\n",
       "      <td>298954.253</td>\n",
       "      <td>1.0</td>\n",
       "    </tr>\n",
       "    <tr>\n",
       "      <th>2007</th>\n",
       "      <td>339993.396</td>\n",
       "      <td>1.0</td>\n",
       "    </tr>\n",
       "    <tr>\n",
       "      <th>2008</th>\n",
       "      <td>438555.445</td>\n",
       "      <td>1.0</td>\n",
       "    </tr>\n",
       "    <tr>\n",
       "      <th>2009</th>\n",
       "      <td>379657.777</td>\n",
       "      <td>1.0</td>\n",
       "    </tr>\n",
       "    <tr>\n",
       "      <th>2010</th>\n",
       "      <td>427733.436</td>\n",
       "      <td>1.0</td>\n",
       "    </tr>\n",
       "  </tbody>\n",
       "</table>\n",
       "</div>"
      ],
      "text/plain": [
       "      GPP Per capita (Baht)  const\n",
       "Year                              \n",
       "2006             298954.253    1.0\n",
       "2007             339993.396    1.0\n",
       "2008             438555.445    1.0\n",
       "2009             379657.777    1.0\n",
       "2010             427733.436    1.0"
      ]
     },
     "execution_count": 56,
     "metadata": {},
     "output_type": "execute_result"
    }
   ],
   "source": [
    "import statsmodels.api as sm\n",
    "X = ex1[['GPP Per capita (Baht)']]\n",
    "X = sm.add_constant(X, prepend=False)\n",
    "X.head()"
   ]
  },
  {
   "cell_type": "code",
   "execution_count": 57,
   "metadata": {},
   "outputs": [
    {
     "data": {
      "text/plain": [
       "Year\n",
       "2006    15870.0\n",
       "2007    14462.0\n",
       "2008    15386.0\n",
       "2009    16764.0\n",
       "2010    14433.0\n",
       "Name: รายจ่ายของประชากรในจังหวัดลพบุรี (บาท), dtype: float64"
      ]
     },
     "execution_count": 57,
     "metadata": {},
     "output_type": "execute_result"
    }
   ],
   "source": [
    "y = ex1['รายจ่ายของประชากรในจังหวัดลพบุรี (บาท)']\n",
    "y.head()"
   ]
  },
  {
   "cell_type": "code",
   "execution_count": 58,
   "metadata": {},
   "outputs": [],
   "source": [
    "X_train, X_test, y_train, y_test = train_test_split(X, y, test_size=0.05,random_state=14)  "
   ]
  },
  {
   "cell_type": "code",
   "execution_count": 59,
   "metadata": {},
   "outputs": [
    {
     "data": {
      "text/plain": [
       "LinearRegression()"
      ]
     },
     "execution_count": 59,
     "metadata": {},
     "output_type": "execute_result"
    }
   ],
   "source": [
    "lm = LinearRegression()\n",
    "lm.fit(X_train, y_train)"
   ]
  },
  {
   "cell_type": "code",
   "execution_count": 60,
   "metadata": {},
   "outputs": [
    {
     "data": {
      "text/html": [
       "<div>\n",
       "<style scoped>\n",
       "    .dataframe tbody tr th:only-of-type {\n",
       "        vertical-align: middle;\n",
       "    }\n",
       "\n",
       "    .dataframe tbody tr th {\n",
       "        vertical-align: top;\n",
       "    }\n",
       "\n",
       "    .dataframe thead th {\n",
       "        text-align: right;\n",
       "    }\n",
       "</style>\n",
       "<table border=\"1\" class=\"dataframe\">\n",
       "  <thead>\n",
       "    <tr style=\"text-align: right;\">\n",
       "      <th></th>\n",
       "      <th>GPP Per capita (Baht)</th>\n",
       "      <th>const</th>\n",
       "    </tr>\n",
       "    <tr>\n",
       "      <th>Year</th>\n",
       "      <th></th>\n",
       "      <th></th>\n",
       "    </tr>\n",
       "  </thead>\n",
       "  <tbody>\n",
       "    <tr>\n",
       "      <th>2009</th>\n",
       "      <td>379657.777</td>\n",
       "      <td>1.0</td>\n",
       "    </tr>\n",
       "    <tr>\n",
       "      <th>2018</th>\n",
       "      <td>454952.541</td>\n",
       "      <td>1.0</td>\n",
       "    </tr>\n",
       "    <tr>\n",
       "      <th>2007</th>\n",
       "      <td>339993.396</td>\n",
       "      <td>1.0</td>\n",
       "    </tr>\n",
       "    <tr>\n",
       "      <th>2006</th>\n",
       "      <td>298954.253</td>\n",
       "      <td>1.0</td>\n",
       "    </tr>\n",
       "    <tr>\n",
       "      <th>2015</th>\n",
       "      <td>468325.834</td>\n",
       "      <td>1.0</td>\n",
       "    </tr>\n",
       "    <tr>\n",
       "      <th>2010</th>\n",
       "      <td>427733.436</td>\n",
       "      <td>1.0</td>\n",
       "    </tr>\n",
       "    <tr>\n",
       "      <th>2008</th>\n",
       "      <td>438555.445</td>\n",
       "      <td>1.0</td>\n",
       "    </tr>\n",
       "    <tr>\n",
       "      <th>2016</th>\n",
       "      <td>444803.565</td>\n",
       "      <td>1.0</td>\n",
       "    </tr>\n",
       "    <tr>\n",
       "      <th>2013</th>\n",
       "      <td>461789.496</td>\n",
       "      <td>1.0</td>\n",
       "    </tr>\n",
       "    <tr>\n",
       "      <th>2012</th>\n",
       "      <td>378620.537</td>\n",
       "      <td>1.0</td>\n",
       "    </tr>\n",
       "    <tr>\n",
       "      <th>2014</th>\n",
       "      <td>417614.341</td>\n",
       "      <td>1.0</td>\n",
       "    </tr>\n",
       "    <tr>\n",
       "      <th>2017</th>\n",
       "      <td>449602.967</td>\n",
       "      <td>1.0</td>\n",
       "    </tr>\n",
       "  </tbody>\n",
       "</table>\n",
       "</div>"
      ],
      "text/plain": [
       "      GPP Per capita (Baht)  const\n",
       "Year                              \n",
       "2009             379657.777    1.0\n",
       "2018             454952.541    1.0\n",
       "2007             339993.396    1.0\n",
       "2006             298954.253    1.0\n",
       "2015             468325.834    1.0\n",
       "2010             427733.436    1.0\n",
       "2008             438555.445    1.0\n",
       "2016             444803.565    1.0\n",
       "2013             461789.496    1.0\n",
       "2012             378620.537    1.0\n",
       "2014             417614.341    1.0\n",
       "2017             449602.967    1.0"
      ]
     },
     "execution_count": 60,
     "metadata": {},
     "output_type": "execute_result"
    }
   ],
   "source": [
    "X_train"
   ]
  },
  {
   "cell_type": "code",
   "execution_count": 61,
   "metadata": {},
   "outputs": [
    {
     "data": {
      "text/html": [
       "<div>\n",
       "<style scoped>\n",
       "    .dataframe tbody tr th:only-of-type {\n",
       "        vertical-align: middle;\n",
       "    }\n",
       "\n",
       "    .dataframe tbody tr th {\n",
       "        vertical-align: top;\n",
       "    }\n",
       "\n",
       "    .dataframe thead th {\n",
       "        text-align: right;\n",
       "    }\n",
       "</style>\n",
       "<table border=\"1\" class=\"dataframe\">\n",
       "  <thead>\n",
       "    <tr style=\"text-align: right;\">\n",
       "      <th></th>\n",
       "      <th>GPP Per capita (Baht)</th>\n",
       "    </tr>\n",
       "    <tr>\n",
       "      <th>Year</th>\n",
       "      <th></th>\n",
       "    </tr>\n",
       "  </thead>\n",
       "  <tbody>\n",
       "    <tr>\n",
       "      <th>1995</th>\n",
       "      <td>143862.554</td>\n",
       "    </tr>\n",
       "    <tr>\n",
       "      <th>1996</th>\n",
       "      <td>171503.917</td>\n",
       "    </tr>\n",
       "    <tr>\n",
       "      <th>1997</th>\n",
       "      <td>179223.451</td>\n",
       "    </tr>\n",
       "    <tr>\n",
       "      <th>1998</th>\n",
       "      <td>180611.806</td>\n",
       "    </tr>\n",
       "    <tr>\n",
       "      <th>1999</th>\n",
       "      <td>189856.706</td>\n",
       "    </tr>\n",
       "    <tr>\n",
       "      <th>2000</th>\n",
       "      <td>219141.847</td>\n",
       "    </tr>\n",
       "    <tr>\n",
       "      <th>2001</th>\n",
       "      <td>219060.592</td>\n",
       "    </tr>\n",
       "    <tr>\n",
       "      <th>2002</th>\n",
       "      <td>231122.492</td>\n",
       "    </tr>\n",
       "    <tr>\n",
       "      <th>2003</th>\n",
       "      <td>256743.101</td>\n",
       "    </tr>\n",
       "    <tr>\n",
       "      <th>2004</th>\n",
       "      <td>271765.117</td>\n",
       "    </tr>\n",
       "    <tr>\n",
       "      <th>2005</th>\n",
       "      <td>273739.910</td>\n",
       "    </tr>\n",
       "  </tbody>\n",
       "</table>\n",
       "</div>"
      ],
      "text/plain": [
       "      GPP Per capita (Baht)\n",
       "Year                       \n",
       "1995             143862.554\n",
       "1996             171503.917\n",
       "1997             179223.451\n",
       "1998             180611.806\n",
       "1999             189856.706\n",
       "2000             219141.847\n",
       "2001             219060.592\n",
       "2002             231122.492\n",
       "2003             256743.101\n",
       "2004             271765.117\n",
       "2005             273739.910"
      ]
     },
     "execution_count": 61,
     "metadata": {},
     "output_type": "execute_result"
    }
   ],
   "source": [
    "test_ex1 = df1.loc[[i for i in range(1995,2006)],['GPP Per capita (Baht)']]\n",
    "test_ex1"
   ]
  },
  {
   "cell_type": "code",
   "execution_count": 62,
   "metadata": {},
   "outputs": [
    {
     "name": "stderr",
     "output_type": "stream",
     "text": [
      "/Users/pantchanit/opt/anaconda3/lib/python3.9/site-packages/statsmodels/tsa/tsatools.py:142: FutureWarning: In a future version of pandas all arguments of concat except for the argument 'objs' will be keyword-only\n",
      "  x = pd.concat(x[::order], 1)\n"
     ]
    },
    {
     "data": {
      "text/html": [
       "<div>\n",
       "<style scoped>\n",
       "    .dataframe tbody tr th:only-of-type {\n",
       "        vertical-align: middle;\n",
       "    }\n",
       "\n",
       "    .dataframe tbody tr th {\n",
       "        vertical-align: top;\n",
       "    }\n",
       "\n",
       "    .dataframe thead th {\n",
       "        text-align: right;\n",
       "    }\n",
       "</style>\n",
       "<table border=\"1\" class=\"dataframe\">\n",
       "  <thead>\n",
       "    <tr style=\"text-align: right;\">\n",
       "      <th></th>\n",
       "      <th>GPP Per capita (Baht)</th>\n",
       "      <th>const</th>\n",
       "    </tr>\n",
       "    <tr>\n",
       "      <th>Year</th>\n",
       "      <th></th>\n",
       "      <th></th>\n",
       "    </tr>\n",
       "  </thead>\n",
       "  <tbody>\n",
       "    <tr>\n",
       "      <th>1995</th>\n",
       "      <td>143862.554</td>\n",
       "      <td>1.0</td>\n",
       "    </tr>\n",
       "    <tr>\n",
       "      <th>1996</th>\n",
       "      <td>171503.917</td>\n",
       "      <td>1.0</td>\n",
       "    </tr>\n",
       "    <tr>\n",
       "      <th>1997</th>\n",
       "      <td>179223.451</td>\n",
       "      <td>1.0</td>\n",
       "    </tr>\n",
       "    <tr>\n",
       "      <th>1998</th>\n",
       "      <td>180611.806</td>\n",
       "      <td>1.0</td>\n",
       "    </tr>\n",
       "    <tr>\n",
       "      <th>1999</th>\n",
       "      <td>189856.706</td>\n",
       "      <td>1.0</td>\n",
       "    </tr>\n",
       "  </tbody>\n",
       "</table>\n",
       "</div>"
      ],
      "text/plain": [
       "      GPP Per capita (Baht)  const\n",
       "Year                              \n",
       "1995             143862.554    1.0\n",
       "1996             171503.917    1.0\n",
       "1997             179223.451    1.0\n",
       "1998             180611.806    1.0\n",
       "1999             189856.706    1.0"
      ]
     },
     "execution_count": 62,
     "metadata": {},
     "output_type": "execute_result"
    }
   ],
   "source": [
    "X_test_ex1 = test_ex1[['GPP Per capita (Baht)']]\n",
    "X_test_ex1 = sm.add_constant(X_test_ex1, prepend=False)\n",
    "X_test_ex1.head()"
   ]
  },
  {
   "cell_type": "code",
   "execution_count": 63,
   "metadata": {},
   "outputs": [
    {
     "data": {
      "text/plain": [
       "array([14642.05707269, 14781.33134225, 14820.22712533, 14827.22251585,\n",
       "       14873.80403553, 15021.36067454, 15020.95126163, 15081.72656826,\n",
       "       15210.81903032, 15286.50923075, 15296.45945834])"
      ]
     },
     "execution_count": 63,
     "metadata": {},
     "output_type": "execute_result"
    }
   ],
   "source": [
    "predictions = lm.predict(X_test_ex1)\n",
    "predictions                   "
   ]
  },
  {
   "cell_type": "markdown",
   "metadata": {},
   "source": [
    "##### เนื้อที่ที่ถือครองเพื่อการเกษตร (ไร่)"
   ]
  },
  {
   "cell_type": "code",
   "execution_count": 64,
   "metadata": {},
   "outputs": [
    {
     "data": {
      "text/html": [
       "<div>\n",
       "<style scoped>\n",
       "    .dataframe tbody tr th:only-of-type {\n",
       "        vertical-align: middle;\n",
       "    }\n",
       "\n",
       "    .dataframe tbody tr th {\n",
       "        vertical-align: top;\n",
       "    }\n",
       "\n",
       "    .dataframe thead th {\n",
       "        text-align: right;\n",
       "    }\n",
       "</style>\n",
       "<table border=\"1\" class=\"dataframe\">\n",
       "  <thead>\n",
       "    <tr style=\"text-align: right;\">\n",
       "      <th></th>\n",
       "      <th>เนื้อที่ที่ถือครองเพื่อการเกษตร (ไร่)</th>\n",
       "      <th>GPP Per capita (Baht)</th>\n",
       "    </tr>\n",
       "    <tr>\n",
       "      <th>Year</th>\n",
       "      <th></th>\n",
       "      <th></th>\n",
       "    </tr>\n",
       "  </thead>\n",
       "  <tbody>\n",
       "    <tr>\n",
       "      <th>2010</th>\n",
       "      <td>2541350.0</td>\n",
       "      <td>427733.436</td>\n",
       "    </tr>\n",
       "    <tr>\n",
       "      <th>2011</th>\n",
       "      <td>2541569.0</td>\n",
       "      <td>365800.945</td>\n",
       "    </tr>\n",
       "    <tr>\n",
       "      <th>2012</th>\n",
       "      <td>2196101.0</td>\n",
       "      <td>378620.537</td>\n",
       "    </tr>\n",
       "    <tr>\n",
       "      <th>2013</th>\n",
       "      <td>2189464.0</td>\n",
       "      <td>461789.496</td>\n",
       "    </tr>\n",
       "    <tr>\n",
       "      <th>2014</th>\n",
       "      <td>2211616.0</td>\n",
       "      <td>417614.341</td>\n",
       "    </tr>\n",
       "    <tr>\n",
       "      <th>2015</th>\n",
       "      <td>2191974.0</td>\n",
       "      <td>468325.834</td>\n",
       "    </tr>\n",
       "    <tr>\n",
       "      <th>2016</th>\n",
       "      <td>2191454.0</td>\n",
       "      <td>444803.565</td>\n",
       "    </tr>\n",
       "    <tr>\n",
       "      <th>2017</th>\n",
       "      <td>2191311.0</td>\n",
       "      <td>449602.967</td>\n",
       "    </tr>\n",
       "    <tr>\n",
       "      <th>2018</th>\n",
       "      <td>2191867.0</td>\n",
       "      <td>454952.541</td>\n",
       "    </tr>\n",
       "  </tbody>\n",
       "</table>\n",
       "</div>"
      ],
      "text/plain": [
       "      เนื้อที่ที่ถือครองเพื่อการเกษตร (ไร่)  GPP Per capita (Baht)\n",
       "Year                                                              \n",
       "2010                              2541350.0             427733.436\n",
       "2011                              2541569.0             365800.945\n",
       "2012                              2196101.0             378620.537\n",
       "2013                              2189464.0             461789.496\n",
       "2014                              2211616.0             417614.341\n",
       "2015                              2191974.0             468325.834\n",
       "2016                              2191454.0             444803.565\n",
       "2017                              2191311.0             449602.967\n",
       "2018                              2191867.0             454952.541"
      ]
     },
     "execution_count": 64,
     "metadata": {},
     "output_type": "execute_result"
    }
   ],
   "source": [
    "ex2 = df1.loc[[i for i in range(2010,2019)],['เนื้อที่ที่ถือครองเพื่อการเกษตร (ไร่)','GPP Per capita (Baht)']]\n",
    "ex2"
   ]
  },
  {
   "cell_type": "code",
   "execution_count": 65,
   "metadata": {},
   "outputs": [
    {
     "name": "stderr",
     "output_type": "stream",
     "text": [
      "/Users/pantchanit/opt/anaconda3/lib/python3.9/site-packages/statsmodels/tsa/tsatools.py:142: FutureWarning: In a future version of pandas all arguments of concat except for the argument 'objs' will be keyword-only\n",
      "  x = pd.concat(x[::order], 1)\n"
     ]
    },
    {
     "data": {
      "text/html": [
       "<div>\n",
       "<style scoped>\n",
       "    .dataframe tbody tr th:only-of-type {\n",
       "        vertical-align: middle;\n",
       "    }\n",
       "\n",
       "    .dataframe tbody tr th {\n",
       "        vertical-align: top;\n",
       "    }\n",
       "\n",
       "    .dataframe thead th {\n",
       "        text-align: right;\n",
       "    }\n",
       "</style>\n",
       "<table border=\"1\" class=\"dataframe\">\n",
       "  <thead>\n",
       "    <tr style=\"text-align: right;\">\n",
       "      <th></th>\n",
       "      <th>GPP Per capita (Baht)</th>\n",
       "      <th>const</th>\n",
       "    </tr>\n",
       "    <tr>\n",
       "      <th>Year</th>\n",
       "      <th></th>\n",
       "      <th></th>\n",
       "    </tr>\n",
       "  </thead>\n",
       "  <tbody>\n",
       "    <tr>\n",
       "      <th>2010</th>\n",
       "      <td>427733.436</td>\n",
       "      <td>1.0</td>\n",
       "    </tr>\n",
       "    <tr>\n",
       "      <th>2011</th>\n",
       "      <td>365800.945</td>\n",
       "      <td>1.0</td>\n",
       "    </tr>\n",
       "    <tr>\n",
       "      <th>2012</th>\n",
       "      <td>378620.537</td>\n",
       "      <td>1.0</td>\n",
       "    </tr>\n",
       "    <tr>\n",
       "      <th>2013</th>\n",
       "      <td>461789.496</td>\n",
       "      <td>1.0</td>\n",
       "    </tr>\n",
       "    <tr>\n",
       "      <th>2014</th>\n",
       "      <td>417614.341</td>\n",
       "      <td>1.0</td>\n",
       "    </tr>\n",
       "  </tbody>\n",
       "</table>\n",
       "</div>"
      ],
      "text/plain": [
       "      GPP Per capita (Baht)  const\n",
       "Year                              \n",
       "2010             427733.436    1.0\n",
       "2011             365800.945    1.0\n",
       "2012             378620.537    1.0\n",
       "2013             461789.496    1.0\n",
       "2014             417614.341    1.0"
      ]
     },
     "execution_count": 65,
     "metadata": {},
     "output_type": "execute_result"
    }
   ],
   "source": [
    "X = ex2[['GPP Per capita (Baht)']]\n",
    "X = sm.add_constant(X, prepend=False)\n",
    "X.head()"
   ]
  },
  {
   "cell_type": "code",
   "execution_count": 66,
   "metadata": {},
   "outputs": [
    {
     "data": {
      "text/plain": [
       "Year\n",
       "2010    2541350.0\n",
       "2011    2541569.0\n",
       "2012    2196101.0\n",
       "2013    2189464.0\n",
       "2014    2211616.0\n",
       "Name: เนื้อที่ที่ถือครองเพื่อการเกษตร (ไร่), dtype: float64"
      ]
     },
     "execution_count": 66,
     "metadata": {},
     "output_type": "execute_result"
    }
   ],
   "source": [
    "y = ex2['เนื้อที่ที่ถือครองเพื่อการเกษตร (ไร่)']\n",
    "y.head()"
   ]
  },
  {
   "cell_type": "code",
   "execution_count": 67,
   "metadata": {},
   "outputs": [],
   "source": [
    "X_train, X_test, y_train, y_test = train_test_split(X, y, test_size=0.05,random_state=14)  "
   ]
  },
  {
   "cell_type": "code",
   "execution_count": 68,
   "metadata": {},
   "outputs": [
    {
     "data": {
      "text/plain": [
       "LinearRegression()"
      ]
     },
     "execution_count": 68,
     "metadata": {},
     "output_type": "execute_result"
    }
   ],
   "source": [
    "lm = LinearRegression()\n",
    "lm.fit(X_train, y_train)"
   ]
  },
  {
   "cell_type": "code",
   "execution_count": 69,
   "metadata": {},
   "outputs": [
    {
     "data": {
      "text/html": [
       "<div>\n",
       "<style scoped>\n",
       "    .dataframe tbody tr th:only-of-type {\n",
       "        vertical-align: middle;\n",
       "    }\n",
       "\n",
       "    .dataframe tbody tr th {\n",
       "        vertical-align: top;\n",
       "    }\n",
       "\n",
       "    .dataframe thead th {\n",
       "        text-align: right;\n",
       "    }\n",
       "</style>\n",
       "<table border=\"1\" class=\"dataframe\">\n",
       "  <thead>\n",
       "    <tr style=\"text-align: right;\">\n",
       "      <th></th>\n",
       "      <th>GPP Per capita (Baht)</th>\n",
       "    </tr>\n",
       "    <tr>\n",
       "      <th>Year</th>\n",
       "      <th></th>\n",
       "    </tr>\n",
       "  </thead>\n",
       "  <tbody>\n",
       "    <tr>\n",
       "      <th>1995</th>\n",
       "      <td>143862.554</td>\n",
       "    </tr>\n",
       "    <tr>\n",
       "      <th>1996</th>\n",
       "      <td>171503.917</td>\n",
       "    </tr>\n",
       "    <tr>\n",
       "      <th>1997</th>\n",
       "      <td>179223.451</td>\n",
       "    </tr>\n",
       "    <tr>\n",
       "      <th>1998</th>\n",
       "      <td>180611.806</td>\n",
       "    </tr>\n",
       "    <tr>\n",
       "      <th>1999</th>\n",
       "      <td>189856.706</td>\n",
       "    </tr>\n",
       "    <tr>\n",
       "      <th>2000</th>\n",
       "      <td>219141.847</td>\n",
       "    </tr>\n",
       "    <tr>\n",
       "      <th>2001</th>\n",
       "      <td>219060.592</td>\n",
       "    </tr>\n",
       "    <tr>\n",
       "      <th>2002</th>\n",
       "      <td>231122.492</td>\n",
       "    </tr>\n",
       "    <tr>\n",
       "      <th>2003</th>\n",
       "      <td>256743.101</td>\n",
       "    </tr>\n",
       "    <tr>\n",
       "      <th>2004</th>\n",
       "      <td>271765.117</td>\n",
       "    </tr>\n",
       "    <tr>\n",
       "      <th>2005</th>\n",
       "      <td>273739.910</td>\n",
       "    </tr>\n",
       "    <tr>\n",
       "      <th>2006</th>\n",
       "      <td>298954.253</td>\n",
       "    </tr>\n",
       "    <tr>\n",
       "      <th>2007</th>\n",
       "      <td>339993.396</td>\n",
       "    </tr>\n",
       "    <tr>\n",
       "      <th>2008</th>\n",
       "      <td>438555.445</td>\n",
       "    </tr>\n",
       "    <tr>\n",
       "      <th>2009</th>\n",
       "      <td>379657.777</td>\n",
       "    </tr>\n",
       "  </tbody>\n",
       "</table>\n",
       "</div>"
      ],
      "text/plain": [
       "      GPP Per capita (Baht)\n",
       "Year                       \n",
       "1995             143862.554\n",
       "1996             171503.917\n",
       "1997             179223.451\n",
       "1998             180611.806\n",
       "1999             189856.706\n",
       "2000             219141.847\n",
       "2001             219060.592\n",
       "2002             231122.492\n",
       "2003             256743.101\n",
       "2004             271765.117\n",
       "2005             273739.910\n",
       "2006             298954.253\n",
       "2007             339993.396\n",
       "2008             438555.445\n",
       "2009             379657.777"
      ]
     },
     "execution_count": 69,
     "metadata": {},
     "output_type": "execute_result"
    }
   ],
   "source": [
    "test_ex2 = df1.loc[[i for i in range(1995,2010)],['GPP Per capita (Baht)']]\n",
    "test_ex2"
   ]
  },
  {
   "cell_type": "code",
   "execution_count": 70,
   "metadata": {},
   "outputs": [
    {
     "name": "stderr",
     "output_type": "stream",
     "text": [
      "/Users/pantchanit/opt/anaconda3/lib/python3.9/site-packages/statsmodels/tsa/tsatools.py:142: FutureWarning: In a future version of pandas all arguments of concat except for the argument 'objs' will be keyword-only\n",
      "  x = pd.concat(x[::order], 1)\n"
     ]
    },
    {
     "data": {
      "text/html": [
       "<div>\n",
       "<style scoped>\n",
       "    .dataframe tbody tr th:only-of-type {\n",
       "        vertical-align: middle;\n",
       "    }\n",
       "\n",
       "    .dataframe tbody tr th {\n",
       "        vertical-align: top;\n",
       "    }\n",
       "\n",
       "    .dataframe thead th {\n",
       "        text-align: right;\n",
       "    }\n",
       "</style>\n",
       "<table border=\"1\" class=\"dataframe\">\n",
       "  <thead>\n",
       "    <tr style=\"text-align: right;\">\n",
       "      <th></th>\n",
       "      <th>GPP Per capita (Baht)</th>\n",
       "      <th>const</th>\n",
       "    </tr>\n",
       "    <tr>\n",
       "      <th>Year</th>\n",
       "      <th></th>\n",
       "      <th></th>\n",
       "    </tr>\n",
       "  </thead>\n",
       "  <tbody>\n",
       "    <tr>\n",
       "      <th>1995</th>\n",
       "      <td>143862.554</td>\n",
       "      <td>1.0</td>\n",
       "    </tr>\n",
       "    <tr>\n",
       "      <th>1996</th>\n",
       "      <td>171503.917</td>\n",
       "      <td>1.0</td>\n",
       "    </tr>\n",
       "    <tr>\n",
       "      <th>1997</th>\n",
       "      <td>179223.451</td>\n",
       "      <td>1.0</td>\n",
       "    </tr>\n",
       "    <tr>\n",
       "      <th>1998</th>\n",
       "      <td>180611.806</td>\n",
       "      <td>1.0</td>\n",
       "    </tr>\n",
       "    <tr>\n",
       "      <th>1999</th>\n",
       "      <td>189856.706</td>\n",
       "      <td>1.0</td>\n",
       "    </tr>\n",
       "  </tbody>\n",
       "</table>\n",
       "</div>"
      ],
      "text/plain": [
       "      GPP Per capita (Baht)  const\n",
       "Year                              \n",
       "1995             143862.554    1.0\n",
       "1996             171503.917    1.0\n",
       "1997             179223.451    1.0\n",
       "1998             180611.806    1.0\n",
       "1999             189856.706    1.0"
      ]
     },
     "execution_count": 70,
     "metadata": {},
     "output_type": "execute_result"
    }
   ],
   "source": [
    "X_test_ex2 = test_ex2[['GPP Per capita (Baht)']]\n",
    "X_test_ex2 = sm.add_constant(X_test_ex2, prepend=False)\n",
    "X_test_ex2.head()"
   ]
  },
  {
   "cell_type": "code",
   "execution_count": 71,
   "metadata": {},
   "outputs": [
    {
     "data": {
      "text/plain": [
       "array([2918084.49750019, 2855554.76352968, 2838091.78938487,\n",
       "       2834951.08070106, 2814037.45435116, 2747789.19893703,\n",
       "       2747973.01235946, 2720686.82541641, 2662728.40039474,\n",
       "       2628745.89872937, 2624278.5618279 , 2567239.18355878,\n",
       "       2474401.26184821, 2251436.18217548, 2384673.29901096])"
      ]
     },
     "execution_count": 71,
     "metadata": {},
     "output_type": "execute_result"
    }
   ],
   "source": [
    "predictions = lm.predict(X_test_ex2)\n",
    "predictions  "
   ]
  },
  {
   "cell_type": "markdown",
   "metadata": {},
   "source": [
    "##### จำนวนโรงงานอุตสาหกรรม (โรงงาน)"
   ]
  },
  {
   "cell_type": "code",
   "execution_count": 72,
   "metadata": {},
   "outputs": [
    {
     "data": {
      "text/html": [
       "<div>\n",
       "<style scoped>\n",
       "    .dataframe tbody tr th:only-of-type {\n",
       "        vertical-align: middle;\n",
       "    }\n",
       "\n",
       "    .dataframe tbody tr th {\n",
       "        vertical-align: top;\n",
       "    }\n",
       "\n",
       "    .dataframe thead th {\n",
       "        text-align: right;\n",
       "    }\n",
       "</style>\n",
       "<table border=\"1\" class=\"dataframe\">\n",
       "  <thead>\n",
       "    <tr style=\"text-align: right;\">\n",
       "      <th></th>\n",
       "      <th>จำนวนโรงงานอุตสาหกรรม (โรงงาน)</th>\n",
       "      <th>GPP Per capita (Baht)</th>\n",
       "    </tr>\n",
       "    <tr>\n",
       "      <th>Year</th>\n",
       "      <th></th>\n",
       "      <th></th>\n",
       "    </tr>\n",
       "  </thead>\n",
       "  <tbody>\n",
       "    <tr>\n",
       "      <th>2011</th>\n",
       "      <td>26.0</td>\n",
       "      <td>365800.945</td>\n",
       "    </tr>\n",
       "    <tr>\n",
       "      <th>2012</th>\n",
       "      <td>40.0</td>\n",
       "      <td>378620.537</td>\n",
       "    </tr>\n",
       "    <tr>\n",
       "      <th>2013</th>\n",
       "      <td>32.0</td>\n",
       "      <td>461789.496</td>\n",
       "    </tr>\n",
       "    <tr>\n",
       "      <th>2014</th>\n",
       "      <td>37.0</td>\n",
       "      <td>417614.341</td>\n",
       "    </tr>\n",
       "    <tr>\n",
       "      <th>2015</th>\n",
       "      <td>59.0</td>\n",
       "      <td>468325.834</td>\n",
       "    </tr>\n",
       "    <tr>\n",
       "      <th>2016</th>\n",
       "      <td>31.0</td>\n",
       "      <td>444803.565</td>\n",
       "    </tr>\n",
       "    <tr>\n",
       "      <th>2017</th>\n",
       "      <td>19.0</td>\n",
       "      <td>449602.967</td>\n",
       "    </tr>\n",
       "    <tr>\n",
       "      <th>2018</th>\n",
       "      <td>30.0</td>\n",
       "      <td>454952.541</td>\n",
       "    </tr>\n",
       "  </tbody>\n",
       "</table>\n",
       "</div>"
      ],
      "text/plain": [
       "      จำนวนโรงงานอุตสาหกรรม (โรงงาน)  GPP Per capita (Baht)\n",
       "Year                                                       \n",
       "2011                            26.0             365800.945\n",
       "2012                            40.0             378620.537\n",
       "2013                            32.0             461789.496\n",
       "2014                            37.0             417614.341\n",
       "2015                            59.0             468325.834\n",
       "2016                            31.0             444803.565\n",
       "2017                            19.0             449602.967\n",
       "2018                            30.0             454952.541"
      ]
     },
     "execution_count": 72,
     "metadata": {},
     "output_type": "execute_result"
    }
   ],
   "source": [
    "ex3= df1.loc[[i for i in range(2011,2019)],['จำนวนโรงงานอุตสาหกรรม (โรงงาน)','GPP Per capita (Baht)']]\n",
    "ex3"
   ]
  },
  {
   "cell_type": "code",
   "execution_count": 73,
   "metadata": {},
   "outputs": [
    {
     "name": "stderr",
     "output_type": "stream",
     "text": [
      "/Users/pantchanit/opt/anaconda3/lib/python3.9/site-packages/statsmodels/tsa/tsatools.py:142: FutureWarning: In a future version of pandas all arguments of concat except for the argument 'objs' will be keyword-only\n",
      "  x = pd.concat(x[::order], 1)\n"
     ]
    },
    {
     "data": {
      "text/html": [
       "<div>\n",
       "<style scoped>\n",
       "    .dataframe tbody tr th:only-of-type {\n",
       "        vertical-align: middle;\n",
       "    }\n",
       "\n",
       "    .dataframe tbody tr th {\n",
       "        vertical-align: top;\n",
       "    }\n",
       "\n",
       "    .dataframe thead th {\n",
       "        text-align: right;\n",
       "    }\n",
       "</style>\n",
       "<table border=\"1\" class=\"dataframe\">\n",
       "  <thead>\n",
       "    <tr style=\"text-align: right;\">\n",
       "      <th></th>\n",
       "      <th>GPP Per capita (Baht)</th>\n",
       "      <th>const</th>\n",
       "    </tr>\n",
       "    <tr>\n",
       "      <th>Year</th>\n",
       "      <th></th>\n",
       "      <th></th>\n",
       "    </tr>\n",
       "  </thead>\n",
       "  <tbody>\n",
       "    <tr>\n",
       "      <th>2011</th>\n",
       "      <td>365800.945</td>\n",
       "      <td>1.0</td>\n",
       "    </tr>\n",
       "    <tr>\n",
       "      <th>2012</th>\n",
       "      <td>378620.537</td>\n",
       "      <td>1.0</td>\n",
       "    </tr>\n",
       "    <tr>\n",
       "      <th>2013</th>\n",
       "      <td>461789.496</td>\n",
       "      <td>1.0</td>\n",
       "    </tr>\n",
       "    <tr>\n",
       "      <th>2014</th>\n",
       "      <td>417614.341</td>\n",
       "      <td>1.0</td>\n",
       "    </tr>\n",
       "    <tr>\n",
       "      <th>2015</th>\n",
       "      <td>468325.834</td>\n",
       "      <td>1.0</td>\n",
       "    </tr>\n",
       "  </tbody>\n",
       "</table>\n",
       "</div>"
      ],
      "text/plain": [
       "      GPP Per capita (Baht)  const\n",
       "Year                              \n",
       "2011             365800.945    1.0\n",
       "2012             378620.537    1.0\n",
       "2013             461789.496    1.0\n",
       "2014             417614.341    1.0\n",
       "2015             468325.834    1.0"
      ]
     },
     "execution_count": 73,
     "metadata": {},
     "output_type": "execute_result"
    }
   ],
   "source": [
    "X = ex3[['GPP Per capita (Baht)']]\n",
    "X = sm.add_constant(X, prepend=False)\n",
    "X.head()"
   ]
  },
  {
   "cell_type": "code",
   "execution_count": 74,
   "metadata": {},
   "outputs": [
    {
     "data": {
      "text/plain": [
       "Year\n",
       "2011    26.0\n",
       "2012    40.0\n",
       "2013    32.0\n",
       "2014    37.0\n",
       "2015    59.0\n",
       "Name: จำนวนโรงงานอุตสาหกรรม (โรงงาน), dtype: float64"
      ]
     },
     "execution_count": 74,
     "metadata": {},
     "output_type": "execute_result"
    }
   ],
   "source": [
    "y = ex3['จำนวนโรงงานอุตสาหกรรม (โรงงาน)']\n",
    "y.head()"
   ]
  },
  {
   "cell_type": "code",
   "execution_count": 75,
   "metadata": {},
   "outputs": [],
   "source": [
    "X_train, X_test, y_train, y_test = train_test_split(X, y, test_size=0.05,random_state=14)  "
   ]
  },
  {
   "cell_type": "code",
   "execution_count": 76,
   "metadata": {},
   "outputs": [
    {
     "data": {
      "text/plain": [
       "LinearRegression()"
      ]
     },
     "execution_count": 76,
     "metadata": {},
     "output_type": "execute_result"
    }
   ],
   "source": [
    "lm = LinearRegression()\n",
    "lm.fit(X_train, y_train)"
   ]
  },
  {
   "cell_type": "code",
   "execution_count": 77,
   "metadata": {},
   "outputs": [
    {
     "data": {
      "text/html": [
       "<div>\n",
       "<style scoped>\n",
       "    .dataframe tbody tr th:only-of-type {\n",
       "        vertical-align: middle;\n",
       "    }\n",
       "\n",
       "    .dataframe tbody tr th {\n",
       "        vertical-align: top;\n",
       "    }\n",
       "\n",
       "    .dataframe thead th {\n",
       "        text-align: right;\n",
       "    }\n",
       "</style>\n",
       "<table border=\"1\" class=\"dataframe\">\n",
       "  <thead>\n",
       "    <tr style=\"text-align: right;\">\n",
       "      <th></th>\n",
       "      <th>GPP Per capita (Baht)</th>\n",
       "    </tr>\n",
       "    <tr>\n",
       "      <th>Year</th>\n",
       "      <th></th>\n",
       "    </tr>\n",
       "  </thead>\n",
       "  <tbody>\n",
       "    <tr>\n",
       "      <th>1995</th>\n",
       "      <td>143862.554</td>\n",
       "    </tr>\n",
       "    <tr>\n",
       "      <th>1996</th>\n",
       "      <td>171503.917</td>\n",
       "    </tr>\n",
       "    <tr>\n",
       "      <th>1997</th>\n",
       "      <td>179223.451</td>\n",
       "    </tr>\n",
       "    <tr>\n",
       "      <th>1998</th>\n",
       "      <td>180611.806</td>\n",
       "    </tr>\n",
       "    <tr>\n",
       "      <th>1999</th>\n",
       "      <td>189856.706</td>\n",
       "    </tr>\n",
       "    <tr>\n",
       "      <th>2000</th>\n",
       "      <td>219141.847</td>\n",
       "    </tr>\n",
       "    <tr>\n",
       "      <th>2001</th>\n",
       "      <td>219060.592</td>\n",
       "    </tr>\n",
       "    <tr>\n",
       "      <th>2002</th>\n",
       "      <td>231122.492</td>\n",
       "    </tr>\n",
       "    <tr>\n",
       "      <th>2003</th>\n",
       "      <td>256743.101</td>\n",
       "    </tr>\n",
       "    <tr>\n",
       "      <th>2004</th>\n",
       "      <td>271765.117</td>\n",
       "    </tr>\n",
       "    <tr>\n",
       "      <th>2005</th>\n",
       "      <td>273739.910</td>\n",
       "    </tr>\n",
       "    <tr>\n",
       "      <th>2006</th>\n",
       "      <td>298954.253</td>\n",
       "    </tr>\n",
       "    <tr>\n",
       "      <th>2007</th>\n",
       "      <td>339993.396</td>\n",
       "    </tr>\n",
       "    <tr>\n",
       "      <th>2008</th>\n",
       "      <td>438555.445</td>\n",
       "    </tr>\n",
       "    <tr>\n",
       "      <th>2009</th>\n",
       "      <td>379657.777</td>\n",
       "    </tr>\n",
       "    <tr>\n",
       "      <th>2010</th>\n",
       "      <td>427733.436</td>\n",
       "    </tr>\n",
       "  </tbody>\n",
       "</table>\n",
       "</div>"
      ],
      "text/plain": [
       "      GPP Per capita (Baht)\n",
       "Year                       \n",
       "1995             143862.554\n",
       "1996             171503.917\n",
       "1997             179223.451\n",
       "1998             180611.806\n",
       "1999             189856.706\n",
       "2000             219141.847\n",
       "2001             219060.592\n",
       "2002             231122.492\n",
       "2003             256743.101\n",
       "2004             271765.117\n",
       "2005             273739.910\n",
       "2006             298954.253\n",
       "2007             339993.396\n",
       "2008             438555.445\n",
       "2009             379657.777\n",
       "2010             427733.436"
      ]
     },
     "execution_count": 77,
     "metadata": {},
     "output_type": "execute_result"
    }
   ],
   "source": [
    "test_ex3 = df1.loc[[i for i in range(1995,2011)],['GPP Per capita (Baht)']]\n",
    "test_ex3"
   ]
  },
  {
   "cell_type": "code",
   "execution_count": 78,
   "metadata": {},
   "outputs": [
    {
     "name": "stderr",
     "output_type": "stream",
     "text": [
      "/Users/pantchanit/opt/anaconda3/lib/python3.9/site-packages/statsmodels/tsa/tsatools.py:142: FutureWarning: In a future version of pandas all arguments of concat except for the argument 'objs' will be keyword-only\n",
      "  x = pd.concat(x[::order], 1)\n"
     ]
    },
    {
     "data": {
      "text/html": [
       "<div>\n",
       "<style scoped>\n",
       "    .dataframe tbody tr th:only-of-type {\n",
       "        vertical-align: middle;\n",
       "    }\n",
       "\n",
       "    .dataframe tbody tr th {\n",
       "        vertical-align: top;\n",
       "    }\n",
       "\n",
       "    .dataframe thead th {\n",
       "        text-align: right;\n",
       "    }\n",
       "</style>\n",
       "<table border=\"1\" class=\"dataframe\">\n",
       "  <thead>\n",
       "    <tr style=\"text-align: right;\">\n",
       "      <th></th>\n",
       "      <th>GPP Per capita (Baht)</th>\n",
       "      <th>const</th>\n",
       "    </tr>\n",
       "    <tr>\n",
       "      <th>Year</th>\n",
       "      <th></th>\n",
       "      <th></th>\n",
       "    </tr>\n",
       "  </thead>\n",
       "  <tbody>\n",
       "    <tr>\n",
       "      <th>1995</th>\n",
       "      <td>143862.554</td>\n",
       "      <td>1.0</td>\n",
       "    </tr>\n",
       "    <tr>\n",
       "      <th>1996</th>\n",
       "      <td>171503.917</td>\n",
       "      <td>1.0</td>\n",
       "    </tr>\n",
       "    <tr>\n",
       "      <th>1997</th>\n",
       "      <td>179223.451</td>\n",
       "      <td>1.0</td>\n",
       "    </tr>\n",
       "    <tr>\n",
       "      <th>1998</th>\n",
       "      <td>180611.806</td>\n",
       "      <td>1.0</td>\n",
       "    </tr>\n",
       "    <tr>\n",
       "      <th>1999</th>\n",
       "      <td>189856.706</td>\n",
       "      <td>1.0</td>\n",
       "    </tr>\n",
       "  </tbody>\n",
       "</table>\n",
       "</div>"
      ],
      "text/plain": [
       "      GPP Per capita (Baht)  const\n",
       "Year                              \n",
       "1995             143862.554    1.0\n",
       "1996             171503.917    1.0\n",
       "1997             179223.451    1.0\n",
       "1998             180611.806    1.0\n",
       "1999             189856.706    1.0"
      ]
     },
     "execution_count": 78,
     "metadata": {},
     "output_type": "execute_result"
    }
   ],
   "source": [
    "X_test_ex3 = test_ex3[['GPP Per capita (Baht)']]\n",
    "X_test_ex3 = sm.add_constant(X_test_ex3, prepend=False)\n",
    "X_test_ex3.head()"
   ]
  },
  {
   "cell_type": "code",
   "execution_count": 79,
   "metadata": {},
   "outputs": [
    {
     "data": {
      "text/plain": [
       "array([16.13101456, 17.938184  , 18.44288074, 18.53365024, 19.13807415,\n",
       "       21.05271243, 21.04740004, 21.83599708, 23.51105129, 24.49317826,\n",
       "       24.62228859, 26.27078146, 28.95388666, 35.39779184, 31.54711106,\n",
       "       34.69025785])"
      ]
     },
     "execution_count": 79,
     "metadata": {},
     "output_type": "execute_result"
    }
   ],
   "source": [
    "predictions = lm.predict(X_test_ex3)\n",
    "predictions  "
   ]
  },
  {
   "cell_type": "markdown",
   "metadata": {},
   "source": [
    "##### เนื้อที่สำหรับปลูกพืชไร่ (ไร่)"
   ]
  },
  {
   "cell_type": "code",
   "execution_count": 80,
   "metadata": {},
   "outputs": [
    {
     "data": {
      "text/html": [
       "<div>\n",
       "<style scoped>\n",
       "    .dataframe tbody tr th:only-of-type {\n",
       "        vertical-align: middle;\n",
       "    }\n",
       "\n",
       "    .dataframe tbody tr th {\n",
       "        vertical-align: top;\n",
       "    }\n",
       "\n",
       "    .dataframe thead th {\n",
       "        text-align: right;\n",
       "    }\n",
       "</style>\n",
       "<table border=\"1\" class=\"dataframe\">\n",
       "  <thead>\n",
       "    <tr style=\"text-align: right;\">\n",
       "      <th></th>\n",
       "      <th>เนื้อที่สำหรับปลูกพืชไร่ (ไร่)</th>\n",
       "      <th>GPP Per capita (Baht)</th>\n",
       "    </tr>\n",
       "    <tr>\n",
       "      <th>Year</th>\n",
       "      <th></th>\n",
       "      <th></th>\n",
       "    </tr>\n",
       "  </thead>\n",
       "  <tbody>\n",
       "    <tr>\n",
       "      <th>2010</th>\n",
       "      <td>1149975.0</td>\n",
       "      <td>427733.436</td>\n",
       "    </tr>\n",
       "    <tr>\n",
       "      <th>2011</th>\n",
       "      <td>1154555.0</td>\n",
       "      <td>365800.945</td>\n",
       "    </tr>\n",
       "    <tr>\n",
       "      <th>2012</th>\n",
       "      <td>1153432.0</td>\n",
       "      <td>378620.537</td>\n",
       "    </tr>\n",
       "    <tr>\n",
       "      <th>2013</th>\n",
       "      <td>1153662.0</td>\n",
       "      <td>461789.496</td>\n",
       "    </tr>\n",
       "    <tr>\n",
       "      <th>2014</th>\n",
       "      <td>1154050.0</td>\n",
       "      <td>417614.341</td>\n",
       "    </tr>\n",
       "    <tr>\n",
       "      <th>2015</th>\n",
       "      <td>1133959.0</td>\n",
       "      <td>468325.834</td>\n",
       "    </tr>\n",
       "    <tr>\n",
       "      <th>2016</th>\n",
       "      <td>1133991.0</td>\n",
       "      <td>444803.565</td>\n",
       "    </tr>\n",
       "    <tr>\n",
       "      <th>2017</th>\n",
       "      <td>1133430.0</td>\n",
       "      <td>449602.967</td>\n",
       "    </tr>\n",
       "    <tr>\n",
       "      <th>2018</th>\n",
       "      <td>1134183.0</td>\n",
       "      <td>454952.541</td>\n",
       "    </tr>\n",
       "  </tbody>\n",
       "</table>\n",
       "</div>"
      ],
      "text/plain": [
       "      เนื้อที่สำหรับปลูกพืชไร่ (ไร่)  GPP Per capita (Baht)\n",
       "Year                                                       \n",
       "2010                       1149975.0             427733.436\n",
       "2011                       1154555.0             365800.945\n",
       "2012                       1153432.0             378620.537\n",
       "2013                       1153662.0             461789.496\n",
       "2014                       1154050.0             417614.341\n",
       "2015                       1133959.0             468325.834\n",
       "2016                       1133991.0             444803.565\n",
       "2017                       1133430.0             449602.967\n",
       "2018                       1134183.0             454952.541"
      ]
     },
     "execution_count": 80,
     "metadata": {},
     "output_type": "execute_result"
    }
   ],
   "source": [
    "ex4 = df1.loc[[i for i in range(2010,2019)],['เนื้อที่สำหรับปลูกพืชไร่ (ไร่)','GPP Per capita (Baht)']]\n",
    "ex4"
   ]
  },
  {
   "cell_type": "code",
   "execution_count": 81,
   "metadata": {},
   "outputs": [
    {
     "name": "stderr",
     "output_type": "stream",
     "text": [
      "/Users/pantchanit/opt/anaconda3/lib/python3.9/site-packages/statsmodels/tsa/tsatools.py:142: FutureWarning: In a future version of pandas all arguments of concat except for the argument 'objs' will be keyword-only\n",
      "  x = pd.concat(x[::order], 1)\n"
     ]
    },
    {
     "data": {
      "text/html": [
       "<div>\n",
       "<style scoped>\n",
       "    .dataframe tbody tr th:only-of-type {\n",
       "        vertical-align: middle;\n",
       "    }\n",
       "\n",
       "    .dataframe tbody tr th {\n",
       "        vertical-align: top;\n",
       "    }\n",
       "\n",
       "    .dataframe thead th {\n",
       "        text-align: right;\n",
       "    }\n",
       "</style>\n",
       "<table border=\"1\" class=\"dataframe\">\n",
       "  <thead>\n",
       "    <tr style=\"text-align: right;\">\n",
       "      <th></th>\n",
       "      <th>GPP Per capita (Baht)</th>\n",
       "      <th>const</th>\n",
       "    </tr>\n",
       "    <tr>\n",
       "      <th>Year</th>\n",
       "      <th></th>\n",
       "      <th></th>\n",
       "    </tr>\n",
       "  </thead>\n",
       "  <tbody>\n",
       "    <tr>\n",
       "      <th>2010</th>\n",
       "      <td>427733.436</td>\n",
       "      <td>1.0</td>\n",
       "    </tr>\n",
       "    <tr>\n",
       "      <th>2011</th>\n",
       "      <td>365800.945</td>\n",
       "      <td>1.0</td>\n",
       "    </tr>\n",
       "    <tr>\n",
       "      <th>2012</th>\n",
       "      <td>378620.537</td>\n",
       "      <td>1.0</td>\n",
       "    </tr>\n",
       "    <tr>\n",
       "      <th>2013</th>\n",
       "      <td>461789.496</td>\n",
       "      <td>1.0</td>\n",
       "    </tr>\n",
       "    <tr>\n",
       "      <th>2014</th>\n",
       "      <td>417614.341</td>\n",
       "      <td>1.0</td>\n",
       "    </tr>\n",
       "  </tbody>\n",
       "</table>\n",
       "</div>"
      ],
      "text/plain": [
       "      GPP Per capita (Baht)  const\n",
       "Year                              \n",
       "2010             427733.436    1.0\n",
       "2011             365800.945    1.0\n",
       "2012             378620.537    1.0\n",
       "2013             461789.496    1.0\n",
       "2014             417614.341    1.0"
      ]
     },
     "execution_count": 81,
     "metadata": {},
     "output_type": "execute_result"
    }
   ],
   "source": [
    "X = ex4[['GPP Per capita (Baht)']]\n",
    "X = sm.add_constant(X, prepend=False)\n",
    "X.head()"
   ]
  },
  {
   "cell_type": "code",
   "execution_count": 82,
   "metadata": {},
   "outputs": [
    {
     "data": {
      "text/plain": [
       "Year\n",
       "2010    1149975.0\n",
       "2011    1154555.0\n",
       "2012    1153432.0\n",
       "2013    1153662.0\n",
       "2014    1154050.0\n",
       "Name: เนื้อที่สำหรับปลูกพืชไร่ (ไร่), dtype: float64"
      ]
     },
     "execution_count": 82,
     "metadata": {},
     "output_type": "execute_result"
    }
   ],
   "source": [
    "y = ex4['เนื้อที่สำหรับปลูกพืชไร่ (ไร่)']\n",
    "y.head()"
   ]
  },
  {
   "cell_type": "code",
   "execution_count": 83,
   "metadata": {},
   "outputs": [],
   "source": [
    "X_train, X_test, y_train, y_test = train_test_split(X, y, test_size=0.001,random_state=14)"
   ]
  },
  {
   "cell_type": "code",
   "execution_count": 84,
   "metadata": {},
   "outputs": [
    {
     "data": {
      "text/plain": [
       "LinearRegression()"
      ]
     },
     "execution_count": 84,
     "metadata": {},
     "output_type": "execute_result"
    }
   ],
   "source": [
    "lm = LinearRegression()\n",
    "lm.fit(X_train, y_train)"
   ]
  },
  {
   "cell_type": "code",
   "execution_count": 85,
   "metadata": {},
   "outputs": [
    {
     "data": {
      "text/html": [
       "<div>\n",
       "<style scoped>\n",
       "    .dataframe tbody tr th:only-of-type {\n",
       "        vertical-align: middle;\n",
       "    }\n",
       "\n",
       "    .dataframe tbody tr th {\n",
       "        vertical-align: top;\n",
       "    }\n",
       "\n",
       "    .dataframe thead th {\n",
       "        text-align: right;\n",
       "    }\n",
       "</style>\n",
       "<table border=\"1\" class=\"dataframe\">\n",
       "  <thead>\n",
       "    <tr style=\"text-align: right;\">\n",
       "      <th></th>\n",
       "      <th>GPP Per capita (Baht)</th>\n",
       "    </tr>\n",
       "    <tr>\n",
       "      <th>Year</th>\n",
       "      <th></th>\n",
       "    </tr>\n",
       "  </thead>\n",
       "  <tbody>\n",
       "    <tr>\n",
       "      <th>1995</th>\n",
       "      <td>143862.554</td>\n",
       "    </tr>\n",
       "    <tr>\n",
       "      <th>1996</th>\n",
       "      <td>171503.917</td>\n",
       "    </tr>\n",
       "    <tr>\n",
       "      <th>1997</th>\n",
       "      <td>179223.451</td>\n",
       "    </tr>\n",
       "    <tr>\n",
       "      <th>1998</th>\n",
       "      <td>180611.806</td>\n",
       "    </tr>\n",
       "    <tr>\n",
       "      <th>1999</th>\n",
       "      <td>189856.706</td>\n",
       "    </tr>\n",
       "    <tr>\n",
       "      <th>2000</th>\n",
       "      <td>219141.847</td>\n",
       "    </tr>\n",
       "    <tr>\n",
       "      <th>2001</th>\n",
       "      <td>219060.592</td>\n",
       "    </tr>\n",
       "    <tr>\n",
       "      <th>2002</th>\n",
       "      <td>231122.492</td>\n",
       "    </tr>\n",
       "    <tr>\n",
       "      <th>2003</th>\n",
       "      <td>256743.101</td>\n",
       "    </tr>\n",
       "    <tr>\n",
       "      <th>2004</th>\n",
       "      <td>271765.117</td>\n",
       "    </tr>\n",
       "    <tr>\n",
       "      <th>2005</th>\n",
       "      <td>273739.910</td>\n",
       "    </tr>\n",
       "    <tr>\n",
       "      <th>2006</th>\n",
       "      <td>298954.253</td>\n",
       "    </tr>\n",
       "    <tr>\n",
       "      <th>2007</th>\n",
       "      <td>339993.396</td>\n",
       "    </tr>\n",
       "    <tr>\n",
       "      <th>2008</th>\n",
       "      <td>438555.445</td>\n",
       "    </tr>\n",
       "    <tr>\n",
       "      <th>2009</th>\n",
       "      <td>379657.777</td>\n",
       "    </tr>\n",
       "  </tbody>\n",
       "</table>\n",
       "</div>"
      ],
      "text/plain": [
       "      GPP Per capita (Baht)\n",
       "Year                       \n",
       "1995             143862.554\n",
       "1996             171503.917\n",
       "1997             179223.451\n",
       "1998             180611.806\n",
       "1999             189856.706\n",
       "2000             219141.847\n",
       "2001             219060.592\n",
       "2002             231122.492\n",
       "2003             256743.101\n",
       "2004             271765.117\n",
       "2005             273739.910\n",
       "2006             298954.253\n",
       "2007             339993.396\n",
       "2008             438555.445\n",
       "2009             379657.777"
      ]
     },
     "execution_count": 85,
     "metadata": {},
     "output_type": "execute_result"
    }
   ],
   "source": [
    "test_ex4 = df1.loc[[i for i in range(1995,2010)],['GPP Per capita (Baht)']]\n",
    "test_ex4"
   ]
  },
  {
   "cell_type": "code",
   "execution_count": 86,
   "metadata": {},
   "outputs": [
    {
     "name": "stderr",
     "output_type": "stream",
     "text": [
      "/Users/pantchanit/opt/anaconda3/lib/python3.9/site-packages/statsmodels/tsa/tsatools.py:142: FutureWarning: In a future version of pandas all arguments of concat except for the argument 'objs' will be keyword-only\n",
      "  x = pd.concat(x[::order], 1)\n"
     ]
    },
    {
     "data": {
      "text/html": [
       "<div>\n",
       "<style scoped>\n",
       "    .dataframe tbody tr th:only-of-type {\n",
       "        vertical-align: middle;\n",
       "    }\n",
       "\n",
       "    .dataframe tbody tr th {\n",
       "        vertical-align: top;\n",
       "    }\n",
       "\n",
       "    .dataframe thead th {\n",
       "        text-align: right;\n",
       "    }\n",
       "</style>\n",
       "<table border=\"1\" class=\"dataframe\">\n",
       "  <thead>\n",
       "    <tr style=\"text-align: right;\">\n",
       "      <th></th>\n",
       "      <th>GPP Per capita (Baht)</th>\n",
       "      <th>const</th>\n",
       "    </tr>\n",
       "    <tr>\n",
       "      <th>Year</th>\n",
       "      <th></th>\n",
       "      <th></th>\n",
       "    </tr>\n",
       "  </thead>\n",
       "  <tbody>\n",
       "    <tr>\n",
       "      <th>1995</th>\n",
       "      <td>143862.554</td>\n",
       "      <td>1.0</td>\n",
       "    </tr>\n",
       "    <tr>\n",
       "      <th>1996</th>\n",
       "      <td>171503.917</td>\n",
       "      <td>1.0</td>\n",
       "    </tr>\n",
       "    <tr>\n",
       "      <th>1997</th>\n",
       "      <td>179223.451</td>\n",
       "      <td>1.0</td>\n",
       "    </tr>\n",
       "    <tr>\n",
       "      <th>1998</th>\n",
       "      <td>180611.806</td>\n",
       "      <td>1.0</td>\n",
       "    </tr>\n",
       "    <tr>\n",
       "      <th>1999</th>\n",
       "      <td>189856.706</td>\n",
       "      <td>1.0</td>\n",
       "    </tr>\n",
       "  </tbody>\n",
       "</table>\n",
       "</div>"
      ],
      "text/plain": [
       "      GPP Per capita (Baht)  const\n",
       "Year                              \n",
       "1995             143862.554    1.0\n",
       "1996             171503.917    1.0\n",
       "1997             179223.451    1.0\n",
       "1998             180611.806    1.0\n",
       "1999             189856.706    1.0"
      ]
     },
     "execution_count": 86,
     "metadata": {},
     "output_type": "execute_result"
    }
   ],
   "source": [
    "X_test_ex4 = test_ex4[['GPP Per capita (Baht)']]\n",
    "X_test_ex4 = sm.add_constant(X_test_ex4, prepend=False)\n",
    "X_test_ex4.head()"
   ]
  },
  {
   "cell_type": "code",
   "execution_count": 87,
   "metadata": {},
   "outputs": [
    {
     "data": {
      "text/plain": [
       "array([1193554.53085165, 1188872.01885004, 1187564.31160702,\n",
       "       1187329.12099974, 1185763.01316332, 1180802.04129658,\n",
       "       1180815.80608498, 1178772.49181309, 1174432.30029898,\n",
       "       1171887.53540412, 1171553.00081828, 1167281.63172153,\n",
       "       1160329.50422936, 1143632.8609652 , 1153610.26465825])"
      ]
     },
     "execution_count": 87,
     "metadata": {},
     "output_type": "execute_result"
    }
   ],
   "source": [
    "predictions = lm.predict(X_test_ex4)\n",
    "predictions  "
   ]
  },
  {
   "cell_type": "markdown",
   "metadata": {},
   "source": [
    "##### เนื้อที่สำหรับปลูกนาข้าว (ไร่)"
   ]
  },
  {
   "cell_type": "code",
   "execution_count": 88,
   "metadata": {},
   "outputs": [
    {
     "data": {
      "text/html": [
       "<div>\n",
       "<style scoped>\n",
       "    .dataframe tbody tr th:only-of-type {\n",
       "        vertical-align: middle;\n",
       "    }\n",
       "\n",
       "    .dataframe tbody tr th {\n",
       "        vertical-align: top;\n",
       "    }\n",
       "\n",
       "    .dataframe thead th {\n",
       "        text-align: right;\n",
       "    }\n",
       "</style>\n",
       "<table border=\"1\" class=\"dataframe\">\n",
       "  <thead>\n",
       "    <tr style=\"text-align: right;\">\n",
       "      <th></th>\n",
       "      <th>เนื้อที่สำหรับปลูกนาข้าว (ไร่)</th>\n",
       "      <th>GPP Per capita (Baht)</th>\n",
       "    </tr>\n",
       "    <tr>\n",
       "      <th>Year</th>\n",
       "      <th></th>\n",
       "      <th></th>\n",
       "    </tr>\n",
       "  </thead>\n",
       "  <tbody>\n",
       "    <tr>\n",
       "      <th>2010</th>\n",
       "      <td>825214.0</td>\n",
       "      <td>427733.436</td>\n",
       "    </tr>\n",
       "    <tr>\n",
       "      <th>2011</th>\n",
       "      <td>812779.0</td>\n",
       "      <td>365800.945</td>\n",
       "    </tr>\n",
       "    <tr>\n",
       "      <th>2012</th>\n",
       "      <td>812975.0</td>\n",
       "      <td>378620.537</td>\n",
       "    </tr>\n",
       "    <tr>\n",
       "      <th>2013</th>\n",
       "      <td>812719.0</td>\n",
       "      <td>461789.496</td>\n",
       "    </tr>\n",
       "    <tr>\n",
       "      <th>2014</th>\n",
       "      <td>812522.0</td>\n",
       "      <td>417614.341</td>\n",
       "    </tr>\n",
       "    <tr>\n",
       "      <th>2015</th>\n",
       "      <td>813100.0</td>\n",
       "      <td>468325.834</td>\n",
       "    </tr>\n",
       "    <tr>\n",
       "      <th>2016</th>\n",
       "      <td>812485.0</td>\n",
       "      <td>444803.565</td>\n",
       "    </tr>\n",
       "    <tr>\n",
       "      <th>2017</th>\n",
       "      <td>813167.0</td>\n",
       "      <td>449602.967</td>\n",
       "    </tr>\n",
       "    <tr>\n",
       "      <th>2018</th>\n",
       "      <td>812834.0</td>\n",
       "      <td>454952.541</td>\n",
       "    </tr>\n",
       "  </tbody>\n",
       "</table>\n",
       "</div>"
      ],
      "text/plain": [
       "      เนื้อที่สำหรับปลูกนาข้าว (ไร่)  GPP Per capita (Baht)\n",
       "Year                                                       \n",
       "2010                        825214.0             427733.436\n",
       "2011                        812779.0             365800.945\n",
       "2012                        812975.0             378620.537\n",
       "2013                        812719.0             461789.496\n",
       "2014                        812522.0             417614.341\n",
       "2015                        813100.0             468325.834\n",
       "2016                        812485.0             444803.565\n",
       "2017                        813167.0             449602.967\n",
       "2018                        812834.0             454952.541"
      ]
     },
     "execution_count": 88,
     "metadata": {},
     "output_type": "execute_result"
    }
   ],
   "source": [
    "ex5 = df1.loc[[i for i in range(2010,2019)],['เนื้อที่สำหรับปลูกนาข้าว (ไร่)','GPP Per capita (Baht)']]\n",
    "ex5"
   ]
  },
  {
   "cell_type": "code",
   "execution_count": 89,
   "metadata": {},
   "outputs": [
    {
     "name": "stderr",
     "output_type": "stream",
     "text": [
      "/Users/pantchanit/opt/anaconda3/lib/python3.9/site-packages/statsmodels/tsa/tsatools.py:142: FutureWarning: In a future version of pandas all arguments of concat except for the argument 'objs' will be keyword-only\n",
      "  x = pd.concat(x[::order], 1)\n"
     ]
    },
    {
     "data": {
      "text/html": [
       "<div>\n",
       "<style scoped>\n",
       "    .dataframe tbody tr th:only-of-type {\n",
       "        vertical-align: middle;\n",
       "    }\n",
       "\n",
       "    .dataframe tbody tr th {\n",
       "        vertical-align: top;\n",
       "    }\n",
       "\n",
       "    .dataframe thead th {\n",
       "        text-align: right;\n",
       "    }\n",
       "</style>\n",
       "<table border=\"1\" class=\"dataframe\">\n",
       "  <thead>\n",
       "    <tr style=\"text-align: right;\">\n",
       "      <th></th>\n",
       "      <th>GPP Per capita (Baht)</th>\n",
       "      <th>const</th>\n",
       "    </tr>\n",
       "    <tr>\n",
       "      <th>Year</th>\n",
       "      <th></th>\n",
       "      <th></th>\n",
       "    </tr>\n",
       "  </thead>\n",
       "  <tbody>\n",
       "    <tr>\n",
       "      <th>2010</th>\n",
       "      <td>427733.436</td>\n",
       "      <td>1.0</td>\n",
       "    </tr>\n",
       "    <tr>\n",
       "      <th>2011</th>\n",
       "      <td>365800.945</td>\n",
       "      <td>1.0</td>\n",
       "    </tr>\n",
       "    <tr>\n",
       "      <th>2012</th>\n",
       "      <td>378620.537</td>\n",
       "      <td>1.0</td>\n",
       "    </tr>\n",
       "    <tr>\n",
       "      <th>2013</th>\n",
       "      <td>461789.496</td>\n",
       "      <td>1.0</td>\n",
       "    </tr>\n",
       "    <tr>\n",
       "      <th>2014</th>\n",
       "      <td>417614.341</td>\n",
       "      <td>1.0</td>\n",
       "    </tr>\n",
       "  </tbody>\n",
       "</table>\n",
       "</div>"
      ],
      "text/plain": [
       "      GPP Per capita (Baht)  const\n",
       "Year                              \n",
       "2010             427733.436    1.0\n",
       "2011             365800.945    1.0\n",
       "2012             378620.537    1.0\n",
       "2013             461789.496    1.0\n",
       "2014             417614.341    1.0"
      ]
     },
     "execution_count": 89,
     "metadata": {},
     "output_type": "execute_result"
    }
   ],
   "source": [
    "X = ex5[['GPP Per capita (Baht)']]\n",
    "X = sm.add_constant(X, prepend=False)\n",
    "X.head()"
   ]
  },
  {
   "cell_type": "code",
   "execution_count": 90,
   "metadata": {},
   "outputs": [
    {
     "data": {
      "text/plain": [
       "Year\n",
       "2010    825214.0\n",
       "2011    812779.0\n",
       "2012    812975.0\n",
       "2013    812719.0\n",
       "2014    812522.0\n",
       "Name: เนื้อที่สำหรับปลูกนาข้าว (ไร่), dtype: float64"
      ]
     },
     "execution_count": 90,
     "metadata": {},
     "output_type": "execute_result"
    }
   ],
   "source": [
    "y = ex5['เนื้อที่สำหรับปลูกนาข้าว (ไร่)']\n",
    "y.head()"
   ]
  },
  {
   "cell_type": "code",
   "execution_count": 91,
   "metadata": {},
   "outputs": [],
   "source": [
    "X_train, X_test, y_train, y_test = train_test_split(X, y, test_size=0.000000000001,random_state=14)"
   ]
  },
  {
   "cell_type": "code",
   "execution_count": 92,
   "metadata": {},
   "outputs": [
    {
     "data": {
      "text/plain": [
       "LinearRegression()"
      ]
     },
     "execution_count": 92,
     "metadata": {},
     "output_type": "execute_result"
    }
   ],
   "source": [
    "lm = LinearRegression()\n",
    "lm.fit(X_train, y_train)"
   ]
  },
  {
   "cell_type": "code",
   "execution_count": 93,
   "metadata": {},
   "outputs": [
    {
     "data": {
      "text/html": [
       "<div>\n",
       "<style scoped>\n",
       "    .dataframe tbody tr th:only-of-type {\n",
       "        vertical-align: middle;\n",
       "    }\n",
       "\n",
       "    .dataframe tbody tr th {\n",
       "        vertical-align: top;\n",
       "    }\n",
       "\n",
       "    .dataframe thead th {\n",
       "        text-align: right;\n",
       "    }\n",
       "</style>\n",
       "<table border=\"1\" class=\"dataframe\">\n",
       "  <thead>\n",
       "    <tr style=\"text-align: right;\">\n",
       "      <th></th>\n",
       "      <th>GPP Per capita (Baht)</th>\n",
       "    </tr>\n",
       "    <tr>\n",
       "      <th>Year</th>\n",
       "      <th></th>\n",
       "    </tr>\n",
       "  </thead>\n",
       "  <tbody>\n",
       "    <tr>\n",
       "      <th>1995</th>\n",
       "      <td>143862.554</td>\n",
       "    </tr>\n",
       "    <tr>\n",
       "      <th>1996</th>\n",
       "      <td>171503.917</td>\n",
       "    </tr>\n",
       "    <tr>\n",
       "      <th>1997</th>\n",
       "      <td>179223.451</td>\n",
       "    </tr>\n",
       "    <tr>\n",
       "      <th>1998</th>\n",
       "      <td>180611.806</td>\n",
       "    </tr>\n",
       "    <tr>\n",
       "      <th>1999</th>\n",
       "      <td>189856.706</td>\n",
       "    </tr>\n",
       "    <tr>\n",
       "      <th>2000</th>\n",
       "      <td>219141.847</td>\n",
       "    </tr>\n",
       "    <tr>\n",
       "      <th>2001</th>\n",
       "      <td>219060.592</td>\n",
       "    </tr>\n",
       "    <tr>\n",
       "      <th>2002</th>\n",
       "      <td>231122.492</td>\n",
       "    </tr>\n",
       "    <tr>\n",
       "      <th>2003</th>\n",
       "      <td>256743.101</td>\n",
       "    </tr>\n",
       "    <tr>\n",
       "      <th>2004</th>\n",
       "      <td>271765.117</td>\n",
       "    </tr>\n",
       "    <tr>\n",
       "      <th>2005</th>\n",
       "      <td>273739.910</td>\n",
       "    </tr>\n",
       "    <tr>\n",
       "      <th>2006</th>\n",
       "      <td>298954.253</td>\n",
       "    </tr>\n",
       "    <tr>\n",
       "      <th>2007</th>\n",
       "      <td>339993.396</td>\n",
       "    </tr>\n",
       "    <tr>\n",
       "      <th>2008</th>\n",
       "      <td>438555.445</td>\n",
       "    </tr>\n",
       "    <tr>\n",
       "      <th>2009</th>\n",
       "      <td>379657.777</td>\n",
       "    </tr>\n",
       "  </tbody>\n",
       "</table>\n",
       "</div>"
      ],
      "text/plain": [
       "      GPP Per capita (Baht)\n",
       "Year                       \n",
       "1995             143862.554\n",
       "1996             171503.917\n",
       "1997             179223.451\n",
       "1998             180611.806\n",
       "1999             189856.706\n",
       "2000             219141.847\n",
       "2001             219060.592\n",
       "2002             231122.492\n",
       "2003             256743.101\n",
       "2004             271765.117\n",
       "2005             273739.910\n",
       "2006             298954.253\n",
       "2007             339993.396\n",
       "2008             438555.445\n",
       "2009             379657.777"
      ]
     },
     "execution_count": 93,
     "metadata": {},
     "output_type": "execute_result"
    }
   ],
   "source": [
    "test_ex5 = df1.loc[[i for i in range(1995,2010)],['GPP Per capita (Baht)']]\n",
    "test_ex5"
   ]
  },
  {
   "cell_type": "code",
   "execution_count": 94,
   "metadata": {},
   "outputs": [
    {
     "name": "stderr",
     "output_type": "stream",
     "text": [
      "/Users/pantchanit/opt/anaconda3/lib/python3.9/site-packages/statsmodels/tsa/tsatools.py:142: FutureWarning: In a future version of pandas all arguments of concat except for the argument 'objs' will be keyword-only\n",
      "  x = pd.concat(x[::order], 1)\n"
     ]
    },
    {
     "data": {
      "text/html": [
       "<div>\n",
       "<style scoped>\n",
       "    .dataframe tbody tr th:only-of-type {\n",
       "        vertical-align: middle;\n",
       "    }\n",
       "\n",
       "    .dataframe tbody tr th {\n",
       "        vertical-align: top;\n",
       "    }\n",
       "\n",
       "    .dataframe thead th {\n",
       "        text-align: right;\n",
       "    }\n",
       "</style>\n",
       "<table border=\"1\" class=\"dataframe\">\n",
       "  <thead>\n",
       "    <tr style=\"text-align: right;\">\n",
       "      <th></th>\n",
       "      <th>GPP Per capita (Baht)</th>\n",
       "      <th>const</th>\n",
       "    </tr>\n",
       "    <tr>\n",
       "      <th>Year</th>\n",
       "      <th></th>\n",
       "      <th></th>\n",
       "    </tr>\n",
       "  </thead>\n",
       "  <tbody>\n",
       "    <tr>\n",
       "      <th>1995</th>\n",
       "      <td>143862.554</td>\n",
       "      <td>1.0</td>\n",
       "    </tr>\n",
       "    <tr>\n",
       "      <th>1996</th>\n",
       "      <td>171503.917</td>\n",
       "      <td>1.0</td>\n",
       "    </tr>\n",
       "    <tr>\n",
       "      <th>1997</th>\n",
       "      <td>179223.451</td>\n",
       "      <td>1.0</td>\n",
       "    </tr>\n",
       "    <tr>\n",
       "      <th>1998</th>\n",
       "      <td>180611.806</td>\n",
       "      <td>1.0</td>\n",
       "    </tr>\n",
       "    <tr>\n",
       "      <th>1999</th>\n",
       "      <td>189856.706</td>\n",
       "      <td>1.0</td>\n",
       "    </tr>\n",
       "  </tbody>\n",
       "</table>\n",
       "</div>"
      ],
      "text/plain": [
       "      GPP Per capita (Baht)  const\n",
       "Year                              \n",
       "1995             143862.554    1.0\n",
       "1996             171503.917    1.0\n",
       "1997             179223.451    1.0\n",
       "1998             180611.806    1.0\n",
       "1999             189856.706    1.0"
      ]
     },
     "execution_count": 94,
     "metadata": {},
     "output_type": "execute_result"
    }
   ],
   "source": [
    "X_test_ex5 = test_ex5[['GPP Per capita (Baht)']]\n",
    "X_test_ex5 = sm.add_constant(X_test_ex5, prepend=False)\n",
    "X_test_ex5.head()"
   ]
  },
  {
   "cell_type": "code",
   "execution_count": 95,
   "metadata": {},
   "outputs": [
    {
     "data": {
      "text/plain": [
       "array([813441.82643235, 813529.79148508, 813554.35790083, 813558.77616055,\n",
       "       813588.19685576, 813681.39301879, 813681.13443529, 813719.51986764,\n",
       "       813801.05413285, 813848.85975046, 813855.14427305, 813935.38564942,\n",
       "       814065.98739934, 814379.64833703, 814192.2141475 ])"
      ]
     },
     "execution_count": 95,
     "metadata": {},
     "output_type": "execute_result"
    }
   ],
   "source": [
    "predictions = lm.predict(X_test_ex5)\n",
    "predictions  "
   ]
  },
  {
   "cell_type": "markdown",
   "metadata": {},
   "source": [
    "## Find data by Interpolation"
   ]
  },
  {
   "cell_type": "code",
   "execution_count": 96,
   "metadata": {},
   "outputs": [
    {
     "data": {
      "text/plain": [
       "Year\n",
       "1995        NaN\n",
       "1996    0.11918\n",
       "1997    0.10214\n",
       "1998        NaN\n",
       "1999    0.24836\n",
       "2000    0.24471\n",
       "2001    0.25231\n",
       "2002    0.23055\n",
       "2003    0.24534\n",
       "2004    0.23828\n",
       "2005    0.21889\n",
       "2006    0.23271\n",
       "2007    0.20080\n",
       "2008    0.20331\n",
       "2009    0.23455\n",
       "2010        NaN\n",
       "2011    0.36146\n",
       "2012        NaN\n",
       "2013    0.44164\n",
       "2014    0.47988\n",
       "2015    0.61609\n",
       "2016    0.77817\n",
       "2017    1.00179\n",
       "2018        NaN\n",
       "Name: ค่าใช้จ่ายในการวิจัยและพัฒนา (คิดเป็น % ของจีดีพี), dtype: float64"
      ]
     },
     "execution_count": 96,
     "metadata": {},
     "output_type": "execute_result"
    }
   ],
   "source": [
    "ex6 = df1['ค่าใช้จ่ายในการวิจัยและพัฒนา (คิดเป็น % ของจีดีพี)']\n",
    "ex6"
   ]
  },
  {
   "cell_type": "code",
   "execution_count": 97,
   "metadata": {},
   "outputs": [
    {
     "data": {
      "text/plain": [
       "Year\n",
       "1995         NaN\n",
       "1996    0.119180\n",
       "1997    0.102140\n",
       "1998    0.175250\n",
       "1999    0.248360\n",
       "2000    0.244710\n",
       "2001    0.252310\n",
       "2002    0.230550\n",
       "2003    0.245340\n",
       "2004    0.238280\n",
       "2005    0.218890\n",
       "2006    0.232710\n",
       "2007    0.200800\n",
       "2008    0.203310\n",
       "2009    0.234550\n",
       "2010    0.298005\n",
       "2011    0.361460\n",
       "2012    0.401550\n",
       "2013    0.441640\n",
       "2014    0.479880\n",
       "2015    0.616090\n",
       "2016    0.778170\n",
       "2017    1.001790\n",
       "2018    1.001790\n",
       "Name: ค่าใช้จ่ายในการวิจัยและพัฒนา (คิดเป็น % ของจีดีพี), dtype: float64"
      ]
     },
     "execution_count": 97,
     "metadata": {},
     "output_type": "execute_result"
    }
   ],
   "source": [
    "ex6.interpolate(method='linear', limit_direction='forward', axis=0)"
   ]
  },
  {
   "cell_type": "code",
   "execution_count": 98,
   "metadata": {},
   "outputs": [
    {
     "data": {
      "text/plain": [
       "Year\n",
       "1995    0.119180\n",
       "1996    0.119180\n",
       "1997    0.102140\n",
       "1998    0.175250\n",
       "1999    0.248360\n",
       "2000    0.244710\n",
       "2001    0.252310\n",
       "2002    0.230550\n",
       "2003    0.245340\n",
       "2004    0.238280\n",
       "2005    0.218890\n",
       "2006    0.232710\n",
       "2007    0.200800\n",
       "2008    0.203310\n",
       "2009    0.234550\n",
       "2010    0.298005\n",
       "2011    0.361460\n",
       "2012    0.401550\n",
       "2013    0.441640\n",
       "2014    0.479880\n",
       "2015    0.616090\n",
       "2016    0.778170\n",
       "2017    1.001790\n",
       "2018         NaN\n",
       "Name: ค่าใช้จ่ายในการวิจัยและพัฒนา (คิดเป็น % ของจีดีพี), dtype: float64"
      ]
     },
     "execution_count": 98,
     "metadata": {},
     "output_type": "execute_result"
    }
   ],
   "source": [
    "ex6.interpolate(method='linear', limit_direction='backward', axis=0)"
   ]
  }
 ],
 "metadata": {
  "interpreter": {
   "hash": "a55ab719c9bfc05de0d3a1d1915f1d68fd6eba03203b10440bfba1b28ddfa129"
  },
  "kernelspec": {
   "display_name": "Python 3.9.7 ('base')",
   "language": "python",
   "name": "python3"
  },
  "language_info": {
   "codemirror_mode": {
    "name": "ipython",
    "version": 3
   },
   "file_extension": ".py",
   "mimetype": "text/x-python",
   "name": "python",
   "nbconvert_exporter": "python",
   "pygments_lexer": "ipython3",
   "version": "3.9.7"
  },
  "orig_nbformat": 4
 },
 "nbformat": 4,
 "nbformat_minor": 2
}
