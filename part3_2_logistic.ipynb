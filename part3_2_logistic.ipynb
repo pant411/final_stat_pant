{
 "cells": [
  {
   "cell_type": "code",
   "execution_count": 41,
   "metadata": {},
   "outputs": [],
   "source": [
    "#! -*- coding: UTF8 -*-\n",
    "import os\n",
    "os.chdir(os.getcwd())"
   ]
  },
  {
   "cell_type": "markdown",
   "metadata": {},
   "source": [
    "## Import Module"
   ]
  },
  {
   "cell_type": "code",
   "execution_count": 42,
   "metadata": {},
   "outputs": [],
   "source": [
    "import matplotlib as mpl\n",
    "import seaborn as sns\n",
    "%matplotlib inline\n",
    "mpl.font_manager.fontManager.addfont('thsarabunnew-webfont.ttf')\n",
    "sns.set(font='TH Sarabun New')"
   ]
  },
  {
   "cell_type": "code",
   "execution_count": 43,
   "metadata": {},
   "outputs": [],
   "source": [
    "import statsmodels.api as sm\n",
    "import pandas as pd\n",
    "import numpy as np\n",
    "import matplotlib.pyplot as plt\n",
    "import seaborn as sns\n",
    "from sklearn.model_selection import train_test_split\n",
    "from sklearn.linear_model import LogisticRegression\n",
    "from sklearn import metrics\n",
    "from sklearn.metrics import classification_report\n",
    "from sklearn.metrics import confusion_matrix"
   ]
  },
  {
   "cell_type": "markdown",
   "metadata": {},
   "source": [
    "## Import Data"
   ]
  },
  {
   "cell_type": "code",
   "execution_count": 44,
   "metadata": {},
   "outputs": [
    {
     "data": {
      "text/html": [
       "<div>\n",
       "<style scoped>\n",
       "    .dataframe tbody tr th:only-of-type {\n",
       "        vertical-align: middle;\n",
       "    }\n",
       "\n",
       "    .dataframe tbody tr th {\n",
       "        vertical-align: top;\n",
       "    }\n",
       "\n",
       "    .dataframe thead th {\n",
       "        text-align: right;\n",
       "    }\n",
       "</style>\n",
       "<table border=\"1\" class=\"dataframe\">\n",
       "  <thead>\n",
       "    <tr style=\"text-align: right;\">\n",
       "      <th></th>\n",
       "      <th>country</th>\n",
       "      <th>pop</th>\n",
       "      <th>gdp</th>\n",
       "      <th>unemployment</th>\n",
       "      <th>gni</th>\n",
       "      <th>primary</th>\n",
       "      <th>secondary</th>\n",
       "      <th>tertiary</th>\n",
       "      <th>mortality_infant_rate</th>\n",
       "      <th>life_expectancy</th>\n",
       "      <th>...</th>\n",
       "      <th>basic_drinking_water</th>\n",
       "      <th>co2</th>\n",
       "      <th>forest_land</th>\n",
       "      <th>broadband</th>\n",
       "      <th>mobile</th>\n",
       "      <th>power</th>\n",
       "      <th>birth_rate</th>\n",
       "      <th>age_15_64</th>\n",
       "      <th>senior</th>\n",
       "      <th>dev</th>\n",
       "    </tr>\n",
       "  </thead>\n",
       "  <tbody>\n",
       "    <tr>\n",
       "      <th>0</th>\n",
       "      <td>Afghanistan</td>\n",
       "      <td>36296111.0</td>\n",
       "      <td>1.875347e+10</td>\n",
       "      <td>11.18</td>\n",
       "      <td>1.900025e+10</td>\n",
       "      <td>102.175789</td>\n",
       "      <td>53.643200</td>\n",
       "      <td>0.000000</td>\n",
       "      <td>49.6</td>\n",
       "      <td>64.130</td>\n",
       "      <td>...</td>\n",
       "      <td>66.808703</td>\n",
       "      <td>0.203328</td>\n",
       "      <td>1.850994</td>\n",
       "      <td>0.025297</td>\n",
       "      <td>65.929134</td>\n",
       "      <td>0.0</td>\n",
       "      <td>33.211</td>\n",
       "      <td>53.763223</td>\n",
       "      <td>2.554251</td>\n",
       "      <td>0</td>\n",
       "    </tr>\n",
       "    <tr>\n",
       "      <th>1</th>\n",
       "      <td>Albania</td>\n",
       "      <td>2873457.0</td>\n",
       "      <td>1.301969e+10</td>\n",
       "      <td>13.62</td>\n",
       "      <td>1.305148e+10</td>\n",
       "      <td>107.046600</td>\n",
       "      <td>95.265892</td>\n",
       "      <td>57.375259</td>\n",
       "      <td>8.4</td>\n",
       "      <td>78.333</td>\n",
       "      <td>...</td>\n",
       "      <td>94.102097</td>\n",
       "      <td>1.948872</td>\n",
       "      <td>28.792062</td>\n",
       "      <td>10.526845</td>\n",
       "      <td>125.710352</td>\n",
       "      <td>0.0</td>\n",
       "      <td>11.934</td>\n",
       "      <td>68.642614</td>\n",
       "      <td>13.329073</td>\n",
       "      <td>1</td>\n",
       "    </tr>\n",
       "    <tr>\n",
       "      <th>2</th>\n",
       "      <td>Algeria</td>\n",
       "      <td>41389174.0</td>\n",
       "      <td>1.700970e+11</td>\n",
       "      <td>13.57</td>\n",
       "      <td>1.675590e+11</td>\n",
       "      <td>111.764481</td>\n",
       "      <td>0.000000</td>\n",
       "      <td>47.646832</td>\n",
       "      <td>20.9</td>\n",
       "      <td>76.499</td>\n",
       "      <td>...</td>\n",
       "      <td>93.831977</td>\n",
       "      <td>3.505748</td>\n",
       "      <td>0.815790</td>\n",
       "      <td>7.756294</td>\n",
       "      <td>110.767246</td>\n",
       "      <td>0.0</td>\n",
       "      <td>24.846</td>\n",
       "      <td>64.183205</td>\n",
       "      <td>6.177205</td>\n",
       "      <td>0</td>\n",
       "    </tr>\n",
       "    <tr>\n",
       "      <th>3</th>\n",
       "      <td>American Samoa</td>\n",
       "      <td>55617.0</td>\n",
       "      <td>6.120000e+08</td>\n",
       "      <td>0.00</td>\n",
       "      <td>0.000000e+00</td>\n",
       "      <td>0.000000</td>\n",
       "      <td>0.000000</td>\n",
       "      <td>0.000000</td>\n",
       "      <td>0.0</td>\n",
       "      <td>0.000</td>\n",
       "      <td>...</td>\n",
       "      <td>99.773772</td>\n",
       "      <td>0.000000</td>\n",
       "      <td>86.100000</td>\n",
       "      <td>0.000000</td>\n",
       "      <td>0.000000</td>\n",
       "      <td>0.0</td>\n",
       "      <td>16.600</td>\n",
       "      <td>0.000000</td>\n",
       "      <td>0.000000</td>\n",
       "      <td>0</td>\n",
       "    </tr>\n",
       "    <tr>\n",
       "      <th>4</th>\n",
       "      <td>Andorra</td>\n",
       "      <td>76997.0</td>\n",
       "      <td>3.000181e+09</td>\n",
       "      <td>0.00</td>\n",
       "      <td>0.000000e+00</td>\n",
       "      <td>0.000000</td>\n",
       "      <td>0.000000</td>\n",
       "      <td>0.000000</td>\n",
       "      <td>3.1</td>\n",
       "      <td>0.000</td>\n",
       "      <td>...</td>\n",
       "      <td>99.999999</td>\n",
       "      <td>6.104134</td>\n",
       "      <td>34.042553</td>\n",
       "      <td>44.524097</td>\n",
       "      <td>104.332411</td>\n",
       "      <td>0.0</td>\n",
       "      <td>0.000</td>\n",
       "      <td>0.000000</td>\n",
       "      <td>0.000000</td>\n",
       "      <td>1</td>\n",
       "    </tr>\n",
       "  </tbody>\n",
       "</table>\n",
       "<p>5 rows × 21 columns</p>\n",
       "</div>"
      ],
      "text/plain": [
       "          country         pop           gdp  unemployment           gni  \\\n",
       "0     Afghanistan  36296111.0  1.875347e+10         11.18  1.900025e+10   \n",
       "1         Albania   2873457.0  1.301969e+10         13.62  1.305148e+10   \n",
       "2         Algeria  41389174.0  1.700970e+11         13.57  1.675590e+11   \n",
       "3  American Samoa     55617.0  6.120000e+08          0.00  0.000000e+00   \n",
       "4         Andorra     76997.0  3.000181e+09          0.00  0.000000e+00   \n",
       "\n",
       "      primary  secondary   tertiary  mortality_infant_rate  life_expectancy  \\\n",
       "0  102.175789  53.643200   0.000000                   49.6           64.130   \n",
       "1  107.046600  95.265892  57.375259                    8.4           78.333   \n",
       "2  111.764481   0.000000  47.646832                   20.9           76.499   \n",
       "3    0.000000   0.000000   0.000000                    0.0            0.000   \n",
       "4    0.000000   0.000000   0.000000                    3.1            0.000   \n",
       "\n",
       "   ...  basic_drinking_water       co2  forest_land  broadband      mobile  \\\n",
       "0  ...             66.808703  0.203328     1.850994   0.025297   65.929134   \n",
       "1  ...             94.102097  1.948872    28.792062  10.526845  125.710352   \n",
       "2  ...             93.831977  3.505748     0.815790   7.756294  110.767246   \n",
       "3  ...             99.773772  0.000000    86.100000   0.000000    0.000000   \n",
       "4  ...             99.999999  6.104134    34.042553  44.524097  104.332411   \n",
       "\n",
       "   power  birth_rate  age_15_64     senior  dev  \n",
       "0    0.0      33.211  53.763223   2.554251    0  \n",
       "1    0.0      11.934  68.642614  13.329073    1  \n",
       "2    0.0      24.846  64.183205   6.177205    0  \n",
       "3    0.0      16.600   0.000000   0.000000    0  \n",
       "4    0.0       0.000   0.000000   0.000000    1  \n",
       "\n",
       "[5 rows x 21 columns]"
      ]
     },
     "execution_count": 44,
     "metadata": {},
     "output_type": "execute_result"
    }
   ],
   "source": [
    "df_dummy = pd.read_csv('process_data/dev_factors_2017.csv').fillna(0)\n",
    "df_dummy.head()"
   ]
  },
  {
   "cell_type": "code",
   "execution_count": 45,
   "metadata": {},
   "outputs": [],
   "source": [
    "df = df_dummy.drop([\"country\"],axis=1)"
   ]
  },
  {
   "cell_type": "code",
   "execution_count": 46,
   "metadata": {},
   "outputs": [
    {
     "data": {
      "text/plain": [
       "['pop',\n",
       " 'gdp',\n",
       " 'unemployment',\n",
       " 'gni',\n",
       " 'primary',\n",
       " 'secondary',\n",
       " 'tertiary',\n",
       " 'mortality_infant_rate',\n",
       " 'life_expectancy',\n",
       " 'physician',\n",
       " 'basic_drinking_water',\n",
       " 'co2',\n",
       " 'forest_land',\n",
       " 'broadband',\n",
       " 'mobile',\n",
       " 'power',\n",
       " 'birth_rate',\n",
       " 'age_15_64',\n",
       " 'senior',\n",
       " 'dev']"
      ]
     },
     "execution_count": 46,
     "metadata": {},
     "output_type": "execute_result"
    }
   ],
   "source": [
    "list1 = list(df.columns)\n",
    "list1"
   ]
  },
  {
   "cell_type": "code",
   "execution_count": 47,
   "metadata": {},
   "outputs": [
    {
     "name": "stderr",
     "output_type": "stream",
     "text": [
      "/Users/pantchanit/opt/anaconda3/lib/python3.9/site-packages/statsmodels/tsa/tsatools.py:142: FutureWarning: In a future version of pandas all arguments of concat except for the argument 'objs' will be keyword-only\n",
      "  x = pd.concat(x[::order], 1)\n"
     ]
    },
    {
     "data": {
      "text/html": [
       "<div>\n",
       "<style scoped>\n",
       "    .dataframe tbody tr th:only-of-type {\n",
       "        vertical-align: middle;\n",
       "    }\n",
       "\n",
       "    .dataframe tbody tr th {\n",
       "        vertical-align: top;\n",
       "    }\n",
       "\n",
       "    .dataframe thead th {\n",
       "        text-align: right;\n",
       "    }\n",
       "</style>\n",
       "<table border=\"1\" class=\"dataframe\">\n",
       "  <thead>\n",
       "    <tr style=\"text-align: right;\">\n",
       "      <th></th>\n",
       "      <th>pop</th>\n",
       "      <th>gdp</th>\n",
       "      <th>unemployment</th>\n",
       "      <th>gni</th>\n",
       "      <th>primary</th>\n",
       "      <th>secondary</th>\n",
       "      <th>tertiary</th>\n",
       "      <th>mortality_infant_rate</th>\n",
       "      <th>life_expectancy</th>\n",
       "      <th>physician</th>\n",
       "      <th>basic_drinking_water</th>\n",
       "      <th>co2</th>\n",
       "      <th>forest_land</th>\n",
       "      <th>broadband</th>\n",
       "      <th>mobile</th>\n",
       "      <th>power</th>\n",
       "      <th>birth_rate</th>\n",
       "      <th>age_15_64</th>\n",
       "      <th>senior</th>\n",
       "      <th>const</th>\n",
       "    </tr>\n",
       "  </thead>\n",
       "  <tbody>\n",
       "    <tr>\n",
       "      <th>0</th>\n",
       "      <td>36296111.0</td>\n",
       "      <td>1.875347e+10</td>\n",
       "      <td>11.18</td>\n",
       "      <td>1.900025e+10</td>\n",
       "      <td>102.175789</td>\n",
       "      <td>53.643200</td>\n",
       "      <td>0.000000</td>\n",
       "      <td>49.6</td>\n",
       "      <td>64.130</td>\n",
       "      <td>0.0000</td>\n",
       "      <td>66.808703</td>\n",
       "      <td>0.203328</td>\n",
       "      <td>1.850994</td>\n",
       "      <td>0.025297</td>\n",
       "      <td>65.929134</td>\n",
       "      <td>0.0</td>\n",
       "      <td>33.211</td>\n",
       "      <td>53.763223</td>\n",
       "      <td>2.554251</td>\n",
       "      <td>1.0</td>\n",
       "    </tr>\n",
       "    <tr>\n",
       "      <th>1</th>\n",
       "      <td>2873457.0</td>\n",
       "      <td>1.301969e+10</td>\n",
       "      <td>13.62</td>\n",
       "      <td>1.305148e+10</td>\n",
       "      <td>107.046600</td>\n",
       "      <td>95.265892</td>\n",
       "      <td>57.375259</td>\n",
       "      <td>8.4</td>\n",
       "      <td>78.333</td>\n",
       "      <td>0.0000</td>\n",
       "      <td>94.102097</td>\n",
       "      <td>1.948872</td>\n",
       "      <td>28.792062</td>\n",
       "      <td>10.526845</td>\n",
       "      <td>125.710352</td>\n",
       "      <td>0.0</td>\n",
       "      <td>11.934</td>\n",
       "      <td>68.642614</td>\n",
       "      <td>13.329073</td>\n",
       "      <td>1.0</td>\n",
       "    </tr>\n",
       "    <tr>\n",
       "      <th>2</th>\n",
       "      <td>41389174.0</td>\n",
       "      <td>1.700970e+11</td>\n",
       "      <td>13.57</td>\n",
       "      <td>1.675590e+11</td>\n",
       "      <td>111.764481</td>\n",
       "      <td>0.000000</td>\n",
       "      <td>47.646832</td>\n",
       "      <td>20.9</td>\n",
       "      <td>76.499</td>\n",
       "      <td>1.7879</td>\n",
       "      <td>93.831977</td>\n",
       "      <td>3.505748</td>\n",
       "      <td>0.815790</td>\n",
       "      <td>7.756294</td>\n",
       "      <td>110.767246</td>\n",
       "      <td>0.0</td>\n",
       "      <td>24.846</td>\n",
       "      <td>64.183205</td>\n",
       "      <td>6.177205</td>\n",
       "      <td>1.0</td>\n",
       "    </tr>\n",
       "    <tr>\n",
       "      <th>3</th>\n",
       "      <td>55617.0</td>\n",
       "      <td>6.120000e+08</td>\n",
       "      <td>0.00</td>\n",
       "      <td>0.000000e+00</td>\n",
       "      <td>0.000000</td>\n",
       "      <td>0.000000</td>\n",
       "      <td>0.000000</td>\n",
       "      <td>0.0</td>\n",
       "      <td>0.000</td>\n",
       "      <td>0.0000</td>\n",
       "      <td>99.773772</td>\n",
       "      <td>0.000000</td>\n",
       "      <td>86.100000</td>\n",
       "      <td>0.000000</td>\n",
       "      <td>0.000000</td>\n",
       "      <td>0.0</td>\n",
       "      <td>16.600</td>\n",
       "      <td>0.000000</td>\n",
       "      <td>0.000000</td>\n",
       "      <td>1.0</td>\n",
       "    </tr>\n",
       "    <tr>\n",
       "      <th>4</th>\n",
       "      <td>76997.0</td>\n",
       "      <td>3.000181e+09</td>\n",
       "      <td>0.00</td>\n",
       "      <td>0.000000e+00</td>\n",
       "      <td>0.000000</td>\n",
       "      <td>0.000000</td>\n",
       "      <td>0.000000</td>\n",
       "      <td>3.1</td>\n",
       "      <td>0.000</td>\n",
       "      <td>0.0000</td>\n",
       "      <td>99.999999</td>\n",
       "      <td>6.104134</td>\n",
       "      <td>34.042553</td>\n",
       "      <td>44.524097</td>\n",
       "      <td>104.332411</td>\n",
       "      <td>0.0</td>\n",
       "      <td>0.000</td>\n",
       "      <td>0.000000</td>\n",
       "      <td>0.000000</td>\n",
       "      <td>1.0</td>\n",
       "    </tr>\n",
       "  </tbody>\n",
       "</table>\n",
       "</div>"
      ],
      "text/plain": [
       "          pop           gdp  unemployment           gni     primary  \\\n",
       "0  36296111.0  1.875347e+10         11.18  1.900025e+10  102.175789   \n",
       "1   2873457.0  1.301969e+10         13.62  1.305148e+10  107.046600   \n",
       "2  41389174.0  1.700970e+11         13.57  1.675590e+11  111.764481   \n",
       "3     55617.0  6.120000e+08          0.00  0.000000e+00    0.000000   \n",
       "4     76997.0  3.000181e+09          0.00  0.000000e+00    0.000000   \n",
       "\n",
       "   secondary   tertiary  mortality_infant_rate  life_expectancy  physician  \\\n",
       "0  53.643200   0.000000                   49.6           64.130     0.0000   \n",
       "1  95.265892  57.375259                    8.4           78.333     0.0000   \n",
       "2   0.000000  47.646832                   20.9           76.499     1.7879   \n",
       "3   0.000000   0.000000                    0.0            0.000     0.0000   \n",
       "4   0.000000   0.000000                    3.1            0.000     0.0000   \n",
       "\n",
       "   basic_drinking_water       co2  forest_land  broadband      mobile  power  \\\n",
       "0             66.808703  0.203328     1.850994   0.025297   65.929134    0.0   \n",
       "1             94.102097  1.948872    28.792062  10.526845  125.710352    0.0   \n",
       "2             93.831977  3.505748     0.815790   7.756294  110.767246    0.0   \n",
       "3             99.773772  0.000000    86.100000   0.000000    0.000000    0.0   \n",
       "4             99.999999  6.104134    34.042553  44.524097  104.332411    0.0   \n",
       "\n",
       "   birth_rate  age_15_64     senior  const  \n",
       "0      33.211  53.763223   2.554251    1.0  \n",
       "1      11.934  68.642614  13.329073    1.0  \n",
       "2      24.846  64.183205   6.177205    1.0  \n",
       "3      16.600   0.000000   0.000000    1.0  \n",
       "4       0.000   0.000000   0.000000    1.0  "
      ]
     },
     "execution_count": 47,
     "metadata": {},
     "output_type": "execute_result"
    }
   ],
   "source": [
    "X = df[list1[:-1]]\n",
    "X = sm.add_constant(X, prepend=False)\n",
    "X.head()"
   ]
  },
  {
   "cell_type": "code",
   "execution_count": 48,
   "metadata": {},
   "outputs": [
    {
     "data": {
      "text/plain": [
       "0    0\n",
       "1    1\n",
       "2    0\n",
       "3    0\n",
       "4    1\n",
       "Name: dev, dtype: int64"
      ]
     },
     "execution_count": 48,
     "metadata": {},
     "output_type": "execute_result"
    }
   ],
   "source": [
    "y = df[list1[-1]]\n",
    "y.head()"
   ]
  },
  {
   "cell_type": "markdown",
   "metadata": {},
   "source": [
    "## สร้างโมเดลจำแนกประเทศ โดยใช้ปัจจัยที่ให้มา   แบ่งข้อมูล train:test 70:30  วิเคราะผลลัพธ์ของโมเดลที่ได้"
   ]
  },
  {
   "cell_type": "markdown",
   "metadata": {},
   "source": [
    "#### สร้างโมเดล"
   ]
  },
  {
   "cell_type": "code",
   "execution_count": 49,
   "metadata": {},
   "outputs": [],
   "source": [
    "X_train, X_test, y_train, y_test = train_test_split(X, y, test_size=0.3, random_state=14)"
   ]
  },
  {
   "cell_type": "code",
   "execution_count": 50,
   "metadata": {},
   "outputs": [
    {
     "data": {
      "text/plain": [
       "LogisticRegression()"
      ]
     },
     "execution_count": 50,
     "metadata": {},
     "output_type": "execute_result"
    }
   ],
   "source": [
    "model = LogisticRegression()\n",
    "model.fit(X_train, y_train)"
   ]
  },
  {
   "cell_type": "code",
   "execution_count": 51,
   "metadata": {},
   "outputs": [
    {
     "data": {
      "text/plain": [
       "array([[-9.67819410e-16,  5.53028702e-13, -4.63366303e-23,\n",
       "        -4.60252697e-13, -1.22402800e-21, -3.97021500e-22,\n",
       "         2.50595801e-24, -6.85566397e-22, -1.12221731e-21,\n",
       "        -3.10377469e-24, -1.43860060e-21, -3.55676956e-23,\n",
       "        -5.85167181e-22,  4.77803049e-23, -1.74342656e-21,\n",
       "        -5.42757057e-22, -5.05444214e-22, -1.09254698e-21,\n",
       "        -2.15491322e-23, -1.87389038e-23]])"
      ]
     },
     "execution_count": 51,
     "metadata": {},
     "output_type": "execute_result"
    }
   ],
   "source": [
    "model.coef_"
   ]
  },
  {
   "cell_type": "code",
   "execution_count": 52,
   "metadata": {},
   "outputs": [
    {
     "data": {
      "text/plain": [
       "array([-1.87389038e-23])"
      ]
     },
     "execution_count": 52,
     "metadata": {},
     "output_type": "execute_result"
    }
   ],
   "source": [
    "model.intercept_"
   ]
  },
  {
   "cell_type": "code",
   "execution_count": 53,
   "metadata": {},
   "outputs": [
    {
     "data": {
      "text/plain": [
       "array([1, 1, 1, 1, 1, 1, 1, 1, 1, 1, 1, 1, 1, 0, 1, 0, 0, 1, 1, 0, 1, 1,\n",
       "       0, 0, 1, 1, 1, 1, 0, 0, 1, 0, 1, 1, 1, 1, 1, 1, 1, 1, 1, 1, 0, 0,\n",
       "       1, 0, 1, 1, 1, 1, 1, 1, 1, 1, 0, 1, 1, 1, 1, 1, 1, 1, 1, 1, 1, 1,\n",
       "       0, 1, 1, 1, 1, 1, 1, 0, 0, 1, 1, 1, 1, 1, 1, 0, 1, 1, 1, 1, 1, 0,\n",
       "       1, 1, 1, 1, 1, 1, 0, 1, 1, 0, 1, 1, 1, 1, 0, 0, 1, 1, 1, 0, 1, 1,\n",
       "       1, 0, 0, 1, 1, 1, 0, 1, 0, 1, 1, 1, 1, 0, 0, 1, 1, 1, 1, 0, 0, 1,\n",
       "       1, 1, 1, 1, 1, 1, 0, 1, 1, 0, 1, 0, 0, 1, 1, 0])"
      ]
     },
     "execution_count": 53,
     "metadata": {},
     "output_type": "execute_result"
    }
   ],
   "source": [
    "# lecture example uses all data to train\n",
    "# typically use X_test to do prediction\n",
    "\n",
    "predictions = model.predict(X_train)\n",
    "predictions"
   ]
  },
  {
   "cell_type": "code",
   "execution_count": 54,
   "metadata": {},
   "outputs": [
    {
     "name": "stdout",
     "output_type": "stream",
     "text": [
      "[[32 81]\n",
      " [ 4 31]]\n"
     ]
    }
   ],
   "source": [
    "# lecture example uses all data to train\n",
    "# typically use y_test to observe confusion matrix \n",
    "\n",
    "print(confusion_matrix(y_train,predictions))"
   ]
  },
  {
   "cell_type": "code",
   "execution_count": 55,
   "metadata": {},
   "outputs": [
    {
     "name": "stdout",
     "output_type": "stream",
     "text": [
      "              precision    recall  f1-score   support\n",
      "\n",
      "           0       0.89      0.28      0.43       113\n",
      "           1       0.28      0.89      0.42        35\n",
      "\n",
      "    accuracy                           0.43       148\n",
      "   macro avg       0.58      0.58      0.43       148\n",
      "weighted avg       0.74      0.43      0.43       148\n",
      "\n"
     ]
    }
   ],
   "source": [
    "# lecture example uses all data to train\n",
    "# typically use y_test to observe confusion matrix\n",
    "\n",
    "print(classification_report(y_train, predictions))"
   ]
  },
  {
   "cell_type": "markdown",
   "metadata": {},
   "source": [
    "#### ทำนายประเทศไทย"
   ]
  },
  {
   "cell_type": "code",
   "execution_count": 56,
   "metadata": {},
   "outputs": [
    {
     "data": {
      "text/html": [
       "<div>\n",
       "<style scoped>\n",
       "    .dataframe tbody tr th:only-of-type {\n",
       "        vertical-align: middle;\n",
       "    }\n",
       "\n",
       "    .dataframe tbody tr th {\n",
       "        vertical-align: top;\n",
       "    }\n",
       "\n",
       "    .dataframe thead th {\n",
       "        text-align: right;\n",
       "    }\n",
       "</style>\n",
       "<table border=\"1\" class=\"dataframe\">\n",
       "  <thead>\n",
       "    <tr style=\"text-align: right;\">\n",
       "      <th></th>\n",
       "      <th>pop</th>\n",
       "      <th>gdp</th>\n",
       "      <th>unemployment</th>\n",
       "      <th>gni</th>\n",
       "      <th>primary</th>\n",
       "      <th>secondary</th>\n",
       "      <th>tertiary</th>\n",
       "      <th>mortality_infant_rate</th>\n",
       "      <th>life_expectancy</th>\n",
       "      <th>physician</th>\n",
       "      <th>basic_drinking_water</th>\n",
       "      <th>co2</th>\n",
       "      <th>forest_land</th>\n",
       "      <th>broadband</th>\n",
       "      <th>mobile</th>\n",
       "      <th>power</th>\n",
       "      <th>birth_rate</th>\n",
       "      <th>age_15_64</th>\n",
       "      <th>senior</th>\n",
       "      <th>const</th>\n",
       "    </tr>\n",
       "  </thead>\n",
       "  <tbody>\n",
       "    <tr>\n",
       "      <th>0</th>\n",
       "      <td>69209817</td>\n",
       "      <td>4.563570e+11</td>\n",
       "      <td>0.83</td>\n",
       "      <td>4.359130e+11</td>\n",
       "      <td>99.625031</td>\n",
       "      <td>116.73394</td>\n",
       "      <td>0</td>\n",
       "      <td>8.4</td>\n",
       "      <td>76.683</td>\n",
       "      <td>0.8075</td>\n",
       "      <td>99.769725</td>\n",
       "      <td>3.766229</td>\n",
       "      <td>39.11018</td>\n",
       "      <td>11.85959</td>\n",
       "      <td>175.596494</td>\n",
       "      <td>0</td>\n",
       "      <td>10.513</td>\n",
       "      <td>71.209214</td>\n",
       "      <td>11.436964</td>\n",
       "      <td>1.0</td>\n",
       "    </tr>\n",
       "  </tbody>\n",
       "</table>\n",
       "</div>"
      ],
      "text/plain": [
       "        pop           gdp  unemployment           gni    primary  secondary  \\\n",
       "0  69209817  4.563570e+11          0.83  4.359130e+11  99.625031  116.73394   \n",
       "\n",
       "   tertiary  mortality_infant_rate  life_expectancy  physician  \\\n",
       "0         0                    8.4           76.683     0.8075   \n",
       "\n",
       "   basic_drinking_water       co2  forest_land  broadband      mobile  power  \\\n",
       "0             99.769725  3.766229     39.11018   11.85959  175.596494      0   \n",
       "\n",
       "   birth_rate  age_15_64     senior  const  \n",
       "0      10.513  71.209214  11.436964    1.0  "
      ]
     },
     "execution_count": 56,
     "metadata": {},
     "output_type": "execute_result"
    }
   ],
   "source": [
    "my_data = {\n",
    "                'pop': [69209817],\n",
    "                'gdp': [4.56357E+11],\n",
    "                'unemployment': [0.83],\n",
    "                'gni': [4.35913E+11],\n",
    "                'primary': [99.62503052],\n",
    "                'secondary': [116.7339401],\n",
    "                'tertiary': [0],\n",
    "                'mortality_infant_rate': [8.4],\n",
    "                'life_expectancy': [76.683],\n",
    "                'physician': [0.8075],\n",
    "                'basic_drinking_water': [99.76972457],\n",
    "                'co2': [3.766228713],\n",
    "                'forest_land': [39.11018027],\n",
    "                'broadband': [11.85959043],\n",
    "                'mobile': [175.5964942],\n",
    "                'power': [0],\n",
    "                'birth_rate': [10.513],\n",
    "                'age_15_64': [71.20921442],\n",
    "                'senior': [11.43696392],\n",
    "                'const': [1.0]\n",
    "           }\n",
    "my_df = pd.DataFrame(my_data, columns=['pop',\n",
    " 'gdp',\n",
    " 'unemployment',\n",
    " 'gni',\n",
    " 'primary',\n",
    " 'secondary',\n",
    " 'tertiary',\n",
    " 'mortality_infant_rate',\n",
    " 'life_expectancy',\n",
    " 'physician',\n",
    " 'basic_drinking_water',\n",
    " 'co2',\n",
    " 'forest_land',\n",
    " 'broadband',\n",
    " 'mobile',\n",
    " 'power',\n",
    " 'birth_rate',\n",
    " 'age_15_64',\n",
    " 'senior', 'const'])\n",
    "my_df"
   ]
  },
  {
   "cell_type": "code",
   "execution_count": 57,
   "metadata": {},
   "outputs": [
    {
     "data": {
      "text/plain": [
       "array([1])"
      ]
     },
     "execution_count": 57,
     "metadata": {},
     "output_type": "execute_result"
    }
   ],
   "source": [
    "predictions = model.predict(my_df)\n",
    "predictions"
   ]
  },
  {
   "cell_type": "markdown",
   "metadata": {},
   "source": [
    "#### ทำนายประเทศจีน"
   ]
  },
  {
   "cell_type": "code",
   "execution_count": 58,
   "metadata": {},
   "outputs": [
    {
     "data": {
      "text/html": [
       "<div>\n",
       "<style scoped>\n",
       "    .dataframe tbody tr th:only-of-type {\n",
       "        vertical-align: middle;\n",
       "    }\n",
       "\n",
       "    .dataframe tbody tr th {\n",
       "        vertical-align: top;\n",
       "    }\n",
       "\n",
       "    .dataframe thead th {\n",
       "        text-align: right;\n",
       "    }\n",
       "</style>\n",
       "<table border=\"1\" class=\"dataframe\">\n",
       "  <thead>\n",
       "    <tr style=\"text-align: right;\">\n",
       "      <th></th>\n",
       "      <th>pop</th>\n",
       "      <th>gdp</th>\n",
       "      <th>unemployment</th>\n",
       "      <th>gni</th>\n",
       "      <th>primary</th>\n",
       "      <th>secondary</th>\n",
       "      <th>tertiary</th>\n",
       "      <th>mortality_infant_rate</th>\n",
       "      <th>life_expectancy</th>\n",
       "      <th>physician</th>\n",
       "      <th>basic_drinking_water</th>\n",
       "      <th>co2</th>\n",
       "      <th>forest_land</th>\n",
       "      <th>broadband</th>\n",
       "      <th>mobile</th>\n",
       "      <th>power</th>\n",
       "      <th>birth_rate</th>\n",
       "      <th>age_15_64</th>\n",
       "      <th>senior</th>\n",
       "      <th>const</th>\n",
       "    </tr>\n",
       "  </thead>\n",
       "  <tbody>\n",
       "    <tr>\n",
       "      <th>0</th>\n",
       "      <td>1386395000</td>\n",
       "      <td>1.231040e+13</td>\n",
       "      <td>3.9</td>\n",
       "      <td>1.229430e+13</td>\n",
       "      <td>99.404808</td>\n",
       "      <td>0</td>\n",
       "      <td>49.073261</td>\n",
       "      <td>7.9</td>\n",
       "      <td>76.47</td>\n",
       "      <td>1.9798</td>\n",
       "      <td>92.840908</td>\n",
       "      <td>7.225769</td>\n",
       "      <td>22.74231</td>\n",
       "      <td>27.739898</td>\n",
       "      <td>103.438421</td>\n",
       "      <td>0</td>\n",
       "      <td>12.43</td>\n",
       "      <td>71.717518</td>\n",
       "      <td>10.34512</td>\n",
       "      <td>1.0</td>\n",
       "    </tr>\n",
       "  </tbody>\n",
       "</table>\n",
       "</div>"
      ],
      "text/plain": [
       "          pop           gdp  unemployment           gni    primary  secondary  \\\n",
       "0  1386395000  1.231040e+13           3.9  1.229430e+13  99.404808          0   \n",
       "\n",
       "    tertiary  mortality_infant_rate  life_expectancy  physician  \\\n",
       "0  49.073261                    7.9            76.47     1.9798   \n",
       "\n",
       "   basic_drinking_water       co2  forest_land  broadband      mobile  power  \\\n",
       "0             92.840908  7.225769     22.74231  27.739898  103.438421      0   \n",
       "\n",
       "   birth_rate  age_15_64    senior  const  \n",
       "0       12.43  71.717518  10.34512    1.0  "
      ]
     },
     "execution_count": 58,
     "metadata": {},
     "output_type": "execute_result"
    }
   ],
   "source": [
    "my_data = {\n",
    "                'pop': [1386395000],\n",
    "                'gdp': [1.23104E+13],\n",
    "                'unemployment': [3.9],\n",
    "                'gni': [1.22943E+13],\n",
    "                'primary': [99.40480804],\n",
    "                'secondary': [0],\n",
    "                'tertiary': [49.07326126],\n",
    "                'mortality_infant_rate': [7.9],\n",
    "                'life_expectancy': [76.47],\n",
    "                'physician': [1.9798],\n",
    "                'basic_drinking_water': [92.84090791],\n",
    "                'co2': [7.225768991],\n",
    "                'forest_land': [22.74231029],\n",
    "                'broadband': [27.73989833],\n",
    "                'mobile': [103.4384208],\n",
    "                'power': [0],\n",
    "                'birth_rate': [12.43],\n",
    "                'age_15_64': [71.71751844],\n",
    "                'senior': [10.34512046],\n",
    "                'const': [1.0]\n",
    "           }\n",
    "my_df = pd.DataFrame(my_data, columns=['pop',\n",
    " 'gdp',\n",
    " 'unemployment',\n",
    " 'gni',\n",
    " 'primary',\n",
    " 'secondary',\n",
    " 'tertiary',\n",
    " 'mortality_infant_rate',\n",
    " 'life_expectancy',\n",
    " 'physician',\n",
    " 'basic_drinking_water',\n",
    " 'co2',\n",
    " 'forest_land',\n",
    " 'broadband',\n",
    " 'mobile',\n",
    " 'power',\n",
    " 'birth_rate',\n",
    " 'age_15_64',\n",
    " 'senior', 'const'])\n",
    "my_df"
   ]
  },
  {
   "cell_type": "code",
   "execution_count": 59,
   "metadata": {},
   "outputs": [
    {
     "data": {
      "text/plain": [
       "array([1])"
      ]
     },
     "execution_count": 59,
     "metadata": {},
     "output_type": "execute_result"
    }
   ],
   "source": [
    "predictions = model.predict(my_df)\n",
    "predictions"
   ]
  },
  {
   "cell_type": "markdown",
   "metadata": {},
   "source": [
    "## ปัจจัยใดบ้างที่คาดว่าจะส่งผลต่อการจำแนกกลุ่มตามการพัฒนาของประเทศมากกว่าปัจจัยอื่นๆ (ในกรณีนี้พิจารณาค่า p-value ที่ต่ำหรีอสูง(ไม่จำเป็นต้องต่ำกว่า 0.1 ในการพิจารณา))\n"
   ]
  },
  {
   "cell_type": "code",
   "execution_count": 60,
   "metadata": {},
   "outputs": [
    {
     "name": "stdout",
     "output_type": "stream",
     "text": [
      "Warning: Maximum number of iterations has been exceeded.\n",
      "         Current function value: 0.120763\n",
      "         Iterations: 35\n"
     ]
    },
    {
     "name": "stderr",
     "output_type": "stream",
     "text": [
      "/Users/pantchanit/opt/anaconda3/lib/python3.9/site-packages/statsmodels/base/model.py:566: ConvergenceWarning: Maximum Likelihood optimization failed to converge. Check mle_retvals\n",
      "  warnings.warn(\"Maximum Likelihood optimization failed to \"\n"
     ]
    },
    {
     "data": {
      "text/html": [
       "<table class=\"simpletable\">\n",
       "<caption>Logit Regression Results</caption>\n",
       "<tr>\n",
       "  <th>Dep. Variable:</th>          <td>dev</td>       <th>  No. Observations:  </th>  <td>   212</td>  \n",
       "</tr>\n",
       "<tr>\n",
       "  <th>Model:</th>                 <td>Logit</td>      <th>  Df Residuals:      </th>  <td>   192</td>  \n",
       "</tr>\n",
       "<tr>\n",
       "  <th>Method:</th>                 <td>MLE</td>       <th>  Df Model:          </th>  <td>    19</td>  \n",
       "</tr>\n",
       "<tr>\n",
       "  <th>Date:</th>            <td>Thu, 07 Apr 2022</td> <th>  Pseudo R-squ.:     </th>  <td>0.7832</td>  \n",
       "</tr>\n",
       "<tr>\n",
       "  <th>Time:</th>                <td>01:29:45</td>     <th>  Log-Likelihood:    </th> <td> -25.602</td> \n",
       "</tr>\n",
       "<tr>\n",
       "  <th>converged:</th>             <td>False</td>      <th>  LL-Null:           </th> <td> -118.10</td> \n",
       "</tr>\n",
       "<tr>\n",
       "  <th>Covariance Type:</th>     <td>nonrobust</td>    <th>  LLR p-value:       </th> <td>3.191e-29</td>\n",
       "</tr>\n",
       "</table>\n",
       "<table class=\"simpletable\">\n",
       "<tr>\n",
       "            <td></td>               <th>coef</th>     <th>std err</th>      <th>z</th>      <th>P>|z|</th>  <th>[0.025</th>    <th>0.975]</th>  \n",
       "</tr>\n",
       "<tr>\n",
       "  <th>pop</th>                   <td> 7.161e-10</td> <td> 5.85e-09</td> <td>    0.122</td> <td> 0.903</td> <td>-1.07e-08</td> <td> 1.22e-08</td>\n",
       "</tr>\n",
       "<tr>\n",
       "  <th>gdp</th>                   <td>-1.582e-13</td> <td> 5.54e-13</td> <td>   -0.286</td> <td> 0.775</td> <td>-1.24e-12</td> <td> 9.27e-13</td>\n",
       "</tr>\n",
       "<tr>\n",
       "  <th>unemployment</th>          <td>    0.3083</td> <td>    0.142</td> <td>    2.168</td> <td> 0.030</td> <td>    0.030</td> <td>    0.587</td>\n",
       "</tr>\n",
       "<tr>\n",
       "  <th>gni</th>                   <td> 1.244e-13</td> <td> 4.71e-13</td> <td>    0.264</td> <td> 0.792</td> <td>   -8e-13</td> <td> 1.05e-12</td>\n",
       "</tr>\n",
       "<tr>\n",
       "  <th>primary</th>               <td>   -0.0042</td> <td>    0.022</td> <td>   -0.192</td> <td> 0.848</td> <td>   -0.047</td> <td>    0.038</td>\n",
       "</tr>\n",
       "<tr>\n",
       "  <th>secondary</th>             <td>    0.0104</td> <td>    0.021</td> <td>    0.490</td> <td> 0.624</td> <td>   -0.031</td> <td>    0.052</td>\n",
       "</tr>\n",
       "<tr>\n",
       "  <th>tertiary</th>              <td>    0.0083</td> <td>    0.022</td> <td>    0.374</td> <td> 0.709</td> <td>   -0.035</td> <td>    0.052</td>\n",
       "</tr>\n",
       "<tr>\n",
       "  <th>mortality_infant_rate</th> <td>   -0.1800</td> <td>    0.122</td> <td>   -1.470</td> <td> 0.142</td> <td>   -0.420</td> <td>    0.060</td>\n",
       "</tr>\n",
       "<tr>\n",
       "  <th>life_expectancy</th>       <td>    0.0106</td> <td>    0.025</td> <td>    0.421</td> <td> 0.674</td> <td>   -0.039</td> <td>    0.060</td>\n",
       "</tr>\n",
       "<tr>\n",
       "  <th>physician</th>             <td>   -0.4222</td> <td>    0.329</td> <td>   -1.282</td> <td> 0.200</td> <td>   -1.068</td> <td>    0.223</td>\n",
       "</tr>\n",
       "<tr>\n",
       "  <th>basic_drinking_water</th>  <td>    0.0221</td> <td>    0.030</td> <td>    0.732</td> <td> 0.464</td> <td>   -0.037</td> <td>    0.081</td>\n",
       "</tr>\n",
       "<tr>\n",
       "  <th>co2</th>                   <td>    0.2403</td> <td>    0.143</td> <td>    1.685</td> <td> 0.092</td> <td>   -0.039</td> <td>    0.520</td>\n",
       "</tr>\n",
       "<tr>\n",
       "  <th>forest_land</th>           <td>   -0.0204</td> <td>    0.024</td> <td>   -0.849</td> <td> 0.396</td> <td>   -0.068</td> <td>    0.027</td>\n",
       "</tr>\n",
       "<tr>\n",
       "  <th>broadband</th>             <td>    0.0523</td> <td>    0.046</td> <td>    1.138</td> <td> 0.255</td> <td>   -0.038</td> <td>    0.142</td>\n",
       "</tr>\n",
       "<tr>\n",
       "  <th>mobile</th>                <td>   -0.0044</td> <td>    0.014</td> <td>   -0.325</td> <td> 0.745</td> <td>   -0.031</td> <td>    0.022</td>\n",
       "</tr>\n",
       "<tr>\n",
       "  <th>power</th>                 <td>   -0.0229</td> <td> 1.41e+04</td> <td>-1.63e-06</td> <td> 1.000</td> <td>-2.76e+04</td> <td> 2.76e+04</td>\n",
       "</tr>\n",
       "<tr>\n",
       "  <th>birth_rate</th>            <td>    0.0421</td> <td>    0.127</td> <td>    0.332</td> <td> 0.740</td> <td>   -0.206</td> <td>    0.291</td>\n",
       "</tr>\n",
       "<tr>\n",
       "  <th>age_15_64</th>             <td>   -0.1530</td> <td>    0.051</td> <td>   -2.992</td> <td> 0.003</td> <td>   -0.253</td> <td>   -0.053</td>\n",
       "</tr>\n",
       "<tr>\n",
       "  <th>senior</th>                <td>    0.5374</td> <td>    0.174</td> <td>    3.081</td> <td> 0.002</td> <td>    0.196</td> <td>    0.879</td>\n",
       "</tr>\n",
       "<tr>\n",
       "  <th>const</th>                 <td>   -3.3885</td> <td>    3.637</td> <td>   -0.932</td> <td> 0.352</td> <td>  -10.518</td> <td>    3.741</td>\n",
       "</tr>\n",
       "</table><br/><br/>Possibly complete quasi-separation: A fraction 0.35 of observations can be<br/>perfectly predicted. This might indicate that there is complete<br/>quasi-separation. In this case some parameters will not be identified."
      ],
      "text/plain": [
       "<class 'statsmodels.iolib.summary.Summary'>\n",
       "\"\"\"\n",
       "                           Logit Regression Results                           \n",
       "==============================================================================\n",
       "Dep. Variable:                    dev   No. Observations:                  212\n",
       "Model:                          Logit   Df Residuals:                      192\n",
       "Method:                           MLE   Df Model:                           19\n",
       "Date:                Thu, 07 Apr 2022   Pseudo R-squ.:                  0.7832\n",
       "Time:                        01:29:45   Log-Likelihood:                -25.602\n",
       "converged:                      False   LL-Null:                       -118.10\n",
       "Covariance Type:            nonrobust   LLR p-value:                 3.191e-29\n",
       "=========================================================================================\n",
       "                            coef    std err          z      P>|z|      [0.025      0.975]\n",
       "-----------------------------------------------------------------------------------------\n",
       "pop                    7.161e-10   5.85e-09      0.122      0.903   -1.07e-08    1.22e-08\n",
       "gdp                   -1.582e-13   5.54e-13     -0.286      0.775   -1.24e-12    9.27e-13\n",
       "unemployment              0.3083      0.142      2.168      0.030       0.030       0.587\n",
       "gni                    1.244e-13   4.71e-13      0.264      0.792      -8e-13    1.05e-12\n",
       "primary                  -0.0042      0.022     -0.192      0.848      -0.047       0.038\n",
       "secondary                 0.0104      0.021      0.490      0.624      -0.031       0.052\n",
       "tertiary                  0.0083      0.022      0.374      0.709      -0.035       0.052\n",
       "mortality_infant_rate    -0.1800      0.122     -1.470      0.142      -0.420       0.060\n",
       "life_expectancy           0.0106      0.025      0.421      0.674      -0.039       0.060\n",
       "physician                -0.4222      0.329     -1.282      0.200      -1.068       0.223\n",
       "basic_drinking_water      0.0221      0.030      0.732      0.464      -0.037       0.081\n",
       "co2                       0.2403      0.143      1.685      0.092      -0.039       0.520\n",
       "forest_land              -0.0204      0.024     -0.849      0.396      -0.068       0.027\n",
       "broadband                 0.0523      0.046      1.138      0.255      -0.038       0.142\n",
       "mobile                   -0.0044      0.014     -0.325      0.745      -0.031       0.022\n",
       "power                    -0.0229   1.41e+04  -1.63e-06      1.000   -2.76e+04    2.76e+04\n",
       "birth_rate                0.0421      0.127      0.332      0.740      -0.206       0.291\n",
       "age_15_64                -0.1530      0.051     -2.992      0.003      -0.253      -0.053\n",
       "senior                    0.5374      0.174      3.081      0.002       0.196       0.879\n",
       "const                    -3.3885      3.637     -0.932      0.352     -10.518       3.741\n",
       "=========================================================================================\n",
       "\n",
       "Possibly complete quasi-separation: A fraction 0.35 of observations can be\n",
       "perfectly predicted. This might indicate that there is complete\n",
       "quasi-separation. In this case some parameters will not be identified.\n",
       "\"\"\""
      ]
     },
     "execution_count": 60,
     "metadata": {},
     "output_type": "execute_result"
    }
   ],
   "source": [
    "import statsmodels.discrete.discrete_model as sd\n",
    "model = sd.Logit(y, X)\n",
    "result = model.fit()\n",
    "result.summary()"
   ]
  }
 ],
 "metadata": {
  "interpreter": {
   "hash": "a55ab719c9bfc05de0d3a1d1915f1d68fd6eba03203b10440bfba1b28ddfa129"
  },
  "kernelspec": {
   "display_name": "Python 3.9.7 ('base')",
   "language": "python",
   "name": "python3"
  },
  "language_info": {
   "codemirror_mode": {
    "name": "ipython",
    "version": 3
   },
   "file_extension": ".py",
   "mimetype": "text/x-python",
   "name": "python",
   "nbconvert_exporter": "python",
   "pygments_lexer": "ipython3",
   "version": "3.9.7"
  },
  "orig_nbformat": 4
 },
 "nbformat": 4,
 "nbformat_minor": 2
}
