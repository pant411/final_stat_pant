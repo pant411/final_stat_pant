{
 "cells": [
  {
   "cell_type": "code",
   "execution_count": 1,
   "metadata": {},
   "outputs": [],
   "source": [
    "import os\n",
    "os.chdir(os.getcwd())\n"
   ]
  },
  {
   "cell_type": "code",
   "execution_count": 2,
   "metadata": {
    "collapsed": true
   },
   "outputs": [],
   "source": [
    "import pandas as pd\n",
    "import numpy as np\n",
    "import matplotlib.pyplot as plt\n",
    "import seaborn as sns\n",
    "%matplotlib inline"
   ]
  },
  {
   "cell_type": "markdown",
   "metadata": {},
   "source": [
    "## Getting to Know Data"
   ]
  },
  {
   "cell_type": "code",
   "execution_count": 3,
   "metadata": {},
   "outputs": [
    {
     "data": {
      "text/html": [
       "<div>\n",
       "<style scoped>\n",
       "    .dataframe tbody tr th:only-of-type {\n",
       "        vertical-align: middle;\n",
       "    }\n",
       "\n",
       "    .dataframe tbody tr th {\n",
       "        vertical-align: top;\n",
       "    }\n",
       "\n",
       "    .dataframe thead th {\n",
       "        text-align: right;\n",
       "    }\n",
       "</style>\n",
       "<table border=\"1\" class=\"dataframe\">\n",
       "  <thead>\n",
       "    <tr style=\"text-align: right;\">\n",
       "      <th></th>\n",
       "      <th>sepal_length</th>\n",
       "      <th>sepal_width</th>\n",
       "      <th>petal_length</th>\n",
       "      <th>petal_width</th>\n",
       "      <th>species</th>\n",
       "    </tr>\n",
       "  </thead>\n",
       "  <tbody>\n",
       "    <tr>\n",
       "      <th>0</th>\n",
       "      <td>5.1</td>\n",
       "      <td>3.5</td>\n",
       "      <td>1.4</td>\n",
       "      <td>0.2</td>\n",
       "      <td>setosa</td>\n",
       "    </tr>\n",
       "    <tr>\n",
       "      <th>1</th>\n",
       "      <td>4.9</td>\n",
       "      <td>3.0</td>\n",
       "      <td>1.4</td>\n",
       "      <td>0.2</td>\n",
       "      <td>setosa</td>\n",
       "    </tr>\n",
       "    <tr>\n",
       "      <th>2</th>\n",
       "      <td>4.7</td>\n",
       "      <td>3.2</td>\n",
       "      <td>1.3</td>\n",
       "      <td>0.2</td>\n",
       "      <td>setosa</td>\n",
       "    </tr>\n",
       "    <tr>\n",
       "      <th>3</th>\n",
       "      <td>4.6</td>\n",
       "      <td>3.1</td>\n",
       "      <td>1.5</td>\n",
       "      <td>0.2</td>\n",
       "      <td>setosa</td>\n",
       "    </tr>\n",
       "    <tr>\n",
       "      <th>4</th>\n",
       "      <td>5.0</td>\n",
       "      <td>3.6</td>\n",
       "      <td>1.4</td>\n",
       "      <td>0.2</td>\n",
       "      <td>setosa</td>\n",
       "    </tr>\n",
       "  </tbody>\n",
       "</table>\n",
       "</div>"
      ],
      "text/plain": [
       "   sepal_length  sepal_width  petal_length  petal_width species\n",
       "0           5.1          3.5           1.4          0.2  setosa\n",
       "1           4.9          3.0           1.4          0.2  setosa\n",
       "2           4.7          3.2           1.3          0.2  setosa\n",
       "3           4.6          3.1           1.5          0.2  setosa\n",
       "4           5.0          3.6           1.4          0.2  setosa"
      ]
     },
     "execution_count": 3,
     "metadata": {},
     "output_type": "execute_result"
    }
   ],
   "source": [
    "# Read and find out about data\n",
    "# This data set is about iris flowers \n",
    "# There are 4 variables (features): sepal length, sepal width, petal length, petal width\n",
    "# There is 1 output: species\n",
    "# Basically, different species has different corresponding values of variables\n",
    "\n",
    "df = pd.read_csv(\"iris.csv\")\n",
    "df.head()"
   ]
  },
  {
   "cell_type": "code",
   "execution_count": 4,
   "metadata": {},
   "outputs": [
    {
     "data": {
      "text/plain": [
       "array(['setosa', 'versicolor', 'virginica'], dtype=object)"
      ]
     },
     "execution_count": 4,
     "metadata": {},
     "output_type": "execute_result"
    }
   ],
   "source": [
    "# Find out how many species or how many classes of outputs\n",
    "# From the result, there are 3 classes\n",
    "\n",
    "df.species.unique()"
   ]
  },
  {
   "cell_type": "code",
   "execution_count": 5,
   "metadata": {
    "scrolled": true
   },
   "outputs": [
    {
     "data": {
      "text/html": [
       "<div>\n",
       "<style scoped>\n",
       "    .dataframe tbody tr th:only-of-type {\n",
       "        vertical-align: middle;\n",
       "    }\n",
       "\n",
       "    .dataframe tbody tr th {\n",
       "        vertical-align: top;\n",
       "    }\n",
       "\n",
       "    .dataframe thead th {\n",
       "        text-align: right;\n",
       "    }\n",
       "</style>\n",
       "<table border=\"1\" class=\"dataframe\">\n",
       "  <thead>\n",
       "    <tr style=\"text-align: right;\">\n",
       "      <th></th>\n",
       "      <th>sepal_length</th>\n",
       "      <th>sepal_width</th>\n",
       "      <th>petal_length</th>\n",
       "      <th>petal_width</th>\n",
       "      <th>species</th>\n",
       "    </tr>\n",
       "  </thead>\n",
       "  <tbody>\n",
       "    <tr>\n",
       "      <th>0</th>\n",
       "      <td>5.1</td>\n",
       "      <td>3.5</td>\n",
       "      <td>1.4</td>\n",
       "      <td>0.2</td>\n",
       "      <td>0</td>\n",
       "    </tr>\n",
       "    <tr>\n",
       "      <th>1</th>\n",
       "      <td>4.9</td>\n",
       "      <td>3.0</td>\n",
       "      <td>1.4</td>\n",
       "      <td>0.2</td>\n",
       "      <td>0</td>\n",
       "    </tr>\n",
       "    <tr>\n",
       "      <th>2</th>\n",
       "      <td>4.7</td>\n",
       "      <td>3.2</td>\n",
       "      <td>1.3</td>\n",
       "      <td>0.2</td>\n",
       "      <td>0</td>\n",
       "    </tr>\n",
       "    <tr>\n",
       "      <th>3</th>\n",
       "      <td>4.6</td>\n",
       "      <td>3.1</td>\n",
       "      <td>1.5</td>\n",
       "      <td>0.2</td>\n",
       "      <td>0</td>\n",
       "    </tr>\n",
       "    <tr>\n",
       "      <th>4</th>\n",
       "      <td>5.0</td>\n",
       "      <td>3.6</td>\n",
       "      <td>1.4</td>\n",
       "      <td>0.2</td>\n",
       "      <td>0</td>\n",
       "    </tr>\n",
       "  </tbody>\n",
       "</table>\n",
       "</div>"
      ],
      "text/plain": [
       "   sepal_length  sepal_width  petal_length  petal_width  species\n",
       "0           5.1          3.5           1.4          0.2        0\n",
       "1           4.9          3.0           1.4          0.2        0\n",
       "2           4.7          3.2           1.3          0.2        0\n",
       "3           4.6          3.1           1.5          0.2        0\n",
       "4           5.0          3.6           1.4          0.2        0"
      ]
     },
     "execution_count": 5,
     "metadata": {},
     "output_type": "execute_result"
    }
   ],
   "source": [
    "# Convert categorical data type of species to numerical data\n",
    "\n",
    "df = df.replace({'setosa': 0, 'versicolor': 1, 'virginica': 2})\n",
    "df.head()"
   ]
  },
  {
   "cell_type": "code",
   "execution_count": 6,
   "metadata": {},
   "outputs": [
    {
     "data": {
      "image/png": "[encoded data removed]",
      "text/plain": [
       "<Figure size 576x576 with 1 Axes>"
      ]
     },
     "metadata": {
      "needs_background": "light"
     },
     "output_type": "display_data"
    }
   ],
   "source": [
    "# Perform basic visualization to roughly see how each class (species) is distributed \n",
    "# Since there are 4 variables + 1 class, and we can perform only 3D visualization at one time, \n",
    "# the visualization will be performed twice to see all 4 variables\n",
    "\n",
    "# Visualization #1: Sepal Length, Sepal Width, Petal Length\n",
    "\n",
    "from mpl_toolkits.mplot3d import Axes3D\n",
    "from mpl_toolkits.mplot3d import proj3d\n",
    "\n",
    "\n",
    "fig = plt.figure(figsize=(8,8))\n",
    "ax = fig.add_subplot(111, projection='3d')\n",
    "plt.rcParams['legend.fontsize'] = 10   \n",
    "ax.plot(df.sepal_length[df.species==0], df.sepal_width[df.species==0], df.petal_length[df.species==0], 'o', markersize=8, color='red', alpha=0.5, label='Class 0')\n",
    "ax.plot(df.sepal_length[df.species==1], df.sepal_width[df.species==1], df.petal_length[df.species==1], 'o', markersize=8, color='orange', alpha=0.5, label='Class 1')\n",
    "ax.plot(df.sepal_length[df.species==2], df.sepal_width[df.species==2], df.petal_length[df.species==2], 'o', markersize=8, color='grey', alpha=0.5, label='Class 2')\n",
    "plt.title('Sepal Length, Sepal Width, Petal Length for classes 0,1,2')\n",
    "ax.set_xlabel('Sepal Length')\n",
    "ax.set_ylabel('Sepal Width')\n",
    "ax.set_zlabel('Petal Length')\n",
    "ax.legend(loc='lower right')\n",
    "\n",
    "plt.show()\n",
    "\n",
    "# From graph, each class distributes almost similarly along sepal length \n",
    "# Hence, sepal length may not be a good feature used to differentiate between different classes\n",
    "# On the other hand, classes are separated along petal length axis. \n",
    "# (Class 0 is at the bottom, class 1 is in the middle, class 2 is on the top.)\n",
    "# Thus, petal length may be a good feature used to separate classes"
   ]
  },
  {
   "cell_type": "code",
   "execution_count": 7,
   "metadata": {},
   "outputs": [
    {
     "data": {
      "image/png": "[encoded data removed]",
      "text/plain": [
       "<Figure size 576x576 with 1 Axes>"
      ]
     },
     "metadata": {
      "needs_background": "light"
     },
     "output_type": "display_data"
    }
   ],
   "source": [
    "# Visualization #2: Sepal Width, Petal Length, Petal Width\n",
    "\n",
    "fig = plt.figure(figsize=(8,8))\n",
    "ax = fig.add_subplot(111, projection='3d')\n",
    "plt.rcParams['legend.fontsize'] = 10   \n",
    "ax.plot(df.sepal_width[df.species==0], df.petal_length[df.species==0], df.petal_width[df.species==0], 'o', markersize=8, color='red', alpha=0.5, label='Class 0')\n",
    "ax.plot(df.sepal_width[df.species==1], df.petal_length[df.species==1], df.petal_width[df.species==1],  'o', markersize=8, color='orange', alpha=0.5, label='Class 1')\n",
    "ax.plot(df.sepal_width[df.species==2], df.petal_length[df.species==2], df.petal_width[df.species==2], 'o', markersize=8, color='grey', alpha=0.5, label='Class 2')\n",
    "\n",
    "plt.title('Sepal Width, Petal Length, Petal Width for classes 0,1,2')\n",
    "ax.set_xlabel('Sepal Width')\n",
    "ax.set_ylabel('Petal Length')\n",
    "ax.set_zlabel('Petal Width')\n",
    "ax.legend(loc='lower right')\n",
    "\n",
    "plt.show()\n",
    "\n",
    "# From graph, petal width may be another good feature used to separate classes\n",
    "# However, sepal width may be not a good feature."
   ]
  },
  {
   "cell_type": "code",
   "execution_count": 8,
   "metadata": {
    "collapsed": true
   },
   "outputs": [
    {
     "name": "stderr",
     "output_type": "stream",
     "text": [
      "/var/folders/37/ffyx67ps24v157rdzs_y3pkc0000gn/T/ipykernel_12347/2586836227.py:3: FutureWarning: In a future version of pandas all arguments of DataFrame.drop except for the argument 'labels' will be keyword-only\n",
      "  X = df.drop('species',1)\n"
     ]
    }
   ],
   "source": [
    "# Create input matrix and output class vector\n",
    "\n",
    "X = df.drop('species',1)\n",
    "y = df.species"
   ]
  },
  {
   "cell_type": "code",
   "execution_count": 9,
   "metadata": {
    "collapsed": true
   },
   "outputs": [],
   "source": [
    "# Split data into training and test sets using ratio = 70:30\n",
    "\n",
    "from sklearn.model_selection import train_test_split\n",
    "X_train, X_test, y_train, y_test = train_test_split(X, y, test_size=0.3, random_state=0)"
   ]
  },
  {
   "cell_type": "markdown",
   "metadata": {},
   "source": [
    "## Principal Component Analysis : Manual Steps"
   ]
  },
  {
   "cell_type": "code",
   "execution_count": 10,
   "metadata": {
    "collapsed": true
   },
   "outputs": [],
   "source": [
    "# Before computing covariance matrix, the input matrix will be normalized. ( (input - mean)/SD )\n",
    "# In fact, PCA requires the input matrix to be centered (input - mean) only, not scaled by SD.\n",
    "# However, to compare with Scikit-learn result(which normaizes input data) below, \n",
    "# the input here is also normalized.\n",
    "\n",
    "# First, compute mean and SD \n",
    "\n",
    "mean_X_train = X_train.mean()\n",
    "std_X_train = X_train.std()"
   ]
  },
  {
   "cell_type": "code",
   "execution_count": 11,
   "metadata": {},
   "outputs": [
    {
     "data": {
      "text/html": [
       "<div>\n",
       "<style scoped>\n",
       "    .dataframe tbody tr th:only-of-type {\n",
       "        vertical-align: middle;\n",
       "    }\n",
       "\n",
       "    .dataframe tbody tr th {\n",
       "        vertical-align: top;\n",
       "    }\n",
       "\n",
       "    .dataframe thead th {\n",
       "        text-align: right;\n",
       "    }\n",
       "</style>\n",
       "<table border=\"1\" class=\"dataframe\">\n",
       "  <thead>\n",
       "    <tr style=\"text-align: right;\">\n",
       "      <th></th>\n",
       "      <th>sepal_length</th>\n",
       "      <th>sepal_width</th>\n",
       "      <th>petal_length</th>\n",
       "      <th>petal_width</th>\n",
       "    </tr>\n",
       "  </thead>\n",
       "  <tbody>\n",
       "    <tr>\n",
       "      <th>60</th>\n",
       "      <td>-1.018777</td>\n",
       "      <td>-2.367110</td>\n",
       "      <td>-0.182077</td>\n",
       "      <td>-0.290068</td>\n",
       "    </tr>\n",
       "    <tr>\n",
       "      <th>116</th>\n",
       "      <td>0.691856</td>\n",
       "      <td>-0.101417</td>\n",
       "      <td>0.926218</td>\n",
       "      <td>0.733700</td>\n",
       "    </tr>\n",
       "    <tr>\n",
       "      <th>144</th>\n",
       "      <td>0.919941</td>\n",
       "      <td>0.578291</td>\n",
       "      <td>1.037048</td>\n",
       "      <td>1.629497</td>\n",
       "    </tr>\n",
       "    <tr>\n",
       "      <th>119</th>\n",
       "      <td>0.121645</td>\n",
       "      <td>-1.913971</td>\n",
       "      <td>0.649144</td>\n",
       "      <td>0.349787</td>\n",
       "    </tr>\n",
       "    <tr>\n",
       "      <th>108</th>\n",
       "      <td>0.919941</td>\n",
       "      <td>-1.234263</td>\n",
       "      <td>1.092463</td>\n",
       "      <td>0.733700</td>\n",
       "    </tr>\n",
       "    <tr>\n",
       "      <th>...</th>\n",
       "      <td>...</td>\n",
       "      <td>...</td>\n",
       "      <td>...</td>\n",
       "      <td>...</td>\n",
       "    </tr>\n",
       "    <tr>\n",
       "      <th>9</th>\n",
       "      <td>-1.132820</td>\n",
       "      <td>0.125153</td>\n",
       "      <td>-1.290373</td>\n",
       "      <td>-1.441807</td>\n",
       "    </tr>\n",
       "    <tr>\n",
       "      <th>103</th>\n",
       "      <td>0.463772</td>\n",
       "      <td>-0.327986</td>\n",
       "      <td>0.981633</td>\n",
       "      <td>0.733700</td>\n",
       "    </tr>\n",
       "    <tr>\n",
       "      <th>67</th>\n",
       "      <td>-0.106439</td>\n",
       "      <td>-0.781125</td>\n",
       "      <td>0.150412</td>\n",
       "      <td>-0.290068</td>\n",
       "    </tr>\n",
       "    <tr>\n",
       "      <th>117</th>\n",
       "      <td>2.060363</td>\n",
       "      <td>1.711138</td>\n",
       "      <td>1.591196</td>\n",
       "      <td>1.245584</td>\n",
       "    </tr>\n",
       "    <tr>\n",
       "      <th>47</th>\n",
       "      <td>-1.474946</td>\n",
       "      <td>0.351722</td>\n",
       "      <td>-1.345787</td>\n",
       "      <td>-1.313836</td>\n",
       "    </tr>\n",
       "  </tbody>\n",
       "</table>\n",
       "<p>105 rows × 4 columns</p>\n",
       "</div>"
      ],
      "text/plain": [
       "     sepal_length  sepal_width  petal_length  petal_width\n",
       "60      -1.018777    -2.367110     -0.182077    -0.290068\n",
       "116      0.691856    -0.101417      0.926218     0.733700\n",
       "144      0.919941     0.578291      1.037048     1.629497\n",
       "119      0.121645    -1.913971      0.649144     0.349787\n",
       "108      0.919941    -1.234263      1.092463     0.733700\n",
       "..            ...          ...           ...          ...\n",
       "9       -1.132820     0.125153     -1.290373    -1.441807\n",
       "103      0.463772    -0.327986      0.981633     0.733700\n",
       "67      -0.106439    -0.781125      0.150412    -0.290068\n",
       "117      2.060363     1.711138      1.591196     1.245584\n",
       "47      -1.474946     0.351722     -1.345787    -1.313836\n",
       "\n",
       "[105 rows x 4 columns]"
      ]
     },
     "execution_count": 11,
     "metadata": {},
     "output_type": "execute_result"
    }
   ],
   "source": [
    "# Normalize the input matrix for training data\n",
    "\n",
    "scaled_X_train = (X_train-mean_X_train)/std_X_train\n",
    "scaled_X_train"
   ]
  },
  {
   "cell_type": "code",
   "execution_count": 12,
   "metadata": {},
   "outputs": [
    {
     "data": {
      "text/plain": [
       "(4, 4)"
      ]
     },
     "execution_count": 12,
     "metadata": {},
     "output_type": "execute_result"
    }
   ],
   "source": [
    "# Compute covariance matrix of normalized input\n",
    "\n",
    "cov_scaled_X_train = np.cov(scaled_X_train.T)\n",
    "cov_scaled_X_train.shape\n",
    "\n",
    "# Notice that original dimension of variables = p = 4\n",
    "# Hence, covariance matrix has size = pxp = 4x4"
   ]
  },
  {
   "cell_type": "code",
   "execution_count": 13,
   "metadata": {},
   "outputs": [
    {
     "data": {
      "text/plain": [
       "array([[ 1.        , -0.03624011,  0.88432223,  0.83254672],\n",
       "       [-0.03624011,  1.        , -0.33892372, -0.28674618],\n",
       "       [ 0.88432223, -0.33892372,  1.        ,  0.96853307],\n",
       "       [ 0.83254672, -0.28674618,  0.96853307,  1.        ]])"
      ]
     },
     "execution_count": 13,
     "metadata": {},
     "output_type": "execute_result"
    }
   ],
   "source": [
    "cov_scaled_X_train"
   ]
  },
  {
   "cell_type": "code",
   "execution_count": 14,
   "metadata": {},
   "outputs": [
    {
     "data": {
      "text/plain": [
       "(4,)"
      ]
     },
     "execution_count": 14,
     "metadata": {},
     "output_type": "execute_result"
    }
   ],
   "source": [
    "# Compute eigenvalues and eigenvectors of covariance matrix\n",
    "\n",
    "from numpy.linalg import eig\n",
    "\n",
    "eig_values, eig_vectors = eig(cov_scaled_X_train)\n",
    "eig_values.shape\n",
    "\n",
    "# Results have 4 eigenvalues"
   ]
  },
  {
   "cell_type": "code",
   "execution_count": 15,
   "metadata": {},
   "outputs": [
    {
     "data": {
      "text/plain": [
       "(4, 4)"
      ]
     },
     "execution_count": 15,
     "metadata": {},
     "output_type": "execute_result"
    }
   ],
   "source": [
    "# Results have 4 correponding eigenvectors\n",
    "\n",
    "eig_vectors.shape"
   ]
  },
  {
   "cell_type": "code",
   "execution_count": 16,
   "metadata": {},
   "outputs": [
    {
     "data": {
      "text/plain": [
       "[(2.8721479555636433,\n",
       "  array([ 0.5355004 , -0.20419539,  0.58617426,  0.57266334])),\n",
       " (0.9777087255548389,\n",
       "  array([-3.25611548e-01, -9.44913832e-01,  9.09058855e-04, -3.33787741e-02])),\n",
       " (0.1334863111029178,\n",
       "  array([-0.73204127,  0.23026338,  0.13706186,  0.62634528])),\n",
       " (0.016657007778597646,\n",
       "  array([ 0.26708056, -0.11144895, -0.7985067 ,  0.52785808]))]"
      ]
     },
     "execution_count": 16,
     "metadata": {},
     "output_type": "execute_result"
    }
   ],
   "source": [
    "# Matching each pair of eigenvalue and eigenvector and store them in eig_pairs\n",
    "# Sort eig_pairs using eigenvalues from max to min\n",
    "\n",
    "eig_pairs = [(np.abs(eig_values[i]), eig_vectors[:,i]) for i in range(len(eig_values))]\n",
    "eig_pairs.sort(key=lambda x: x[0], reverse=True)\n",
    "eig_pairs"
   ]
  },
  {
   "cell_type": "code",
   "execution_count": 17,
   "metadata": {},
   "outputs": [
    {
     "data": {
      "text/plain": [
       "array([[2.87214796, 0.        , 0.        , 0.        ],\n",
       "       [0.        , 0.97770873, 0.        , 0.        ],\n",
       "       [0.        , 0.        , 0.13348631, 0.        ],\n",
       "       [0.        , 0.        , 0.        , 0.01665701]])"
      ]
     },
     "execution_count": 17,
     "metadata": {},
     "output_type": "execute_result"
    }
   ],
   "source": [
    "# Construct big_lamda matrix where diagonal entries are eigenvalues, and other entries are zeros.\n",
    "\n",
    "p=len(X_train.columns)\n",
    "big_lamda = np.identity(p)*np.array([eig_pairs[i][0] for i in range(len(eig_pairs))])\n",
    "big_lamda\n",
    "\n",
    "# Each eigenvalue specifies variance explained by PCA on different component"
   ]
  },
  {
   "cell_type": "code",
   "execution_count": 18,
   "metadata": {},
   "outputs": [
    {
     "data": {
      "text/plain": [
       "array([[ 5.35500399e-01, -3.25611548e-01, -7.32041268e-01,\n",
       "         2.67080558e-01],\n",
       "       [-2.04195389e-01, -9.44913832e-01,  2.30263378e-01,\n",
       "        -1.11448955e-01],\n",
       "       [ 5.86174262e-01,  9.09058855e-04,  1.37061857e-01,\n",
       "        -7.98506703e-01],\n",
       "       [ 5.72663340e-01, -3.33787741e-02,  6.26345277e-01,\n",
       "         5.27858078e-01]])"
      ]
     },
     "execution_count": 18,
     "metadata": {},
     "output_type": "execute_result"
    }
   ],
   "source": [
    "# Construct phi matrix where each column is eigenvector corresponding to eigenvalues in big_lamda matrix\n",
    "\n",
    "phi = np.array([list(eig_pairs[i][1]) for i in range(len(eig_pairs))]).T\n",
    "phi\n",
    "\n",
    "# Each column specifies different eigenvector of difference principal component"
   ]
  },
  {
   "cell_type": "code",
   "execution_count": 19,
   "metadata": {},
   "outputs": [
    {
     "data": {
      "text/plain": [
       "array([0.71803699, 0.24442718, 0.03337158, 0.00416425])"
      ]
     },
     "execution_count": 19,
     "metadata": {},
     "output_type": "execute_result"
    }
   ],
   "source": [
    "# Compute percent of transformation along each component\n",
    "\n",
    "percent_transform = [sum(big_lamda[i]) for i in range(len(big_lamda))]\n",
    "percent_transform = percent_transform / sum(percent_transform)\n",
    "percent_transform\n",
    "\n",
    "# The result shows that along the first two components, percent of transformation = 96.24%\n",
    "# Hence, instead of 4 variables, we can use only two components to represent the input matrix."
   ]
  },
  {
   "cell_type": "code",
   "execution_count": 20,
   "metadata": {},
   "outputs": [
    {
     "data": {
      "text/plain": [
       "array([[ 5.35500399e-01, -3.25611548e-01],\n",
       "       [-2.04195389e-01, -9.44913832e-01],\n",
       "       [ 5.86174262e-01,  9.09058855e-04],\n",
       "       [ 5.72663340e-01, -3.33787741e-02]])"
      ]
     },
     "execution_count": 20,
     "metadata": {},
     "output_type": "execute_result"
    }
   ],
   "source": [
    "# Set q = number of selected principal components = 2\n",
    "# Construct phi_q matrix that contains only the first q eigenvectors\n",
    "\n",
    "num_components = 2\n",
    "phi_q = np.array([list(eig_pairs[i][1]) for i in range(num_components)]).T\n",
    "phi_q"
   ]
  },
  {
   "cell_type": "code",
   "execution_count": 21,
   "metadata": {},
   "outputs": [
    {
     "data": {
      "text/plain": [
       "(2, 105)"
      ]
     },
     "execution_count": 21,
     "metadata": {},
     "output_type": "execute_result"
    }
   ],
   "source": [
    "# The original input matrix can be transformed to the new space using phi_q matrix\n",
    "# Note that this new space = the reduced space based on number of selected principal components (=2 here)\n",
    "\n",
    "X_train_transformed = phi_q.T.dot(X_train.T)\n",
    "X_train_transformed.shape"
   ]
  },
  {
   "cell_type": "code",
   "execution_count": 22,
   "metadata": {},
   "outputs": [
    {
     "data": {
      "text/plain": [
       "Text(0, 0.5, 'Second Principal Component')"
      ]
     },
     "execution_count": 22,
     "metadata": {},
     "output_type": "execute_result"
    },
    {
     "data": {
      "image/png": "[encoded data removed]",
      "text/plain": [
       "<Figure size 576x432 with 1 Axes>"
      ]
     },
     "metadata": {
      "needs_background": "light"
     },
     "output_type": "display_data"
    }
   ],
   "source": [
    "# Plot the new space with the transformed input data\n",
    "# Originally, there are 4 variables\n",
    "# Now, we can represent the input data into the new space with 2 dimensions.\n",
    "# Hence, the dimension of input data is reduced from 4 to 2 here.\n",
    "\n",
    "plt.figure(figsize=(8,6))\n",
    "plt.scatter(X_train_transformed[0],X_train_transformed[1],c=y_train,cmap='Set1')\n",
    "plt.xlabel('First principal component')\n",
    "plt.ylabel('Second Principal Component')"
   ]
  },
  {
   "cell_type": "code",
   "execution_count": 23,
   "metadata": {},
   "outputs": [
    {
     "data": {
      "text/html": [
       "<div>\n",
       "<style scoped>\n",
       "    .dataframe tbody tr th:only-of-type {\n",
       "        vertical-align: middle;\n",
       "    }\n",
       "\n",
       "    .dataframe tbody tr th {\n",
       "        vertical-align: top;\n",
       "    }\n",
       "\n",
       "    .dataframe thead th {\n",
       "        text-align: right;\n",
       "    }\n",
       "</style>\n",
       "<table border=\"1\" class=\"dataframe\">\n",
       "  <thead>\n",
       "    <tr style=\"text-align: right;\">\n",
       "      <th></th>\n",
       "      <th>sepal_length</th>\n",
       "      <th>sepal_width</th>\n",
       "      <th>petal_length</th>\n",
       "      <th>petal_width</th>\n",
       "    </tr>\n",
       "  </thead>\n",
       "  <tbody>\n",
       "    <tr>\n",
       "      <th>60</th>\n",
       "      <td>-1.224294</td>\n",
       "      <td>0.353426</td>\n",
       "      <td>-0.634849</td>\n",
       "      <td>1.920693</td>\n",
       "    </tr>\n",
       "    <tr>\n",
       "      <th>116</th>\n",
       "      <td>-1.055565</td>\n",
       "      <td>0.276054</td>\n",
       "      <td>-1.329279</td>\n",
       "      <td>2.446139</td>\n",
       "    </tr>\n",
       "    <tr>\n",
       "      <th>144</th>\n",
       "      <td>-0.832519</td>\n",
       "      <td>0.212199</td>\n",
       "      <td>-1.199050</td>\n",
       "      <td>2.081496</td>\n",
       "    </tr>\n",
       "    <tr>\n",
       "      <th>119</th>\n",
       "      <td>-1.162679</td>\n",
       "      <td>0.315138</td>\n",
       "      <td>-1.162133</td>\n",
       "      <td>2.389147</td>\n",
       "    </tr>\n",
       "    <tr>\n",
       "      <th>108</th>\n",
       "      <td>-1.182093</td>\n",
       "      <td>0.312274</td>\n",
       "      <td>-1.403202</td>\n",
       "      <td>2.653037</td>\n",
       "    </tr>\n",
       "    <tr>\n",
       "      <th>...</th>\n",
       "      <td>...</td>\n",
       "      <td>...</td>\n",
       "      <td>...</td>\n",
       "      <td>...</td>\n",
       "    </tr>\n",
       "    <tr>\n",
       "      <th>9</th>\n",
       "      <td>-1.858389</td>\n",
       "      <td>0.579568</td>\n",
       "      <td>0.211895</td>\n",
       "      <td>1.727553</td>\n",
       "    </tr>\n",
       "    <tr>\n",
       "      <th>103</th>\n",
       "      <td>-0.922595</td>\n",
       "      <td>0.230877</td>\n",
       "      <td>-1.445584</td>\n",
       "      <td>2.424737</td>\n",
       "    </tr>\n",
       "    <tr>\n",
       "      <th>67</th>\n",
       "      <td>-1.383077</td>\n",
       "      <td>0.393947</td>\n",
       "      <td>-0.862195</td>\n",
       "      <td>2.316330</td>\n",
       "    </tr>\n",
       "    <tr>\n",
       "      <th>117</th>\n",
       "      <td>-1.122230</td>\n",
       "      <td>0.282872</td>\n",
       "      <td>-1.702820</td>\n",
       "      <td>2.893262</td>\n",
       "    </tr>\n",
       "    <tr>\n",
       "      <th>47</th>\n",
       "      <td>-1.655999</td>\n",
       "      <td>0.517041</td>\n",
       "      <td>0.204964</td>\n",
       "      <td>1.523095</td>\n",
       "    </tr>\n",
       "  </tbody>\n",
       "</table>\n",
       "<p>105 rows × 4 columns</p>\n",
       "</div>"
      ],
      "text/plain": [
       "     sepal_length  sepal_width  petal_length  petal_width\n",
       "60      -1.224294     0.353426     -0.634849     1.920693\n",
       "116     -1.055565     0.276054     -1.329279     2.446139\n",
       "144     -0.832519     0.212199     -1.199050     2.081496\n",
       "119     -1.162679     0.315138     -1.162133     2.389147\n",
       "108     -1.182093     0.312274     -1.403202     2.653037\n",
       "..            ...          ...           ...          ...\n",
       "9       -1.858389     0.579568      0.211895     1.727553\n",
       "103     -0.922595     0.230877     -1.445584     2.424737\n",
       "67      -1.383077     0.393947     -0.862195     2.316330\n",
       "117     -1.122230     0.282872     -1.702820     2.893262\n",
       "47      -1.655999     0.517041      0.204964     1.523095\n",
       "\n",
       "[105 rows x 4 columns]"
      ]
     },
     "execution_count": 23,
     "metadata": {},
     "output_type": "execute_result"
    }
   ],
   "source": [
    "# The transformed data can also be converted back to the original data\n",
    "# Since we use new space with lower dimension, \n",
    "# the derived X_train will not be the same as the original X_train\n",
    "\n",
    "derived_X_train = (phi_q.dot(X_train_transformed)).T\n",
    "derived_X_train - X_train\n",
    "\n",
    "# The result shows the difference between the derived X_train (from the transformed data in new space) and the original X_train\n",
    "# If num_components = 4 is used, the difference is almost zero."
   ]
  },
  {
   "cell_type": "markdown",
   "metadata": {},
   "source": [
    "## Principal Component Analysis : Scikit-Learn"
   ]
  },
  {
   "cell_type": "code",
   "execution_count": 24,
   "metadata": {
    "collapsed": true
   },
   "outputs": [],
   "source": [
    "# First, obtain mean and variance of input matrix of traning data\n",
    "# (Later on, mean and SD will be used to normalize input matrix.)\n",
    "\n",
    "from sklearn.preprocessing import StandardScaler\n",
    "scaler = StandardScaler().fit(X_train)"
   ]
  },
  {
   "cell_type": "code",
   "execution_count": 25,
   "metadata": {},
   "outputs": [
    {
     "data": {
      "text/plain": [
       "array([5.89333333, 3.0447619 , 3.82857143, 1.22666667])"
      ]
     },
     "execution_count": 25,
     "metadata": {},
     "output_type": "execute_result"
    }
   ],
   "source": [
    "# Show mean of input matrix of training data, computed by Scikit-Learn\n",
    "\n",
    "scaler.mean_"
   ]
  },
  {
   "cell_type": "code",
   "execution_count": 26,
   "metadata": {},
   "outputs": [
    {
     "data": {
      "text/plain": [
       "sepal_length    5.893333\n",
       "sepal_width     3.044762\n",
       "petal_length    3.828571\n",
       "petal_width     1.226667\n",
       "dtype: float64"
      ]
     },
     "execution_count": 26,
     "metadata": {},
     "output_type": "execute_result"
    }
   ],
   "source": [
    "# Show mean of input matrix of training data, computed manually earlier\n",
    "\n",
    "mean_X_train"
   ]
  },
  {
   "cell_type": "code",
   "execution_count": 27,
   "metadata": {},
   "outputs": [
    {
     "data": {
      "text/plain": [
       "array([0.87268242, 0.43925932, 1.79595918, 0.77769705])"
      ]
     },
     "execution_count": 27,
     "metadata": {},
     "output_type": "execute_result"
    }
   ],
   "source": [
    "# Show SD of input matrix of training data, computed by Scikit-Learn \n",
    "\n",
    "np.sqrt(scaler.var_)"
   ]
  },
  {
   "cell_type": "code",
   "execution_count": 28,
   "metadata": {},
   "outputs": [
    {
     "data": {
      "text/plain": [
       "sepal_length    0.876868\n",
       "sepal_width     0.441366\n",
       "petal_length    1.804573\n",
       "petal_width     0.781427\n",
       "dtype: float64"
      ]
     },
     "execution_count": 28,
     "metadata": {},
     "output_type": "execute_result"
    }
   ],
   "source": [
    "# Show SD of input matrix of training data, computed manually earlier\n",
    "\n",
    "std_X_train\n",
    "\n",
    "# SD's computed by Scikit-Learn and by manually have little difference\n",
    "# This will contribute to the difference in eigenvalues later"
   ]
  },
  {
   "cell_type": "code",
   "execution_count": 29,
   "metadata": {
    "collapsed": true
   },
   "outputs": [],
   "source": [
    "# Normalize input matrix for training data set using mean and SD (by using function transform)\n",
    "# Then, use the same mean and SD from train to normalize input matrix for test data set\n",
    "\n",
    "sk_scaled_X_train = scaler.transform(X_train)\n",
    "sk_scaled_X_test = scaler.transform(X_test)\n",
    "\n",
    "# Note that: \n",
    "# scaler = StandardScaler().fit(X_train)\n",
    "# sk_scaled_X_train = scaler.transform(X_train)\n",
    "# are equivalent to:\n",
    "# scaler = StandardScaler()\n",
    "# sk_scaled_X_train = scaler.fit_transform(X_train)"
   ]
  },
  {
   "cell_type": "code",
   "execution_count": 30,
   "metadata": {},
   "outputs": [
    {
     "data": {
      "text/plain": [
       "PCA(n_components=2)"
      ]
     },
     "execution_count": 30,
     "metadata": {},
     "output_type": "execute_result"
    }
   ],
   "source": [
    "# Select number of principal components and perform PCA\n",
    "# From manual steps, we know that number of selected principal components should be 2.\n",
    "# On the other hand, you can perform PCA multiple times with different numbers of principal components\n",
    "# and check explained_variance_ratio_ afterward to find appropriate number of selected principal components\n",
    "\n",
    "from sklearn.decomposition import PCA\n",
    "\n",
    "num_components=2\n",
    "pca = PCA(n_components=num_components)\n",
    "pca.fit(sk_scaled_X_train)"
   ]
  },
  {
   "cell_type": "code",
   "execution_count": 31,
   "metadata": {},
   "outputs": [
    {
     "data": {
      "text/plain": [
       "array([2.89976476, 0.98710977])"
      ]
     },
     "execution_count": 31,
     "metadata": {},
     "output_type": "execute_result"
    }
   ],
   "source": [
    "# Show variances (or eigenvalues) of selected components\n",
    "\n",
    "pca.explained_variance_"
   ]
  },
  {
   "cell_type": "code",
   "execution_count": 32,
   "metadata": {},
   "outputs": [
    {
     "data": {
      "text/plain": [
       "array([[ 5.35500399e-01, -2.04195389e-01,  5.86174262e-01,\n",
       "         5.72663340e-01],\n",
       "       [ 3.25611548e-01,  9.44913832e-01, -9.09058855e-04,\n",
       "         3.33787741e-02]])"
      ]
     },
     "execution_count": 32,
     "metadata": {},
     "output_type": "execute_result"
    }
   ],
   "source": [
    "# Show principal components (or eigenvectors) of selected components\n",
    "\n",
    "pca.components_"
   ]
  },
  {
   "cell_type": "code",
   "execution_count": 33,
   "metadata": {},
   "outputs": [
    {
     "data": {
      "text/plain": [
       "[(2.8721479555636433,\n",
       "  array([ 0.5355004 , -0.20419539,  0.58617426,  0.57266334])),\n",
       " (0.9777087255548389,\n",
       "  array([-3.25611548e-01, -9.44913832e-01,  9.09058855e-04, -3.33787741e-02])),\n",
       " (0.1334863111029178,\n",
       "  array([-0.73204127,  0.23026338,  0.13706186,  0.62634528])),\n",
       " (0.016657007778597646,\n",
       "  array([ 0.26708056, -0.11144895, -0.7985067 ,  0.52785808]))]"
      ]
     },
     "execution_count": 33,
     "metadata": {},
     "output_type": "execute_result"
    }
   ],
   "source": [
    "# Compare results from explained_variance_ and components_ from Scikit-learn\n",
    "# to eig_paris from manual steps\n",
    "\n",
    "eig_pairs"
   ]
  },
  {
   "cell_type": "code",
   "execution_count": 34,
   "metadata": {},
   "outputs": [
    {
     "data": {
      "text/plain": [
       "array([0.71803699, 0.24442718])"
      ]
     },
     "execution_count": 34,
     "metadata": {},
     "output_type": "execute_result"
    }
   ],
   "source": [
    "# Show explained_variance_ratio_  (or percent of transformation along each component)\n",
    "\n",
    "pca.explained_variance_ratio_"
   ]
  },
  {
   "cell_type": "code",
   "execution_count": 35,
   "metadata": {},
   "outputs": [
    {
     "data": {
      "text/plain": [
       "<AxesSubplot:xlabel='PC', ylabel='Variance'>"
      ]
     },
     "execution_count": 35,
     "metadata": {},
     "output_type": "execute_result"
    },
    {
     "data": {
      "image/png": "[encoded data removed]",
      "text/plain": [
       "<Figure size 432x288 with 1 Axes>"
      ]
     },
     "metadata": {
      "needs_background": "light"
     },
     "output_type": "display_data"
    }
   ],
   "source": [
    "# Plot to see explained_variance_ratio_ using bar graph\n",
    "\n",
    "temp_df = pd.DataFrame({'Variance':pca.explained_variance_ratio_,\n",
    "                        'PC':['PC1','PC2']})\n",
    "sns.barplot(x='PC',y=\"Variance\", data=temp_df, color=\"blue\")"
   ]
  },
  {
   "cell_type": "code",
   "execution_count": 36,
   "metadata": {
    "collapsed": true
   },
   "outputs": [],
   "source": [
    "# Transform input data of original matrix to the new space\n",
    "\n",
    "sk_X_train_transformed  = pca.transform(sk_scaled_X_train)"
   ]
  },
  {
   "cell_type": "code",
   "execution_count": 37,
   "metadata": {},
   "outputs": [
    {
     "data": {
      "text/plain": [
       "Text(0, 0.5, 'Second Principal Component')"
      ]
     },
     "execution_count": 37,
     "metadata": {},
     "output_type": "execute_result"
    },
    {
     "data": {
      "image/png": "[encoded data removed]",
      "text/plain": [
       "<Figure size 576x432 with 1 Axes>"
      ]
     },
     "metadata": {
      "needs_background": "light"
     },
     "output_type": "display_data"
    }
   ],
   "source": [
    "# Plot the new space with the transformed input data\n",
    "\n",
    "plt.figure(figsize=(8,6))\n",
    "plt.scatter(sk_X_train_transformed[:,0],sk_X_train_transformed[:,1],c=y_train,cmap='Set1')\n",
    "plt.xlabel('First principal component')\n",
    "plt.ylabel('Second Principal Component')"
   ]
  },
  {
   "cell_type": "code",
   "execution_count": 38,
   "metadata": {},
   "outputs": [
    {
     "data": {
      "text/plain": [
       "array([[-5.08950270e-05, -4.25352462e-04, -1.20303136e-02,\n",
       "         1.22100701e-02],\n",
       "       [ 8.36132190e-02, -3.06075059e-02, -1.33144959e-01,\n",
       "         4.71853577e-02],\n",
       "       [ 4.00633581e-01, -1.20138350e-01,  8.54108606e-02,\n",
       "        -5.04898372e-01],\n",
       "       [-1.39484958e-01,  4.14512645e-02, -3.99994287e-02,\n",
       "         1.86156570e-01],\n",
       "       [-2.28916259e-01,  6.91990561e-02, -3.36973211e-02,\n",
       "         2.73227510e-01],\n",
       "       [-8.11054158e-02,  2.36104840e-02, -3.66770812e-02,\n",
       "         1.21803319e-01],\n",
       "       [-4.42435998e-01,  1.46930362e-01,  2.94583544e-01,\n",
       "         1.64581627e-01],\n",
       "       [ 1.36875234e-01, -4.50941661e-02, -8.12790844e-02,\n",
       "        -6.08753057e-02],\n",
       "       [-7.41369903e-02,  2.24949593e-02, -8.61904797e-03,\n",
       "         8.61693346e-02],\n",
       "       [-1.74463210e-02,  8.90957166e-03,  9.66103461e-02,\n",
       "        -7.93986447e-02],\n",
       "       [-5.98613901e-02,  1.35279149e-02, -1.33410088e-01,\n",
       "         1.97358008e-01],\n",
       "       [ 7.55703629e-01, -2.41631254e-01, -2.48558701e-01,\n",
       "        -5.38398127e-01],\n",
       "       [-4.94565158e-02,  2.10131585e-02,  1.58110439e-01,\n",
       "        -1.08101028e-01],\n",
       "       [-4.76997607e-01,  1.50849023e-01,  1.11393240e-01,\n",
       "         3.85809984e-01],\n",
       "       [ 1.12887900e-01, -3.24311540e-02,  6.28200054e-02,\n",
       "        -1.81428198e-01],\n",
       "       [ 3.55844293e-01, -1.14746329e-01, -1.43432129e-01,\n",
       "        -2.26850927e-01],\n",
       "       [-2.26373022e-02,  5.62190014e-03, -3.66432336e-02,\n",
       "         6.06806276e-02],\n",
       "       [ 4.06208403e-01, -1.29127206e-01, -1.13003678e-01,\n",
       "        -3.10220826e-01],\n",
       "       [ 1.43239143e-01, -4.82844954e-02, -1.14893286e-01,\n",
       "        -3.35565436e-02],\n",
       "       [ 1.28771596e-01, -3.78062921e-02,  4.95093927e-02,\n",
       "        -1.84573092e-01],\n",
       "       [ 8.75955337e-02, -2.77892769e-02, -2.28419761e-02,\n",
       "        -6.84390011e-02],\n",
       "       [ 4.14639170e-02, -1.71783628e-02, -1.20586052e-01,\n",
       "         7.85326216e-02],\n",
       "       [-2.25841577e-01,  6.51174991e-02, -1.19230771e-01,\n",
       "         3.56448444e-01],\n",
       "       [-1.17097559e-01,  3.65760087e-02,  1.49139015e-02,\n",
       "         1.07274715e-01],\n",
       "       [ 1.51977637e-01, -4.85683352e-02, -4.92910592e-02,\n",
       "        -1.08979152e-01],\n",
       "       [ 2.36485456e-02, -6.19452124e-03,  2.95104747e-02,\n",
       "        -5.45293837e-02],\n",
       "       [ 1.68280912e-01, -5.92725576e-02, -2.04451412e-01,\n",
       "         3.07798241e-02],\n",
       "       [-2.87206863e-01,  9.05722001e-02,  6.00857048e-02,\n",
       "         2.39360742e-01],\n",
       "       [ 2.29371678e-03,  1.23207445e-03,  5.28615190e-02,\n",
       "        -5.58142316e-02],\n",
       "       [-3.76815307e-01,  1.18615599e-01,  7.29648121e-02,\n",
       "         3.19970562e-01],\n",
       "       [ 9.90621661e-02, -3.31181744e-02, -7.19650664e-02,\n",
       "        -3.07795821e-02],\n",
       "       [ 4.31250172e-01, -1.40115268e-01, -2.02561803e-01,\n",
       "        -2.45884458e-01],\n",
       "       [ 1.09643817e-01, -2.96087044e-02,  1.12584588e-01,\n",
       "        -2.28326920e-01],\n",
       "       [ 2.57881981e-01, -8.20810750e-02, -7.45907791e-02,\n",
       "        -1.94063908e-01],\n",
       "       [-3.65953138e-01,  1.20466106e-01,  2.14614328e-01,\n",
       "         1.65481659e-01],\n",
       "       [ 2.58028837e-01, -7.80517013e-02,  3.65585936e-02,\n",
       "        -3.06536209e-01],\n",
       "       [ 1.63959848e-01, -5.53547915e-02, -1.33847288e-01,\n",
       "        -3.60524598e-02],\n",
       "       [-1.43540308e-01,  4.49256204e-02,  2.07391958e-02,\n",
       "         1.29015966e-01],\n",
       "       [-1.41535178e-01,  4.59587087e-02,  6.57503890e-02,\n",
       "         8.14361802e-02],\n",
       "       [ 1.34663041e-01, -3.78265003e-02,  9.84069675e-02,\n",
       "        -2.40140640e-01],\n",
       "       [ 2.99315650e-01, -9.46669531e-02, -7.01529161e-02,\n",
       "        -2.41839073e-01],\n",
       "       [ 2.02842522e-01, -6.31912187e-02, -2.12611074e-02,\n",
       "        -1.90448533e-01],\n",
       "       [ 8.46753963e-02, -3.04872702e-02, -1.20949862e-01,\n",
       "         3.37521652e-02],\n",
       "       [ 1.12814446e-01, -3.90729458e-02, -1.18977102e-01,\n",
       "         2.35848617e-03],\n",
       "       [ 1.85727614e-01, -5.55152568e-02,  4.44794141e-02,\n",
       "        -2.38998813e-01],\n",
       "       [ 2.37315507e-01, -7.62162862e-02, -8.72271445e-02,\n",
       "        -1.59806381e-01],\n",
       "       [-1.86655421e-01,  6.57862202e-02,  2.27913481e-01,\n",
       "        -3.52907544e-02],\n",
       "       [ 6.59643071e-01, -2.06569556e-01, -9.83830196e-02,\n",
       "        -5.89788208e-01],\n",
       "       [-1.72291249e-01,  5.66713724e-02,  9.98339405e-02,\n",
       "         7.91284792e-02],\n",
       "       [ 4.08855764e-01, -1.26324965e-01, -1.43415205e-02,\n",
       "        -4.12687094e-01],\n",
       "       [-4.45309352e-02,  1.91701971e-02,  1.49178550e-01,\n",
       "        -1.04221491e-01],\n",
       "       [ 2.48450765e-01, -8.00440696e-02, -9.81828678e-02,\n",
       "        -1.60369692e-01],\n",
       "       [ 2.90317870e-02, -9.99205166e-03, -2.88985521e-02,\n",
       "        -1.13029229e-03],\n",
       "       [-4.32724683e-01,  1.30300017e-01, -7.75632199e-02,\n",
       "         5.30497494e-01],\n",
       "       [-4.48697373e-02,  1.66519823e-02,  7.76408153e-02,\n",
       "        -3.15770648e-02],\n",
       "       [ 1.58149600e-01, -5.02475057e-02, -4.32936225e-02,\n",
       "        -1.21488265e-01],\n",
       "       [ 2.02050878e-02, -5.88024162e-03,  9.18159410e-03,\n",
       "        -3.03888231e-02],\n",
       "       [-2.70563176e-03,  2.00728712e-03,  3.20472692e-02,\n",
       "        -2.95575735e-02],\n",
       "       [ 2.39166405e-01, -7.39776906e-02, -1.06255839e-02,\n",
       "        -2.39147777e-01],\n",
       "       [-3.67207315e-01,  1.12602820e-01, -1.04139720e-02,\n",
       "         3.94188045e-01],\n",
       "       [-8.56992559e-02,  2.76324982e-02,  3.44813140e-02,\n",
       "         5.46959330e-02],\n",
       "       [-1.50508733e-01,  4.60411451e-02, -7.31883747e-03,\n",
       "         1.64649950e-01],\n",
       "       [-2.00430299e-01,  6.52570480e-02,  9.78611800e-02,\n",
       "         1.10522158e-01],\n",
       "       [ 1.71193622e-01, -6.05938932e-02, -2.16048627e-01,\n",
       "         3.94558145e-02],\n",
       "       [-3.41361288e-01,  1.09877899e-01,  1.32187473e-01,\n",
       "         2.23081805e-01],\n",
       "       [-1.86493448e-01,  6.30259987e-02,  1.53977247e-01,\n",
       "         3.92541893e-02],\n",
       "       [-1.12750940e-03,  4.35013086e-03,  1.09203101e-01,\n",
       "        -1.09174072e-01],\n",
       "       [-3.05641921e-01,  9.70166223e-02,  8.11507619e-02,\n",
       "         2.37335307e-01],\n",
       "       [-2.40470730e-01,  8.20360908e-02,  2.19502015e-01,\n",
       "         2.94363723e-02],\n",
       "       [-4.83346713e-01,  1.52823800e-01,  1.11972803e-01,\n",
       "         3.91857977e-01],\n",
       "       [ 2.15208992e-01, -6.93198259e-02, -8.46467396e-02,\n",
       "        -1.39316670e-01],\n",
       "       [-2.90496456e-01,  8.60008055e-02, -9.22274163e-02,\n",
       "         3.96713493e-01],\n",
       "       [-3.65791165e-01,  1.17705885e-01,  1.40678094e-01,\n",
       "         2.40026603e-01],\n",
       "       [ 9.22557136e-02, -3.47628712e-02, -1.73959334e-01,\n",
       "         7.93993461e-02],\n",
       "       [ 3.09285356e-01, -9.72516167e-02, -5.69805981e-02,\n",
       "        -2.65566507e-01],\n",
       "       [-3.81932468e-01,  1.25649886e-01,  2.21902213e-01,\n",
       "         1.74812570e-01],\n",
       "       [-5.50457007e-01,  1.69393706e-01,  7.02361430e-04,\n",
       "         5.74417169e-01],\n",
       "       [ 1.08043463e-01, -3.47553249e-02, -4.12417067e-02,\n",
       "        -7.12100195e-02],\n",
       "       [ 9.20937407e-02, -3.20026497e-02, -1.00023100e-01,\n",
       "         4.85440238e-03],\n",
       "       [-4.87313857e-01,  1.52470186e-01,  6.90290540e-02,\n",
       "         4.39398511e-01],\n",
       "       [-1.06419961e-01,  3.47027943e-02,  5.34353159e-02,\n",
       "         5.71918492e-02],\n",
       "       [ 6.65815034e-01, -2.08248726e-01, -9.23855829e-02,\n",
       "        -6.02297320e-01],\n",
       "       [ 1.01347813e-01, -3.37440483e-02, -6.98540113e-02,\n",
       "        -3.53009329e-02],\n",
       "       [-8.91356521e-02,  2.82859398e-02,  2.34636615e-02,\n",
       "         6.94199165e-02],\n",
       "       [-2.16210620e-01,  6.92688306e-02,  7.48486543e-02,\n",
       "         1.50264367e-01],\n",
       "       [ 4.12719534e-01, -1.24607995e-01,  6.49253665e-02,\n",
       "        -4.96824944e-01],\n",
       "       [ 9.62155357e-02, -1.99201660e-02,  2.64168996e-01,\n",
       "        -3.67476169e-01],\n",
       "       [-2.30236042e-01,  7.16476833e-02,  2.20210876e-02,\n",
       "         2.18301776e-01],\n",
       "       [-1.83684480e-01,  5.93878518e-02,  7.83092964e-02,\n",
       "         1.12783444e-01],\n",
       "       [-2.06948805e-01,  6.59727178e-02,  6.26718758e-02,\n",
       "         1.52892364e-01],\n",
       "       [-1.32427961e-01,  4.01879364e-02, -1.52298952e-02,\n",
       "         1.53753146e-01],\n",
       "       [ 2.52041445e-01, -7.26488087e-02,  1.33689259e-01,\n",
       "        -3.98433133e-01],\n",
       "       [ 4.06208403e-01, -1.29127206e-01, -1.13003678e-01,\n",
       "        -3.10220826e-01],\n",
       "       [-1.13388387e-01,  3.58183190e-02,  2.53772826e-02,\n",
       "         9.28258336e-02],\n",
       "       [-3.92418485e-01,  1.22331774e-01,  4.33752866e-02,\n",
       "         3.66173890e-01],\n",
       "       [ 2.61229439e-01, -8.62668802e-02, -1.60678500e-01,\n",
       "        -1.10567872e-01],\n",
       "       [ 4.69166981e-01, -1.49774449e-01, -1.47805087e-01,\n",
       "        -3.40833446e-01],\n",
       "       [-4.89503505e-01,  1.56967585e-01,  1.73334600e-01,\n",
       "         3.36283265e-01],\n",
       "       [-3.81482549e-01,  1.25250031e-01,  2.14770942e-01,\n",
       "         1.81548792e-01],\n",
       "       [ 1.03722399e-01, -3.08375588e-02,  2.93624172e-02,\n",
       "        -1.38042303e-01],\n",
       "       [-1.50508733e-01,  4.60411451e-02, -7.31883747e-03,\n",
       "         1.64649950e-01],\n",
       "       [ 1.95085009e-01, -6.78742208e-02, -2.14119477e-01,\n",
       "         1.25442355e-02],\n",
       "       [-1.35871785e-01,  3.68220492e-02, -1.35952649e-01,\n",
       "         2.79344286e-01],\n",
       "       [-1.72921426e-02, -1.55014565e-03, -1.87424863e-01,\n",
       "         2.07464035e-01],\n",
       "       [ 1.26751297e-01, -4.13039951e-02, -6.28610350e-02,\n",
       "        -6.89094827e-02]])"
      ]
     },
     "execution_count": 38,
     "metadata": {},
     "output_type": "execute_result"
    }
   ],
   "source": [
    "# The transformed data can also be converted back to the original data\n",
    "# Since we use new space with lower dimension, \n",
    "# the derived X_train will not be the same as the original X_train\n",
    "\n",
    "sk_derived_X_train = pca.inverse_transform(sk_X_train_transformed)\n",
    "sk_derived_X_train - sk_scaled_X_train"
   ]
  },
  {
   "cell_type": "code",
   "execution_count": 39,
   "metadata": {},
   "outputs": [
    {
     "data": {
      "text/plain": [
       "<AxesSubplot:>"
      ]
     },
     "execution_count": 39,
     "metadata": {},
     "output_type": "execute_result"
    },
    {
     "data": {
      "image/png": "[encoded data removed]",
      "text/plain": [
       "<Figure size 864x432 with 2 Axes>"
      ]
     },
     "metadata": {
      "needs_background": "light"
     },
     "output_type": "display_data"
    }
   ],
   "source": [
    "# Plot to see correlation between selected principal components and original variables\n",
    "\n",
    "temp_df3 = pd.DataFrame(pca.components_, columns=X.columns)\n",
    "temp_df3.rename(index={0: \"PC1\", 1: \"PC2\"}, inplace=True)\n",
    "\n",
    "plt.figure(figsize=(12,6))\n",
    "sns.heatmap(temp_df3,cmap='coolwarm')\n",
    "\n",
    "# The result shows that principal component 1 correlates with sepal length, petal width, petal length\n",
    "# Principal component 2 correlates with petal width and petal length\n"
   ]
  },
  {
   "cell_type": "code",
   "execution_count": null,
   "metadata": {
    "collapsed": true
   },
   "outputs": [],
   "source": []
  }
 ],
 "metadata": {
  "kernelspec": {
   "display_name": "Python 3",
   "language": "python",
   "name": "python3"
  },
  "language_info": {
   "codemirror_mode": {
    "name": "ipython",
    "version": 3
   },
   "file_extension": ".py",
   "mimetype": "text/x-python",
   "name": "python",
   "nbconvert_exporter": "python",
   "pygments_lexer": "ipython3",
   "version": "3.9.7"
  }
 },
 "nbformat": 4,
 "nbformat_minor": 2
}
