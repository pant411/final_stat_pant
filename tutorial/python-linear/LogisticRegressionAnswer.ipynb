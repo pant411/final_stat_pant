{
 "cells": [
  {
   "cell_type": "code",
   "execution_count": 222,
   "id": "37fb81be",
   "metadata": {},
   "outputs": [],
   "source": [
    "import os\n",
    "os.chdir(os.getcwd())"
   ]
  },
  {
   "cell_type": "code",
   "execution_count": 223,
   "id": "6456113d",
   "metadata": {},
   "outputs": [],
   "source": [
    "import pandas as pd\n",
    "import matplotlib.pyplot as plt\n",
    "from pandas.plotting import scatter_matrix\n",
    "%matplotlib inline"
   ]
  },
  {
   "cell_type": "code",
   "execution_count": 224,
   "id": "1cedc7dc",
   "metadata": {},
   "outputs": [
    {
     "data": {
      "text/html": [
       "<div>\n",
       "<style scoped>\n",
       "    .dataframe tbody tr th:only-of-type {\n",
       "        vertical-align: middle;\n",
       "    }\n",
       "\n",
       "    .dataframe tbody tr th {\n",
       "        vertical-align: top;\n",
       "    }\n",
       "\n",
       "    .dataframe thead th {\n",
       "        text-align: right;\n",
       "    }\n",
       "</style>\n",
       "<table border=\"1\" class=\"dataframe\">\n",
       "  <thead>\n",
       "    <tr style=\"text-align: right;\">\n",
       "      <th></th>\n",
       "      <th>Age</th>\n",
       "      <th>NumPregnancies</th>\n",
       "      <th>Smokes</th>\n",
       "      <th>YrOfSmokes</th>\n",
       "      <th>SmokesPacks</th>\n",
       "      <th>Contraceptives</th>\n",
       "      <th>YrOfContraceptives</th>\n",
       "      <th>Biopsy</th>\n",
       "    </tr>\n",
       "  </thead>\n",
       "  <tbody>\n",
       "    <tr>\n",
       "      <th>0</th>\n",
       "      <td>18</td>\n",
       "      <td>1</td>\n",
       "      <td>0</td>\n",
       "      <td>0.0</td>\n",
       "      <td>0.0</td>\n",
       "      <td>0</td>\n",
       "      <td>0.0</td>\n",
       "      <td>0</td>\n",
       "    </tr>\n",
       "    <tr>\n",
       "      <th>1</th>\n",
       "      <td>15</td>\n",
       "      <td>1</td>\n",
       "      <td>0</td>\n",
       "      <td>0.0</td>\n",
       "      <td>0.0</td>\n",
       "      <td>0</td>\n",
       "      <td>0.0</td>\n",
       "      <td>0</td>\n",
       "    </tr>\n",
       "    <tr>\n",
       "      <th>2</th>\n",
       "      <td>34</td>\n",
       "      <td>1</td>\n",
       "      <td>0</td>\n",
       "      <td>0.0</td>\n",
       "      <td>0.0</td>\n",
       "      <td>0</td>\n",
       "      <td>0.0</td>\n",
       "      <td>0</td>\n",
       "    </tr>\n",
       "    <tr>\n",
       "      <th>3</th>\n",
       "      <td>52</td>\n",
       "      <td>4</td>\n",
       "      <td>1</td>\n",
       "      <td>37.0</td>\n",
       "      <td>37.0</td>\n",
       "      <td>1</td>\n",
       "      <td>3.0</td>\n",
       "      <td>0</td>\n",
       "    </tr>\n",
       "    <tr>\n",
       "      <th>4</th>\n",
       "      <td>46</td>\n",
       "      <td>4</td>\n",
       "      <td>0</td>\n",
       "      <td>0.0</td>\n",
       "      <td>0.0</td>\n",
       "      <td>1</td>\n",
       "      <td>15.0</td>\n",
       "      <td>0</td>\n",
       "    </tr>\n",
       "  </tbody>\n",
       "</table>\n",
       "</div>"
      ],
      "text/plain": [
       "   Age  NumPregnancies  Smokes  YrOfSmokes  SmokesPacks  Contraceptives  \\\n",
       "0   18               1       0         0.0          0.0               0   \n",
       "1   15               1       0         0.0          0.0               0   \n",
       "2   34               1       0         0.0          0.0               0   \n",
       "3   52               4       1        37.0         37.0               1   \n",
       "4   46               4       0         0.0          0.0               1   \n",
       "\n",
       "   YrOfContraceptives  Biopsy  \n",
       "0                 0.0       0  \n",
       "1                 0.0       0  \n",
       "2                 0.0       0  \n",
       "3                 3.0       0  \n",
       "4                15.0       0  "
      ]
     },
     "execution_count": 224,
     "metadata": {},
     "output_type": "execute_result"
    }
   ],
   "source": [
    "df = pd.read_csv(\"cancer.csv\")\n",
    "df.head()"
   ]
  },
  {
   "cell_type": "code",
   "execution_count": 225,
   "id": "e4e257dc",
   "metadata": {},
   "outputs": [
    {
     "data": {
      "text/html": [
       "<div>\n",
       "<style scoped>\n",
       "    .dataframe tbody tr th:only-of-type {\n",
       "        vertical-align: middle;\n",
       "    }\n",
       "\n",
       "    .dataframe tbody tr th {\n",
       "        vertical-align: top;\n",
       "    }\n",
       "\n",
       "    .dataframe thead th {\n",
       "        text-align: right;\n",
       "    }\n",
       "</style>\n",
       "<table border=\"1\" class=\"dataframe\">\n",
       "  <thead>\n",
       "    <tr style=\"text-align: right;\">\n",
       "      <th></th>\n",
       "      <th>Age</th>\n",
       "      <th>NumPregnancies</th>\n",
       "      <th>Smokes</th>\n",
       "      <th>YrOfSmokes</th>\n",
       "      <th>SmokesPacks</th>\n",
       "      <th>Contraceptives</th>\n",
       "      <th>YrOfContraceptives</th>\n",
       "      <th>Biopsy</th>\n",
       "    </tr>\n",
       "  </thead>\n",
       "  <tbody>\n",
       "    <tr>\n",
       "      <th>6</th>\n",
       "      <td>51</td>\n",
       "      <td>6</td>\n",
       "      <td>1</td>\n",
       "      <td>34.0</td>\n",
       "      <td>3.40</td>\n",
       "      <td>0</td>\n",
       "      <td>0.00</td>\n",
       "      <td>1</td>\n",
       "    </tr>\n",
       "    <tr>\n",
       "      <th>19</th>\n",
       "      <td>40</td>\n",
       "      <td>1</td>\n",
       "      <td>0</td>\n",
       "      <td>0.0</td>\n",
       "      <td>0.00</td>\n",
       "      <td>1</td>\n",
       "      <td>0.25</td>\n",
       "      <td>1</td>\n",
       "    </tr>\n",
       "    <tr>\n",
       "      <th>20</th>\n",
       "      <td>40</td>\n",
       "      <td>2</td>\n",
       "      <td>0</td>\n",
       "      <td>0.0</td>\n",
       "      <td>0.00</td>\n",
       "      <td>1</td>\n",
       "      <td>15.00</td>\n",
       "      <td>1</td>\n",
       "    </tr>\n",
       "    <tr>\n",
       "      <th>38</th>\n",
       "      <td>37</td>\n",
       "      <td>3</td>\n",
       "      <td>1</td>\n",
       "      <td>12.0</td>\n",
       "      <td>6.00</td>\n",
       "      <td>1</td>\n",
       "      <td>13.00</td>\n",
       "      <td>1</td>\n",
       "    </tr>\n",
       "    <tr>\n",
       "      <th>57</th>\n",
       "      <td>38</td>\n",
       "      <td>4</td>\n",
       "      <td>0</td>\n",
       "      <td>0.0</td>\n",
       "      <td>0.00</td>\n",
       "      <td>1</td>\n",
       "      <td>16.00</td>\n",
       "      <td>1</td>\n",
       "    </tr>\n",
       "    <tr>\n",
       "      <th>82</th>\n",
       "      <td>33</td>\n",
       "      <td>2</td>\n",
       "      <td>0</td>\n",
       "      <td>0.0</td>\n",
       "      <td>0.00</td>\n",
       "      <td>1</td>\n",
       "      <td>0.50</td>\n",
       "      <td>1</td>\n",
       "    </tr>\n",
       "    <tr>\n",
       "      <th>87</th>\n",
       "      <td>28</td>\n",
       "      <td>2</td>\n",
       "      <td>0</td>\n",
       "      <td>0.0</td>\n",
       "      <td>0.00</td>\n",
       "      <td>1</td>\n",
       "      <td>0.42</td>\n",
       "      <td>1</td>\n",
       "    </tr>\n",
       "    <tr>\n",
       "      <th>89</th>\n",
       "      <td>25</td>\n",
       "      <td>2</td>\n",
       "      <td>0</td>\n",
       "      <td>0.0</td>\n",
       "      <td>0.00</td>\n",
       "      <td>1</td>\n",
       "      <td>0.08</td>\n",
       "      <td>1</td>\n",
       "    </tr>\n",
       "    <tr>\n",
       "      <th>96</th>\n",
       "      <td>30</td>\n",
       "      <td>3</td>\n",
       "      <td>0</td>\n",
       "      <td>0.0</td>\n",
       "      <td>0.00</td>\n",
       "      <td>1</td>\n",
       "      <td>4.00</td>\n",
       "      <td>1</td>\n",
       "    </tr>\n",
       "    <tr>\n",
       "      <th>98</th>\n",
       "      <td>29</td>\n",
       "      <td>3</td>\n",
       "      <td>1</td>\n",
       "      <td>10.0</td>\n",
       "      <td>2.00</td>\n",
       "      <td>1</td>\n",
       "      <td>6.00</td>\n",
       "      <td>1</td>\n",
       "    </tr>\n",
       "    <tr>\n",
       "      <th>114</th>\n",
       "      <td>22</td>\n",
       "      <td>1</td>\n",
       "      <td>0</td>\n",
       "      <td>0.0</td>\n",
       "      <td>0.00</td>\n",
       "      <td>0</td>\n",
       "      <td>0.00</td>\n",
       "      <td>1</td>\n",
       "    </tr>\n",
       "    <tr>\n",
       "      <th>120</th>\n",
       "      <td>22</td>\n",
       "      <td>2</td>\n",
       "      <td>1</td>\n",
       "      <td>5.0</td>\n",
       "      <td>1.25</td>\n",
       "      <td>1</td>\n",
       "      <td>6.00</td>\n",
       "      <td>1</td>\n",
       "    </tr>\n",
       "  </tbody>\n",
       "</table>\n",
       "</div>"
      ],
      "text/plain": [
       "     Age  NumPregnancies  Smokes  YrOfSmokes  SmokesPacks  Contraceptives  \\\n",
       "6     51               6       1        34.0         3.40               0   \n",
       "19    40               1       0         0.0         0.00               1   \n",
       "20    40               2       0         0.0         0.00               1   \n",
       "38    37               3       1        12.0         6.00               1   \n",
       "57    38               4       0         0.0         0.00               1   \n",
       "82    33               2       0         0.0         0.00               1   \n",
       "87    28               2       0         0.0         0.00               1   \n",
       "89    25               2       0         0.0         0.00               1   \n",
       "96    30               3       0         0.0         0.00               1   \n",
       "98    29               3       1        10.0         2.00               1   \n",
       "114   22               1       0         0.0         0.00               0   \n",
       "120   22               2       1         5.0         1.25               1   \n",
       "\n",
       "     YrOfContraceptives  Biopsy  \n",
       "6                  0.00       1  \n",
       "19                 0.25       1  \n",
       "20                15.00       1  \n",
       "38                13.00       1  \n",
       "57                16.00       1  \n",
       "82                 0.50       1  \n",
       "87                 0.42       1  \n",
       "89                 0.08       1  \n",
       "96                 4.00       1  \n",
       "98                 6.00       1  \n",
       "114                0.00       1  \n",
       "120                6.00       1  "
      ]
     },
     "execution_count": 225,
     "metadata": {},
     "output_type": "execute_result"
    }
   ],
   "source": [
    "df[df['Biopsy'] == 1]"
   ]
  },
  {
   "cell_type": "code",
   "execution_count": 226,
   "id": "3f3a0cd8",
   "metadata": {},
   "outputs": [
    {
     "data": {
      "text/plain": [
       "Index(['Age', 'NumPregnancies', 'Smokes', 'YrOfSmokes', 'SmokesPacks',\n",
       "       'Contraceptives', 'YrOfContraceptives', 'Biopsy'],\n",
       "      dtype='object')"
      ]
     },
     "execution_count": 226,
     "metadata": {},
     "output_type": "execute_result"
    }
   ],
   "source": [
    "df.columns"
   ]
  },
  {
   "cell_type": "markdown",
   "id": "a6904178",
   "metadata": {},
   "source": [
    "# Linear Regression: Affected Factors on Biopsy"
   ]
  },
  {
   "cell_type": "code",
   "execution_count": 227,
   "id": "d3eec2ea",
   "metadata": {},
   "outputs": [
    {
     "name": "stdout",
     "output_type": "stream",
     "text": [
      "                            OLS Regression Results                            \n",
      "==============================================================================\n",
      "Dep. Variable:                 Biopsy   R-squared:                       0.105\n",
      "Model:                            OLS   Adj. R-squared:                  0.060\n",
      "Method:                 Least Squares   F-statistic:                     2.328\n",
      "Date:                Thu, 27 Jan 2022   Prob (F-statistic):             0.0282\n",
      "Time:                        17:37:33   Log-Likelihood:                -10.020\n",
      "No. Observations:                 147   AIC:                             36.04\n",
      "Df Residuals:                     139   BIC:                             59.96\n",
      "Df Model:                           7                                         \n",
      "Covariance Type:            nonrobust                                         \n",
      "======================================================================================\n",
      "                         coef    std err          t      P>|t|      [0.025      0.975]\n",
      "--------------------------------------------------------------------------------------\n",
      "Age                    0.0023      0.004      0.622      0.535      -0.005       0.010\n",
      "NumPregnancies        -0.0264      0.020     -1.323      0.188      -0.066       0.013\n",
      "Smokes                -0.0538      0.096     -0.558      0.578      -0.244       0.137\n",
      "YrOfSmokes             0.0272      0.009      3.058      0.003       0.010       0.045\n",
      "SmokesPacks           -0.0261      0.009     -2.798      0.006      -0.045      -0.008\n",
      "Contraceptives         0.0567      0.055      1.023      0.308      -0.053       0.166\n",
      "YrOfContraceptives     0.0055      0.006      0.972      0.333      -0.006       0.017\n",
      "const                  0.0019      0.106      0.018      0.986      -0.208       0.212\n",
      "==============================================================================\n",
      "Omnibus:                      104.519   Durbin-Watson:                   1.962\n",
      "Prob(Omnibus):                  0.000   Jarque-Bera (JB):              509.735\n",
      "Skew:                           2.828   Prob(JB):                    2.05e-111\n",
      "Kurtosis:                      10.158   Cond. No.                         171.\n",
      "==============================================================================\n",
      "\n",
      "Notes:\n",
      "[1] Standard Errors assume that the covariance matrix of the errors is correctly specified.\n"
     ]
    },
    {
     "name": "stderr",
     "output_type": "stream",
     "text": [
      "/Users/pantchanit/opt/anaconda3/lib/python3.9/site-packages/statsmodels/tsa/tsatools.py:142: FutureWarning: In a future version of pandas all arguments of concat except for the argument 'objs' will be keyword-only\n",
      "  x = pd.concat(x[::order], 1)\n"
     ]
    }
   ],
   "source": [
    "import statsmodels.api as sm\n",
    "import math\n",
    "import numpy as np\n",
    "X = df[['Age', 'NumPregnancies', 'Smokes', 'YrOfSmokes', 'SmokesPacks',\n",
    "       'Contraceptives', 'YrOfContraceptives']]\n",
    "X = sm.add_constant(X, prepend=False)\n",
    "model = sm.OLS(df.Biopsy, X)\n",
    "results = model.fit()\n",
    "print(results.summary())"
   ]
  },
  {
   "cell_type": "code",
   "execution_count": 228,
   "id": "45f603cc",
   "metadata": {},
   "outputs": [
    {
     "data": {
      "text/html": [
       "<div>\n",
       "<style scoped>\n",
       "    .dataframe tbody tr th:only-of-type {\n",
       "        vertical-align: middle;\n",
       "    }\n",
       "\n",
       "    .dataframe tbody tr th {\n",
       "        vertical-align: top;\n",
       "    }\n",
       "\n",
       "    .dataframe thead th {\n",
       "        text-align: right;\n",
       "    }\n",
       "</style>\n",
       "<table border=\"1\" class=\"dataframe\">\n",
       "  <thead>\n",
       "    <tr style=\"text-align: right;\">\n",
       "      <th></th>\n",
       "      <th>Age</th>\n",
       "      <th>NumPregnancies</th>\n",
       "      <th>Smokes</th>\n",
       "      <th>YrOfSmokes</th>\n",
       "      <th>SmokesPacks</th>\n",
       "      <th>Contraceptives</th>\n",
       "      <th>YrOfContraceptives</th>\n",
       "      <th>const</th>\n",
       "    </tr>\n",
       "  </thead>\n",
       "  <tbody>\n",
       "    <tr>\n",
       "      <th>0</th>\n",
       "      <td>18</td>\n",
       "      <td>1</td>\n",
       "      <td>0</td>\n",
       "      <td>0.0</td>\n",
       "      <td>0.0</td>\n",
       "      <td>0</td>\n",
       "      <td>0.00</td>\n",
       "      <td>1.0</td>\n",
       "    </tr>\n",
       "    <tr>\n",
       "      <th>1</th>\n",
       "      <td>15</td>\n",
       "      <td>1</td>\n",
       "      <td>0</td>\n",
       "      <td>0.0</td>\n",
       "      <td>0.0</td>\n",
       "      <td>0</td>\n",
       "      <td>0.00</td>\n",
       "      <td>1.0</td>\n",
       "    </tr>\n",
       "    <tr>\n",
       "      <th>2</th>\n",
       "      <td>34</td>\n",
       "      <td>1</td>\n",
       "      <td>0</td>\n",
       "      <td>0.0</td>\n",
       "      <td>0.0</td>\n",
       "      <td>0</td>\n",
       "      <td>0.00</td>\n",
       "      <td>1.0</td>\n",
       "    </tr>\n",
       "    <tr>\n",
       "      <th>3</th>\n",
       "      <td>52</td>\n",
       "      <td>4</td>\n",
       "      <td>1</td>\n",
       "      <td>37.0</td>\n",
       "      <td>37.0</td>\n",
       "      <td>1</td>\n",
       "      <td>3.00</td>\n",
       "      <td>1.0</td>\n",
       "    </tr>\n",
       "    <tr>\n",
       "      <th>4</th>\n",
       "      <td>46</td>\n",
       "      <td>4</td>\n",
       "      <td>0</td>\n",
       "      <td>0.0</td>\n",
       "      <td>0.0</td>\n",
       "      <td>1</td>\n",
       "      <td>15.00</td>\n",
       "      <td>1.0</td>\n",
       "    </tr>\n",
       "    <tr>\n",
       "      <th>...</th>\n",
       "      <td>...</td>\n",
       "      <td>...</td>\n",
       "      <td>...</td>\n",
       "      <td>...</td>\n",
       "      <td>...</td>\n",
       "      <td>...</td>\n",
       "      <td>...</td>\n",
       "      <td>...</td>\n",
       "    </tr>\n",
       "    <tr>\n",
       "      <th>142</th>\n",
       "      <td>21</td>\n",
       "      <td>1</td>\n",
       "      <td>0</td>\n",
       "      <td>0.0</td>\n",
       "      <td>0.0</td>\n",
       "      <td>0</td>\n",
       "      <td>0.00</td>\n",
       "      <td>1.0</td>\n",
       "    </tr>\n",
       "    <tr>\n",
       "      <th>143</th>\n",
       "      <td>23</td>\n",
       "      <td>2</td>\n",
       "      <td>0</td>\n",
       "      <td>0.0</td>\n",
       "      <td>0.0</td>\n",
       "      <td>0</td>\n",
       "      <td>0.00</td>\n",
       "      <td>1.0</td>\n",
       "    </tr>\n",
       "    <tr>\n",
       "      <th>144</th>\n",
       "      <td>23</td>\n",
       "      <td>1</td>\n",
       "      <td>0</td>\n",
       "      <td>0.0</td>\n",
       "      <td>0.0</td>\n",
       "      <td>1</td>\n",
       "      <td>7.00</td>\n",
       "      <td>1.0</td>\n",
       "    </tr>\n",
       "    <tr>\n",
       "      <th>145</th>\n",
       "      <td>24</td>\n",
       "      <td>1</td>\n",
       "      <td>0</td>\n",
       "      <td>0.0</td>\n",
       "      <td>0.0</td>\n",
       "      <td>0</td>\n",
       "      <td>0.00</td>\n",
       "      <td>1.0</td>\n",
       "    </tr>\n",
       "    <tr>\n",
       "      <th>146</th>\n",
       "      <td>24</td>\n",
       "      <td>3</td>\n",
       "      <td>0</td>\n",
       "      <td>0.0</td>\n",
       "      <td>0.0</td>\n",
       "      <td>1</td>\n",
       "      <td>0.25</td>\n",
       "      <td>1.0</td>\n",
       "    </tr>\n",
       "  </tbody>\n",
       "</table>\n",
       "<p>147 rows × 8 columns</p>\n",
       "</div>"
      ],
      "text/plain": [
       "     Age  NumPregnancies  Smokes  YrOfSmokes  SmokesPacks  Contraceptives  \\\n",
       "0     18               1       0         0.0          0.0               0   \n",
       "1     15               1       0         0.0          0.0               0   \n",
       "2     34               1       0         0.0          0.0               0   \n",
       "3     52               4       1        37.0         37.0               1   \n",
       "4     46               4       0         0.0          0.0               1   \n",
       "..   ...             ...     ...         ...          ...             ...   \n",
       "142   21               1       0         0.0          0.0               0   \n",
       "143   23               2       0         0.0          0.0               0   \n",
       "144   23               1       0         0.0          0.0               1   \n",
       "145   24               1       0         0.0          0.0               0   \n",
       "146   24               3       0         0.0          0.0               1   \n",
       "\n",
       "     YrOfContraceptives  const  \n",
       "0                  0.00    1.0  \n",
       "1                  0.00    1.0  \n",
       "2                  0.00    1.0  \n",
       "3                  3.00    1.0  \n",
       "4                 15.00    1.0  \n",
       "..                  ...    ...  \n",
       "142                0.00    1.0  \n",
       "143                0.00    1.0  \n",
       "144                7.00    1.0  \n",
       "145                0.00    1.0  \n",
       "146                0.25    1.0  \n",
       "\n",
       "[147 rows x 8 columns]"
      ]
     },
     "execution_count": 228,
     "metadata": {},
     "output_type": "execute_result"
    }
   ],
   "source": [
    "X"
   ]
  },
  {
   "cell_type": "markdown",
   "id": "bbb64f65",
   "metadata": {},
   "source": [
    "# Linear Regression: Predicted Biopsy"
   ]
  },
  {
   "cell_type": "code",
   "execution_count": 229,
   "id": "ff692e60",
   "metadata": {},
   "outputs": [],
   "source": [
    "from sklearn.model_selection import train_test_split\n",
    "from sklearn.linear_model import LinearRegression\n",
    "from sklearn import metrics"
   ]
  },
  {
   "cell_type": "code",
   "execution_count": 230,
   "id": "56e3587d",
   "metadata": {},
   "outputs": [
    {
     "name": "stderr",
     "output_type": "stream",
     "text": [
      "/Users/pantchanit/opt/anaconda3/lib/python3.9/site-packages/statsmodels/tsa/tsatools.py:142: FutureWarning: In a future version of pandas all arguments of concat except for the argument 'objs' will be keyword-only\n",
      "  x = pd.concat(x[::order], 1)\n"
     ]
    },
    {
     "data": {
      "text/html": [
       "<div>\n",
       "<style scoped>\n",
       "    .dataframe tbody tr th:only-of-type {\n",
       "        vertical-align: middle;\n",
       "    }\n",
       "\n",
       "    .dataframe tbody tr th {\n",
       "        vertical-align: top;\n",
       "    }\n",
       "\n",
       "    .dataframe thead th {\n",
       "        text-align: right;\n",
       "    }\n",
       "</style>\n",
       "<table border=\"1\" class=\"dataframe\">\n",
       "  <thead>\n",
       "    <tr style=\"text-align: right;\">\n",
       "      <th></th>\n",
       "      <th>Age</th>\n",
       "      <th>NumPregnancies</th>\n",
       "      <th>Smokes</th>\n",
       "      <th>YrOfSmokes</th>\n",
       "      <th>SmokesPacks</th>\n",
       "      <th>Contraceptives</th>\n",
       "      <th>YrOfContraceptives</th>\n",
       "      <th>const</th>\n",
       "    </tr>\n",
       "  </thead>\n",
       "  <tbody>\n",
       "    <tr>\n",
       "      <th>0</th>\n",
       "      <td>18</td>\n",
       "      <td>1</td>\n",
       "      <td>0</td>\n",
       "      <td>0.0</td>\n",
       "      <td>0.0</td>\n",
       "      <td>0</td>\n",
       "      <td>0.0</td>\n",
       "      <td>1.0</td>\n",
       "    </tr>\n",
       "    <tr>\n",
       "      <th>1</th>\n",
       "      <td>15</td>\n",
       "      <td>1</td>\n",
       "      <td>0</td>\n",
       "      <td>0.0</td>\n",
       "      <td>0.0</td>\n",
       "      <td>0</td>\n",
       "      <td>0.0</td>\n",
       "      <td>1.0</td>\n",
       "    </tr>\n",
       "    <tr>\n",
       "      <th>2</th>\n",
       "      <td>34</td>\n",
       "      <td>1</td>\n",
       "      <td>0</td>\n",
       "      <td>0.0</td>\n",
       "      <td>0.0</td>\n",
       "      <td>0</td>\n",
       "      <td>0.0</td>\n",
       "      <td>1.0</td>\n",
       "    </tr>\n",
       "    <tr>\n",
       "      <th>3</th>\n",
       "      <td>52</td>\n",
       "      <td>4</td>\n",
       "      <td>1</td>\n",
       "      <td>37.0</td>\n",
       "      <td>37.0</td>\n",
       "      <td>1</td>\n",
       "      <td>3.0</td>\n",
       "      <td>1.0</td>\n",
       "    </tr>\n",
       "    <tr>\n",
       "      <th>4</th>\n",
       "      <td>46</td>\n",
       "      <td>4</td>\n",
       "      <td>0</td>\n",
       "      <td>0.0</td>\n",
       "      <td>0.0</td>\n",
       "      <td>1</td>\n",
       "      <td>15.0</td>\n",
       "      <td>1.0</td>\n",
       "    </tr>\n",
       "  </tbody>\n",
       "</table>\n",
       "</div>"
      ],
      "text/plain": [
       "   Age  NumPregnancies  Smokes  YrOfSmokes  SmokesPacks  Contraceptives  \\\n",
       "0   18               1       0         0.0          0.0               0   \n",
       "1   15               1       0         0.0          0.0               0   \n",
       "2   34               1       0         0.0          0.0               0   \n",
       "3   52               4       1        37.0         37.0               1   \n",
       "4   46               4       0         0.0          0.0               1   \n",
       "\n",
       "   YrOfContraceptives  const  \n",
       "0                 0.0    1.0  \n",
       "1                 0.0    1.0  \n",
       "2                 0.0    1.0  \n",
       "3                 3.0    1.0  \n",
       "4                15.0    1.0  "
      ]
     },
     "execution_count": 230,
     "metadata": {},
     "output_type": "execute_result"
    }
   ],
   "source": [
    "import statsmodels.api as sm\n",
    "X = df[['Age', 'NumPregnancies', 'Smokes', 'YrOfSmokes', 'SmokesPacks',\n",
    "       'Contraceptives', 'YrOfContraceptives']]\n",
    "X = sm.add_constant(X, prepend=False)\n",
    "X.head()\n"
   ]
  },
  {
   "cell_type": "code",
   "execution_count": 231,
   "id": "ff3b94f1",
   "metadata": {},
   "outputs": [
    {
     "data": {
      "text/plain": [
       "0    0\n",
       "1    0\n",
       "2    0\n",
       "3    0\n",
       "4    0\n",
       "Name: Biopsy, dtype: int64"
      ]
     },
     "execution_count": 231,
     "metadata": {},
     "output_type": "execute_result"
    }
   ],
   "source": [
    "y = df['Biopsy']\n",
    "y.head()\n"
   ]
  },
  {
   "cell_type": "code",
   "execution_count": 232,
   "id": "65bcbdfa",
   "metadata": {},
   "outputs": [],
   "source": [
    "X_train, X_test, y_train, y_test = train_test_split(\n",
    "    X, y, test_size=0.05, random_state=14)\n"
   ]
  },
  {
   "cell_type": "code",
   "execution_count": 233,
   "id": "e3c17d25",
   "metadata": {},
   "outputs": [
    {
     "data": {
      "text/plain": [
       "LinearRegression()"
      ]
     },
     "execution_count": 233,
     "metadata": {},
     "output_type": "execute_result"
    }
   ],
   "source": [
    "lm = LinearRegression()\n",
    "lm.fit(X_train, y_train)\n"
   ]
  },
  {
   "cell_type": "code",
   "execution_count": 234,
   "id": "3196b951",
   "metadata": {},
   "outputs": [
    {
     "data": {
      "text/plain": [
       "array([ 0.00242484, -0.02923072, -0.04102187,  0.02713017, -0.02661242,\n",
       "        0.06045781,  0.00547888,  0.        ])"
      ]
     },
     "execution_count": 234,
     "metadata": {},
     "output_type": "execute_result"
    }
   ],
   "source": [
    "lm.coef_\n"
   ]
  },
  {
   "cell_type": "code",
   "execution_count": 235,
   "id": "7880547c",
   "metadata": {},
   "outputs": [
    {
     "data": {
      "text/plain": [
       "0.004683733784360544"
      ]
     },
     "execution_count": 235,
     "metadata": {},
     "output_type": "execute_result"
    }
   ],
   "source": [
    "lm.intercept_\n"
   ]
  },
  {
   "cell_type": "code",
   "execution_count": 236,
   "id": "a1fc0e5e",
   "metadata": {},
   "outputs": [
    {
     "data": {
      "text/plain": [
       "array([ 7.21102144e-02,  3.12342667e-02,  4.07912141e-02,  1.02426038e-01,\n",
       "        9.09328334e-02,  4.35351764e-02,  1.40271028e-01,  8.21461533e-02,\n",
       "        7.68768679e-02,  2.52763988e-02,  4.80657462e-02,  1.85857014e-01,\n",
       "        5.14530855e-02,  8.72884669e-02,  8.36052464e-02, -1.76702238e-02,\n",
       "        5.78977127e-02,  1.12927874e-01,  4.31897101e-02,  1.80439840e-01,\n",
       "        1.25011413e-01,  9.52328687e-02,  3.63932659e-01,  7.43888165e-01,\n",
       "        1.85857014e-01,  6.27474008e-02,  7.52049281e-02,  5.20822737e-02,\n",
       "        9.69702367e-02,  8.91336784e-02,  6.50583674e-02,  1.99370917e-03,\n",
       "        3.36492722e-02,  7.82377127e-02,  1.56481249e-01,  9.70285246e-02,\n",
       "        1.08748056e-01, -1.76702238e-02, -3.23518784e-02,  2.63259679e-01,\n",
       "       -4.31134884e-04, -2.73696000e-02,  1.26999774e-01,  4.96574296e-02,\n",
       "        2.62421497e-02,  9.26824134e-03,  2.62421497e-02,  3.70153638e-02,\n",
       "        4.82664629e-02,  1.48174749e-01,  6.86709267e-02,  4.25488704e-01,\n",
       "        2.87995841e-02,  1.66199952e-01,  8.06838044e-02,  2.00219459e-01,\n",
       "        1.21501464e-01,  2.55456963e-01,  2.63747400e-02,  2.57698118e-01,\n",
       "        1.16611095e-01,  1.99370917e-03,  9.33576774e-02,  8.94393983e-02,\n",
       "        9.06271135e-02,  6.95396684e-02,  7.57015260e-02,  1.00589701e-01,\n",
       "        9.23114267e-02,  2.07772519e-01,  1.30034373e-01,  6.88821976e-02,\n",
       "        5.36639764e-02,  3.60741162e-02,  7.14403447e-02, -4.79992840e-02,\n",
       "        7.74562540e-02,  3.62748329e-02,  6.77395178e-02,  4.35086837e-02,\n",
       "        3.36763319e-03,  1.46338412e-01,  5.75611500e-02,  1.28106127e-01,\n",
       "        6.79303959e-02,  4.48077415e-02,  2.15931783e-02,  9.08797786e-02,\n",
       "        2.39498959e-02,  2.63747400e-02,  1.52446476e-01, -3.72015665e-02,\n",
       "        1.01300252e-01,  4.41855323e-03,  4.28596295e-03,  1.28024764e-01,\n",
       "        1.02507401e-01,  1.34274307e-01,  6.99080556e-02,  9.23114267e-02,\n",
       "        8.67511876e-02,  1.46926918e-01,  2.73136305e-01,  1.99370917e-03,\n",
       "        1.18256757e-02,  3.68827735e-02,  8.00546162e-02,  1.97403273e-01,\n",
       "        8.72884669e-02,  6.58695595e-02,  1.01563619e-01, -2.85597894e-03,\n",
       "        2.63747400e-02,  1.34670108e-01,  1.99370917e-03,  9.26824134e-03,\n",
       "        6.74832115e-02,  1.21368874e-01,  1.26888432e-01,  9.52328687e-02,\n",
       "        6.91152368e-03, -1.28205357e-02,  1.07873304e-01,  1.54263389e-01,\n",
       "        4.28596295e-03,  5.45071178e-02,  1.36009847e-01,  1.91002078e-02,\n",
       "        1.41944640e-01,  1.41860558e-02,  1.04476384e-01,  6.86709267e-02,\n",
       "        3.10918378e-02,  4.12151905e-02,  9.92713648e-02,  5.83458614e-02,\n",
       "        1.40767626e-01, -2.85597894e-03,  6.61223667e-02])"
      ]
     },
     "execution_count": 236,
     "metadata": {},
     "output_type": "execute_result"
    }
   ],
   "source": [
    "predictions = lm.predict(X_train)\n",
    "predictions\n"
   ]
  },
  {
   "cell_type": "code",
   "execution_count": 237,
   "id": "44b9755e",
   "metadata": {},
   "outputs": [
    {
     "data": {
      "text/plain": [
       "0.07048754663534476"
      ]
     },
     "execution_count": 237,
     "metadata": {},
     "output_type": "execute_result"
    }
   ],
   "source": [
    "metrics.mean_squared_error(y_train,predictions)"
   ]
  },
  {
   "cell_type": "code",
   "execution_count": 238,
   "id": "6c832941",
   "metadata": {},
   "outputs": [
    {
     "data": {
      "text/plain": [
       "0.10637146421161658"
      ]
     },
     "execution_count": 238,
     "metadata": {},
     "output_type": "execute_result"
    }
   ],
   "source": [
    "metrics.r2_score(y_train,predictions)"
   ]
  },
  {
   "cell_type": "code",
   "execution_count": 239,
   "id": "a2c6e5fe",
   "metadata": {},
   "outputs": [
    {
     "data": {
      "text/plain": [
       "0.028799584056619233"
      ]
     },
     "execution_count": 239,
     "metadata": {},
     "output_type": "execute_result"
    }
   ],
   "source": [
    "Age = 22\n",
    "NumPregnancies = 1\n",
    "Smokes = 0\n",
    "YrOfSmokes = 0\n",
    "SmokesPacks = 0\n",
    "Contraceptives = 0\n",
    "YrOfContraceptives = 0\n",
    "predicted_Biopsy = lm.coef_[0]*Age+lm.coef_[1] * NumPregnancies+lm.coef_[2]*Smokes + \\\n",
    "    lm.coef_[3]*YrOfSmokes + lm.coef_[4]*SmokesPacks + \\\n",
    "    lm.coef_[5]*Contraceptives+lm.coef_[6]*YrOfContraceptives+lm.intercept_\n",
    "predicted_Biopsy\n"
   ]
  },
  {
   "cell_type": "markdown",
   "id": "b60dadb5",
   "metadata": {},
   "source": [
    "# Logistic Regression, StatModel: Predicted Biopsy"
   ]
  },
  {
   "cell_type": "code",
   "execution_count": 240,
   "id": "cbb02971",
   "metadata": {},
   "outputs": [],
   "source": [
    "from pandas.plotting import scatter_matrix\n"
   ]
  },
  {
   "cell_type": "code",
   "execution_count": 241,
   "id": "c853c7a5",
   "metadata": {},
   "outputs": [],
   "source": [
    "y = df['Biopsy']\n"
   ]
  },
  {
   "cell_type": "code",
   "execution_count": 242,
   "id": "41438c4f",
   "metadata": {},
   "outputs": [
    {
     "name": "stdout",
     "output_type": "stream",
     "text": [
      "Optimization terminated successfully.\n",
      "         Current function value: 0.244745\n",
      "         Iterations 8\n"
     ]
    },
    {
     "data": {
      "text/html": [
       "<table class=\"simpletable\">\n",
       "<caption>Logit Regression Results</caption>\n",
       "<tr>\n",
       "  <th>Dep. Variable:</th>        <td>Biopsy</td>      <th>  No. Observations:  </th>  <td>   147</td> \n",
       "</tr>\n",
       "<tr>\n",
       "  <th>Model:</th>                 <td>Logit</td>      <th>  Df Residuals:      </th>  <td>   139</td> \n",
       "</tr>\n",
       "<tr>\n",
       "  <th>Method:</th>                 <td>MLE</td>       <th>  Df Model:          </th>  <td>     7</td> \n",
       "</tr>\n",
       "<tr>\n",
       "  <th>Date:</th>            <td>Thu, 27 Jan 2022</td> <th>  Pseudo R-squ.:     </th>  <td>0.1344</td> \n",
       "</tr>\n",
       "<tr>\n",
       "  <th>Time:</th>                <td>17:37:34</td>     <th>  Log-Likelihood:    </th> <td> -35.978</td>\n",
       "</tr>\n",
       "<tr>\n",
       "  <th>converged:</th>             <td>True</td>       <th>  LL-Null:           </th> <td> -41.563</td>\n",
       "</tr>\n",
       "<tr>\n",
       "  <th>Covariance Type:</th>     <td>nonrobust</td>    <th>  LLR p-value:       </th>  <td>0.1314</td> \n",
       "</tr>\n",
       "</table>\n",
       "<table class=\"simpletable\">\n",
       "<tr>\n",
       "           <td></td>             <th>coef</th>     <th>std err</th>      <th>z</th>      <th>P>|z|</th>  <th>[0.025</th>    <th>0.975]</th>  \n",
       "</tr>\n",
       "<tr>\n",
       "  <th>Age</th>                <td>    0.0363</td> <td>    0.058</td> <td>    0.622</td> <td> 0.534</td> <td>   -0.078</td> <td>    0.151</td>\n",
       "</tr>\n",
       "<tr>\n",
       "  <th>NumPregnancies</th>     <td>   -0.4134</td> <td>    0.325</td> <td>   -1.272</td> <td> 0.203</td> <td>   -1.051</td> <td>    0.224</td>\n",
       "</tr>\n",
       "<tr>\n",
       "  <th>Smokes</th>             <td>   -0.1606</td> <td>    1.287</td> <td>   -0.125</td> <td> 0.901</td> <td>   -2.683</td> <td>    2.362</td>\n",
       "</tr>\n",
       "<tr>\n",
       "  <th>YrOfSmokes</th>         <td>    0.2089</td> <td>    0.105</td> <td>    1.986</td> <td> 0.047</td> <td>    0.003</td> <td>    0.415</td>\n",
       "</tr>\n",
       "<tr>\n",
       "  <th>SmokesPacks</th>        <td>   -0.2106</td> <td>    0.126</td> <td>   -1.667</td> <td> 0.096</td> <td>   -0.458</td> <td>    0.037</td>\n",
       "</tr>\n",
       "<tr>\n",
       "  <th>Contraceptives</th>     <td>    1.2708</td> <td>    1.108</td> <td>    1.146</td> <td> 0.252</td> <td>   -0.902</td> <td>    3.443</td>\n",
       "</tr>\n",
       "<tr>\n",
       "  <th>YrOfContraceptives</th> <td>    0.0574</td> <td>    0.069</td> <td>    0.830</td> <td> 0.406</td> <td>   -0.078</td> <td>    0.193</td>\n",
       "</tr>\n",
       "<tr>\n",
       "  <th>const</th>              <td>   -4.1121</td> <td>    1.976</td> <td>   -2.081</td> <td> 0.037</td> <td>   -7.984</td> <td>   -0.240</td>\n",
       "</tr>\n",
       "</table>"
      ],
      "text/plain": [
       "<class 'statsmodels.iolib.summary.Summary'>\n",
       "\"\"\"\n",
       "                           Logit Regression Results                           \n",
       "==============================================================================\n",
       "Dep. Variable:                 Biopsy   No. Observations:                  147\n",
       "Model:                          Logit   Df Residuals:                      139\n",
       "Method:                           MLE   Df Model:                            7\n",
       "Date:                Thu, 27 Jan 2022   Pseudo R-squ.:                  0.1344\n",
       "Time:                        17:37:34   Log-Likelihood:                -35.978\n",
       "converged:                       True   LL-Null:                       -41.563\n",
       "Covariance Type:            nonrobust   LLR p-value:                    0.1314\n",
       "======================================================================================\n",
       "                         coef    std err          z      P>|z|      [0.025      0.975]\n",
       "--------------------------------------------------------------------------------------\n",
       "Age                    0.0363      0.058      0.622      0.534      -0.078       0.151\n",
       "NumPregnancies        -0.4134      0.325     -1.272      0.203      -1.051       0.224\n",
       "Smokes                -0.1606      1.287     -0.125      0.901      -2.683       2.362\n",
       "YrOfSmokes             0.2089      0.105      1.986      0.047       0.003       0.415\n",
       "SmokesPacks           -0.2106      0.126     -1.667      0.096      -0.458       0.037\n",
       "Contraceptives         1.2708      1.108      1.146      0.252      -0.902       3.443\n",
       "YrOfContraceptives     0.0574      0.069      0.830      0.406      -0.078       0.193\n",
       "const                 -4.1121      1.976     -2.081      0.037      -7.984      -0.240\n",
       "======================================================================================\n",
       "\"\"\""
      ]
     },
     "execution_count": 242,
     "metadata": {},
     "output_type": "execute_result"
    }
   ],
   "source": [
    "import statsmodels.discrete.discrete_model as sd\n",
    "model = sd.Logit(y, X)\n",
    "result = model.fit()\n",
    "result.summary()\n"
   ]
  },
  {
   "cell_type": "code",
   "execution_count": 243,
   "id": "bdf94dbd",
   "metadata": {},
   "outputs": [
    {
     "data": {
      "text/plain": [
       "Age                   0.036349\n",
       "NumPregnancies       -0.413397\n",
       "Smokes               -0.160611\n",
       "YrOfSmokes            0.208913\n",
       "SmokesPacks          -0.210628\n",
       "Contraceptives        1.270799\n",
       "YrOfContraceptives    0.057368\n",
       "const                -4.112076\n",
       "dtype: float64"
      ]
     },
     "execution_count": 243,
     "metadata": {},
     "output_type": "execute_result"
    }
   ],
   "source": [
    "result.params\n"
   ]
  },
  {
   "cell_type": "code",
   "execution_count": 244,
   "id": "5733e888",
   "metadata": {},
   "outputs": [
    {
     "data": {
      "text/plain": [
       "0.019144194604518775"
      ]
     },
     "execution_count": 244,
     "metadata": {},
     "output_type": "execute_result"
    }
   ],
   "source": [
    "Age = 22\n",
    "NumPregnancies = 1\n",
    "Smokes = 0\n",
    "YrOfSmokes = 0\n",
    "SmokesPacks = 0\n",
    "Contraceptives = 0\n",
    "YrOfContraceptives = 0\n",
    "y_Biopsy = math.e**(result.params.const+result.params.Age*Age +\n",
    "             result.params.NumPregnancies*NumPregnancies+result.params.Smokes*Smokes+result.params.YrOfSmokes*YrOfSmokes+result.params.SmokesPacks+result.params.Contraceptives*Contraceptives + result.params.YrOfContraceptives*YrOfContraceptives)/(1+(math.e**(result.params.const+result.params.Age*Age +\n",
    "                                                                                                                                                                                                                                                                   result.params.NumPregnancies*NumPregnancies+result.params.Smokes*Smokes+result.params.YrOfSmokes*YrOfSmokes+result.params.SmokesPacks+result.params.Contraceptives*Contraceptives + result.params.YrOfContraceptives*YrOfContraceptives)))\n",
    "y_Biopsy\n"
   ]
  },
  {
   "cell_type": "markdown",
   "id": "7177260e",
   "metadata": {},
   "source": [
    "# Logistic Regression, ScikitLearn: Predicted Biopsy"
   ]
  },
  {
   "cell_type": "code",
   "execution_count": 245,
   "id": "f9ff4996",
   "metadata": {},
   "outputs": [],
   "source": [
    "from sklearn.model_selection import train_test_split\n",
    "from sklearn.linear_model import LogisticRegression\n",
    "from sklearn import metrics\n",
    "from sklearn.metrics import classification_report\n",
    "from sklearn.metrics import confusion_matrix\n"
   ]
  },
  {
   "cell_type": "code",
   "execution_count": 246,
   "id": "02b1109c",
   "metadata": {},
   "outputs": [],
   "source": [
    "X_train, X_test, y_train, y_test = train_test_split(\n",
    "    X, y, test_size=0.05, random_state=14)\n"
   ]
  },
  {
   "cell_type": "code",
   "execution_count": 247,
   "id": "577b2a1d",
   "metadata": {},
   "outputs": [
    {
     "data": {
      "text/plain": [
       "LogisticRegression()"
      ]
     },
     "execution_count": 247,
     "metadata": {},
     "output_type": "execute_result"
    }
   ],
   "source": [
    "model = LogisticRegression()\n",
    "model.fit(X_train, y_train)\n"
   ]
  },
  {
   "cell_type": "code",
   "execution_count": 248,
   "id": "d92521c8",
   "metadata": {},
   "outputs": [
    {
     "data": {
      "text/plain": [
       "array([[ 2.70725671e-02, -3.67461745e-01,  2.77727873e-02,\n",
       "         1.81871084e-01, -1.84760993e-01,  6.22137615e-01,\n",
       "         7.18968890e-02, -9.44807292e-06]])"
      ]
     },
     "execution_count": 248,
     "metadata": {},
     "output_type": "execute_result"
    }
   ],
   "source": [
    "model.coef_\n"
   ]
  },
  {
   "cell_type": "code",
   "execution_count": 249,
   "id": "fca05b61",
   "metadata": {},
   "outputs": [
    {
     "data": {
      "text/plain": [
       "array([-3.38671389])"
      ]
     },
     "execution_count": 249,
     "metadata": {},
     "output_type": "execute_result"
    }
   ],
   "source": [
    "model.intercept_\n"
   ]
  },
  {
   "cell_type": "code",
   "execution_count": 250,
   "id": "479acf97",
   "metadata": {},
   "outputs": [
    {
     "data": {
      "text/plain": [
       "array([0, 0, 0, 0, 0, 0, 0, 0, 0, 0, 0, 0, 0, 0, 0, 0, 0, 0, 0, 0, 0, 0,\n",
       "       0, 1, 0, 0, 0, 0, 0, 0, 0, 0, 0, 0, 0, 0, 0, 0, 0, 0, 0, 0, 0, 0,\n",
       "       0, 0, 0, 0, 0, 0, 0, 0, 0, 0, 0, 0, 0, 0, 0, 0, 0, 0, 0, 0, 0, 0,\n",
       "       0, 0, 0, 0, 0, 0, 0, 0, 0, 0, 0, 0, 0, 0, 0, 0, 0, 0, 0, 0, 0, 0,\n",
       "       0, 0, 0, 0, 0, 0, 0, 0, 0, 0, 0, 0, 0, 0, 0, 0, 0, 0, 0, 0, 0, 0,\n",
       "       0, 0, 0, 0, 0, 0, 0, 0, 0, 0, 0, 0, 0, 0, 0, 0, 0, 0, 0, 0, 0, 0,\n",
       "       0, 0, 0, 0, 0, 0, 0])"
      ]
     },
     "execution_count": 250,
     "metadata": {},
     "output_type": "execute_result"
    }
   ],
   "source": [
    "# lecture example uses all data to train\n",
    "# typically use X_test to do prediction\n",
    "\n",
    "predictions = model.predict(X_train)\n",
    "predictions\n"
   ]
  },
  {
   "cell_type": "code",
   "execution_count": 251,
   "id": "ad546d3e",
   "metadata": {},
   "outputs": [
    {
     "name": "stdout",
     "output_type": "stream",
     "text": [
      "[[127   0]\n",
      " [ 11   1]]\n"
     ]
    }
   ],
   "source": [
    "# lecture example uses all data to train\n",
    "# typically use y_test to observe confusion matrix \n",
    "\n",
    "print(confusion_matrix(y_train,predictions))"
   ]
  },
  {
   "cell_type": "code",
   "execution_count": 252,
   "id": "c7858f80",
   "metadata": {},
   "outputs": [
    {
     "name": "stdout",
     "output_type": "stream",
     "text": [
      "              precision    recall  f1-score   support\n",
      "\n",
      "           0       0.92      1.00      0.96       127\n",
      "           1       1.00      0.08      0.15        12\n",
      "\n",
      "    accuracy                           0.92       139\n",
      "   macro avg       0.96      0.54      0.56       139\n",
      "weighted avg       0.93      0.92      0.89       139\n",
      "\n"
     ]
    }
   ],
   "source": [
    "# lecture example uses all data to train\n",
    "# typically use y_test to observe confusion matrix\n",
    "\n",
    "print(classification_report(y_train, predictions))\n"
   ]
  },
  {
   "cell_type": "code",
   "execution_count": 253,
   "id": "a12f4067",
   "metadata": {},
   "outputs": [
    {
     "data": {
      "text/html": [
       "<div>\n",
       "<style scoped>\n",
       "    .dataframe tbody tr th:only-of-type {\n",
       "        vertical-align: middle;\n",
       "    }\n",
       "\n",
       "    .dataframe tbody tr th {\n",
       "        vertical-align: top;\n",
       "    }\n",
       "\n",
       "    .dataframe thead th {\n",
       "        text-align: right;\n",
       "    }\n",
       "</style>\n",
       "<table border=\"1\" class=\"dataframe\">\n",
       "  <thead>\n",
       "    <tr style=\"text-align: right;\">\n",
       "      <th></th>\n",
       "      <th>Age</th>\n",
       "      <th>NumPregnancies</th>\n",
       "      <th>Smokes</th>\n",
       "      <th>YrOfSmokes</th>\n",
       "      <th>SmokesPacks</th>\n",
       "      <th>Contraceptives</th>\n",
       "      <th>YrOfContraceptives</th>\n",
       "      <th>const</th>\n",
       "    </tr>\n",
       "  </thead>\n",
       "  <tbody>\n",
       "    <tr>\n",
       "      <th>0</th>\n",
       "      <td>22</td>\n",
       "      <td>1</td>\n",
       "      <td>0</td>\n",
       "      <td>0</td>\n",
       "      <td>0</td>\n",
       "      <td>0</td>\n",
       "      <td>0</td>\n",
       "      <td>1.0</td>\n",
       "    </tr>\n",
       "  </tbody>\n",
       "</table>\n",
       "</div>"
      ],
      "text/plain": [
       "   Age  NumPregnancies  Smokes  YrOfSmokes  SmokesPacks  Contraceptives  \\\n",
       "0   22               1       0           0            0               0   \n",
       "\n",
       "   YrOfContraceptives  const  \n",
       "0                   0    1.0  "
      ]
     },
     "execution_count": 253,
     "metadata": {},
     "output_type": "execute_result"
    }
   ],
   "source": [
    "my_data = {'Age': [22],\n",
    "           'NumPregnancies': [1],\n",
    "           'Smokes': [0],\n",
    "           'YrOfSmokes': [0],\n",
    "           'SmokesPacks': [0],\n",
    "           'Contraceptives': [0],\n",
    "           'YrOfContraceptives': [0],\n",
    "           'const': [1.0]\n",
    "           }\n",
    "my_df = pd.DataFrame(my_data, columns=['Age', 'NumPregnancies', 'Smokes', 'YrOfSmokes', 'SmokesPacks',\n",
    "                                       'Contraceptives', 'YrOfContraceptives', 'const'])\n",
    "my_df\n"
   ]
  },
  {
   "cell_type": "code",
   "execution_count": 254,
   "id": "4b1072f1",
   "metadata": {},
   "outputs": [
    {
     "data": {
      "text/plain": [
       "array([0])"
      ]
     },
     "execution_count": 254,
     "metadata": {},
     "output_type": "execute_result"
    }
   ],
   "source": [
    "predictions = model.predict(my_df)\n",
    "predictions\n"
   ]
  }
 ],
 "metadata": {
  "kernelspec": {
   "display_name": "Python 3 (ipykernel)",
   "language": "python",
   "name": "python3"
  },
  "language_info": {
   "codemirror_mode": {
    "name": "ipython",
    "version": 3
   },
   "file_extension": ".py",
   "mimetype": "text/x-python",
   "name": "python",
   "nbconvert_exporter": "python",
   "pygments_lexer": "ipython3",
   "version": "3.9.7"
  }
 },
 "nbformat": 4,
 "nbformat_minor": 5
}
